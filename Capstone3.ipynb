{
 "cells": [
  {
   "cell_type": "markdown",
   "metadata": {},
   "source": [
    "# **Business Problem Understanding**\n",
    "\n",
    "**Context**\n",
    " \n",
    "Platform penjualan mobil bekas sudah menjadi hal yang umum pada era ini. Karena dengan platform inilah (sebagai third party) interaksi yang terjadi antara penjual dan calon pembeli menjadi mudah. Penjualan mobil bekas memang menguntungkan bagi kedua belah pihak. Di satu sisi, penjual mobil bekas beranggapan bahwa mobil yang dia punya sudah ada manfaatnya lagi bagi dia dan lebih baik dijual untuk mendatangkan keuntungan. Di sisi lain, pembeli mobil bekas sedang membutuhkan mobil dengan harga yang terjangkau. \n",
    "\n",
    "Model bisnis platform penjualan mobil umumnya memberikan kebebasan bagi penjual untuk menentukan harga mobil. Namun perlu diingat bahwa harga mobil bekas yang terlalu tinggi dibanding mobil dengan fitur yang sama, tentu membuat pembeli berpikir dua kali untuk membelinya (kehilangan calon pembeli itu berarti kehilangan profit). Sebaliknya, jika terlalu murah, tentu penjual tidak akan mendapatkan profit yang sepadan.\n",
    "\n",
    "**Problem Statement**\n",
    "\n",
    "Tantangan bagi perusahaan platform penjualan mobil bekas adalah memecahkan masalah untuk dapat memiliki model bisnis yang menguntungkan bagi penjual, serta dapat memberikan pengalaman positif bagi pembeli. Mengingat platform ini menawarkan kebebasan penuh kepada penjual untuk menentukan harga mobil bekas-nya, namun akan sulit bagi penjual untuk menentukan harga yang kompetitif. Sehingga setidaknya dibutuhkan petunjuk harga bagi penjual melalui platform jual beli ini.  \n",
    "\n",
    "**Goals**\n",
    "\n",
    "Berdasarkan permasalahan tersebut, platform penjualan mobil bekas di Saudi Arabia tentu perlu memiliki \"model\" yang dapat memprediksi serta membantu klien mereka (dalam hal ini penjual mobil bekas) untuk dapat menentukan harga mobil yang tepat. Adanya perbedaan pada berbagai fitur yang terdapat pada mobil, seperti tahun pembuatan, jarak yang sudah ditempuh mobil bekas, ukuran mesin, dan sebagainya dapat menambah keakuratan prediksi harga mobil bekas, yang mana dapat mendatangkan keuntungan bagi penjual dan juga tentunya masih terjangkau bagi pembeli.\n",
    "\n",
    "**Analytic Approach**\n",
    "\n",
    "Penganalisan data perlu dilakukan untuk dapat menemukan pola dari fitur-fitur yang ada. Kemudian, proses dilanjutkan dengan membuat suatu model regresi untuk memprediksi harga penjualan mobil bekas pada data yang baru masuk kedalam daftar/list penjualan mobil bekas, di mana hal ini bertujuan untuk mempermudah penjual dalam menentukan harga mobil bekas-nya.\n",
    "\n",
    "**Metric Evaluation**\n",
    "\n",
    "RMSE, MAE, dan MAPE akan digunakan sebagai evaluasi metrik keakuratan suatu model, di mana RMSE adalah nilai rataan akar kuadrat dari error, MAE adalah rataan nilai absolut dari error, sedangkan MAPE adalah rataan persentase error yang dihasilkan oleh model regresi. Semakin kecil nilai RMSE, MAE, dan MAPE yang dihasilkan, berarti model semakin akurat dalam memprediksi harga sewa sesuai dengan limitasi fitur yang digunakan. Namun, nilai R-squared atau adj. R-squared ini tidak akan digunakan dalam evaluasi metrik untuk dataset ini dikarenakan model yang digunakan merupakan model non-linear."
   ]
  },
  {
   "cell_type": "markdown",
   "metadata": {},
   "source": [
    "## 1 Initial Preparation"
   ]
  },
  {
   "cell_type": "markdown",
   "metadata": {},
   "source": [
    "### 1.1 Load Libraries"
   ]
  },
  {
   "cell_type": "code",
   "execution_count": 103,
   "metadata": {},
   "outputs": [],
   "source": [
    "import numpy as np\n",
    "import pandas as pd\n",
    "import matplotlib.pyplot as plt\n",
    "import plotly.graph_objects as go\n",
    "import plotly.express as px\n",
    "import seaborn as sns\n",
    "\n",
    "from scipy.stats import shapiro\n",
    "from scipy.stats import normaltest\n",
    "\n",
    "import category_encoders as ce\n",
    "from sklearn.preprocessing import OneHotEncoder\n",
    "from sklearn.preprocessing import PolynomialFeatures\n",
    "from sklearn.preprocessing import StandardScaler, MinMaxScaler, RobustScaler\n",
    "from sklearn.compose import ColumnTransformer\n",
    "from sklearn.pipeline import Pipeline\n",
    "\n",
    "from sklearn.model_selection import cross_val_score, GridSearchCV, RandomizedSearchCV, train_test_split, KFold\n",
    "from sklearn.metrics import r2_score, mean_squared_error, mean_absolute_error, mean_absolute_percentage_error\n",
    "\n",
    "from sklearn.compose import TransformedTargetRegressor\n",
    "from sklearn.linear_model import LinearRegression\n",
    "from sklearn.neighbors import KNeighborsRegressor\n",
    "from sklearn.tree import DecisionTreeRegressor\n",
    "from sklearn.ensemble import RandomForestRegressor\n",
    "from xgboost.sklearn import XGBRegressor\n",
    "\n",
    "from imblearn.over_sampling import RandomOverSampler, SMOTE\n",
    "from imblearn.under_sampling import RandomUnderSampler, NearMiss\n",
    "from imblearn.pipeline import Pipeline\n",
    "\n",
    "import warnings\n",
    "warnings.filterwarnings('ignore')\n",
    "\n",
    "import pickle\n",
    "pd.set_option(\"display.max_columns\", None)"
   ]
  },
  {
   "cell_type": "markdown",
   "metadata": {},
   "source": [
    "### 1.2 Load and Overview Dataset"
   ]
  },
  {
   "cell_type": "code",
   "execution_count": 104,
   "metadata": {},
   "outputs": [
    {
     "data": {
      "text/html": [
       "<div>\n",
       "<style scoped>\n",
       "    .dataframe tbody tr th:only-of-type {\n",
       "        vertical-align: middle;\n",
       "    }\n",
       "\n",
       "    .dataframe tbody tr th {\n",
       "        vertical-align: top;\n",
       "    }\n",
       "\n",
       "    .dataframe thead th {\n",
       "        text-align: right;\n",
       "    }\n",
       "</style>\n",
       "<table border=\"1\" class=\"dataframe\">\n",
       "  <thead>\n",
       "    <tr style=\"text-align: right;\">\n",
       "      <th></th>\n",
       "      <th>Type</th>\n",
       "      <th>Region</th>\n",
       "      <th>Make</th>\n",
       "      <th>Gear_Type</th>\n",
       "      <th>Origin</th>\n",
       "      <th>Options</th>\n",
       "      <th>Year</th>\n",
       "      <th>Engine_Size</th>\n",
       "      <th>Mileage</th>\n",
       "      <th>Negotiable</th>\n",
       "      <th>Price</th>\n",
       "    </tr>\n",
       "  </thead>\n",
       "  <tbody>\n",
       "    <tr>\n",
       "      <th>0</th>\n",
       "      <td>Corolla</td>\n",
       "      <td>Abha</td>\n",
       "      <td>Toyota</td>\n",
       "      <td>Manual</td>\n",
       "      <td>Saudi</td>\n",
       "      <td>Standard</td>\n",
       "      <td>2013</td>\n",
       "      <td>1.4</td>\n",
       "      <td>421000</td>\n",
       "      <td>True</td>\n",
       "      <td>0</td>\n",
       "    </tr>\n",
       "    <tr>\n",
       "      <th>1</th>\n",
       "      <td>Yukon</td>\n",
       "      <td>Riyadh</td>\n",
       "      <td>GMC</td>\n",
       "      <td>Automatic</td>\n",
       "      <td>Saudi</td>\n",
       "      <td>Full</td>\n",
       "      <td>2014</td>\n",
       "      <td>8.0</td>\n",
       "      <td>80000</td>\n",
       "      <td>False</td>\n",
       "      <td>120000</td>\n",
       "    </tr>\n",
       "    <tr>\n",
       "      <th>2</th>\n",
       "      <td>Range Rover</td>\n",
       "      <td>Riyadh</td>\n",
       "      <td>Land Rover</td>\n",
       "      <td>Automatic</td>\n",
       "      <td>Gulf Arabic</td>\n",
       "      <td>Full</td>\n",
       "      <td>2015</td>\n",
       "      <td>5.0</td>\n",
       "      <td>140000</td>\n",
       "      <td>False</td>\n",
       "      <td>260000</td>\n",
       "    </tr>\n",
       "    <tr>\n",
       "      <th>3</th>\n",
       "      <td>Optima</td>\n",
       "      <td>Hafar Al-Batin</td>\n",
       "      <td>Kia</td>\n",
       "      <td>Automatic</td>\n",
       "      <td>Saudi</td>\n",
       "      <td>Semi Full</td>\n",
       "      <td>2015</td>\n",
       "      <td>2.4</td>\n",
       "      <td>220000</td>\n",
       "      <td>False</td>\n",
       "      <td>42000</td>\n",
       "    </tr>\n",
       "    <tr>\n",
       "      <th>4</th>\n",
       "      <td>FJ</td>\n",
       "      <td>Riyadh</td>\n",
       "      <td>Toyota</td>\n",
       "      <td>Automatic</td>\n",
       "      <td>Saudi</td>\n",
       "      <td>Full</td>\n",
       "      <td>2020</td>\n",
       "      <td>4.0</td>\n",
       "      <td>49000</td>\n",
       "      <td>True</td>\n",
       "      <td>0</td>\n",
       "    </tr>\n",
       "  </tbody>\n",
       "</table>\n",
       "</div>"
      ],
      "text/plain": [
       "          Type          Region        Make  Gear_Type       Origin    Options  \\\n",
       "0  Corolla      Abha            Toyota      Manual     Saudi        Standard    \n",
       "1  Yukon        Riyadh          GMC         Automatic  Saudi        Full        \n",
       "2  Range Rover  Riyadh          Land Rover  Automatic  Gulf Arabic  Full        \n",
       "3  Optima       Hafar Al-Batin  Kia         Automatic  Saudi        Semi Full   \n",
       "4  FJ           Riyadh          Toyota      Automatic  Saudi        Full        \n",
       "\n",
       "   Year  Engine_Size  Mileage  Negotiable   Price  \n",
       "0  2013  1.4          421000   True        0       \n",
       "1  2014  8.0          80000    False       120000  \n",
       "2  2015  5.0          140000   False       260000  \n",
       "3  2015  2.4          220000   False       42000   \n",
       "4  2020  4.0          49000    True        0       "
      ]
     },
     "execution_count": 104,
     "metadata": {},
     "output_type": "execute_result"
    }
   ],
   "source": [
    "df=pd.read_csv(\"data_saudi_used_cars.csv\")\n",
    "df_ori=pd.read_csv(\"data_saudi_used_cars.csv\")\n",
    "df_ori.head()"
   ]
  },
  {
   "cell_type": "markdown",
   "metadata": {},
   "source": [
    "### 1.3 Feature/Column Description\n",
    "\n",
    "Deskripsi untuk masing masing feature:\n",
    "- Type: Nama produk mobil bekas\n",
    "- Region: Daerah/region dimana mobil bekas dijual\n",
    "- Make: Brand Mobil bekas\n",
    "- Gear_Type\t: Tipe gear dari mobil bekas\n",
    "- Origin: Daerah dimana mobil bekas tersebut berasal\n",
    "- Options: Pilihan mobil bekas\n",
    "- Year: Tahun pembuatan mobil \n",
    "- Engine_Size: Ukuran mesin dari mobil bekas\n",
    "- Mileage: Jarak yang sudah ditempuh dari mobil bekas tersebut\n",
    "- Negotiable: Apakah harga dari mobil bekas bisa dinego\n",
    "- Price: Harga mobil bekas"
   ]
  },
  {
   "cell_type": "markdown",
   "metadata": {},
   "source": [
    "### 1.4 Dataset Information"
   ]
  },
  {
   "cell_type": "markdown",
   "metadata": {},
   "source": [
    "**Data Overview**"
   ]
  },
  {
   "cell_type": "code",
   "execution_count": 105,
   "metadata": {},
   "outputs": [
    {
     "name": "stdout",
     "output_type": "stream",
     "text": [
      "<class 'pandas.core.frame.DataFrame'>\n",
      "RangeIndex: 5624 entries, 0 to 5623\n",
      "Data columns (total 11 columns):\n",
      " #   Column       Non-Null Count  Dtype  \n",
      "---  ------       --------------  -----  \n",
      " 0   Type         5624 non-null   object \n",
      " 1   Region       5624 non-null   object \n",
      " 2   Make         5624 non-null   object \n",
      " 3   Gear_Type    5624 non-null   object \n",
      " 4   Origin       5624 non-null   object \n",
      " 5   Options      5624 non-null   object \n",
      " 6   Year         5624 non-null   int64  \n",
      " 7   Engine_Size  5624 non-null   float64\n",
      " 8   Mileage      5624 non-null   int64  \n",
      " 9   Negotiable   5624 non-null   bool   \n",
      " 10  Price        5624 non-null   int64  \n",
      "dtypes: bool(1), float64(1), int64(3), object(6)\n",
      "memory usage: 445.0+ KB\n"
     ]
    }
   ],
   "source": [
    "df_ori.info()"
   ]
  },
  {
   "cell_type": "code",
   "execution_count": 106,
   "metadata": {},
   "outputs": [
    {
     "data": {
      "text/html": [
       "<div>\n",
       "<style scoped>\n",
       "    .dataframe tbody tr th:only-of-type {\n",
       "        vertical-align: middle;\n",
       "    }\n",
       "\n",
       "    .dataframe tbody tr th {\n",
       "        vertical-align: top;\n",
       "    }\n",
       "\n",
       "    .dataframe thead th {\n",
       "        text-align: right;\n",
       "    }\n",
       "</style>\n",
       "<table border=\"1\" class=\"dataframe\">\n",
       "  <thead>\n",
       "    <tr style=\"text-align: right;\">\n",
       "      <th></th>\n",
       "      <th>Column Name</th>\n",
       "      <th>Number of Unique</th>\n",
       "      <th>Unique Sample</th>\n",
       "    </tr>\n",
       "  </thead>\n",
       "  <tbody>\n",
       "    <tr>\n",
       "      <th>0</th>\n",
       "      <td>Type</td>\n",
       "      <td>347</td>\n",
       "      <td>[Corolla, Yukon, Range Rover, Optima, FJ, CX3, Cayenne S, Sonata, Avalon, LS, C300, Land Cruiser, Hilux, Tucson, Caprice, Sunny, Pajero, Azera, Focus, 5, Spark, Camry, Pathfinder, Accent, ML, Tahoe, Yaris, Suburban, A, Altima, Traverse, Expedition, Senta fe, Liberty, 3, X, Elantra, Land Cruiser Pickup, VTC, Malibu, The 5, A8, Patrol, Grand Cherokee, SL, Previa, SEL, Aveo, MKZ, Victoria, Datsun, Flex, GLC, ES, Edge, 6, Escalade, Innova, Navara, H1, G80, Carnival, Symbol, Camaro, Accord, Avanza, Land Cruiser 70, Taurus, C5700, Impala, Optra, S, Other, Cerato, Furniture, Murano, Explorer, LX, Pick up, Charger, H6, BT-50, Hiace, Ranger, Fusion, Rav4, Ciocca, CX9, Kona, Sentra, Sierra, Durango, CT-S, Sylvian Bus, Navigator, Opirus, Marquis, The 7, FX, Creta, ...]</td>\n",
       "    </tr>\n",
       "    <tr>\n",
       "      <th>1</th>\n",
       "      <td>Region</td>\n",
       "      <td>27</td>\n",
       "      <td>[Abha, Riyadh, Hafar Al-Batin, Aseer, Makkah, Dammam, Yanbu, Al-Baha, Jeddah, Hail, Khobar, Al-Ahsa, Jazan, Al-Medina, Al-Namas, Tabouk, Taef, Qassim, Arar, Jubail, Sabya, Al-Jouf, Najran, Wadi Dawasir, Qurayyat, Sakaka, Besha]</td>\n",
       "    </tr>\n",
       "    <tr>\n",
       "      <th>2</th>\n",
       "      <td>Make</td>\n",
       "      <td>58</td>\n",
       "      <td>[Toyota, GMC, Land Rover, Kia, Mazda, Porsche, Hyundai, Lexus, Chrysler, Chevrolet, Nissan, Mitsubishi, Ford, MG, Mercedes, Jeep, BMW, Audi, Lincoln, Cadillac, Genesis, Renault, Honda, Suzuki, Zhengzhou, Dodge, HAVAL, INFINITI, Isuzu, Changan, Aston Martin, Mercury, Great Wall, Other, Rolls-Royce, MINI, Volkswagen, BYD, Geely, Victory Auto, Classic, Jaguar, Daihatsu, Maserati, Hummer, GAC, Lifan, Bentley, Chery, Peugeot, Foton, Škoda, Fiat, Iveco, SsangYong, FAW, Tata, Ferrari]</td>\n",
       "    </tr>\n",
       "    <tr>\n",
       "      <th>3</th>\n",
       "      <td>Gear_Type</td>\n",
       "      <td>2</td>\n",
       "      <td>[Manual, Automatic]</td>\n",
       "    </tr>\n",
       "    <tr>\n",
       "      <th>4</th>\n",
       "      <td>Origin</td>\n",
       "      <td>4</td>\n",
       "      <td>[Saudi, Gulf Arabic, Other, Unknown]</td>\n",
       "    </tr>\n",
       "    <tr>\n",
       "      <th>5</th>\n",
       "      <td>Options</td>\n",
       "      <td>3</td>\n",
       "      <td>[Standard, Full, Semi Full]</td>\n",
       "    </tr>\n",
       "    <tr>\n",
       "      <th>6</th>\n",
       "      <td>Year</td>\n",
       "      <td>50</td>\n",
       "      <td>[2013, 2014, 2015, 2020, 2019, 2012, 2016, 1998, 2011, 2008, 1982, 1985, 2018, 1983, 2021, 2017, 2002, 2010, 2009, 2004, 2001, 1986, 2007, 1999, 2005, 1977, 1991, 2003, 1995, 2006, 1997, 1993, 1996, 2000, 1990, 1965, 1980, 1987, 1994, 1988, 1989, 1978, 2022, 1975, 1964, 1984, 1979, 1992, 1963, 1981]</td>\n",
       "    </tr>\n",
       "    <tr>\n",
       "      <th>7</th>\n",
       "      <td>Engine_Size</td>\n",
       "      <td>71</td>\n",
       "      <td>[1.4, 8.0, 5.0, 2.4, 4.0, 2.0, 4.8, 3.5, 4.6, 5.7, 2.7, 1.0, 3.0, 1.6, 1.5, 3.3, 6.2, 2.5, 5.3, 3.6, 5.4, 1.7, 3.7, 9.0, 4.7, 4.5, 3.8, 5.5, 2.6, 1.8, 1.2, 6.0, 6.9, 3.2, 5.9, 2.2, 5.6, 1.1, 2.9, 4.1, 1.3, 4.4, 2.8, 3.4, 8.8, 6.1, 7.0, 1.9, 7.5, 4.3, 6.5, 3.1, 6.3, 6.4, 5.8, 8.5, 2.3, 6.6, 7.2, 4.2, 5.1, 7.4, 5.2, 2.1, 6.7, 7.8, 3.9, 8.7, 4.9, 6.8, 8.9]</td>\n",
       "    </tr>\n",
       "    <tr>\n",
       "      <th>8</th>\n",
       "      <td>Mileage</td>\n",
       "      <td>1716</td>\n",
       "      <td>[421000, 80000, 140000, 220000, 49000, 25000, 189000, 155, 110864, 300, 200, 79000, 299000, 17000, 209, 340000, 30000, 71000, 85000, 500000, 290, 74715, 250, 284000, 98000, 3400, 108, 350000, 550000, 204000, 139240, 296, 105920, 187000, 10000, 18500, 292000, 280000, 270000, 345500, 110000, 247000, 55800, 92000, 27000, 600000, 307801, 62000, 38000, 89000, 137000, 422000, 208000, 11000, 245000, 500, 150000, 81000, 156000, 42000, 228000, 24000, 266000, 98100, 182000, 210800, 88000, 214000, 82808, 4000, 417970, 70000, 115, 270373, 91440, 45000, 96000, 50100, 35449, 180, 66200, 100, 349000, 168000, 105000, 130000, 212000, 139740, 256, 280, 73000, 240000, 866, 216, 183000, 148000, 4358765, 188257, 117000, 160000, ...]</td>\n",
       "    </tr>\n",
       "    <tr>\n",
       "      <th>9</th>\n",
       "      <td>Negotiable</td>\n",
       "      <td>2</td>\n",
       "      <td>[True, False]</td>\n",
       "    </tr>\n",
       "    <tr>\n",
       "      <th>10</th>\n",
       "      <td>Price</td>\n",
       "      <td>467</td>\n",
       "      <td>[0, 120000, 260000, 42000, 58000, 85000, 48000, 81500, 55000, 145000, 38000, 140000, 200000, 65000, 7000, 76000, 32000, 23000, 20000, 10000, 45000, 30000, 149000, 179000, 22000, 49500, 52000, 25000, 72000, 1010, 105000, 99000, 57000, 110000, 15000, 265000, 56500, 5500, 90000, 1200, 71500, 29000, 62000, 141000, 230000, 225000, 60000, 93000, 68000, 50000, 69000, 121500, 51000, 109000, 47000, 88000, 142000, 53000, 39000, 78500, 5000, 35000, 45500, 33000, 125000, 9500, 63000, 80000, 44000, 54000, 37000, 79000, 70000, 81000, 68500, 33500, 14500, 11000, 118000, 36500, 75000, 61500, 44500, 13000, 107000, 102000, 99500, 122000, 14000, 21000, 77000, 100000, 59500, 119000, 38500, 165000, 330000, 72910, 410000, 400000, ...]</td>\n",
       "    </tr>\n",
       "  </tbody>\n",
       "</table>\n",
       "</div>"
      ],
      "text/plain": [
       "    Column Name  Number of Unique  \\\n",
       "0   Type         347                \n",
       "1   Region       27                 \n",
       "2   Make         58                 \n",
       "3   Gear_Type    2                  \n",
       "4   Origin       4                  \n",
       "5   Options      3                  \n",
       "6   Year         50                 \n",
       "7   Engine_Size  71                 \n",
       "8   Mileage      1716               \n",
       "9   Negotiable   2                  \n",
       "10  Price        467                \n",
       "\n",
       "                                                                                                                                                                                                                                                                                                                                                                                                                                                                                                                                                                                                                                                                                                                                                                                       Unique Sample  \n",
       "0   [Corolla, Yukon, Range Rover, Optima, FJ, CX3, Cayenne S, Sonata, Avalon, LS, C300, Land Cruiser, Hilux, Tucson, Caprice, Sunny, Pajero, Azera, Focus, 5, Spark, Camry, Pathfinder, Accent, ML, Tahoe, Yaris, Suburban, A, Altima, Traverse, Expedition, Senta fe, Liberty, 3, X, Elantra, Land Cruiser Pickup, VTC, Malibu, The 5, A8, Patrol, Grand Cherokee, SL, Previa, SEL, Aveo, MKZ, Victoria, Datsun, Flex, GLC, ES, Edge, 6, Escalade, Innova, Navara, H1, G80, Carnival, Symbol, Camaro, Accord, Avanza, Land Cruiser 70, Taurus, C5700, Impala, Optra, S, Other, Cerato, Furniture, Murano, Explorer, LX, Pick up, Charger, H6, BT-50, Hiace, Ranger, Fusion, Rav4, Ciocca, CX9, Kona, Sentra, Sierra, Durango, CT-S, Sylvian Bus, Navigator, Opirus, Marquis, The 7, FX, Creta, ...]  \n",
       "1   [Abha, Riyadh, Hafar Al-Batin, Aseer, Makkah, Dammam, Yanbu, Al-Baha, Jeddah, Hail, Khobar, Al-Ahsa, Jazan, Al-Medina, Al-Namas, Tabouk, Taef, Qassim, Arar, Jubail, Sabya, Al-Jouf, Najran, Wadi Dawasir, Qurayyat, Sakaka, Besha]                                                                                                                                                                                                                                                                                                                                                                                                                                                                                                                                                               \n",
       "2   [Toyota, GMC, Land Rover, Kia, Mazda, Porsche, Hyundai, Lexus, Chrysler, Chevrolet, Nissan, Mitsubishi, Ford, MG, Mercedes, Jeep, BMW, Audi, Lincoln, Cadillac, Genesis, Renault, Honda, Suzuki, Zhengzhou, Dodge, HAVAL, INFINITI, Isuzu, Changan, Aston Martin, Mercury, Great Wall, Other, Rolls-Royce, MINI, Volkswagen, BYD, Geely, Victory Auto, Classic, Jaguar, Daihatsu, Maserati, Hummer, GAC, Lifan, Bentley, Chery, Peugeot, Foton, Škoda, Fiat, Iveco, SsangYong, FAW, Tata, Ferrari]                                                                                                                                                                                                                                                                                                \n",
       "3   [Manual, Automatic]                                                                                                                                                                                                                                                                                                                                                                                                                                                                                                                                                                                                                                                                                                                                                                               \n",
       "4   [Saudi, Gulf Arabic, Other, Unknown]                                                                                                                                                                                                                                                                                                                                                                                                                                                                                                                                                                                                                                                                                                                                                              \n",
       "5   [Standard, Full, Semi Full]                                                                                                                                                                                                                                                                                                                                                                                                                                                                                                                                                                                                                                                                                                                                                                       \n",
       "6   [2013, 2014, 2015, 2020, 2019, 2012, 2016, 1998, 2011, 2008, 1982, 1985, 2018, 1983, 2021, 2017, 2002, 2010, 2009, 2004, 2001, 1986, 2007, 1999, 2005, 1977, 1991, 2003, 1995, 2006, 1997, 1993, 1996, 2000, 1990, 1965, 1980, 1987, 1994, 1988, 1989, 1978, 2022, 1975, 1964, 1984, 1979, 1992, 1963, 1981]                                                                                                                                                                                                                                                                                                                                                                                                                                                                                      \n",
       "7   [1.4, 8.0, 5.0, 2.4, 4.0, 2.0, 4.8, 3.5, 4.6, 5.7, 2.7, 1.0, 3.0, 1.6, 1.5, 3.3, 6.2, 2.5, 5.3, 3.6, 5.4, 1.7, 3.7, 9.0, 4.7, 4.5, 3.8, 5.5, 2.6, 1.8, 1.2, 6.0, 6.9, 3.2, 5.9, 2.2, 5.6, 1.1, 2.9, 4.1, 1.3, 4.4, 2.8, 3.4, 8.8, 6.1, 7.0, 1.9, 7.5, 4.3, 6.5, 3.1, 6.3, 6.4, 5.8, 8.5, 2.3, 6.6, 7.2, 4.2, 5.1, 7.4, 5.2, 2.1, 6.7, 7.8, 3.9, 8.7, 4.9, 6.8, 8.9]                                                                                                                                                                                                                                                                                                                                                                                                                               \n",
       "8   [421000, 80000, 140000, 220000, 49000, 25000, 189000, 155, 110864, 300, 200, 79000, 299000, 17000, 209, 340000, 30000, 71000, 85000, 500000, 290, 74715, 250, 284000, 98000, 3400, 108, 350000, 550000, 204000, 139240, 296, 105920, 187000, 10000, 18500, 292000, 280000, 270000, 345500, 110000, 247000, 55800, 92000, 27000, 600000, 307801, 62000, 38000, 89000, 137000, 422000, 208000, 11000, 245000, 500, 150000, 81000, 156000, 42000, 228000, 24000, 266000, 98100, 182000, 210800, 88000, 214000, 82808, 4000, 417970, 70000, 115, 270373, 91440, 45000, 96000, 50100, 35449, 180, 66200, 100, 349000, 168000, 105000, 130000, 212000, 139740, 256, 280, 73000, 240000, 866, 216, 183000, 148000, 4358765, 188257, 117000, 160000, ...]                                                 \n",
       "9   [True, False]                                                                                                                                                                                                                                                                                                                                                                                                                                                                                                                                                                                                                                                                                                                                                                                     \n",
       "10  [0, 120000, 260000, 42000, 58000, 85000, 48000, 81500, 55000, 145000, 38000, 140000, 200000, 65000, 7000, 76000, 32000, 23000, 20000, 10000, 45000, 30000, 149000, 179000, 22000, 49500, 52000, 25000, 72000, 1010, 105000, 99000, 57000, 110000, 15000, 265000, 56500, 5500, 90000, 1200, 71500, 29000, 62000, 141000, 230000, 225000, 60000, 93000, 68000, 50000, 69000, 121500, 51000, 109000, 47000, 88000, 142000, 53000, 39000, 78500, 5000, 35000, 45500, 33000, 125000, 9500, 63000, 80000, 44000, 54000, 37000, 79000, 70000, 81000, 68500, 33500, 14500, 11000, 118000, 36500, 75000, 61500, 44500, 13000, 107000, 102000, 99500, 122000, 14000, 21000, 77000, 100000, 59500, 119000, 38500, 165000, 330000, 72910, 410000, 400000, ...]                                                "
      ]
     },
     "execution_count": 106,
     "metadata": {},
     "output_type": "execute_result"
    }
   ],
   "source": [
    "pd.set_option(\"display.max_colwidth\", -1)\n",
    "listItem = []\n",
    "for col in df_ori.columns :\n",
    "    listItem.append( [col, df_ori[col].nunique(), df_ori[col].unique()])\n",
    "df_desk = pd.DataFrame(columns=[\"Column Name\",\"Number of Unique\",\"Unique Sample\"],data=listItem)\n",
    "df_desk"
   ]
  },
  {
   "cell_type": "code",
   "execution_count": 107,
   "metadata": {},
   "outputs": [
    {
     "data": {
      "text/html": [
       "<div>\n",
       "<style scoped>\n",
       "    .dataframe tbody tr th:only-of-type {\n",
       "        vertical-align: middle;\n",
       "    }\n",
       "\n",
       "    .dataframe tbody tr th {\n",
       "        vertical-align: top;\n",
       "    }\n",
       "\n",
       "    .dataframe thead th {\n",
       "        text-align: right;\n",
       "    }\n",
       "</style>\n",
       "<table border=\"1\" class=\"dataframe\">\n",
       "  <thead>\n",
       "    <tr style=\"text-align: right;\">\n",
       "      <th></th>\n",
       "      <th>Year</th>\n",
       "      <th>Engine_Size</th>\n",
       "      <th>Mileage</th>\n",
       "      <th>Price</th>\n",
       "    </tr>\n",
       "  </thead>\n",
       "  <tbody>\n",
       "    <tr>\n",
       "      <th>count</th>\n",
       "      <td>5624.000000</td>\n",
       "      <td>5624.000000</td>\n",
       "      <td>5.624000e+03</td>\n",
       "      <td>5624.000000</td>\n",
       "    </tr>\n",
       "    <tr>\n",
       "      <th>mean</th>\n",
       "      <td>2014.101885</td>\n",
       "      <td>3.295430</td>\n",
       "      <td>1.509234e+05</td>\n",
       "      <td>53074.058144</td>\n",
       "    </tr>\n",
       "    <tr>\n",
       "      <th>std</th>\n",
       "      <td>5.791606</td>\n",
       "      <td>1.515108</td>\n",
       "      <td>3.828360e+05</td>\n",
       "      <td>70155.340614</td>\n",
       "    </tr>\n",
       "    <tr>\n",
       "      <th>min</th>\n",
       "      <td>1963.000000</td>\n",
       "      <td>1.000000</td>\n",
       "      <td>1.000000e+02</td>\n",
       "      <td>0.000000</td>\n",
       "    </tr>\n",
       "    <tr>\n",
       "      <th>25%</th>\n",
       "      <td>2012.000000</td>\n",
       "      <td>2.000000</td>\n",
       "      <td>3.800000e+04</td>\n",
       "      <td>0.000000</td>\n",
       "    </tr>\n",
       "    <tr>\n",
       "      <th>50%</th>\n",
       "      <td>2016.000000</td>\n",
       "      <td>3.000000</td>\n",
       "      <td>1.030000e+05</td>\n",
       "      <td>36500.000000</td>\n",
       "    </tr>\n",
       "    <tr>\n",
       "      <th>75%</th>\n",
       "      <td>2018.000000</td>\n",
       "      <td>4.500000</td>\n",
       "      <td>1.960000e+05</td>\n",
       "      <td>72932.500000</td>\n",
       "    </tr>\n",
       "    <tr>\n",
       "      <th>max</th>\n",
       "      <td>2022.000000</td>\n",
       "      <td>9.000000</td>\n",
       "      <td>2.000000e+07</td>\n",
       "      <td>850000.000000</td>\n",
       "    </tr>\n",
       "  </tbody>\n",
       "</table>\n",
       "</div>"
      ],
      "text/plain": [
       "              Year  Engine_Size       Mileage          Price\n",
       "count  5624.000000  5624.000000  5.624000e+03  5624.000000  \n",
       "mean   2014.101885  3.295430     1.509234e+05  53074.058144 \n",
       "std    5.791606     1.515108     3.828360e+05  70155.340614 \n",
       "min    1963.000000  1.000000     1.000000e+02  0.000000     \n",
       "25%    2012.000000  2.000000     3.800000e+04  0.000000     \n",
       "50%    2016.000000  3.000000     1.030000e+05  36500.000000 \n",
       "75%    2018.000000  4.500000     1.960000e+05  72932.500000 \n",
       "max    2022.000000  9.000000     2.000000e+07  850000.000000"
      ]
     },
     "execution_count": 107,
     "metadata": {},
     "output_type": "execute_result"
    }
   ],
   "source": [
    "df_ori.describe()"
   ]
  },
  {
   "cell_type": "code",
   "execution_count": 108,
   "metadata": {},
   "outputs": [
    {
     "data": {
      "text/html": [
       "<div>\n",
       "<style scoped>\n",
       "    .dataframe tbody tr th:only-of-type {\n",
       "        vertical-align: middle;\n",
       "    }\n",
       "\n",
       "    .dataframe tbody tr th {\n",
       "        vertical-align: top;\n",
       "    }\n",
       "\n",
       "    .dataframe thead th {\n",
       "        text-align: right;\n",
       "    }\n",
       "</style>\n",
       "<table border=\"1\" class=\"dataframe\">\n",
       "  <thead>\n",
       "    <tr style=\"text-align: right;\">\n",
       "      <th></th>\n",
       "      <th>Type</th>\n",
       "      <th>Region</th>\n",
       "      <th>Make</th>\n",
       "      <th>Gear_Type</th>\n",
       "      <th>Origin</th>\n",
       "      <th>Options</th>\n",
       "    </tr>\n",
       "  </thead>\n",
       "  <tbody>\n",
       "    <tr>\n",
       "      <th>count</th>\n",
       "      <td>5624</td>\n",
       "      <td>5624</td>\n",
       "      <td>5624</td>\n",
       "      <td>5624</td>\n",
       "      <td>5624</td>\n",
       "      <td>5624</td>\n",
       "    </tr>\n",
       "    <tr>\n",
       "      <th>unique</th>\n",
       "      <td>347</td>\n",
       "      <td>27</td>\n",
       "      <td>58</td>\n",
       "      <td>2</td>\n",
       "      <td>4</td>\n",
       "      <td>3</td>\n",
       "    </tr>\n",
       "    <tr>\n",
       "      <th>top</th>\n",
       "      <td>Land Cruiser</td>\n",
       "      <td>Riyadh</td>\n",
       "      <td>Toyota</td>\n",
       "      <td>Automatic</td>\n",
       "      <td>Saudi</td>\n",
       "      <td>Full</td>\n",
       "    </tr>\n",
       "    <tr>\n",
       "      <th>freq</th>\n",
       "      <td>269</td>\n",
       "      <td>2272</td>\n",
       "      <td>1431</td>\n",
       "      <td>4875</td>\n",
       "      <td>4188</td>\n",
       "      <td>2233</td>\n",
       "    </tr>\n",
       "  </tbody>\n",
       "</table>\n",
       "</div>"
      ],
      "text/plain": [
       "                Type  Region    Make  Gear_Type Origin Options\n",
       "count   5624          5624    5624    5624       5624   5624  \n",
       "unique  347           27      58      2          4      3     \n",
       "top     Land Cruiser  Riyadh  Toyota  Automatic  Saudi  Full  \n",
       "freq    269           2272    1431    4875       4188   2233  "
      ]
     },
     "execution_count": 108,
     "metadata": {},
     "output_type": "execute_result"
    }
   ],
   "source": [
    "df_ori.describe(include=\"object\")"
   ]
  },
  {
   "cell_type": "markdown",
   "metadata": {},
   "source": [
    "**Drop Duplicate**"
   ]
  },
  {
   "cell_type": "code",
   "execution_count": 109,
   "metadata": {},
   "outputs": [
    {
     "data": {
      "text/plain": [
       "4"
      ]
     },
     "execution_count": 109,
     "metadata": {},
     "output_type": "execute_result"
    }
   ],
   "source": [
    "df.duplicated().sum()"
   ]
  },
  {
   "cell_type": "code",
   "execution_count": 110,
   "metadata": {},
   "outputs": [],
   "source": [
    "df.drop_duplicates(inplace=True)"
   ]
  },
  {
   "cell_type": "markdown",
   "metadata": {},
   "source": [
    "Dari penjabaran singkat diatas dapat diketahui bahwa:\n",
    "- Terdapat 11 fitur (kolom) yang membentuk Boston crime dataset dengan banyak data (baris) yaitu 5624 data\n",
    "- Jenis data setiap fitur (kolom) terbagi menjadi empat jenis data yaitu Object(6 fitur), int64(3 fitur), float64(1 fitur), dan bool(1 fitur)\n",
    "- Tidak ada missing value di setiap fitur"
   ]
  },
  {
   "cell_type": "markdown",
   "metadata": {},
   "source": [
    "## 2 EDA and Data Cleaning"
   ]
  },
  {
   "cell_type": "markdown",
   "metadata": {},
   "source": [
    "### 2.1 Negotiable Column"
   ]
  },
  {
   "cell_type": "code",
   "execution_count": 111,
   "metadata": {},
   "outputs": [
    {
     "data": {
      "text/html": [
       "<div>\n",
       "<style scoped>\n",
       "    .dataframe tbody tr th:only-of-type {\n",
       "        vertical-align: middle;\n",
       "    }\n",
       "\n",
       "    .dataframe tbody tr th {\n",
       "        vertical-align: top;\n",
       "    }\n",
       "\n",
       "    .dataframe thead th {\n",
       "        text-align: right;\n",
       "    }\n",
       "</style>\n",
       "<table border=\"1\" class=\"dataframe\">\n",
       "  <thead>\n",
       "    <tr style=\"text-align: right;\">\n",
       "      <th></th>\n",
       "      <th>Presentase dari Total Data</th>\n",
       "    </tr>\n",
       "  </thead>\n",
       "  <tbody>\n",
       "    <tr>\n",
       "      <th>False</th>\n",
       "      <td>68.065434</td>\n",
       "    </tr>\n",
       "    <tr>\n",
       "      <th>True</th>\n",
       "      <td>31.934566</td>\n",
       "    </tr>\n",
       "  </tbody>\n",
       "</table>\n",
       "</div>"
      ],
      "text/plain": [
       "       Presentase dari Total Data\n",
       "False  68.065434                 \n",
       "True   31.934566                 "
      ]
     },
     "execution_count": 111,
     "metadata": {},
     "output_type": "execute_result"
    },
    {
     "data": {
      "image/png": "[encoded data removed]",
      "text/plain": [
       "<Figure size 1296x432 with 2 Axes>"
      ]
     },
     "metadata": {
      "needs_background": "light"
     },
     "output_type": "display_data"
    }
   ],
   "source": [
    "plt.figure(figsize=(18,6))\n",
    "plt.subplot(1,2,1)\n",
    "sns.countplot(data=df_ori,x=\"Negotiable\")\n",
    "plt.subplot(1,2,2)\n",
    "sns.boxplot(data=df_ori,x=\"Negotiable\",y=\"Price\")\n",
    ";\n",
    "\n",
    "pd.DataFrame(df_ori[\"Negotiable\"].value_counts().rename(\"Presentase dari Total Data\")/len(df_ori)*100)"
   ]
  },
  {
   "cell_type": "code",
   "execution_count": 112,
   "metadata": {},
   "outputs": [
    {
     "data": {
      "text/html": [
       "<div>\n",
       "<style scoped>\n",
       "    .dataframe tbody tr th:only-of-type {\n",
       "        vertical-align: middle;\n",
       "    }\n",
       "\n",
       "    .dataframe tbody tr th {\n",
       "        vertical-align: top;\n",
       "    }\n",
       "\n",
       "    .dataframe thead th {\n",
       "        text-align: right;\n",
       "    }\n",
       "</style>\n",
       "<table border=\"1\" class=\"dataframe\">\n",
       "  <thead>\n",
       "    <tr style=\"text-align: right;\">\n",
       "      <th></th>\n",
       "      <th>Type</th>\n",
       "      <th>Region</th>\n",
       "      <th>Make</th>\n",
       "      <th>Gear_Type</th>\n",
       "      <th>Origin</th>\n",
       "      <th>Options</th>\n",
       "      <th>Year</th>\n",
       "      <th>Engine_Size</th>\n",
       "      <th>Mileage</th>\n",
       "      <th>Price</th>\n",
       "    </tr>\n",
       "  </thead>\n",
       "  <tbody>\n",
       "    <tr>\n",
       "      <th>1</th>\n",
       "      <td>Yukon</td>\n",
       "      <td>Riyadh</td>\n",
       "      <td>GMC</td>\n",
       "      <td>Automatic</td>\n",
       "      <td>Saudi</td>\n",
       "      <td>Full</td>\n",
       "      <td>2014</td>\n",
       "      <td>8.0</td>\n",
       "      <td>80000</td>\n",
       "      <td>120000</td>\n",
       "    </tr>\n",
       "    <tr>\n",
       "      <th>2</th>\n",
       "      <td>Range Rover</td>\n",
       "      <td>Riyadh</td>\n",
       "      <td>Land Rover</td>\n",
       "      <td>Automatic</td>\n",
       "      <td>Gulf Arabic</td>\n",
       "      <td>Full</td>\n",
       "      <td>2015</td>\n",
       "      <td>5.0</td>\n",
       "      <td>140000</td>\n",
       "      <td>260000</td>\n",
       "    </tr>\n",
       "    <tr>\n",
       "      <th>3</th>\n",
       "      <td>Optima</td>\n",
       "      <td>Hafar Al-Batin</td>\n",
       "      <td>Kia</td>\n",
       "      <td>Automatic</td>\n",
       "      <td>Saudi</td>\n",
       "      <td>Semi Full</td>\n",
       "      <td>2015</td>\n",
       "      <td>2.4</td>\n",
       "      <td>220000</td>\n",
       "      <td>42000</td>\n",
       "    </tr>\n",
       "    <tr>\n",
       "      <th>5</th>\n",
       "      <td>CX3</td>\n",
       "      <td>Abha</td>\n",
       "      <td>Mazda</td>\n",
       "      <td>Automatic</td>\n",
       "      <td>Saudi</td>\n",
       "      <td>Semi Full</td>\n",
       "      <td>2019</td>\n",
       "      <td>2.0</td>\n",
       "      <td>25000</td>\n",
       "      <td>58000</td>\n",
       "    </tr>\n",
       "    <tr>\n",
       "      <th>6</th>\n",
       "      <td>Cayenne S</td>\n",
       "      <td>Riyadh</td>\n",
       "      <td>Porsche</td>\n",
       "      <td>Automatic</td>\n",
       "      <td>Saudi</td>\n",
       "      <td>Full</td>\n",
       "      <td>2012</td>\n",
       "      <td>4.8</td>\n",
       "      <td>189000</td>\n",
       "      <td>85000</td>\n",
       "    </tr>\n",
       "    <tr>\n",
       "      <th>...</th>\n",
       "      <td>...</td>\n",
       "      <td>...</td>\n",
       "      <td>...</td>\n",
       "      <td>...</td>\n",
       "      <td>...</td>\n",
       "      <td>...</td>\n",
       "      <td>...</td>\n",
       "      <td>...</td>\n",
       "      <td>...</td>\n",
       "      <td>...</td>\n",
       "    </tr>\n",
       "    <tr>\n",
       "      <th>5616</th>\n",
       "      <td>CX9</td>\n",
       "      <td>Qassim</td>\n",
       "      <td>Mazda</td>\n",
       "      <td>Automatic</td>\n",
       "      <td>Saudi</td>\n",
       "      <td>Full</td>\n",
       "      <td>2020</td>\n",
       "      <td>2.0</td>\n",
       "      <td>9500</td>\n",
       "      <td>132000</td>\n",
       "    </tr>\n",
       "    <tr>\n",
       "      <th>5618</th>\n",
       "      <td>Suburban</td>\n",
       "      <td>Riyadh</td>\n",
       "      <td>GMC</td>\n",
       "      <td>Automatic</td>\n",
       "      <td>Saudi</td>\n",
       "      <td>Full</td>\n",
       "      <td>2006</td>\n",
       "      <td>5.3</td>\n",
       "      <td>86000</td>\n",
       "      <td>50000</td>\n",
       "    </tr>\n",
       "    <tr>\n",
       "      <th>5619</th>\n",
       "      <td>X-Trail</td>\n",
       "      <td>Jeddah</td>\n",
       "      <td>Nissan</td>\n",
       "      <td>Automatic</td>\n",
       "      <td>Saudi</td>\n",
       "      <td>Standard</td>\n",
       "      <td>2018</td>\n",
       "      <td>2.5</td>\n",
       "      <td>78794</td>\n",
       "      <td>68000</td>\n",
       "    </tr>\n",
       "    <tr>\n",
       "      <th>5621</th>\n",
       "      <td>Yukon</td>\n",
       "      <td>Dammam</td>\n",
       "      <td>GMC</td>\n",
       "      <td>Automatic</td>\n",
       "      <td>Saudi</td>\n",
       "      <td>Full</td>\n",
       "      <td>2016</td>\n",
       "      <td>5.3</td>\n",
       "      <td>48000</td>\n",
       "      <td>145000</td>\n",
       "    </tr>\n",
       "    <tr>\n",
       "      <th>5622</th>\n",
       "      <td>RX</td>\n",
       "      <td>Dammam</td>\n",
       "      <td>Lexus</td>\n",
       "      <td>Automatic</td>\n",
       "      <td>Gulf Arabic</td>\n",
       "      <td>Full</td>\n",
       "      <td>2016</td>\n",
       "      <td>2.5</td>\n",
       "      <td>81000</td>\n",
       "      <td>154000</td>\n",
       "    </tr>\n",
       "  </tbody>\n",
       "</table>\n",
       "<p>3825 rows × 10 columns</p>\n",
       "</div>"
      ],
      "text/plain": [
       "             Type          Region        Make  Gear_Type       Origin  \\\n",
       "1     Yukon        Riyadh          GMC         Automatic  Saudi         \n",
       "2     Range Rover  Riyadh          Land Rover  Automatic  Gulf Arabic   \n",
       "3     Optima       Hafar Al-Batin  Kia         Automatic  Saudi         \n",
       "5     CX3          Abha            Mazda       Automatic  Saudi         \n",
       "6     Cayenne S    Riyadh          Porsche     Automatic  Saudi         \n",
       "...         ...       ...              ...           ...    ...         \n",
       "5616  CX9          Qassim          Mazda       Automatic  Saudi         \n",
       "5618  Suburban     Riyadh          GMC         Automatic  Saudi         \n",
       "5619  X-Trail      Jeddah          Nissan      Automatic  Saudi         \n",
       "5621  Yukon        Dammam          GMC         Automatic  Saudi         \n",
       "5622  RX           Dammam          Lexus       Automatic  Gulf Arabic   \n",
       "\n",
       "        Options  Year  Engine_Size  Mileage   Price  \n",
       "1     Full       2014  8.0          80000    120000  \n",
       "2     Full       2015  5.0          140000   260000  \n",
       "3     Semi Full  2015  2.4          220000   42000   \n",
       "5     Semi Full  2019  2.0          25000    58000   \n",
       "6     Full       2012  4.8          189000   85000   \n",
       "...    ...        ...  ...             ...     ...   \n",
       "5616  Full       2020  2.0          9500     132000  \n",
       "5618  Full       2006  5.3          86000    50000   \n",
       "5619  Standard   2018  2.5          78794    68000   \n",
       "5621  Full       2016  5.3          48000    145000  \n",
       "5622  Full       2016  2.5          81000    154000  \n",
       "\n",
       "[3825 rows x 10 columns]"
      ]
     },
     "execution_count": 112,
     "metadata": {},
     "output_type": "execute_result"
    }
   ],
   "source": [
    "df=df[df[\"Negotiable\"]!=True]\n",
    "df.drop(columns=\"Negotiable\",inplace=True)\n",
    "df"
   ]
  },
  {
   "cell_type": "markdown",
   "metadata": {},
   "source": [
    "**Summary**\n",
    "- Dari grafik countplot kolom \"Negotiable\" diketahui bahwa kebanyakan mobil bekas yang dijual di Saudi Arabia sudah ditetapkan harganya (sekitar 68%).\n",
    "- Dari grafik boxplot kolom \"Negotiable\" dengan \"Price\" diketahui bahwa untuk mobil bekas yang dapat ditawar (negotiable) memiliki harga yaitu 0. Hal ini dikarenakan mobil bekas yang dapat ditawar (negotable) tidak memiliki harga yang pasti. \n",
    "- Dikarenakan mobil bekas yang dapat ditawar ini tidak tentu harganya dan sulit untuk diprediksi (akan mempengaruhi pemodelan) maka ada baiknya mobil-mobil bekas yang dapat ditawar akan didrop. Hal ini juga akan berlanjutkan dengan menghapus kolom \"Negotiable\" karena model sudah dikercutkan hanya berfokus pada mobil-mobil bekas yang sudah memiliki harga pasti."
   ]
  },
  {
   "cell_type": "markdown",
   "metadata": {},
   "source": [
    "### 2.2 Type Column"
   ]
  },
  {
   "cell_type": "markdown",
   "metadata": {},
   "source": [
    "**EDA Original Data**"
   ]
  },
  {
   "cell_type": "code",
   "execution_count": 113,
   "metadata": {},
   "outputs": [
    {
     "name": "stdout",
     "output_type": "stream",
     "text": [
      "Jumlah Unique Item pada Kolom 'Type': 347\n"
     ]
    }
   ],
   "source": [
    "print(\"Jumlah Unique Item pada Kolom 'Type':\",len(df_ori[\"Type\"].value_counts()))"
   ]
  },
  {
   "cell_type": "code",
   "execution_count": 114,
   "metadata": {},
   "outputs": [
    {
     "data": {
      "text/html": [
       "<div>\n",
       "<style scoped>\n",
       "    .dataframe tbody tr th:only-of-type {\n",
       "        vertical-align: middle;\n",
       "    }\n",
       "\n",
       "    .dataframe tbody tr th {\n",
       "        vertical-align: top;\n",
       "    }\n",
       "\n",
       "    .dataframe thead th {\n",
       "        text-align: right;\n",
       "    }\n",
       "</style>\n",
       "<table border=\"1\" class=\"dataframe\">\n",
       "  <thead>\n",
       "    <tr style=\"text-align: right;\">\n",
       "      <th></th>\n",
       "      <th>Quantity of Top 5 Car Type</th>\n",
       "    </tr>\n",
       "  </thead>\n",
       "  <tbody>\n",
       "    <tr>\n",
       "      <th>Land Cruiser</th>\n",
       "      <td>269</td>\n",
       "    </tr>\n",
       "    <tr>\n",
       "      <th>Camry</th>\n",
       "      <td>234</td>\n",
       "    </tr>\n",
       "    <tr>\n",
       "      <th>Hilux</th>\n",
       "      <td>207</td>\n",
       "    </tr>\n",
       "    <tr>\n",
       "      <th>Accent</th>\n",
       "      <td>174</td>\n",
       "    </tr>\n",
       "    <tr>\n",
       "      <th>Yukon</th>\n",
       "      <td>162</td>\n",
       "    </tr>\n",
       "    <tr>\n",
       "      <th>Sonata</th>\n",
       "      <td>157</td>\n",
       "    </tr>\n",
       "  </tbody>\n",
       "</table>\n",
       "</div>"
      ],
      "text/plain": [
       "              Quantity of Top 5 Car Type\n",
       "Land Cruiser  269                       \n",
       "Camry         234                       \n",
       "Hilux         207                       \n",
       "Accent        174                       \n",
       "Yukon         162                       \n",
       "Sonata        157                       "
      ]
     },
     "execution_count": 114,
     "metadata": {},
     "output_type": "execute_result"
    }
   ],
   "source": [
    "pd.DataFrame(df_ori[\"Type\"].value_counts()[0:6:1].rename(\"Quantity of Top 5 Car Type\"))"
   ]
  },
  {
   "cell_type": "code",
   "execution_count": 115,
   "metadata": {},
   "outputs": [
    {
     "data": {
      "text/html": [
       "<div>\n",
       "<style scoped>\n",
       "    .dataframe tbody tr th:only-of-type {\n",
       "        vertical-align: middle;\n",
       "    }\n",
       "\n",
       "    .dataframe tbody tr th {\n",
       "        vertical-align: top;\n",
       "    }\n",
       "\n",
       "    .dataframe thead th {\n",
       "        text-align: right;\n",
       "    }\n",
       "</style>\n",
       "<table border=\"1\" class=\"dataframe\">\n",
       "  <thead>\n",
       "    <tr style=\"text-align: right;\">\n",
       "      <th></th>\n",
       "      <th>Quantity of Bottom 5 Car Type</th>\n",
       "    </tr>\n",
       "  </thead>\n",
       "  <tbody>\n",
       "    <tr>\n",
       "      <th>S8</th>\n",
       "      <td>1</td>\n",
       "    </tr>\n",
       "    <tr>\n",
       "      <th>CT5</th>\n",
       "      <td>1</td>\n",
       "    </tr>\n",
       "    <tr>\n",
       "      <th>GC7</th>\n",
       "      <td>1</td>\n",
       "    </tr>\n",
       "    <tr>\n",
       "      <th>360</th>\n",
       "      <td>1</td>\n",
       "    </tr>\n",
       "    <tr>\n",
       "      <th>Nativa</th>\n",
       "      <td>1</td>\n",
       "    </tr>\n",
       "  </tbody>\n",
       "</table>\n",
       "</div>"
      ],
      "text/plain": [
       "        Quantity of Bottom 5 Car Type\n",
       "S8      1                            \n",
       "CT5     1                            \n",
       "GC7     1                            \n",
       "360     1                            \n",
       "Nativa  1                            "
      ]
     },
     "execution_count": 115,
     "metadata": {},
     "output_type": "execute_result"
    }
   ],
   "source": [
    "pd.DataFrame(df_ori[\"Type\"].value_counts()[-1:-6:-1].rename(\"Quantity of Bottom 5 Car Type\"))"
   ]
  },
  {
   "cell_type": "code",
   "execution_count": 116,
   "metadata": {},
   "outputs": [
    {
     "data": {
      "image/png": "[encoded data removed]",
      "text/plain": [
       "<Figure size 1584x576 with 1 Axes>"
      ]
     },
     "metadata": {
      "needs_background": "light"
     },
     "output_type": "display_data"
    }
   ],
   "source": [
    "plt.figure(figsize=(22,8))\n",
    "sns.barplot(data=df_ori.groupby(\"Type\").count()[[\"Price\"]].sort_values(\"Price\",ascending=False).reset_index().rename(columns={\"Price\":\"Freq\"}),y=\"Freq\",x=\"Type\",color=\"royalblue\")\n",
    "plt.xticks(rotation=90);"
   ]
  },
  {
   "cell_type": "markdown",
   "metadata": {},
   "source": [
    "**Anomalie Treatment**"
   ]
  },
  {
   "cell_type": "code",
   "execution_count": 117,
   "metadata": {},
   "outputs": [],
   "source": [
    "for i in list(df[\"Type\"].value_counts()[df[\"Type\"].value_counts()<2].index):\n",
    "    df=df[df[\"Type\"]!=i]"
   ]
  },
  {
   "cell_type": "markdown",
   "metadata": {},
   "source": [
    "**Summary**\n",
    "- Total tipe mobil bekas yang dijual di Saudi Arabia berjumlah 347\n",
    "- Dari tabel Quantity of Top 5 Car Type dan grafik dapat disimpulkan bahwa penduduk Saudi Arabia cenderung memnjual mobil bekas bertipe Land Cruiser, Hilux, dan Accent\t\n",
    "- Dari tabel Quantity of Bottom 5 Car Type, dapat diketahui bahwa terdapat beberapa unique item yang hanya berjumlah satu atau sedikit. Hal ini dapat menimbulkan kesalahan atau error selama proses pemodelan khususnya dibagian splitting data train dan data test. Ketika unique item yang berjumlah satu atau sedikit hanya masuk kedalam test set maka model tidak mampu meprediksi, karena pada saat proses train data, item tersebut tidak dipelajari oleh model. Maka dari itu untuk mencegah hal tersebut terjadi maka ada baiknya untuk mendrop unque item yang berjumlah satu atau sedikit.\n",
    "- Selain itu juga beberapa tipe mobil yang memiliki jumlah sedikit memang sangat beresiko tereliminasi ketika melakukan data cleaning"
   ]
  },
  {
   "cell_type": "markdown",
   "metadata": {},
   "source": [
    "### 2.3 Make Column"
   ]
  },
  {
   "cell_type": "markdown",
   "metadata": {},
   "source": [
    "**EDA Original Data**"
   ]
  },
  {
   "cell_type": "code",
   "execution_count": 118,
   "metadata": {},
   "outputs": [
    {
     "name": "stdout",
     "output_type": "stream",
     "text": [
      "Jumlah Unique Item pada Kolom 'Make': 58\n"
     ]
    }
   ],
   "source": [
    "print(\"Jumlah Unique Item pada Kolom 'Make':\",len(df_ori[\"Make\"].value_counts()))"
   ]
  },
  {
   "cell_type": "code",
   "execution_count": 119,
   "metadata": {},
   "outputs": [
    {
     "data": {
      "text/html": [
       "<div>\n",
       "<style scoped>\n",
       "    .dataframe tbody tr th:only-of-type {\n",
       "        vertical-align: middle;\n",
       "    }\n",
       "\n",
       "    .dataframe tbody tr th {\n",
       "        vertical-align: top;\n",
       "    }\n",
       "\n",
       "    .dataframe thead th {\n",
       "        text-align: right;\n",
       "    }\n",
       "</style>\n",
       "<table border=\"1\" class=\"dataframe\">\n",
       "  <thead>\n",
       "    <tr style=\"text-align: right;\">\n",
       "      <th></th>\n",
       "      <th>Quantity of Top 5 Make</th>\n",
       "    </tr>\n",
       "  </thead>\n",
       "  <tbody>\n",
       "    <tr>\n",
       "      <th>Toyota</th>\n",
       "      <td>1431</td>\n",
       "    </tr>\n",
       "    <tr>\n",
       "      <th>Hyundai</th>\n",
       "      <td>670</td>\n",
       "    </tr>\n",
       "    <tr>\n",
       "      <th>Ford</th>\n",
       "      <td>530</td>\n",
       "    </tr>\n",
       "    <tr>\n",
       "      <th>Chevrolet</th>\n",
       "      <td>458</td>\n",
       "    </tr>\n",
       "    <tr>\n",
       "      <th>Nissan</th>\n",
       "      <td>387</td>\n",
       "    </tr>\n",
       "    <tr>\n",
       "      <th>GMC</th>\n",
       "      <td>282</td>\n",
       "    </tr>\n",
       "  </tbody>\n",
       "</table>\n",
       "</div>"
      ],
      "text/plain": [
       "           Quantity of Top 5 Make\n",
       "Toyota     1431                  \n",
       "Hyundai    670                   \n",
       "Ford       530                   \n",
       "Chevrolet  458                   \n",
       "Nissan     387                   \n",
       "GMC        282                   "
      ]
     },
     "execution_count": 119,
     "metadata": {},
     "output_type": "execute_result"
    }
   ],
   "source": [
    "pd.DataFrame(df_ori[\"Make\"].value_counts()[0:6:1].rename(\"Quantity of Top 5 Make\"))"
   ]
  },
  {
   "cell_type": "code",
   "execution_count": 120,
   "metadata": {},
   "outputs": [
    {
     "data": {
      "text/html": [
       "<div>\n",
       "<style scoped>\n",
       "    .dataframe tbody tr th:only-of-type {\n",
       "        vertical-align: middle;\n",
       "    }\n",
       "\n",
       "    .dataframe tbody tr th {\n",
       "        vertical-align: top;\n",
       "    }\n",
       "\n",
       "    .dataframe thead th {\n",
       "        text-align: right;\n",
       "    }\n",
       "</style>\n",
       "<table border=\"1\" class=\"dataframe\">\n",
       "  <thead>\n",
       "    <tr style=\"text-align: right;\">\n",
       "      <th></th>\n",
       "      <th>Quantity of Bottom 5 Make</th>\n",
       "    </tr>\n",
       "  </thead>\n",
       "  <tbody>\n",
       "    <tr>\n",
       "      <th>Ferrari</th>\n",
       "      <td>1</td>\n",
       "    </tr>\n",
       "    <tr>\n",
       "      <th>Tata</th>\n",
       "      <td>1</td>\n",
       "    </tr>\n",
       "    <tr>\n",
       "      <th>SsangYong</th>\n",
       "      <td>1</td>\n",
       "    </tr>\n",
       "    <tr>\n",
       "      <th>Iveco</th>\n",
       "      <td>1</td>\n",
       "    </tr>\n",
       "    <tr>\n",
       "      <th>BYD</th>\n",
       "      <td>1</td>\n",
       "    </tr>\n",
       "  </tbody>\n",
       "</table>\n",
       "</div>"
      ],
      "text/plain": [
       "           Quantity of Bottom 5 Make\n",
       "Ferrari    1                        \n",
       "Tata       1                        \n",
       "SsangYong  1                        \n",
       "Iveco      1                        \n",
       "BYD        1                        "
      ]
     },
     "execution_count": 120,
     "metadata": {},
     "output_type": "execute_result"
    }
   ],
   "source": [
    "pd.DataFrame(df_ori[\"Make\"].value_counts()[-1:-6:-1].rename(\"Quantity of Bottom 5 Make\"))"
   ]
  },
  {
   "cell_type": "code",
   "execution_count": 121,
   "metadata": {},
   "outputs": [
    {
     "data": {
      "image/png": "[encoded data removed]",
      "text/plain": [
       "<Figure size 1584x576 with 1 Axes>"
      ]
     },
     "metadata": {
      "needs_background": "light"
     },
     "output_type": "display_data"
    }
   ],
   "source": [
    "plt.figure(figsize=(22,8))\n",
    "sns.barplot(data=df_ori.groupby(\"Make\").count()[[\"Price\"]].sort_values(\"Price\",ascending=False).reset_index(),y=\"Price\",x=\"Make\",color=\"royalblue\")\n",
    "plt.xticks(rotation=45);"
   ]
  },
  {
   "cell_type": "markdown",
   "metadata": {},
   "source": [
    "**Anomalie Treatment**"
   ]
  },
  {
   "cell_type": "code",
   "execution_count": 122,
   "metadata": {},
   "outputs": [],
   "source": [
    "for i in list(df[\"Make\"].value_counts()[df[\"Make\"].value_counts()<2].index):\n",
    "    df=df[df[\"Make\"]!=i]"
   ]
  },
  {
   "cell_type": "markdown",
   "metadata": {},
   "source": [
    "**Summary**\n",
    "- Total brand mobil bekas yang dijual di Saudi Arabia berjumlah 58\n",
    "- Dari tabel Quantity of Top 5 Car Type dan grafik dapat disimpulkan bahwa penduduk Saudi Arabia cenderung memnjual mobil bekas yang memiliki brand yaitu Toyota, Hyundai, dan Ford\n",
    "- Dari tabel Quantity of Bottom 5 Car Type, dapat diketahui bahwa terdapat beberapa unique item yang hanya berjumlah satu atau sedikit. Maka unique item ini akan dihapus agar tidak membuat model error selama proses splitting dan modelling\n",
    "- Beberapa brand mobil yang memiliki jumlah sedikit memang sangat beresiko tereliminasi ketika melakukan data cleaning"
   ]
  },
  {
   "cell_type": "markdown",
   "metadata": {},
   "source": [
    "### 2.4 Region Column"
   ]
  },
  {
   "cell_type": "markdown",
   "metadata": {},
   "source": [
    "**EDA Originial Data**"
   ]
  },
  {
   "cell_type": "code",
   "execution_count": 123,
   "metadata": {},
   "outputs": [
    {
     "name": "stdout",
     "output_type": "stream",
     "text": [
      "Jumlah Unique Item pada Kolom 'Region': 27\n"
     ]
    }
   ],
   "source": [
    "print(\"Jumlah Unique Item pada Kolom 'Region':\",len(df_ori[\"Region\"].value_counts()))"
   ]
  },
  {
   "cell_type": "code",
   "execution_count": 124,
   "metadata": {},
   "outputs": [
    {
     "data": {
      "text/html": [
       "<div>\n",
       "<style scoped>\n",
       "    .dataframe tbody tr th:only-of-type {\n",
       "        vertical-align: middle;\n",
       "    }\n",
       "\n",
       "    .dataframe tbody tr th {\n",
       "        vertical-align: top;\n",
       "    }\n",
       "\n",
       "    .dataframe thead th {\n",
       "        text-align: right;\n",
       "    }\n",
       "</style>\n",
       "<table border=\"1\" class=\"dataframe\">\n",
       "  <thead>\n",
       "    <tr style=\"text-align: right;\">\n",
       "      <th></th>\n",
       "      <th>Quantity of Top 5 Region</th>\n",
       "    </tr>\n",
       "  </thead>\n",
       "  <tbody>\n",
       "    <tr>\n",
       "      <th>Riyadh</th>\n",
       "      <td>2272</td>\n",
       "    </tr>\n",
       "    <tr>\n",
       "      <th>Dammam</th>\n",
       "      <td>925</td>\n",
       "    </tr>\n",
       "    <tr>\n",
       "      <th>Jeddah</th>\n",
       "      <td>733</td>\n",
       "    </tr>\n",
       "    <tr>\n",
       "      <th>Qassim</th>\n",
       "      <td>225</td>\n",
       "    </tr>\n",
       "    <tr>\n",
       "      <th>Al-Medina</th>\n",
       "      <td>214</td>\n",
       "    </tr>\n",
       "    <tr>\n",
       "      <th>Al-Ahsa</th>\n",
       "      <td>166</td>\n",
       "    </tr>\n",
       "  </tbody>\n",
       "</table>\n",
       "</div>"
      ],
      "text/plain": [
       "           Quantity of Top 5 Region\n",
       "Riyadh     2272                    \n",
       "Dammam     925                     \n",
       "Jeddah     733                     \n",
       "Qassim     225                     \n",
       "Al-Medina  214                     \n",
       "Al-Ahsa    166                     "
      ]
     },
     "execution_count": 124,
     "metadata": {},
     "output_type": "execute_result"
    }
   ],
   "source": [
    "pd.DataFrame(df_ori[\"Region\"].value_counts()[0:6:1].rename(\"Quantity of Top 5 Region\"))"
   ]
  },
  {
   "cell_type": "code",
   "execution_count": 125,
   "metadata": {},
   "outputs": [
    {
     "data": {
      "text/html": [
       "<div>\n",
       "<style scoped>\n",
       "    .dataframe tbody tr th:only-of-type {\n",
       "        vertical-align: middle;\n",
       "    }\n",
       "\n",
       "    .dataframe tbody tr th {\n",
       "        vertical-align: top;\n",
       "    }\n",
       "\n",
       "    .dataframe thead th {\n",
       "        text-align: right;\n",
       "    }\n",
       "</style>\n",
       "<table border=\"1\" class=\"dataframe\">\n",
       "  <thead>\n",
       "    <tr style=\"text-align: right;\">\n",
       "      <th></th>\n",
       "      <th>Quantity of Bottom 5 Region</th>\n",
       "    </tr>\n",
       "  </thead>\n",
       "  <tbody>\n",
       "    <tr>\n",
       "      <th>Sabya</th>\n",
       "      <td>4</td>\n",
       "    </tr>\n",
       "    <tr>\n",
       "      <th>Sakaka</th>\n",
       "      <td>10</td>\n",
       "    </tr>\n",
       "    <tr>\n",
       "      <th>Wadi Dawasir</th>\n",
       "      <td>12</td>\n",
       "    </tr>\n",
       "    <tr>\n",
       "      <th>Al-Namas</th>\n",
       "      <td>12</td>\n",
       "    </tr>\n",
       "    <tr>\n",
       "      <th>Qurayyat</th>\n",
       "      <td>13</td>\n",
       "    </tr>\n",
       "  </tbody>\n",
       "</table>\n",
       "</div>"
      ],
      "text/plain": [
       "              Quantity of Bottom 5 Region\n",
       "Sabya         4                          \n",
       "Sakaka        10                         \n",
       "Wadi Dawasir  12                         \n",
       "Al-Namas      12                         \n",
       "Qurayyat      13                         "
      ]
     },
     "execution_count": 125,
     "metadata": {},
     "output_type": "execute_result"
    }
   ],
   "source": [
    "pd.DataFrame(df_ori[\"Region\"].value_counts()[-1:-6:-1].rename(\"Quantity of Bottom 5 Region\"))"
   ]
  },
  {
   "cell_type": "code",
   "execution_count": 126,
   "metadata": {},
   "outputs": [
    {
     "data": {
      "image/png": "[encoded data removed]",
      "text/plain": [
       "<Figure size 1584x576 with 1 Axes>"
      ]
     },
     "metadata": {
      "needs_background": "light"
     },
     "output_type": "display_data"
    }
   ],
   "source": [
    "plt.figure(figsize=(22,8))\n",
    "sns.barplot(data=df_ori.groupby(\"Region\").count()[[\"Price\"]].sort_values(\"Price\",ascending=False).reset_index(),y=\"Price\",x=\"Region\",color=\"royalblue\")\n",
    "plt.xticks(rotation=45);"
   ]
  },
  {
   "cell_type": "markdown",
   "metadata": {},
   "source": [
    "**Anomalie Treatment**"
   ]
  },
  {
   "cell_type": "code",
   "execution_count": 127,
   "metadata": {},
   "outputs": [],
   "source": [
    "for i in list(df[\"Region\"].value_counts()[df[\"Region\"].value_counts()<2].index):\n",
    "    df=df[df[\"Region\"]!=i]"
   ]
  },
  {
   "cell_type": "markdown",
   "metadata": {},
   "source": [
    "**Summary**\n",
    "- Total region dimana mobil bekas dijual berjumlah 27\n",
    "- Dari tabel Quantity of Top 5 Car Region dan grafik dapat disimpulkan bahwa mobil bekas dijual di daerah Riyadh, Dammam, dan Jedah\t\n",
    "- Dari tabel Quantity of Bottom 5 Car Region, dapat diketahui bahwa terdapat beberapa unique item yang hanya berjumlah satu atau sedikit. Maka unique item ini akan dihapus agar tidak membuat model error selama proses splitting dan modelling\n",
    "- Beberapa Region yang memiliki jumlah sedikit memang sangat beresiko tereliminasi ketika melakukan data cleaning"
   ]
  },
  {
   "cell_type": "markdown",
   "metadata": {},
   "source": [
    "### 2.5 Origin Column"
   ]
  },
  {
   "cell_type": "markdown",
   "metadata": {},
   "source": [
    "**EDA Original Data**"
   ]
  },
  {
   "cell_type": "code",
   "execution_count": 128,
   "metadata": {},
   "outputs": [
    {
     "data": {
      "text/html": [
       "<div>\n",
       "<style scoped>\n",
       "    .dataframe tbody tr th:only-of-type {\n",
       "        vertical-align: middle;\n",
       "    }\n",
       "\n",
       "    .dataframe tbody tr th {\n",
       "        vertical-align: top;\n",
       "    }\n",
       "\n",
       "    .dataframe thead th {\n",
       "        text-align: right;\n",
       "    }\n",
       "</style>\n",
       "<table border=\"1\" class=\"dataframe\">\n",
       "  <thead>\n",
       "    <tr style=\"text-align: right;\">\n",
       "      <th></th>\n",
       "      <th>Presentase dari Total Data</th>\n",
       "    </tr>\n",
       "  </thead>\n",
       "  <tbody>\n",
       "    <tr>\n",
       "      <th>Saudi</th>\n",
       "      <td>74.466572</td>\n",
       "    </tr>\n",
       "    <tr>\n",
       "      <th>Gulf Arabic</th>\n",
       "      <td>12.393314</td>\n",
       "    </tr>\n",
       "    <tr>\n",
       "      <th>Other</th>\n",
       "      <td>12.055477</td>\n",
       "    </tr>\n",
       "    <tr>\n",
       "      <th>Unknown</th>\n",
       "      <td>1.084637</td>\n",
       "    </tr>\n",
       "  </tbody>\n",
       "</table>\n",
       "</div>"
      ],
      "text/plain": [
       "             Presentase dari Total Data\n",
       "Saudi        74.466572                 \n",
       "Gulf Arabic  12.393314                 \n",
       "Other        12.055477                 \n",
       "Unknown      1.084637                  "
      ]
     },
     "execution_count": 128,
     "metadata": {},
     "output_type": "execute_result"
    },
    {
     "data": {
      "image/png": "[encoded data removed]",
      "text/plain": [
       "<Figure size 648x432 with 1 Axes>"
      ]
     },
     "metadata": {
      "needs_background": "light"
     },
     "output_type": "display_data"
    }
   ],
   "source": [
    "plt.figure(figsize=(9,6))\n",
    "sns.countplot(data=df_ori,x=\"Origin\")\n",
    ";\n",
    "\n",
    "pd.DataFrame(df_ori[\"Origin\"].value_counts().rename(\"Presentase dari Total Data\")/len(df_ori)*100)"
   ]
  },
  {
   "cell_type": "markdown",
   "metadata": {},
   "source": [
    "**Anomalie Treatment**"
   ]
  },
  {
   "cell_type": "code",
   "execution_count": 129,
   "metadata": {},
   "outputs": [],
   "source": [
    "df[\"Origin\"]=np.where(df[\"Origin\"]==\"Unknown\",df[\"Origin\"].mode(),df[\"Origin\"])"
   ]
  },
  {
   "cell_type": "markdown",
   "metadata": {},
   "source": [
    "**Summary**\n",
    "\n",
    "- Total Origin dimana mobil bekas yang dijual berasal berjumlah empat yaitu Saudi, Gulf Arabic, Other, dan Unknown. Namun, Disini saya beranggapan bahwa Unknown merupakan missing data maka akan diimpute dengan modus di kolom ini. Sehingga total region hanya akan tersisa 3 Region\n",
    "- Dari grafik dapat disimpulkan bahwa mobil bekas yang dijual kebanyakan berasal dari Saudi\t(daerah perkotaan saudi Arabia) yaitu sebesar 74% dari total mobil bekas."
   ]
  },
  {
   "cell_type": "markdown",
   "metadata": {},
   "source": [
    "### 2.6 Gear_Type Column"
   ]
  },
  {
   "cell_type": "markdown",
   "metadata": {},
   "source": [
    "**EDA Original Data**"
   ]
  },
  {
   "cell_type": "code",
   "execution_count": 130,
   "metadata": {},
   "outputs": [
    {
     "data": {
      "text/html": [
       "<div>\n",
       "<style scoped>\n",
       "    .dataframe tbody tr th:only-of-type {\n",
       "        vertical-align: middle;\n",
       "    }\n",
       "\n",
       "    .dataframe tbody tr th {\n",
       "        vertical-align: top;\n",
       "    }\n",
       "\n",
       "    .dataframe thead th {\n",
       "        text-align: right;\n",
       "    }\n",
       "</style>\n",
       "<table border=\"1\" class=\"dataframe\">\n",
       "  <thead>\n",
       "    <tr style=\"text-align: right;\">\n",
       "      <th></th>\n",
       "      <th>Gear_Type</th>\n",
       "    </tr>\n",
       "  </thead>\n",
       "  <tbody>\n",
       "    <tr>\n",
       "      <th>Automatic</th>\n",
       "      <td>86.682077</td>\n",
       "    </tr>\n",
       "    <tr>\n",
       "      <th>Manual</th>\n",
       "      <td>13.317923</td>\n",
       "    </tr>\n",
       "  </tbody>\n",
       "</table>\n",
       "</div>"
      ],
      "text/plain": [
       "           Gear_Type\n",
       "Automatic  86.682077\n",
       "Manual     13.317923"
      ]
     },
     "execution_count": 130,
     "metadata": {},
     "output_type": "execute_result"
    },
    {
     "data": {
      "image/png": "[encoded data removed]",
      "text/plain": [
       "<Figure size 648x432 with 1 Axes>"
      ]
     },
     "metadata": {
      "needs_background": "light"
     },
     "output_type": "display_data"
    }
   ],
   "source": [
    "plt.figure(figsize=(9,6))\n",
    "sns.countplot(data=df_ori,x=\"Gear_Type\")\n",
    ";\n",
    "\n",
    "pd.DataFrame(df_ori[\"Gear_Type\"].value_counts().rename(\"Gear_Type\")/len(df_ori)*100)"
   ]
  },
  {
   "cell_type": "markdown",
   "metadata": {},
   "source": [
    "**Summary**\n",
    "\n",
    "- Terdapat dua gear type pada mobil bekas yang dijual di Saudi Arabia yaitu Automatic dan Manual.\n",
    "- Dari grafik dapat disimpulkan bahwa mobil bekas yang dijual kebanyakan memilki gear type yang automatic yaitu sebesar 86.6% dari total mobil bekas."
   ]
  },
  {
   "cell_type": "markdown",
   "metadata": {},
   "source": [
    "### 2.7 Options Column"
   ]
  },
  {
   "cell_type": "markdown",
   "metadata": {},
   "source": [
    "**EDA Original Data**"
   ]
  },
  {
   "cell_type": "code",
   "execution_count": 131,
   "metadata": {},
   "outputs": [
    {
     "data": {
      "text/html": [
       "<div>\n",
       "<style scoped>\n",
       "    .dataframe tbody tr th:only-of-type {\n",
       "        vertical-align: middle;\n",
       "    }\n",
       "\n",
       "    .dataframe tbody tr th {\n",
       "        vertical-align: top;\n",
       "    }\n",
       "\n",
       "    .dataframe thead th {\n",
       "        text-align: right;\n",
       "    }\n",
       "</style>\n",
       "<table border=\"1\" class=\"dataframe\">\n",
       "  <thead>\n",
       "    <tr style=\"text-align: right;\">\n",
       "      <th></th>\n",
       "      <th>Options</th>\n",
       "    </tr>\n",
       "  </thead>\n",
       "  <tbody>\n",
       "    <tr>\n",
       "      <th>Full</th>\n",
       "      <td>39.704836</td>\n",
       "    </tr>\n",
       "    <tr>\n",
       "      <th>Standard</th>\n",
       "      <td>32.396871</td>\n",
       "    </tr>\n",
       "    <tr>\n",
       "      <th>Semi Full</th>\n",
       "      <td>27.898293</td>\n",
       "    </tr>\n",
       "  </tbody>\n",
       "</table>\n",
       "</div>"
      ],
      "text/plain": [
       "             Options\n",
       "Full       39.704836\n",
       "Standard   32.396871\n",
       "Semi Full  27.898293"
      ]
     },
     "execution_count": 131,
     "metadata": {},
     "output_type": "execute_result"
    },
    {
     "data": {
      "image/png": "[encoded data removed]",
      "text/plain": [
       "<Figure size 648x432 with 1 Axes>"
      ]
     },
     "metadata": {
      "needs_background": "light"
     },
     "output_type": "display_data"
    }
   ],
   "source": [
    "plt.figure(figsize=(9,6))\n",
    "sns.countplot(data=df_ori,x=\"Options\")\n",
    ";\n",
    "\n",
    "pd.DataFrame(df_ori[\"Options\"].value_counts().rename(\"Options\")/len(df_ori)*100)"
   ]
  },
  {
   "cell_type": "markdown",
   "metadata": {},
   "source": [
    "**Summary**\n",
    "\n",
    "- Terdapat tiga options pada mobil bekas yang dijual di Saudi Arabia yaitu Full, Semi Full, dan Standard.\n",
    "- Dari grafik dapat disimpulkan bahwa mobil bekas yang dijual kebanyakan memilki option yaitu Full, sebesar 39.7% dari total mobil bekas."
   ]
  },
  {
   "cell_type": "markdown",
   "metadata": {},
   "source": [
    "### 2.8 Year Column"
   ]
  },
  {
   "cell_type": "markdown",
   "metadata": {},
   "source": [
    "**EDA Original Data**"
   ]
  },
  {
   "cell_type": "code",
   "execution_count": 132,
   "metadata": {},
   "outputs": [
    {
     "data": {
      "image/png": "[encoded data removed]",
      "text/plain": [
       "<Figure size 1296x432 with 2 Axes>"
      ]
     },
     "metadata": {
      "needs_background": "light"
     },
     "output_type": "display_data"
    }
   ],
   "source": [
    "plt.figure(figsize=(18,6))\n",
    "plt.subplot(1,2,1)\n",
    "sns.distplot(df_ori[\"Year\"])\n",
    "plt.xticks(rotation=90)\n",
    "plt.subplot(1,2,2)\n",
    "sns.boxplot(data=df_ori,x=\"Year\");"
   ]
  },
  {
   "cell_type": "code",
   "execution_count": 133,
   "metadata": {},
   "outputs": [
    {
     "data": {
      "text/plain": [
       "NormaltestResult(statistic=404.9051034541338, pvalue=1.191170522955096e-88)"
      ]
     },
     "execution_count": 133,
     "metadata": {},
     "output_type": "execute_result"
    }
   ],
   "source": [
    "normaltest(df_ori[\"Engine_Size\"])"
   ]
  },
  {
   "cell_type": "code",
   "execution_count": 134,
   "metadata": {},
   "outputs": [
    {
     "data": {
      "text/plain": [
       "count    5624.000000\n",
       "mean     2014.101885\n",
       "std      5.791606   \n",
       "min      1963.000000\n",
       "25%      2012.000000\n",
       "50%      2016.000000\n",
       "75%      2018.000000\n",
       "max      2022.000000\n",
       "Name: Year, dtype: float64"
      ]
     },
     "execution_count": 134,
     "metadata": {},
     "output_type": "execute_result"
    }
   ],
   "source": [
    "df_ori[\"Year\"].describe()"
   ]
  },
  {
   "cell_type": "markdown",
   "metadata": {},
   "source": [
    "**Summary**\n",
    "\n",
    "- Dari grafik histogram dan boxplot diatas, dapat diketahui bahwa distribusi mobil bekas berdasarkan tahun berbentuk left skewed. Hal ini juga terbukti dari nilai p-value (hasil normality test) yang dibawah 0.05\n",
    "- Dari grafik ini juga dapat disimpulkan bahwa mobil bekas yang dijual kebanyakan (median) merupakan mobil dengan kisaran tahun pembuatan yaitu 2016.\n"
   ]
  },
  {
   "cell_type": "markdown",
   "metadata": {},
   "source": [
    "### 2.9 Engine_Size Column"
   ]
  },
  {
   "cell_type": "markdown",
   "metadata": {},
   "source": [
    "**EDA Original Data**"
   ]
  },
  {
   "cell_type": "code",
   "execution_count": 135,
   "metadata": {},
   "outputs": [
    {
     "data": {
      "image/png": "[encoded data removed]",
      "text/plain": [
       "<Figure size 1296x432 with 2 Axes>"
      ]
     },
     "metadata": {
      "needs_background": "light"
     },
     "output_type": "display_data"
    }
   ],
   "source": [
    "plt.figure(figsize=(18,6))\n",
    "plt.subplot(1,2,1)\n",
    "sns.distplot(df_ori[\"Engine_Size\"])\n",
    "plt.xticks(rotation=90)\n",
    "plt.subplot(1,2,2)\n",
    "sns.boxplot(data=df_ori,x=\"Engine_Size\");"
   ]
  },
  {
   "cell_type": "code",
   "execution_count": 136,
   "metadata": {},
   "outputs": [
    {
     "data": {
      "text/plain": [
       "NormaltestResult(statistic=2962.6395681348195, pvalue=0.0)"
      ]
     },
     "execution_count": 136,
     "metadata": {},
     "output_type": "execute_result"
    }
   ],
   "source": [
    "normaltest(df_ori[\"Year\"])"
   ]
  },
  {
   "cell_type": "code",
   "execution_count": 137,
   "metadata": {},
   "outputs": [
    {
     "data": {
      "text/plain": [
       "count    5624.000000\n",
       "mean     3.295430   \n",
       "std      1.515108   \n",
       "min      1.000000   \n",
       "25%      2.000000   \n",
       "50%      3.000000   \n",
       "75%      4.500000   \n",
       "max      9.000000   \n",
       "Name: Engine_Size, dtype: float64"
      ]
     },
     "execution_count": 137,
     "metadata": {},
     "output_type": "execute_result"
    }
   ],
   "source": [
    "df_ori[\"Engine_Size\"].describe()"
   ]
  },
  {
   "cell_type": "markdown",
   "metadata": {},
   "source": [
    "**Summary**\n",
    "\n",
    "- Dari grafik histogram dan boxplot diatas, dapat diketahui bahwa distribusi ukuran mesin mobil bekas berbentuk cenderung right skewed. Hal ini juga terbukti dari nilai p-value (hasil normality test) yang dibawah 0.05\n",
    "- Dari grafik ini juga dapat disimpulkan bahwa mobil bekas yang dijual kebanyakan (median) merupakan mobil dengan ukuran mesin yaitu 3."
   ]
  },
  {
   "cell_type": "markdown",
   "metadata": {},
   "source": [
    "### 2.10 Mileage Column"
   ]
  },
  {
   "cell_type": "markdown",
   "metadata": {},
   "source": [
    "**EDA Original Data**"
   ]
  },
  {
   "cell_type": "code",
   "execution_count": 138,
   "metadata": {},
   "outputs": [
    {
     "data": {
      "image/png": "[encoded data removed]",
      "text/plain": [
       "<Figure size 1296x432 with 2 Axes>"
      ]
     },
     "metadata": {
      "needs_background": "light"
     },
     "output_type": "display_data"
    }
   ],
   "source": [
    "plt.figure(figsize=(18,6))\n",
    "plt.subplot(1,2,1)\n",
    "sns.distplot(df_ori[\"Mileage\"])\n",
    "plt.xticks(rotation=90)\n",
    "plt.subplot(1,2,2)\n",
    "sns.boxplot(data=df_ori,x=\"Mileage\");"
   ]
  },
  {
   "cell_type": "code",
   "execution_count": 139,
   "metadata": {},
   "outputs": [
    {
     "data": {
      "text/plain": [
       "NormaltestResult(statistic=14798.94292519718, pvalue=0.0)"
      ]
     },
     "execution_count": 139,
     "metadata": {},
     "output_type": "execute_result"
    }
   ],
   "source": [
    "normaltest(df_ori[\"Mileage\"])"
   ]
  },
  {
   "cell_type": "code",
   "execution_count": 140,
   "metadata": {},
   "outputs": [
    {
     "data": {
      "text/plain": [
       "count    5.624000e+03\n",
       "mean     1.509234e+05\n",
       "std      3.828360e+05\n",
       "min      1.000000e+02\n",
       "25%      3.800000e+04\n",
       "50%      1.030000e+05\n",
       "75%      1.960000e+05\n",
       "max      2.000000e+07\n",
       "Name: Mileage, dtype: float64"
      ]
     },
     "execution_count": 140,
     "metadata": {},
     "output_type": "execute_result"
    }
   ],
   "source": [
    "df_ori[\"Mileage\"].describe()"
   ]
  },
  {
   "cell_type": "markdown",
   "metadata": {},
   "source": [
    "**Anomalie Treatment**"
   ]
  },
  {
   "cell_type": "code",
   "execution_count": 141,
   "metadata": {},
   "outputs": [
    {
     "data": {
      "image/png": "[encoded data removed]",
      "text/plain": [
       "<Figure size 1296x432 with 2 Axes>"
      ]
     },
     "metadata": {
      "needs_background": "light"
     },
     "output_type": "display_data"
    }
   ],
   "source": [
    "df=df[df[\"Mileage\"]<1000000]\n",
    "\n",
    "plt.figure(figsize=(18,6))\n",
    "plt.subplot(1,2,1)\n",
    "sns.distplot(df[\"Mileage\"])\n",
    "plt.xticks(rotation=90)\n",
    "plt.subplot(1,2,2)\n",
    "sns.boxplot(data=df,x=\"Mileage\");"
   ]
  },
  {
   "cell_type": "code",
   "execution_count": 142,
   "metadata": {},
   "outputs": [
    {
     "data": {
      "text/plain": [
       "NormaltestResult(statistic=1074.5314480887396, pvalue=4.6608028384929514e-234)"
      ]
     },
     "execution_count": 142,
     "metadata": {},
     "output_type": "execute_result"
    }
   ],
   "source": [
    "normaltest(df[\"Mileage\"])"
   ]
  },
  {
   "cell_type": "code",
   "execution_count": 143,
   "metadata": {},
   "outputs": [
    {
     "data": {
      "text/plain": [
       "count    3712.000000  \n",
       "mean     128827.119073\n",
       "std      111069.680198\n",
       "min      100.000000   \n",
       "25%      49000.000000 \n",
       "50%      103179.000000\n",
       "75%      183000.000000\n",
       "max      900000.000000\n",
       "Name: Mileage, dtype: float64"
      ]
     },
     "execution_count": 143,
     "metadata": {},
     "output_type": "execute_result"
    }
   ],
   "source": [
    "df[\"Mileage\"].describe()"
   ]
  },
  {
   "cell_type": "markdown",
   "metadata": {},
   "source": [
    "**Summary**\n",
    "\n",
    "- Sebelum dilakukan elminiasi outlier, dari grafik histogram dan boxplot diatas, dapat diketahui bahwa distribusi jarak yang sudah ditempuh mobil bekas berbentuk right skewed. Hal ini juga terbukti dari nilai p-value (hasil normality test) yang dibawah 0.05\n",
    "- Sebelum dilakukan elminiasi outlier, dari grafik ini juga dapat disimpulkan bahwa mobil bekas yang dijual kebanyakan (median) merupakan mobil yang sudah menempuh jarak sebesar 103000.\n",
    "- Apabila dilihat pada boxplot, terdapat satu yang data nilai mileage sangat tinggi dan mungkin nilainya bisa dianggap tidak masuk akal (apabila satuan milaege ini dalam km, maka jarak tempuh mobil 1000000 km - 20000000 km rasanya kurang tepat). Maka dari itu diputuskan untuk mendrop data tersebut."
   ]
  },
  {
   "cell_type": "markdown",
   "metadata": {},
   "source": [
    "### 2.11 Price Column (Target)"
   ]
  },
  {
   "cell_type": "markdown",
   "metadata": {},
   "source": [
    "**EDA Original Data**"
   ]
  },
  {
   "cell_type": "code",
   "execution_count": 144,
   "metadata": {},
   "outputs": [
    {
     "data": {
      "image/png": "[encoded data removed]",
      "text/plain": [
       "<Figure size 1296x432 with 2 Axes>"
      ]
     },
     "metadata": {
      "needs_background": "light"
     },
     "output_type": "display_data"
    }
   ],
   "source": [
    "plt.figure(figsize=(18,6))\n",
    "plt.subplot(1,2,1)\n",
    "sns.distplot(df_ori[\"Price\"])\n",
    "plt.xticks(rotation=90)\n",
    "plt.subplot(1,2,2)\n",
    "sns.boxplot(data=df_ori,x=\"Price\");"
   ]
  },
  {
   "cell_type": "code",
   "execution_count": 145,
   "metadata": {},
   "outputs": [
    {
     "data": {
      "text/plain": [
       "NormaltestResult(statistic=3799.9262918897903, pvalue=0.0)"
      ]
     },
     "execution_count": 145,
     "metadata": {},
     "output_type": "execute_result"
    }
   ],
   "source": [
    "normaltest(df_ori[\"Price\"])"
   ]
  },
  {
   "cell_type": "code",
   "execution_count": 146,
   "metadata": {},
   "outputs": [
    {
     "data": {
      "text/plain": [
       "count    5624.000000  \n",
       "mean     53074.058144 \n",
       "std      70155.340614 \n",
       "min      0.000000     \n",
       "25%      0.000000     \n",
       "50%      36500.000000 \n",
       "75%      72932.500000 \n",
       "max      850000.000000\n",
       "Name: Price, dtype: float64"
      ]
     },
     "execution_count": 146,
     "metadata": {},
     "output_type": "execute_result"
    }
   ],
   "source": [
    "df_ori[\"Price\"].describe()"
   ]
  },
  {
   "cell_type": "markdown",
   "metadata": {},
   "source": [
    "**Anomalie Treatment**"
   ]
  },
  {
   "cell_type": "code",
   "execution_count": 147,
   "metadata": {},
   "outputs": [
    {
     "data": {
      "image/png": "[encoded data removed]",
      "text/plain": [
       "<Figure size 1296x432 with 2 Axes>"
      ]
     },
     "metadata": {
      "needs_background": "light"
     },
     "output_type": "display_data"
    }
   ],
   "source": [
    "df=df[(df[\"Price\"]<500000)&(df[\"Price\"]>1000)]\n",
    "\n",
    "plt.figure(figsize=(18,6))\n",
    "plt.subplot(1,2,1)\n",
    "sns.distplot(df[\"Price\"])\n",
    "plt.xticks(rotation=90)\n",
    "plt.subplot(1,2,2)\n",
    "sns.boxplot(data=df,x=\"Price\");"
   ]
  },
  {
   "cell_type": "code",
   "execution_count": 148,
   "metadata": {},
   "outputs": [
    {
     "data": {
      "text/plain": [
       "NormaltestResult(statistic=1888.2465390970683, pvalue=0.0)"
      ]
     },
     "execution_count": 148,
     "metadata": {},
     "output_type": "execute_result"
    }
   ],
   "source": [
    "normaltest(df[\"Price\"])"
   ]
  },
  {
   "cell_type": "code",
   "execution_count": 149,
   "metadata": {},
   "outputs": [
    {
     "data": {
      "text/plain": [
       "count    3695.000000  \n",
       "mean     76856.956698 \n",
       "std      66280.439944 \n",
       "min      1002.000000  \n",
       "25%      35500.000000 \n",
       "50%      58000.000000 \n",
       "75%      93500.000000 \n",
       "max      498000.000000\n",
       "Name: Price, dtype: float64"
      ]
     },
     "execution_count": 149,
     "metadata": {},
     "output_type": "execute_result"
    }
   ],
   "source": [
    "df[\"Price\"].describe()"
   ]
  },
  {
   "cell_type": "markdown",
   "metadata": {},
   "source": [
    "**Summary**\n",
    "\n",
    "- Sebelum dilakukan elminiasi outlier, dari grafik histogram dan boxplot diatas, dapat diketahui bahwa distribusi harga mobil bekas berbentuk right skewed. Hal ini juga terbukti dari nilai p-value (hasil normality test) yang dibawah 0.05\n",
    "- sebelum dilakukan elminiasi outlier, dari grafik ini juga dapat disimpulkan bahwa mobil bekas yang dijual kebanyakan (median) merupakan mobil yang memiliki harga jual yaitu USD 36500.\n",
    "- Apabila dilihat pada boxplot, terdapat beberapa harga mobil yang nilai jualnya sangat rendah dan sangat tinggi. Sehingga, mungkin nilainya bisa dianggap tidak masuk akal (apabila satuan price dalam dalam USD, maka harga mobil yang dibawah USD 1000 dan diatas USD 500000 kurang tepat). Maka dari itu diputuskan untuk mendrop data tersebut."
   ]
  },
  {
   "cell_type": "markdown",
   "metadata": {},
   "source": [
    "## 3 Data Correlation"
   ]
  },
  {
   "cell_type": "markdown",
   "metadata": {},
   "source": [
    "**Correlation Between Numerical Feature and Target**"
   ]
  },
  {
   "cell_type": "code",
   "execution_count": 150,
   "metadata": {},
   "outputs": [
    {
     "data": {
      "image/png": "[encoded data removed]",
      "text/plain": [
       "<Figure size 1296x864 with 3 Axes>"
      ]
     },
     "metadata": {
      "needs_background": "light"
     },
     "output_type": "display_data"
    }
   ],
   "source": [
    "plt.figure(figsize=(18,12))\n",
    "plt.subplot(2,2,1)\n",
    "sns.scatterplot(data=df,y=\"Price\",x=\"Year\")\n",
    "plt.xticks(rotation=90)\n",
    "plt.subplot(2,2,2)\n",
    "sns.scatterplot(data=df,y=\"Price\",x=\"Engine_Size\")\n",
    "plt.subplot(2,2,3)\n",
    "sns.scatterplot(data=df,y=\"Price\",x=\"Mileage\");"
   ]
  },
  {
   "cell_type": "markdown",
   "metadata": {},
   "source": [
    "**Correlation Test Between Some Feature and Target**"
   ]
  },
  {
   "cell_type": "code",
   "execution_count": 151,
   "metadata": {},
   "outputs": [
    {
     "data": {
      "text/html": [
       "<div>\n",
       "<style scoped>\n",
       "    .dataframe tbody tr th:only-of-type {\n",
       "        vertical-align: middle;\n",
       "    }\n",
       "\n",
       "    .dataframe tbody tr th {\n",
       "        vertical-align: top;\n",
       "    }\n",
       "\n",
       "    .dataframe thead th {\n",
       "        text-align: right;\n",
       "    }\n",
       "</style>\n",
       "<table border=\"1\" class=\"dataframe\">\n",
       "  <thead>\n",
       "    <tr style=\"text-align: right;\">\n",
       "      <th></th>\n",
       "      <th>Year</th>\n",
       "      <th>Engine_Size</th>\n",
       "      <th>Mileage</th>\n",
       "      <th>Gear_Type_Manual</th>\n",
       "      <th>Origin_Other</th>\n",
       "      <th>Origin_Saudi</th>\n",
       "      <th>Options_Semi Full</th>\n",
       "      <th>Options_Standard</th>\n",
       "      <th>Price (Target)</th>\n",
       "    </tr>\n",
       "  </thead>\n",
       "  <tbody>\n",
       "    <tr>\n",
       "      <th>1</th>\n",
       "      <td>2014</td>\n",
       "      <td>8.0</td>\n",
       "      <td>80000</td>\n",
       "      <td>0</td>\n",
       "      <td>0</td>\n",
       "      <td>1</td>\n",
       "      <td>0</td>\n",
       "      <td>0</td>\n",
       "      <td>120000</td>\n",
       "    </tr>\n",
       "    <tr>\n",
       "      <th>2</th>\n",
       "      <td>2015</td>\n",
       "      <td>5.0</td>\n",
       "      <td>140000</td>\n",
       "      <td>0</td>\n",
       "      <td>0</td>\n",
       "      <td>0</td>\n",
       "      <td>0</td>\n",
       "      <td>0</td>\n",
       "      <td>260000</td>\n",
       "    </tr>\n",
       "    <tr>\n",
       "      <th>3</th>\n",
       "      <td>2015</td>\n",
       "      <td>2.4</td>\n",
       "      <td>220000</td>\n",
       "      <td>0</td>\n",
       "      <td>0</td>\n",
       "      <td>1</td>\n",
       "      <td>1</td>\n",
       "      <td>0</td>\n",
       "      <td>42000</td>\n",
       "    </tr>\n",
       "    <tr>\n",
       "      <th>5</th>\n",
       "      <td>2019</td>\n",
       "      <td>2.0</td>\n",
       "      <td>25000</td>\n",
       "      <td>0</td>\n",
       "      <td>0</td>\n",
       "      <td>1</td>\n",
       "      <td>1</td>\n",
       "      <td>0</td>\n",
       "      <td>58000</td>\n",
       "    </tr>\n",
       "    <tr>\n",
       "      <th>6</th>\n",
       "      <td>2012</td>\n",
       "      <td>4.8</td>\n",
       "      <td>189000</td>\n",
       "      <td>0</td>\n",
       "      <td>0</td>\n",
       "      <td>1</td>\n",
       "      <td>0</td>\n",
       "      <td>0</td>\n",
       "      <td>85000</td>\n",
       "    </tr>\n",
       "    <tr>\n",
       "      <th>...</th>\n",
       "      <td>...</td>\n",
       "      <td>...</td>\n",
       "      <td>...</td>\n",
       "      <td>...</td>\n",
       "      <td>...</td>\n",
       "      <td>...</td>\n",
       "      <td>...</td>\n",
       "      <td>...</td>\n",
       "      <td>...</td>\n",
       "    </tr>\n",
       "    <tr>\n",
       "      <th>5616</th>\n",
       "      <td>2020</td>\n",
       "      <td>2.0</td>\n",
       "      <td>9500</td>\n",
       "      <td>0</td>\n",
       "      <td>0</td>\n",
       "      <td>1</td>\n",
       "      <td>0</td>\n",
       "      <td>0</td>\n",
       "      <td>132000</td>\n",
       "    </tr>\n",
       "    <tr>\n",
       "      <th>5618</th>\n",
       "      <td>2006</td>\n",
       "      <td>5.3</td>\n",
       "      <td>86000</td>\n",
       "      <td>0</td>\n",
       "      <td>0</td>\n",
       "      <td>1</td>\n",
       "      <td>0</td>\n",
       "      <td>0</td>\n",
       "      <td>50000</td>\n",
       "    </tr>\n",
       "    <tr>\n",
       "      <th>5619</th>\n",
       "      <td>2018</td>\n",
       "      <td>2.5</td>\n",
       "      <td>78794</td>\n",
       "      <td>0</td>\n",
       "      <td>0</td>\n",
       "      <td>1</td>\n",
       "      <td>0</td>\n",
       "      <td>1</td>\n",
       "      <td>68000</td>\n",
       "    </tr>\n",
       "    <tr>\n",
       "      <th>5621</th>\n",
       "      <td>2016</td>\n",
       "      <td>5.3</td>\n",
       "      <td>48000</td>\n",
       "      <td>0</td>\n",
       "      <td>0</td>\n",
       "      <td>1</td>\n",
       "      <td>0</td>\n",
       "      <td>0</td>\n",
       "      <td>145000</td>\n",
       "    </tr>\n",
       "    <tr>\n",
       "      <th>5622</th>\n",
       "      <td>2016</td>\n",
       "      <td>2.5</td>\n",
       "      <td>81000</td>\n",
       "      <td>0</td>\n",
       "      <td>0</td>\n",
       "      <td>0</td>\n",
       "      <td>0</td>\n",
       "      <td>0</td>\n",
       "      <td>154000</td>\n",
       "    </tr>\n",
       "  </tbody>\n",
       "</table>\n",
       "<p>3695 rows × 9 columns</p>\n",
       "</div>"
      ],
      "text/plain": [
       "      Year  Engine_Size  Mileage  Gear_Type_Manual  Origin_Other  \\\n",
       "1     2014  8.0          80000    0                 0              \n",
       "2     2015  5.0          140000   0                 0              \n",
       "3     2015  2.4          220000   0                 0              \n",
       "5     2019  2.0          25000    0                 0              \n",
       "6     2012  4.8          189000   0                 0              \n",
       "...    ...  ...             ...  ..                ..              \n",
       "5616  2020  2.0          9500     0                 0              \n",
       "5618  2006  5.3          86000    0                 0              \n",
       "5619  2018  2.5          78794    0                 0              \n",
       "5621  2016  5.3          48000    0                 0              \n",
       "5622  2016  2.5          81000    0                 0              \n",
       "\n",
       "      Origin_Saudi  Options_Semi Full  Options_Standard  Price (Target)  \n",
       "1     1             0                  0                 120000          \n",
       "2     0             0                  0                 260000          \n",
       "3     1             1                  0                 42000           \n",
       "5     1             1                  0                 58000           \n",
       "6     1             0                  0                 85000           \n",
       "...  ..            ..                 ..                   ...           \n",
       "5616  1             0                  0                 132000          \n",
       "5618  1             0                  0                 50000           \n",
       "5619  1             0                  1                 68000           \n",
       "5621  1             0                  0                 145000          \n",
       "5622  0             0                  0                 154000          \n",
       "\n",
       "[3695 rows x 9 columns]"
      ]
     },
     "execution_count": 151,
     "metadata": {},
     "output_type": "execute_result"
    }
   ],
   "source": [
    "df_correlation=pd.get_dummies(data=df,columns=[\"Gear_Type\",\"Origin\",\"Options\"],drop_first=True).drop(columns=[\"Type\",\"Region\",\"Make\"])\n",
    "df_correlation[\"Price (Target)\"]=df_correlation[\"Price\"]\n",
    "df_correlation.drop(columns=\"Price\",inplace=True)\n",
    "df_correlation"
   ]
  },
  {
   "cell_type": "code",
   "execution_count": 152,
   "metadata": {},
   "outputs": [
    {
     "data": {
      "text/plain": [
       "''"
      ]
     },
     "execution_count": 152,
     "metadata": {},
     "output_type": "execute_result"
    },
    {
     "data": {
      "image/png": "[encoded data removed]",
      "text/plain": [
       "<Figure size 648x432 with 2 Axes>"
      ]
     },
     "metadata": {
      "needs_background": "light"
     },
     "output_type": "display_data"
    }
   ],
   "source": [
    "plt.figure(figsize=(9,6))\n",
    "mask = np.triu(np.ones_like(df_correlation.corr(\"spearman\")))\n",
    "\n",
    "sns.heatmap(df_correlation.corr(\"spearman\"), annot=True, mask=mask)\n",
    ";"
   ]
  },
  {
   "cell_type": "markdown",
   "metadata": {},
   "source": [
    "**Summary**\n",
    "- Dikarenakan ada beberapa fitur yang apabila diencode akan menghasilkan banyak kolom maka untuk penilain korelasi fitur terhadap target hanya akan berfokus pada korelasi feature numerikal dengan target dan beberapa featrue kategorikal dengan target.\n",
    "- Disini dapat dilihat bahwa feature \"Year\" memiliki korelasi positive yang moderate terhadap target. Artinya, disini apabila tahun pembuatan mobil naik maka harga cenderung naik. Harga mobil keluaran baru cenderung lebih mahal\n",
    "- Disini juga dapat dilihat bahwa feature \"Engine_Size\" memiliki korelasi positive yang moderate terhadap target. Artinya, disini apabila ukuran mesin mobil naik maka harga cenderung naik. Mobil yang memiliki ukuran mesin lebih besar kemampuan dorong lebih baik, maka harga lebih mahal \n",
    "- Disini juga dapat dilihat bahwa feature \"Mileage\" memiliki korelasi negative yang weak tapi hampir moderate terhadap target. Artinya, disini apabila ukuran jarak yang sudah ditempuh mobil bekas naik maka harga cenderung turun. Mobil bekas yang sudah menempuh jarak yang jauh maka, mesin/kemampuan mobil menurun, maka harga cenderung turun.    "
   ]
  },
  {
   "cell_type": "markdown",
   "metadata": {},
   "source": [
    "## 4 Modeling Preparation"
   ]
  },
  {
   "cell_type": "markdown",
   "metadata": {},
   "source": [
    "### 4.1 Preparation Feature and Target"
   ]
  },
  {
   "cell_type": "markdown",
   "metadata": {},
   "source": [
    "**Define Feature and Target**"
   ]
  },
  {
   "cell_type": "code",
   "execution_count": 153,
   "metadata": {},
   "outputs": [],
   "source": [
    "X=df.drop(columns=[\"Price\"])\n",
    "y=df[\"Price\"]"
   ]
  },
  {
   "cell_type": "markdown",
   "metadata": {},
   "source": [
    "**Splitting**"
   ]
  },
  {
   "cell_type": "code",
   "execution_count": 154,
   "metadata": {},
   "outputs": [],
   "source": [
    "X_train, X_test, y_train, y_test = train_test_split(X,y, random_state=42, test_size=0.2)"
   ]
  },
  {
   "cell_type": "markdown",
   "metadata": {},
   "source": [
    "### 4.2 Preprocessing\n",
    "\n",
    "Agar dapat menggunakan semua fitur yang dipilih, maka fitur-fitur kategorikal harus diubah menjadi fitur numerikal. Kita dapat menggunakan ColumnTransformer untuk dapat mengubah tipe datanya, yang mana nanti dapat diaplikasikan pada pipeline model.\n",
    "\n",
    "- One hot encoding: \"Gear_Type\", \"Origin\", \"Option\". Ketiga fitur ini diencode menggunakan one-hot encoding karena unique item pada kolom tersebut berjumlah sedikit (Dengan range 2-3 unique item)\n",
    "- Binary encoding: \"Type\", \"Region\", \"Make\". Kedua fitur ini diencode menggunakan binary encoding dengan alasan bahwa unique item pada kolom tersebut berjumlah cukup banyak (Dengan range 27-320 unique item). Sehingga encoding dilakukan menggunakan one hot encoding maka akan membentuk banyak kolom\n",
    "- Scaling: \"Standard\", \"Robust\", \"MinMax\". Ketiga scaling ini akan dicoba dan dilihat mana yang lebih meningkatkan performa model pada tahap hyperparameter tuning"
   ]
  },
  {
   "cell_type": "markdown",
   "metadata": {},
   "source": [
    "**Define Transformer**"
   ]
  },
  {
   "cell_type": "code",
   "execution_count": 155,
   "metadata": {},
   "outputs": [],
   "source": [
    "transformer = ColumnTransformer([\n",
    "    (\"onehot\", OneHotEncoder(drop='first'),[\"Gear_Type\",\"Origin\",\"Options\"]),\n",
    "    ('Binary', ce.BinaryEncoder(), [\"Type\",\"Region\",\"Make\"])\n",
    "],remainder='passthrough')"
   ]
  },
  {
   "cell_type": "markdown",
   "metadata": {},
   "source": [
    "**Define Scaler**"
   ]
  },
  {
   "cell_type": "code",
   "execution_count": 156,
   "metadata": {},
   "outputs": [],
   "source": [
    "scaler_robust=RobustScaler()\n",
    "scaler_minmax=MinMaxScaler()\n",
    "scaler_standard=StandardScaler()"
   ]
  },
  {
   "cell_type": "markdown",
   "metadata": {},
   "source": [
    "## 5 Choose Best Benchmark Model"
   ]
  },
  {
   "cell_type": "markdown",
   "metadata": {},
   "source": [
    "### 5.1 Define Model"
   ]
  },
  {
   "cell_type": "code",
   "execution_count": 157,
   "metadata": {},
   "outputs": [],
   "source": [
    "lr = LinearRegression()\n",
    "knn = KNeighborsRegressor()\n",
    "dt = DecisionTreeRegressor(random_state=42)\n",
    "rf = RandomForestRegressor(random_state=42)\n",
    "xgb = XGBRegressor(random_state=42)\n",
    "\n",
    "log_lr = TransformedTargetRegressor(lr, func=np.log, inverse_func=np.exp)\n",
    "log_knn = TransformedTargetRegressor(knn, func=np.log, inverse_func=np.exp)\n",
    "log_dt = TransformedTargetRegressor(dt, func=np.log, inverse_func=np.exp)\n",
    "log_rf = TransformedTargetRegressor(rf, func=np.log, inverse_func=np.exp)\n",
    "log_xgb = TransformedTargetRegressor(xgb, func=np.log, inverse_func=np.exp)"
   ]
  },
  {
   "cell_type": "markdown",
   "metadata": {},
   "source": [
    "**Summary**\n",
    "- Akan digunakan 5 model dasar yaitu linear regression, KNN, decision tree, random forest dan XGBoost\n",
    "- Penggunaan TransformedTargetRegressor atau log scale ini bertujuan untuk menanggulangi distribusi data target yang skewed (dalam kasus ini harga skewed ke kanan). Sehingga model akan lebih akurat"
   ]
  },
  {
   "cell_type": "markdown",
   "metadata": {},
   "source": [
    "### 5.2 Looping Process"
   ]
  },
  {
   "cell_type": "code",
   "execution_count": 158,
   "metadata": {},
   "outputs": [],
   "source": [
    "list_models=[log_lr,log_knn,log_dt,log_rf,log_xgb]\n",
    "list_models_name=[\"LinearRegression\",\"KNeighborsRegressor\",\"DecisionTreeRegressor\",\"RandomForestRegressor\",\"XGBRegressor\"]\n",
    "list_models_score=[\"neg_root_mean_squared_error\",\"neg_mean_absolute_error\",\"neg_mean_absolute_percentage_error\"]\n",
    "\n",
    "df_cv_score=pd.DataFrame()\n",
    "\n",
    "for i,j in zip(list_models,list_models_name):\n",
    "\n",
    "    crossval=KFold(n_splits=5, shuffle=True, random_state=42)\n",
    "\n",
    "    pipe_model=Pipeline([\n",
    "        (\"transformer\",transformer),\n",
    "        (\"scaler\",scaler_standard),\n",
    "        (\"model\",i)\n",
    "    ])\n",
    "\n",
    "    for k in list_models_score:\n",
    "\n",
    "        model_cv=cross_val_score(\n",
    "        estimator=pipe_model,\n",
    "        X=X_train,\n",
    "        y=y_train,\n",
    "        cv=crossval,\n",
    "        scoring=k,\n",
    "        error_score=\"raise\",\n",
    "        n_jobs=-1\n",
    "        )\n",
    "\n",
    "        if k == \"neg_root_mean_squared_error\":\n",
    "            df_cv_score.loc[j,\"RMSE mean\"]=model_cv.mean()\n",
    "            df_cv_score.loc[j,\"RMSE std\"]=model_cv.std()\n",
    "        elif k == \"neg_mean_absolute_error\":\n",
    "            df_cv_score.loc[j,\"MAE mean\"]=model_cv.mean()\n",
    "            df_cv_score.loc[j,\"MAE std\"]=model_cv.std()\n",
    "        elif k == \"neg_mean_absolute_percentage_error\":\n",
    "            df_cv_score.loc[j,\"MAPE mean\"]=model_cv.mean()\n",
    "            df_cv_score.loc[j,\"MAPE std\"]=model_cv.std()       "
   ]
  },
  {
   "cell_type": "code",
   "execution_count": 159,
   "metadata": {},
   "outputs": [
    {
     "data": {
      "text/html": [
       "<div>\n",
       "<style scoped>\n",
       "    .dataframe tbody tr th:only-of-type {\n",
       "        vertical-align: middle;\n",
       "    }\n",
       "\n",
       "    .dataframe tbody tr th {\n",
       "        vertical-align: top;\n",
       "    }\n",
       "\n",
       "    .dataframe thead th {\n",
       "        text-align: right;\n",
       "    }\n",
       "</style>\n",
       "<table border=\"1\" class=\"dataframe\">\n",
       "  <thead>\n",
       "    <tr style=\"text-align: right;\">\n",
       "      <th></th>\n",
       "      <th>RMSE mean</th>\n",
       "      <th>RMSE std</th>\n",
       "      <th>MAE mean</th>\n",
       "      <th>MAE std</th>\n",
       "      <th>MAPE mean</th>\n",
       "      <th>MAPE std</th>\n",
       "    </tr>\n",
       "  </thead>\n",
       "  <tbody>\n",
       "    <tr>\n",
       "      <th>LinearRegression</th>\n",
       "      <td>-45191.605630</td>\n",
       "      <td>4423.941657</td>\n",
       "      <td>-26264.979065</td>\n",
       "      <td>2321.257731</td>\n",
       "      <td>-0.890300</td>\n",
       "      <td>0.109396</td>\n",
       "    </tr>\n",
       "    <tr>\n",
       "      <th>KNeighborsRegressor</th>\n",
       "      <td>-42056.550766</td>\n",
       "      <td>2133.497097</td>\n",
       "      <td>-25413.699318</td>\n",
       "      <td>1229.960613</td>\n",
       "      <td>-0.937557</td>\n",
       "      <td>0.091906</td>\n",
       "    </tr>\n",
       "    <tr>\n",
       "      <th>DecisionTreeRegressor</th>\n",
       "      <td>-43350.238779</td>\n",
       "      <td>5078.112473</td>\n",
       "      <td>-23369.045117</td>\n",
       "      <td>2338.606124</td>\n",
       "      <td>-1.013761</td>\n",
       "      <td>0.145195</td>\n",
       "    </tr>\n",
       "    <tr>\n",
       "      <th>RandomForestRegressor</th>\n",
       "      <td>-33704.917777</td>\n",
       "      <td>3565.018717</td>\n",
       "      <td>-17887.356280</td>\n",
       "      <td>1389.196435</td>\n",
       "      <td>-0.773049</td>\n",
       "      <td>0.081932</td>\n",
       "    </tr>\n",
       "    <tr>\n",
       "      <th>XGBRegressor</th>\n",
       "      <td>-32491.289872</td>\n",
       "      <td>2841.473251</td>\n",
       "      <td>-18051.264254</td>\n",
       "      <td>1442.181023</td>\n",
       "      <td>-0.751756</td>\n",
       "      <td>0.113913</td>\n",
       "    </tr>\n",
       "  </tbody>\n",
       "</table>\n",
       "</div>"
      ],
      "text/plain": [
       "                          RMSE mean     RMSE std      MAE mean      MAE std  \\\n",
       "LinearRegression      -45191.605630  4423.941657 -26264.979065  2321.257731   \n",
       "KNeighborsRegressor   -42056.550766  2133.497097 -25413.699318  1229.960613   \n",
       "DecisionTreeRegressor -43350.238779  5078.112473 -23369.045117  2338.606124   \n",
       "RandomForestRegressor -33704.917777  3565.018717 -17887.356280  1389.196435   \n",
       "XGBRegressor          -32491.289872  2841.473251 -18051.264254  1442.181023   \n",
       "\n",
       "                       MAPE mean  MAPE std  \n",
       "LinearRegression      -0.890300   0.109396  \n",
       "KNeighborsRegressor   -0.937557   0.091906  \n",
       "DecisionTreeRegressor -1.013761   0.145195  \n",
       "RandomForestRegressor -0.773049   0.081932  \n",
       "XGBRegressor          -0.751756   0.113913  "
      ]
     },
     "execution_count": 159,
     "metadata": {},
     "output_type": "execute_result"
    }
   ],
   "source": [
    "df_cv_score"
   ]
  },
  {
   "cell_type": "markdown",
   "metadata": {},
   "source": [
    "**Summary**\n",
    "\n",
    "Nilai RMSE lebih tinggi hampir dua kalinya dibanding nilai MAE. Hal in dikarenakan nilai residuals pada RMSE dikuadratkan terlebih dahulu sebelum dirata-ratakan. RMSE akan memberikan \"penelize\" yang lebih tinggi untuk nilai error yang besar. Dengan kata lain, terdapat nilai-nilai error yang besar yang dihasilkan oleh semua algoritma yang digunakan, sehingga ada perbedaan signifikan antara nilai RMSE dan MAE.\n",
    "\n",
    "- Berdasarkan nilai rata-rata RMSE dan MAPE, XGBoost adalah model yang terbaik. Sedangkan berdasarkan MAE, RandomForest adalah model yang terbaik\n",
    "- Apabila dilihat dari stabilitas nilai RMSE, maka XGBoost juga merupakan model yang terbaik, Sedangkan berdasarkan stabilitas MAPE dan MAE, RandomForest adalah model yang terbaik\n",
    "- Namun jika dilihat nilai MAPE-nya, maka kelima model memiliki nilai MAPE yang besar yaitu 75% sampai 101%. Sehingga apabila model dilihat berdasarkan perspektif nilai MAPE, maka performa kelima model buruk.\n",
    "- Dikarenakan XGBoost dan RandomForest memiliki performa yang bagus maka diantara kedua model ini bisa dipilih. Namun, untuk saat ini, XGBoost dipilih karena memiliki nilai error secara keselurahan yang lebih baik dibanding kelima model, maka dari itu proses hypertuning dan prediksi pada test set akan dilakukan dengan benchmark model XGBoost. \n"
   ]
  },
  {
   "cell_type": "markdown",
   "metadata": {},
   "source": [
    "## 6 Hyperparameter Tuning and Predict to Test set (First Attempt)"
   ]
  },
  {
   "cell_type": "markdown",
   "metadata": {},
   "source": [
    "### 6.1 Hyperparameter Tuning"
   ]
  },
  {
   "cell_type": "markdown",
   "metadata": {},
   "source": [
    "**Hyperparameter Process**"
   ]
  },
  {
   "cell_type": "code",
   "execution_count": 160,
   "metadata": {},
   "outputs": [
    {
     "data": {
      "text/plain": [
       "GridSearchCV(cv=KFold(n_splits=5, random_state=42, shuffle=True),\n",
       "             estimator=Pipeline(steps=[('transformer',\n",
       "                                        ColumnTransformer(remainder='passthrough',\n",
       "                                                          transformers=[('onehot',\n",
       "                                                                         OneHotEncoder(drop='first'),\n",
       "                                                                         ['Gear_Type',\n",
       "                                                                          'Origin',\n",
       "                                                                          'Options']),\n",
       "                                                                        ('Binary',\n",
       "                                                                         BinaryEncoder(),\n",
       "                                                                         ['Type',\n",
       "                                                                          'Region',\n",
       "                                                                          'Make'])])),\n",
       "                                       ('scaler', StandardScaler()),\n",
       "                                       ('model',\n",
       "                                        TransformedTargetRegressor...\n",
       "                                                                                          reg_lambda=None, ...)))]),\n",
       "             n_jobs=-1,\n",
       "             param_grid={'model__regressor__learning_rate': [0.1, 0.2, 0.3, 0.4,\n",
       "                                                             0.5, 0.6, 0.7, 0.8,\n",
       "                                                             0.9],\n",
       "                         'model__regressor__max_depth': [2, 4, 6, 8, 10],\n",
       "                         'scaler': [StandardScaler(), MinMaxScaler(),\n",
       "                                    RobustScaler()]},\n",
       "             refit='neg_mean_absolute_error',\n",
       "             scoring=['neg_root_mean_squared_error', 'neg_mean_absolute_error',\n",
       "                      'neg_mean_absolute_percentage_error'])"
      ]
     },
     "execution_count": 160,
     "metadata": {},
     "output_type": "execute_result"
    }
   ],
   "source": [
    "hyperparam_space={\n",
    "    \"model__regressor__max_depth\":[2,4,6,8,10], \n",
    "    \"model__regressor__learning_rate\":list(np.arange(1, 10)/10),\n",
    "    \"scaler\":[scaler_standard,scaler_minmax,scaler_robust]\n",
    "}\n",
    "\n",
    "pipe_model=Pipeline([\n",
    "    (\"transformer\",transformer),\n",
    "    (\"scaler\",scaler_standard),\n",
    "    (\"model\",log_xgb)                  \n",
    "])\n",
    "\n",
    "gridsearch_xgb=GridSearchCV(\n",
    "    estimator=pipe_model,       \n",
    "    param_grid=hyperparam_space,           \n",
    "    cv=crossval,                                  \n",
    "    scoring=[\"neg_root_mean_squared_error\",\"neg_mean_absolute_error\",\"neg_mean_absolute_percentage_error\"],\n",
    "    refit=\"neg_mean_absolute_error\",    \n",
    "    n_jobs=-1                              \n",
    ")\n",
    "\n",
    "gridsearch_xgb.fit(X_train, y_train)"
   ]
  },
  {
   "cell_type": "markdown",
   "metadata": {},
   "source": [
    "**Hyperparameter Result**"
   ]
  },
  {
   "cell_type": "code",
   "execution_count": 161,
   "metadata": {},
   "outputs": [
    {
     "data": {
      "text/html": [
       "<div>\n",
       "<style scoped>\n",
       "    .dataframe tbody tr th:only-of-type {\n",
       "        vertical-align: middle;\n",
       "    }\n",
       "\n",
       "    .dataframe tbody tr th {\n",
       "        vertical-align: top;\n",
       "    }\n",
       "\n",
       "    .dataframe thead th {\n",
       "        text-align: right;\n",
       "    }\n",
       "</style>\n",
       "<table border=\"1\" class=\"dataframe\">\n",
       "  <thead>\n",
       "    <tr style=\"text-align: right;\">\n",
       "      <th></th>\n",
       "      <th>mean_fit_time</th>\n",
       "      <th>std_fit_time</th>\n",
       "      <th>mean_score_time</th>\n",
       "      <th>std_score_time</th>\n",
       "      <th>param_model__regressor__learning_rate</th>\n",
       "      <th>param_model__regressor__max_depth</th>\n",
       "      <th>param_scaler</th>\n",
       "      <th>params</th>\n",
       "      <th>split0_test_neg_root_mean_squared_error</th>\n",
       "      <th>split1_test_neg_root_mean_squared_error</th>\n",
       "      <th>split2_test_neg_root_mean_squared_error</th>\n",
       "      <th>split3_test_neg_root_mean_squared_error</th>\n",
       "      <th>split4_test_neg_root_mean_squared_error</th>\n",
       "      <th>mean_test_neg_root_mean_squared_error</th>\n",
       "      <th>std_test_neg_root_mean_squared_error</th>\n",
       "      <th>rank_test_neg_root_mean_squared_error</th>\n",
       "      <th>split0_test_neg_mean_absolute_error</th>\n",
       "      <th>split1_test_neg_mean_absolute_error</th>\n",
       "      <th>split2_test_neg_mean_absolute_error</th>\n",
       "      <th>split3_test_neg_mean_absolute_error</th>\n",
       "      <th>split4_test_neg_mean_absolute_error</th>\n",
       "      <th>mean_test_neg_mean_absolute_error</th>\n",
       "      <th>std_test_neg_mean_absolute_error</th>\n",
       "      <th>rank_test_neg_mean_absolute_error</th>\n",
       "      <th>split0_test_neg_mean_absolute_percentage_error</th>\n",
       "      <th>split1_test_neg_mean_absolute_percentage_error</th>\n",
       "      <th>split2_test_neg_mean_absolute_percentage_error</th>\n",
       "      <th>split3_test_neg_mean_absolute_percentage_error</th>\n",
       "      <th>split4_test_neg_mean_absolute_percentage_error</th>\n",
       "      <th>mean_test_neg_mean_absolute_percentage_error</th>\n",
       "      <th>std_test_neg_mean_absolute_percentage_error</th>\n",
       "      <th>rank_test_neg_mean_absolute_percentage_error</th>\n",
       "    </tr>\n",
       "  </thead>\n",
       "  <tbody>\n",
       "    <tr>\n",
       "      <th>0</th>\n",
       "      <td>0.939176</td>\n",
       "      <td>0.046596</td>\n",
       "      <td>0.027527</td>\n",
       "      <td>0.004910</td>\n",
       "      <td>0.1</td>\n",
       "      <td>8</td>\n",
       "      <td>StandardScaler()</td>\n",
       "      <td>{'model__regressor__learning_rate': 0.1, 'model__regressor__max_depth': 8, 'scaler': StandardScaler()}</td>\n",
       "      <td>-29335.779696</td>\n",
       "      <td>-31166.076019</td>\n",
       "      <td>-35302.557051</td>\n",
       "      <td>-30657.639940</td>\n",
       "      <td>-28182.596898</td>\n",
       "      <td>-30928.929920</td>\n",
       "      <td>2422.351069</td>\n",
       "      <td>1</td>\n",
       "      <td>-16436.351553</td>\n",
       "      <td>-17124.749314</td>\n",
       "      <td>-18287.752541</td>\n",
       "      <td>-17084.945611</td>\n",
       "      <td>-15355.437091</td>\n",
       "      <td>-16857.847222</td>\n",
       "      <td>959.409655</td>\n",
       "      <td>1</td>\n",
       "      <td>-0.709758</td>\n",
       "      <td>-0.603518</td>\n",
       "      <td>-0.709440</td>\n",
       "      <td>-0.940807</td>\n",
       "      <td>-0.777772</td>\n",
       "      <td>-0.748259</td>\n",
       "      <td>0.111252</td>\n",
       "      <td>16</td>\n",
       "    </tr>\n",
       "    <tr>\n",
       "      <th>1</th>\n",
       "      <td>0.923970</td>\n",
       "      <td>0.034151</td>\n",
       "      <td>0.027327</td>\n",
       "      <td>0.004618</td>\n",
       "      <td>0.1</td>\n",
       "      <td>8</td>\n",
       "      <td>MinMaxScaler()</td>\n",
       "      <td>{'model__regressor__learning_rate': 0.1, 'model__regressor__max_depth': 8, 'scaler': MinMaxScaler()}</td>\n",
       "      <td>-29424.738277</td>\n",
       "      <td>-31174.001900</td>\n",
       "      <td>-35286.415705</td>\n",
       "      <td>-30687.519882</td>\n",
       "      <td>-28194.851705</td>\n",
       "      <td>-30953.505494</td>\n",
       "      <td>2401.698476</td>\n",
       "      <td>3</td>\n",
       "      <td>-16456.418441</td>\n",
       "      <td>-17138.054554</td>\n",
       "      <td>-18275.577365</td>\n",
       "      <td>-17120.385733</td>\n",
       "      <td>-15384.789668</td>\n",
       "      <td>-16875.045152</td>\n",
       "      <td>947.308414</td>\n",
       "      <td>2</td>\n",
       "      <td>-0.709712</td>\n",
       "      <td>-0.603589</td>\n",
       "      <td>-0.709264</td>\n",
       "      <td>-0.941807</td>\n",
       "      <td>-0.778386</td>\n",
       "      <td>-0.748551</td>\n",
       "      <td>0.111628</td>\n",
       "      <td>18</td>\n",
       "    </tr>\n",
       "    <tr>\n",
       "      <th>2</th>\n",
       "      <td>1.033943</td>\n",
       "      <td>0.051710</td>\n",
       "      <td>0.029245</td>\n",
       "      <td>0.006394</td>\n",
       "      <td>0.1</td>\n",
       "      <td>8</td>\n",
       "      <td>RobustScaler()</td>\n",
       "      <td>{'model__regressor__learning_rate': 0.1, 'model__regressor__max_depth': 8, 'scaler': RobustScaler()}</td>\n",
       "      <td>-29289.184481</td>\n",
       "      <td>-31267.130425</td>\n",
       "      <td>-35323.017336</td>\n",
       "      <td>-30682.949592</td>\n",
       "      <td>-28178.388542</td>\n",
       "      <td>-30948.134075</td>\n",
       "      <td>2438.659021</td>\n",
       "      <td>2</td>\n",
       "      <td>-16416.151592</td>\n",
       "      <td>-17201.333401</td>\n",
       "      <td>-18304.021636</td>\n",
       "      <td>-17126.526072</td>\n",
       "      <td>-15342.747086</td>\n",
       "      <td>-16878.155957</td>\n",
       "      <td>976.744874</td>\n",
       "      <td>3</td>\n",
       "      <td>-0.709616</td>\n",
       "      <td>-0.603798</td>\n",
       "      <td>-0.709636</td>\n",
       "      <td>-0.941869</td>\n",
       "      <td>-0.777373</td>\n",
       "      <td>-0.748458</td>\n",
       "      <td>0.111522</td>\n",
       "      <td>17</td>\n",
       "    </tr>\n",
       "    <tr>\n",
       "      <th>3</th>\n",
       "      <td>1.213456</td>\n",
       "      <td>0.032835</td>\n",
       "      <td>0.031116</td>\n",
       "      <td>0.005254</td>\n",
       "      <td>0.1</td>\n",
       "      <td>10</td>\n",
       "      <td>MinMaxScaler()</td>\n",
       "      <td>{'model__regressor__learning_rate': 0.1, 'model__regressor__max_depth': 10, 'scaler': MinMaxScaler()}</td>\n",
       "      <td>-29758.272392</td>\n",
       "      <td>-32541.893620</td>\n",
       "      <td>-36010.177252</td>\n",
       "      <td>-29833.263498</td>\n",
       "      <td>-29633.845806</td>\n",
       "      <td>-31555.490514</td>\n",
       "      <td>2478.144559</td>\n",
       "      <td>7</td>\n",
       "      <td>-16414.453497</td>\n",
       "      <td>-17580.471548</td>\n",
       "      <td>-18665.118711</td>\n",
       "      <td>-16760.465190</td>\n",
       "      <td>-15493.860843</td>\n",
       "      <td>-16982.873958</td>\n",
       "      <td>1074.876535</td>\n",
       "      <td>4</td>\n",
       "      <td>-0.761784</td>\n",
       "      <td>-0.562312</td>\n",
       "      <td>-0.733597</td>\n",
       "      <td>-0.846584</td>\n",
       "      <td>-0.702243</td>\n",
       "      <td>-0.721304</td>\n",
       "      <td>0.092873</td>\n",
       "      <td>7</td>\n",
       "    </tr>\n",
       "    <tr>\n",
       "      <th>4</th>\n",
       "      <td>1.272911</td>\n",
       "      <td>0.032126</td>\n",
       "      <td>0.025674</td>\n",
       "      <td>0.003469</td>\n",
       "      <td>0.1</td>\n",
       "      <td>10</td>\n",
       "      <td>StandardScaler()</td>\n",
       "      <td>{'model__regressor__learning_rate': 0.1, 'model__regressor__max_depth': 10, 'scaler': StandardScaler()}</td>\n",
       "      <td>-29763.147073</td>\n",
       "      <td>-32542.757301</td>\n",
       "      <td>-36042.858876</td>\n",
       "      <td>-29844.422463</td>\n",
       "      <td>-29636.538859</td>\n",
       "      <td>-31565.944914</td>\n",
       "      <td>2487.297666</td>\n",
       "      <td>8</td>\n",
       "      <td>-16418.572438</td>\n",
       "      <td>-17603.513717</td>\n",
       "      <td>-18707.710508</td>\n",
       "      <td>-16766.973726</td>\n",
       "      <td>-15482.255541</td>\n",
       "      <td>-16995.805186</td>\n",
       "      <td>1093.281620</td>\n",
       "      <td>5</td>\n",
       "      <td>-0.761474</td>\n",
       "      <td>-0.563100</td>\n",
       "      <td>-0.733891</td>\n",
       "      <td>-0.846571</td>\n",
       "      <td>-0.701716</td>\n",
       "      <td>-0.721351</td>\n",
       "      <td>0.092603</td>\n",
       "      <td>9</td>\n",
       "    </tr>\n",
       "  </tbody>\n",
       "</table>\n",
       "</div>"
      ],
      "text/plain": [
       "   mean_fit_time  std_fit_time  mean_score_time  std_score_time  \\\n",
       "0  0.939176       0.046596      0.027527         0.004910         \n",
       "1  0.923970       0.034151      0.027327         0.004618         \n",
       "2  1.033943       0.051710      0.029245         0.006394         \n",
       "3  1.213456       0.032835      0.031116         0.005254         \n",
       "4  1.272911       0.032126      0.025674         0.003469         \n",
       "\n",
       "  param_model__regressor__learning_rate param_model__regressor__max_depth  \\\n",
       "0  0.1                                   8                                  \n",
       "1  0.1                                   8                                  \n",
       "2  0.1                                   8                                  \n",
       "3  0.1                                   10                                 \n",
       "4  0.1                                   10                                 \n",
       "\n",
       "       param_scaler  \\\n",
       "0  StandardScaler()   \n",
       "1  MinMaxScaler()     \n",
       "2  RobustScaler()     \n",
       "3  MinMaxScaler()     \n",
       "4  StandardScaler()   \n",
       "\n",
       "                                                                                                    params  \\\n",
       "0  {'model__regressor__learning_rate': 0.1, 'model__regressor__max_depth': 8, 'scaler': StandardScaler()}    \n",
       "1  {'model__regressor__learning_rate': 0.1, 'model__regressor__max_depth': 8, 'scaler': MinMaxScaler()}      \n",
       "2  {'model__regressor__learning_rate': 0.1, 'model__regressor__max_depth': 8, 'scaler': RobustScaler()}      \n",
       "3  {'model__regressor__learning_rate': 0.1, 'model__regressor__max_depth': 10, 'scaler': MinMaxScaler()}     \n",
       "4  {'model__regressor__learning_rate': 0.1, 'model__regressor__max_depth': 10, 'scaler': StandardScaler()}   \n",
       "\n",
       "   split0_test_neg_root_mean_squared_error  \\\n",
       "0 -29335.779696                              \n",
       "1 -29424.738277                              \n",
       "2 -29289.184481                              \n",
       "3 -29758.272392                              \n",
       "4 -29763.147073                              \n",
       "\n",
       "   split1_test_neg_root_mean_squared_error  \\\n",
       "0 -31166.076019                              \n",
       "1 -31174.001900                              \n",
       "2 -31267.130425                              \n",
       "3 -32541.893620                              \n",
       "4 -32542.757301                              \n",
       "\n",
       "   split2_test_neg_root_mean_squared_error  \\\n",
       "0 -35302.557051                              \n",
       "1 -35286.415705                              \n",
       "2 -35323.017336                              \n",
       "3 -36010.177252                              \n",
       "4 -36042.858876                              \n",
       "\n",
       "   split3_test_neg_root_mean_squared_error  \\\n",
       "0 -30657.639940                              \n",
       "1 -30687.519882                              \n",
       "2 -30682.949592                              \n",
       "3 -29833.263498                              \n",
       "4 -29844.422463                              \n",
       "\n",
       "   split4_test_neg_root_mean_squared_error  \\\n",
       "0 -28182.596898                              \n",
       "1 -28194.851705                              \n",
       "2 -28178.388542                              \n",
       "3 -29633.845806                              \n",
       "4 -29636.538859                              \n",
       "\n",
       "   mean_test_neg_root_mean_squared_error  \\\n",
       "0 -30928.929920                            \n",
       "1 -30953.505494                            \n",
       "2 -30948.134075                            \n",
       "3 -31555.490514                            \n",
       "4 -31565.944914                            \n",
       "\n",
       "   std_test_neg_root_mean_squared_error  \\\n",
       "0  2422.351069                            \n",
       "1  2401.698476                            \n",
       "2  2438.659021                            \n",
       "3  2478.144559                            \n",
       "4  2487.297666                            \n",
       "\n",
       "   rank_test_neg_root_mean_squared_error  split0_test_neg_mean_absolute_error  \\\n",
       "0  1                                     -16436.351553                          \n",
       "1  3                                     -16456.418441                          \n",
       "2  2                                     -16416.151592                          \n",
       "3  7                                     -16414.453497                          \n",
       "4  8                                     -16418.572438                          \n",
       "\n",
       "   split1_test_neg_mean_absolute_error  split2_test_neg_mean_absolute_error  \\\n",
       "0 -17124.749314                        -18287.752541                          \n",
       "1 -17138.054554                        -18275.577365                          \n",
       "2 -17201.333401                        -18304.021636                          \n",
       "3 -17580.471548                        -18665.118711                          \n",
       "4 -17603.513717                        -18707.710508                          \n",
       "\n",
       "   split3_test_neg_mean_absolute_error  split4_test_neg_mean_absolute_error  \\\n",
       "0 -17084.945611                        -15355.437091                          \n",
       "1 -17120.385733                        -15384.789668                          \n",
       "2 -17126.526072                        -15342.747086                          \n",
       "3 -16760.465190                        -15493.860843                          \n",
       "4 -16766.973726                        -15482.255541                          \n",
       "\n",
       "   mean_test_neg_mean_absolute_error  std_test_neg_mean_absolute_error  \\\n",
       "0 -16857.847222                       959.409655                         \n",
       "1 -16875.045152                       947.308414                         \n",
       "2 -16878.155957                       976.744874                         \n",
       "3 -16982.873958                       1074.876535                        \n",
       "4 -16995.805186                       1093.281620                        \n",
       "\n",
       "   rank_test_neg_mean_absolute_error  \\\n",
       "0  1                                   \n",
       "1  2                                   \n",
       "2  3                                   \n",
       "3  4                                   \n",
       "4  5                                   \n",
       "\n",
       "   split0_test_neg_mean_absolute_percentage_error  \\\n",
       "0 -0.709758                                         \n",
       "1 -0.709712                                         \n",
       "2 -0.709616                                         \n",
       "3 -0.761784                                         \n",
       "4 -0.761474                                         \n",
       "\n",
       "   split1_test_neg_mean_absolute_percentage_error  \\\n",
       "0 -0.603518                                         \n",
       "1 -0.603589                                         \n",
       "2 -0.603798                                         \n",
       "3 -0.562312                                         \n",
       "4 -0.563100                                         \n",
       "\n",
       "   split2_test_neg_mean_absolute_percentage_error  \\\n",
       "0 -0.709440                                         \n",
       "1 -0.709264                                         \n",
       "2 -0.709636                                         \n",
       "3 -0.733597                                         \n",
       "4 -0.733891                                         \n",
       "\n",
       "   split3_test_neg_mean_absolute_percentage_error  \\\n",
       "0 -0.940807                                         \n",
       "1 -0.941807                                         \n",
       "2 -0.941869                                         \n",
       "3 -0.846584                                         \n",
       "4 -0.846571                                         \n",
       "\n",
       "   split4_test_neg_mean_absolute_percentage_error  \\\n",
       "0 -0.777772                                         \n",
       "1 -0.778386                                         \n",
       "2 -0.777373                                         \n",
       "3 -0.702243                                         \n",
       "4 -0.701716                                         \n",
       "\n",
       "   mean_test_neg_mean_absolute_percentage_error  \\\n",
       "0 -0.748259                                       \n",
       "1 -0.748551                                       \n",
       "2 -0.748458                                       \n",
       "3 -0.721304                                       \n",
       "4 -0.721351                                       \n",
       "\n",
       "   std_test_neg_mean_absolute_percentage_error  \\\n",
       "0  0.111252                                      \n",
       "1  0.111628                                      \n",
       "2  0.111522                                      \n",
       "3  0.092873                                      \n",
       "4  0.092603                                      \n",
       "\n",
       "   rank_test_neg_mean_absolute_percentage_error  \n",
       "0  16                                            \n",
       "1  18                                            \n",
       "2  17                                            \n",
       "3  7                                             \n",
       "4  9                                             "
      ]
     },
     "execution_count": 161,
     "metadata": {},
     "output_type": "execute_result"
    }
   ],
   "source": [
    "# Melihat hasil tuning dalam bentuk dataframe. Diurutkan berdasarkan RMSE, MAE & MAPE\n",
    "df_xgb_score=pd.DataFrame(gridsearch_xgb.cv_results_).sort_values(by=[\"rank_test_neg_mean_absolute_error\",\"rank_test_neg_root_mean_squared_error\",\"rank_test_neg_mean_absolute_percentage_error\"]).reset_index(drop=True)\n",
    "df_xgb_score.head()"
   ]
  },
  {
   "cell_type": "code",
   "execution_count": 162,
   "metadata": {},
   "outputs": [
    {
     "name": "stdout",
     "output_type": "stream",
     "text": [
      "XGBoost Hypertuning\n",
      "Best_score: -16857.84722200525\n",
      "Best_params: {'model__regressor__learning_rate': 0.1, 'model__regressor__max_depth': 8, 'scaler': StandardScaler()}\n"
     ]
    }
   ],
   "source": [
    "print(\"XGBoost Hypertuning\")\n",
    "print(\"Best_score:\",gridsearch_xgb.best_score_)\n",
    "print(\"Best_params:\",gridsearch_xgb.best_params_)"
   ]
  },
  {
   "cell_type": "markdown",
   "metadata": {},
   "source": [
    "### 6.2 Model Implementation to Test Set"
   ]
  },
  {
   "cell_type": "markdown",
   "metadata": {},
   "source": [
    "**Comparison Between Before Tuning and After Tuning**"
   ]
  },
  {
   "cell_type": "code",
   "execution_count": 163,
   "metadata": {},
   "outputs": [],
   "source": [
    "score_rmse=[]\n",
    "score_mae=[]\n",
    "score_mape=[]"
   ]
  },
  {
   "cell_type": "code",
   "execution_count": 164,
   "metadata": {},
   "outputs": [],
   "source": [
    "model_before_tuning=Pipeline([\n",
    "    (\"transformer\",transformer),\n",
    "    (\"scaler\",scaler_standard),\n",
    "    (\"model\",log_xgb)\n",
    "])\n",
    "\n",
    "model_before_tuning.fit(X_train, y_train)\n",
    "y_pred_xgb=model_before_tuning.predict(X_test)\n",
    "\n",
    "score_rmse.append(np.sqrt(mean_squared_error(y_test,y_pred_xgb)))\n",
    "score_mae.append(mean_absolute_error(y_test,y_pred_xgb))\n",
    "score_mape.append(mean_absolute_percentage_error(y_test,y_pred_xgb))"
   ]
  },
  {
   "cell_type": "code",
   "execution_count": 165,
   "metadata": {},
   "outputs": [],
   "source": [
    "xgb_tuning=gridsearch_xgb.best_estimator_.fit(X_train,y_train)\n",
    "y_pred_xgb_tuning=xgb_tuning.predict(X_test)\n",
    "\n",
    "score_rmse.append(np.sqrt(mean_squared_error(y_test,y_pred_xgb_tuning)))\n",
    "score_mae.append(mean_absolute_error(y_test,y_pred_xgb_tuning))\n",
    "score_mape.append(mean_absolute_percentage_error(y_test,y_pred_xgb_tuning))"
   ]
  },
  {
   "cell_type": "code",
   "execution_count": 166,
   "metadata": {},
   "outputs": [
    {
     "data": {
      "text/html": [
       "<div>\n",
       "<style scoped>\n",
       "    .dataframe tbody tr th:only-of-type {\n",
       "        vertical-align: middle;\n",
       "    }\n",
       "\n",
       "    .dataframe tbody tr th {\n",
       "        vertical-align: top;\n",
       "    }\n",
       "\n",
       "    .dataframe thead th {\n",
       "        text-align: right;\n",
       "    }\n",
       "</style>\n",
       "<table border=\"1\" class=\"dataframe\">\n",
       "  <thead>\n",
       "    <tr style=\"text-align: right;\">\n",
       "      <th></th>\n",
       "      <th>RMSE</th>\n",
       "      <th>MAE</th>\n",
       "      <th>MAPE</th>\n",
       "    </tr>\n",
       "  </thead>\n",
       "  <tbody>\n",
       "    <tr>\n",
       "      <th>XGB Before Tuning</th>\n",
       "      <td>33402.652815</td>\n",
       "      <td>18627.143174</td>\n",
       "      <td>0.630601</td>\n",
       "    </tr>\n",
       "    <tr>\n",
       "      <th>XGB After Tuning</th>\n",
       "      <td>31513.770977</td>\n",
       "      <td>17105.001343</td>\n",
       "      <td>0.583004</td>\n",
       "    </tr>\n",
       "  </tbody>\n",
       "</table>\n",
       "</div>"
      ],
      "text/plain": [
       "                           RMSE           MAE      MAPE\n",
       "XGB Before Tuning  33402.652815  18627.143174  0.630601\n",
       "XGB After Tuning   31513.770977  17105.001343  0.583004"
      ]
     },
     "execution_count": 166,
     "metadata": {},
     "output_type": "execute_result"
    }
   ],
   "source": [
    "df_comp_tuning=pd.DataFrame({\"RMSE\":score_rmse,\"MAE\":score_mae,\"MAPE\":score_mape},index=[\"XGB Before Tuning\",\"XGB After Tuning\"])\n",
    "df_comp_tuning"
   ]
  },
  {
   "cell_type": "markdown",
   "metadata": {},
   "source": [
    "**Comparison Between XGB model with best hyperparameter Predicted on Test Set and Train Set**"
   ]
  },
  {
   "cell_type": "code",
   "execution_count": 167,
   "metadata": {},
   "outputs": [],
   "source": [
    "score_rmse=[]\n",
    "score_mae=[]\n",
    "score_mape=[]"
   ]
  },
  {
   "cell_type": "code",
   "execution_count": 168,
   "metadata": {},
   "outputs": [],
   "source": [
    "# Train\n",
    "score_rmse.append(df_xgb_score[\"mean_test_neg_root_mean_squared_error\"][0]*-1)\n",
    "score_mae.append(df_xgb_score[\"mean_test_neg_mean_absolute_error\"][0]*-1)\n",
    "score_mape.append(df_xgb_score[\"mean_test_neg_mean_absolute_percentage_error\"][0]*-1)"
   ]
  },
  {
   "cell_type": "code",
   "execution_count": 169,
   "metadata": {},
   "outputs": [],
   "source": [
    "# Test\n",
    "xgb_tuning=gridsearch_xgb.best_estimator_.fit(X_train,y_train)\n",
    "y_pred_xgb_tuning=xgb_tuning.predict(X_test)\n",
    "\n",
    "score_rmse.append(np.sqrt(mean_squared_error(y_test,y_pred_xgb_tuning)))\n",
    "score_mae.append(mean_absolute_error(y_test,y_pred_xgb_tuning))\n",
    "score_mape.append(mean_absolute_percentage_error(y_test,y_pred_xgb_tuning))"
   ]
  },
  {
   "cell_type": "code",
   "execution_count": 170,
   "metadata": {},
   "outputs": [
    {
     "data": {
      "text/html": [
       "<div>\n",
       "<style scoped>\n",
       "    .dataframe tbody tr th:only-of-type {\n",
       "        vertical-align: middle;\n",
       "    }\n",
       "\n",
       "    .dataframe tbody tr th {\n",
       "        vertical-align: top;\n",
       "    }\n",
       "\n",
       "    .dataframe thead th {\n",
       "        text-align: right;\n",
       "    }\n",
       "</style>\n",
       "<table border=\"1\" class=\"dataframe\">\n",
       "  <thead>\n",
       "    <tr style=\"text-align: right;\">\n",
       "      <th></th>\n",
       "      <th>RMSE</th>\n",
       "      <th>MAE</th>\n",
       "      <th>MAPE</th>\n",
       "    </tr>\n",
       "  </thead>\n",
       "  <tbody>\n",
       "    <tr>\n",
       "      <th>XGB Train Score</th>\n",
       "      <td>30928.929920</td>\n",
       "      <td>16857.847222</td>\n",
       "      <td>0.748259</td>\n",
       "    </tr>\n",
       "    <tr>\n",
       "      <th>XGB Test Score</th>\n",
       "      <td>31513.770977</td>\n",
       "      <td>17105.001343</td>\n",
       "      <td>0.583004</td>\n",
       "    </tr>\n",
       "  </tbody>\n",
       "</table>\n",
       "</div>"
      ],
      "text/plain": [
       "                         RMSE           MAE      MAPE\n",
       "XGB Train Score  30928.929920  16857.847222  0.748259\n",
       "XGB Test Score   31513.770977  17105.001343  0.583004"
      ]
     },
     "execution_count": 170,
     "metadata": {},
     "output_type": "execute_result"
    }
   ],
   "source": [
    "df_comp_traintest=pd.DataFrame({\"RMSE\":score_rmse,\"MAE\":score_mae,\"MAPE\":score_mape},index=[\"XGB Train Score\",\"XGB Test Score\"])\n",
    "df_comp_traintest"
   ]
  },
  {
   "cell_type": "markdown",
   "metadata": {},
   "source": [
    "**Comparison Between Predicted and Actual Price Predict on Test Set**"
   ]
  },
  {
   "cell_type": "code",
   "execution_count": 171,
   "metadata": {},
   "outputs": [
    {
     "data": {
      "application/vnd.plotly.v1+json": {
       "config": {
        "plotlyServerURL": "https://plot.ly"
       },
       "data": [
        {
         "hovertemplate": "Actual Price=%{x}<br>Predicted Price=%{y}<extra></extra>",
         "legendgroup": "",
         "marker": {
          "color": "#636efa",
          "symbol": "circle"
         },
         "mode": "markers",
         "name": "",
         "orientation": "v",
         "showlegend": false,
         "type": "scatter",
         "x": [
          13500,
          1046,
          78000,
          78000,
          48000,
          40500,
          27500,
          12000,
          137000,
          45000,
          38000,
          39000,
          38000,
          459000,
          42000,
          151000,
          165000,
          134000,
          81000,
          80000,
          103000,
          110000,
          38000,
          435000,
          45000,
          48000,
          225000,
          240000,
          53000,
          11000,
          29000,
          99000,
          85000,
          68000,
          152000,
          265000,
          43000,
          25000,
          32000,
          70000,
          77000,
          176000,
          76500,
          34000,
          109000,
          20000,
          1310,
          28500,
          250000,
          23900,
          400000,
          29000,
          30000,
          75000,
          33000,
          99500,
          76000,
          11000,
          125000,
          60000,
          29000,
          62000,
          21000,
          42000,
          251500,
          1700,
          34500,
          55000,
          75000,
          28000,
          55000,
          56000,
          35000,
          57000,
          135000,
          4000,
          40000,
          24000,
          46000,
          36500,
          11000,
          35000,
          55000,
          28000,
          26500,
          32000,
          57500,
          26500,
          35000,
          37000,
          25000,
          56500,
          57000,
          30000,
          178000,
          36500,
          50000,
          100000,
          80000,
          27500,
          45000,
          37000,
          17000,
          57000,
          69000,
          75000,
          29000,
          55000,
          120000,
          137000,
          35000,
          233000,
          44000,
          76000,
          12000,
          45000,
          38000,
          26000,
          106500,
          22000,
          16000,
          45000,
          69000,
          2690,
          135000,
          55000,
          36500,
          24000,
          53500,
          355000,
          45000,
          65000,
          122000,
          29000,
          24000,
          30000,
          70000,
          105000,
          62000,
          53000,
          58500,
          90000,
          60000,
          115000,
          57000,
          120000,
          113500,
          138000,
          10000,
          127000,
          68000,
          35000,
          25000,
          30000,
          225000,
          98000,
          53000,
          290000,
          48000,
          120000,
          52000,
          44000,
          210000,
          139000,
          69000,
          60000,
          45000,
          30000,
          65000,
          182000,
          77000,
          65000,
          45000,
          86900,
          65000,
          82000,
          28000,
          66000,
          135000,
          75000,
          90500,
          55000,
          43000,
          29000,
          76500,
          27000,
          61500,
          108000,
          66000,
          70000,
          29000,
          57000,
          65000,
          83000,
          117000,
          122000,
          87500,
          46000,
          66000,
          35000,
          61000,
          220000,
          108000,
          58000,
          79000,
          60000,
          41500,
          42000,
          162500,
          230000,
          76500,
          105000,
          57500,
          62000,
          34000,
          62000,
          42500,
          135000,
          36000,
          170000,
          84500,
          113000,
          180000,
          224500,
          36000,
          28000,
          55000,
          75000,
          46000,
          55000,
          180000,
          106000,
          100000,
          29000,
          59000,
          50000,
          95000,
          148500,
          41500,
          66500,
          90000,
          150000,
          24000,
          105000,
          24000,
          95000,
          135000,
          26500,
          50000,
          32000,
          41500,
          35000,
          80000,
          23000,
          55000,
          63000,
          43000,
          56500,
          235000,
          175000,
          365000,
          45000,
          45000,
          360000,
          20000,
          26000,
          48000,
          31000,
          49000,
          72000,
          149000,
          13000,
          42500,
          41500,
          107000,
          1414,
          10000,
          49000,
          49000,
          30000,
          1576,
          60000,
          16000,
          32000,
          62500,
          75000,
          55000,
          25000,
          51000,
          55000,
          110000,
          28500,
          10000,
          47500,
          50000,
          68000,
          150000,
          106500,
          125000,
          14000,
          63000,
          109500,
          230000,
          32000,
          56500,
          15000,
          88000,
          94000,
          260000,
          120000,
          52000,
          38000,
          45000,
          14000,
          55000,
          27000,
          25000,
          245000,
          129000,
          60000,
          55000,
          55000,
          40000,
          135000,
          75000,
          1010,
          76500,
          109000,
          80000,
          9000,
          74500,
          47000,
          47000,
          42000,
          60000,
          77500,
          140000,
          25000,
          295000,
          119000,
          138000,
          55000,
          78500,
          72000,
          30000,
          60000,
          130000,
          70000,
          54000,
          99000,
          32000,
          132000,
          60000,
          51000,
          31000,
          200000,
          50000,
          150000,
          76000,
          84500,
          126000,
          36000,
          67000,
          24000,
          72500,
          72000,
          53000,
          65000,
          77000,
          118000,
          175000,
          40000,
          58500,
          89000,
          75000,
          50000,
          48000,
          16000,
          120000,
          32000,
          89000,
          155000,
          1002,
          106000,
          116500,
          24000,
          60000,
          51500,
          57500,
          30000,
          62000,
          30000,
          61000,
          58000,
          125000,
          88000,
          45000,
          26000,
          53000,
          54000,
          43000,
          153000,
          14000,
          55000,
          110000,
          72000,
          82000,
          48000,
          195000,
          120000,
          85000,
          150000,
          126000,
          118000,
          93500,
          180000,
          51000,
          25000,
          30000,
          60000,
          50000,
          45000,
          40000,
          176000,
          46000,
          47000,
          81500,
          93500,
          29500,
          30000,
          89000,
          22000,
          20000,
          75000,
          135000,
          130000,
          410000,
          40000,
          35000,
          15000,
          50000,
          45000,
          37000,
          61500,
          11000,
          52000,
          85000,
          71500,
          335000,
          50000,
          30000,
          38000,
          40000,
          70000,
          69500,
          60000,
          81000,
          15000,
          62000,
          141000,
          100000,
          102000,
          80500,
          75000,
          1221,
          56000,
          22500,
          50000,
          18000,
          115000,
          54000,
          48000,
          1368,
          93500,
          66500,
          67000,
          36000,
          79000,
          60500,
          136000,
          75000,
          12000,
          128000,
          61500,
          230000,
          42000,
          48000,
          135000,
          24000,
          19000,
          50000,
          57000,
          14000,
          63000,
          43000,
          240000,
          47000,
          132000,
          130000,
          100000,
          17000,
          46000,
          26800,
          27500,
          48000,
          145000,
          55000,
          83000,
          25000,
          125000,
          25500,
          65000,
          164000,
          123000,
          58000,
          61000,
          113000,
          20000,
          27000,
          75000,
          401500,
          45000,
          145000,
          225000,
          36500,
          30000,
          20000,
          99000,
          95000,
          47500,
          167000,
          66000,
          135000,
          45000,
          35000,
          40000,
          65000,
          85000,
          82000,
          248000,
          55000,
          26000,
          73000,
          83000,
          62000,
          220000,
          120000,
          92000,
          20000,
          72000,
          85000,
          65000,
          195000,
          169000,
          55000,
          47000,
          180000,
          50000,
          190000,
          40000,
          75000,
          165000,
          13500,
          75000,
          15000,
          90000,
          78500,
          121500,
          40000,
          50000,
          73000,
          35000,
          32500,
          63500,
          57000,
          68500,
          65000,
          65000,
          85000,
          30000,
          32000,
          35000,
          122000,
          95000,
          26000,
          68000,
          65000,
          72000,
          80000,
          146500,
          255000,
          138000,
          158500,
          349000,
          57500,
          45000,
          63000,
          230000,
          1595,
          27000,
          450000,
          36500,
          119000,
          11500,
          120000,
          11000,
          40000,
          48000,
          39000,
          115000,
          108000,
          127000,
          37500,
          70000,
          70000,
          40000,
          120000,
          225000,
          24500,
          23000,
          30000,
          27000,
          72500,
          310000,
          64500,
          130000,
          115000,
          47000,
          34800,
          120000,
          30000,
          70000,
          65000,
          74000,
          110000,
          29500,
          406500,
          165000,
          216000,
          177000,
          68000,
          250000,
          69500,
          89000,
          77000,
          130000,
          252000,
          18500,
          85000,
          43000,
          15000,
          207000,
          180000,
          40000,
          290000,
          131500,
          286500,
          35000,
          68500,
          70000,
          126000,
          210000,
          33000,
          69000,
          65000,
          25000,
          95800,
          34000,
          18000,
          33000,
          18000,
          75000,
          48500,
          106000,
          37500,
          180000,
          72000,
          95000,
          28500,
          62000,
          150000,
          126500,
          30000,
          116500,
          73000,
          80000,
          35000,
          35000,
          42000,
          49000,
          40000,
          125000,
          63000,
          124000,
          20000,
          35500,
          165000,
          46000,
          420000,
          145000,
          25000,
          220000,
          56000,
          165000,
          29750,
          36000,
          125000,
          20000,
          25000,
          45000,
          92000,
          30000,
          48000,
          270000,
          418000,
          12000,
          55000,
          18500,
          54000,
          85000,
          55000,
          41500,
          12000,
          85000,
          35000,
          50500,
          55000,
          14000,
          77000,
          60500,
          55000,
          67000,
          77000,
          25000,
          161500,
          55000,
          38000,
          31000,
          83000
         ],
         "xaxis": "x",
         "y": [
          18786.337890625,
          40646.5390625,
          75963.953125,
          81518.5703125,
          55464.11328125,
          52682.9140625,
          37289.8671875,
          15933.9384765625,
          136214.765625,
          37942.53515625,
          39413.90234375,
          39809.83984375,
          54619.69140625,
          462411.03125,
          41138.26171875,
          179588.09375,
          107572.9140625,
          129897.234375,
          49151.88671875,
          48990.24609375,
          98126.8828125,
          97662.703125,
          37675.921875,
          352463.125,
          49681.40234375,
          38312.9453125,
          237472.625,
          109691.1484375,
          49743.17578125,
          8101.26025390625,
          20661.345703125,
          53079.65625,
          71663.65625,
          46117.8125,
          123417.078125,
          168583.234375,
          65871.546875,
          33792.80859375,
          39373.62890625,
          32803.62890625,
          68206.609375,
          156545.875,
          59803.890625,
          30457.109375,
          89505.4453125,
          22753.029296875,
          24168.396484375,
          28672.529296875,
          267863.78125,
          37595.2734375,
          363004.9375,
          39199.859375,
          29607.8125,
          63764.0234375,
          20406.71484375,
          96864.7109375,
          81583.8203125,
          15505.84765625,
          72587,
          43364.18359375,
          28310.984375,
          61826.14453125,
          30575.8203125,
          42113.54296875,
          200130.15625,
          27292.54296875,
          35637.15234375,
          48870.1328125,
          78912.3828125,
          32035.1484375,
          61457.4375,
          65588.2109375,
          28868.654296875,
          47156.97265625,
          104306.6015625,
          11195.134765625,
          27550.681640625,
          31867.1015625,
          57767.1875,
          31851.970703125,
          14231.748046875,
          27214.51953125,
          59797.90234375,
          36378.03515625,
          24228.744140625,
          34838.0859375,
          49031.609375,
          31767.513671875,
          40486.18359375,
          43353.43359375,
          31275.541015625,
          54316.953125,
          52928.0625,
          30457.109375,
          195410.828125,
          43068.0234375,
          55350.453125,
          64046.80859375,
          65157.66015625,
          29187.423828125,
          43063.421875,
          40267.00390625,
          23352.7890625,
          64581.70703125,
          67560.5859375,
          65017.00390625,
          35869.25,
          41569.7109375,
          125942.9921875,
          119859.1640625,
          44378.1015625,
          223664.53125,
          47028.2109375,
          54802.15234375,
          12878.6533203125,
          43621.84765625,
          27845.841796875,
          28028.076171875,
          96827.578125,
          28185.71484375,
          26241.3515625,
          33881.83984375,
          17197.80078125,
          64459.13671875,
          120160.515625,
          50383.70703125,
          33080.71875,
          24743.13671875,
          46161.55078125,
          96064.625,
          32318.287109375,
          35271.71484375,
          121757.125,
          32648.205078125,
          28585.40625,
          28918.638671875,
          50932.2734375,
          93107.515625,
          93719.4453125,
          68477.8046875,
          48184.42578125,
          65645.03125,
          89208.9765625,
          120646.6875,
          14128.296875,
          107240.3203125,
          106324.0078125,
          118497.6796875,
          6119.03173828125,
          148271.921875,
          59339.00390625,
          33124.47265625,
          27477.1328125,
          25746.29296875,
          193408.484375,
          108127.3984375,
          94193.71875,
          193303.9375,
          47489.3125,
          53522.80859375,
          52118.32421875,
          55218.171875,
          122509.3203125,
          155075.265625,
          79075.2578125,
          63171.765625,
          56481.3984375,
          38020.62890625,
          60304.62109375,
          173168.3125,
          107877.7265625,
          49656.72265625,
          49685.4296875,
          60751.28515625,
          70831.71875,
          88510.359375,
          27179.58203125,
          63713.14453125,
          36612.96484375,
          60586.96875,
          168299.0625,
          46497.12109375,
          39231.87109375,
          28365.900390625,
          94694.046875,
          32911.546875,
          54762.1328125,
          139322.3125,
          86242.6953125,
          71891.125,
          30082.0703125,
          79498.09375,
          49375.84765625,
          90251.8515625,
          117538.9765625,
          125811.421875,
          81959.859375,
          34976.33984375,
          79963.890625,
          37925.09765625,
          33057.8203125,
          201492.734375,
          103745.984375,
          41334.6953125,
          62696.12109375,
          66783.859375,
          36352.71875,
          33775.796875,
          182283.5,
          206967.5625,
          76970.671875,
          78482.4140625,
          50567.109375,
          55277.70703125,
          22707.548828125,
          25108.99609375,
          41953.76171875,
          147931.671875,
          33297.5625,
          97934.765625,
          62761.38671875,
          132770.859375,
          147125.0625,
          155824.8125,
          38431.5859375,
          31266.654296875,
          64157.578125,
          67092.4453125,
          38518.65625,
          42567.1171875,
          221896.4375,
          56241.34765625,
          38809.65625,
          21244.734375,
          43465.0859375,
          45087.2734375,
          99661.3203125,
          104795.8671875,
          27546.50390625,
          56134.66015625,
          95344.59375,
          150230.59375,
          25546.78515625,
          33273.08984375,
          20224.904296875,
          104404.1328125,
          132469.71875,
          32765.205078125,
          33988.37890625,
          32830.32421875,
          27546.50390625,
          39080.11328125,
          69986.75,
          27269.517578125,
          46302.15234375,
          73981.3203125,
          122760.7734375,
          57376.3203125,
          215669.96875,
          118830.953125,
          334171.9375,
          61867.25390625,
          54394.5546875,
          176290.8125,
          24807.923828125,
          28379.91796875,
          51210.33203125,
          31225.62109375,
          48100.0859375,
          77561.3359375,
          156344.015625,
          11834.4814453125,
          48002.796875,
          36581.5546875,
          142404.4375,
          7119.70556640625,
          12791.5751953125,
          52822.16796875,
          42946.53515625,
          11274.3984375,
          47522.9765625,
          68379.71875,
          20764.59765625,
          31434.59375,
          57309.4921875,
          60993.5390625,
          53057.38671875,
          25225.833984375,
          42341.6015625,
          68914.453125,
          57714.32421875,
          27900.919921875,
          13142.421875,
          48136.84375,
          24721.744140625,
          72694.375,
          176662.25,
          95827.6328125,
          120767.2109375,
          17187.470703125,
          57407.51953125,
          81341.5859375,
          220835.828125,
          36115.35546875,
          51574.390625,
          24465.625,
          98225.1953125,
          85048.8203125,
          292626.90625,
          111416.0859375,
          41814.953125,
          20744.82421875,
          35579.86328125,
          12676.4130859375,
          54524.91796875,
          35541.8125,
          29717.572265625,
          228566.921875,
          130235.8671875,
          56575.36328125,
          71421.921875,
          30987.970703125,
          36080.5859375,
          163947.46875,
          76713.2265625,
          44175.671875,
          65519.19140625,
          113993.1015625,
          94193.1796875,
          17815.93359375,
          67135.0703125,
          57104.3046875,
          45030.20703125,
          48395.90234375,
          59469.41796875,
          68289.8515625,
          119627.0078125,
          20982.1328125,
          293743.0625,
          121486.296875,
          193460.6875,
          63436.43359375,
          64960.60546875,
          53900.42578125,
          32299.060546875,
          58649.47265625,
          74840.6796875,
          84884.25,
          47652.18359375,
          64552.02734375,
          35891.01171875,
          157810.25,
          68415.984375,
          44592.6875,
          32812.953125,
          190232.640625,
          54991.77734375,
          163869.78125,
          88796.4609375,
          58295.3203125,
          62695.40234375,
          36476.9375,
          80030.8046875,
          22673.87890625,
          108730.4609375,
          112230.3046875,
          55681.72265625,
          21764.888671875,
          51877.421875,
          79442.0859375,
          160532.515625,
          39430.484375,
          70520.4609375,
          79424.0546875,
          56453.28515625,
          39374.75390625,
          50437.83984375,
          32560.177734375,
          144930.046875,
          35754.05078125,
          99594.71875,
          118361.015625,
          9728.34765625,
          137493.28125,
          121691.421875,
          16662.767578125,
          55569.05078125,
          48056.984375,
          58556.69921875,
          38146.47265625,
          60495.05078125,
          31422.994140625,
          57748.51171875,
          36533.65234375,
          131227.53125,
          97003.46875,
          45855.68359375,
          26439.220703125,
          58911.59765625,
          49972.16796875,
          44890.04296875,
          131914.640625,
          13312.6181640625,
          55273.6484375,
          92463.6015625,
          70854.4921875,
          76528.6484375,
          47833.34765625,
          122534.5546875,
          109604.25,
          95257.15625,
          183267.46875,
          139345.96875,
          113972.453125,
          131355.25,
          214006.921875,
          63091.56640625,
          26674.7578125,
          18084.451171875,
          47476.54296875,
          40807.8828125,
          26327.279296875,
          52740.3203125,
          170064.640625,
          44153.140625,
          48353.875,
          69362.28125,
          108757.109375,
          26765.83203125,
          39811.69921875,
          59336.1171875,
          16780.7109375,
          24664.73046875,
          13951.1845703125,
          97157.0625,
          21952.3125,
          254492.890625,
          34362.86328125,
          14930.255859375,
          16780.759765625,
          31398.041015625,
          40974.828125,
          41884.87890625,
          56048.85546875,
          27762.0234375,
          39928.7734375,
          66845.7265625,
          68050.4765625,
          225868.0625,
          17007.25,
          27683.369140625,
          42967.51171875,
          51534.3671875,
          62394.5390625,
          71244.640625,
          40396.125,
          90352.78125,
          23512.7265625,
          65700.4609375,
          116709.953125,
          67053.4921875,
          101976.6640625,
          80449.1484375,
          66743.234375,
          21959.328125,
          52882.95703125,
          23084.2421875,
          57192.87109375,
          20055.7265625,
          111234.859375,
          54810.93359375,
          46495.8359375,
          63750.34375,
          81193.7890625,
          24338.677734375,
          67498.4375,
          37338.4765625,
          70253.6953125,
          55657.7265625,
          92346.921875,
          74819.5546875,
          12831.9931640625,
          171432.796875,
          60940.1640625,
          206303.265625,
          47675.453125,
          40209.75,
          107251.265625,
          38757.2109375,
          23726.740234375,
          52480.875,
          56202.421875,
          24652.197265625,
          57130.8359375,
          44523.58984375,
          229299.421875,
          49463.74609375,
          132228.140625,
          171432.796875,
          82641.3671875,
          16373.80078125,
          48364.6640625,
          22332.509765625,
          23442.69140625,
          42993.94921875,
          143471.515625,
          43199.3671875,
          118160.6015625,
          31457.775390625,
          81612.1484375,
          21010.765625,
          60710.22265625,
          135510.4375,
          120483.7578125,
          48019.328125,
          59487.96484375,
          104832.65625,
          28765.1015625,
          20540.716796875,
          92761.5078125,
          242444.734375,
          55183.79296875,
          108770.8046875,
          120803.265625,
          35912.23828125,
          34669.38671875,
          22768.939453125,
          101952.84375,
          90556.7109375,
          56707.9765625,
          261764.78125,
          66078.359375,
          109714.1640625,
          53789.3046875,
          33577.22265625,
          53539.14453125,
          60975.16015625,
          70870.5078125,
          78948.3671875,
          137969.6875,
          40286.25,
          29851.984375,
          74631.421875,
          69141.171875,
          63936.41015625,
          26805.78515625,
          111288.2265625,
          103865.8671875,
          26173.244140625,
          70214.6484375,
          58429.45703125,
          77091.4375,
          126988.6484375,
          125961.0078125,
          50263.29296875,
          49293.1796875,
          123769.3828125,
          50786.6171875,
          182745.109375,
          44391.09765625,
          75041.578125,
          176966.625,
          11584.92578125,
          85862.9765625,
          16400.1171875,
          73229.4609375,
          60541.5703125,
          114780.0625,
          37512.90234375,
          64328.33203125,
          84181.515625,
          25136.595703125,
          10038.4599609375,
          63456.09765625,
          47528.14453125,
          65377.3828125,
          56685.9140625,
          30719.4453125,
          3684.5390625,
          33837.47265625,
          33650.984375,
          35041.14453125,
          83732.421875,
          94661.453125,
          29560.72265625,
          67167.9296875,
          20733.58984375,
          66114.6640625,
          50021.421875,
          141415,
          211768.390625,
          98511.5078125,
          52556.10546875,
          258370.4375,
          35274.171875,
          61101.41796875,
          56212.015625,
          131904.703125,
          70983.53125,
          28538.0390625,
          297161.6875,
          35399.87109375,
          24662.44921875,
          14429.447265625,
          111943.078125,
          17415.796875,
          31568.16015625,
          47909.31640625,
          38373.31640625,
          65352.5078125,
          85724.53125,
          136791.984375,
          35838.8515625,
          66116.3046875,
          31526.701171875,
          40744.61328125,
          21368.806640625,
          97341.53125,
          29768.658203125,
          20148.802734375,
          33769.7421875,
          21919.615234375,
          55423.609375,
          189558.40625,
          76502.671875,
          111130.9453125,
          94157.6171875,
          34286.88671875,
          39888.9609375,
          117217.59375,
          15923.1982421875,
          62675.43359375,
          67068.90625,
          64502.1171875,
          107394.3515625,
          26050.1796875,
          431717.125,
          126721.2890625,
          182970.9375,
          141451.828125,
          42683.5,
          227667.796875,
          58717.078125,
          71062.7109375,
          48545.71875,
          113499.4296875,
          240079.46875,
          18463.712890625,
          90242.5546875,
          64218.18359375,
          23326.65625,
          32055.685546875,
          168628.890625,
          42179.86328125,
          251947.84375,
          141595.5625,
          321141.75,
          32869.76953125,
          58919.6875,
          64749.140625,
          139510.453125,
          222272.8125,
          29216.6640625,
          56586.640625,
          80615.578125,
          32248.861328125,
          95011.015625,
          37445.98828125,
          14352.0712890625,
          31434.59375,
          15170.146484375,
          58122.8984375,
          44531.7421875,
          92258.8046875,
          24395.30859375,
          109251.625,
          68504.6484375,
          76585.890625,
          28242.24609375,
          48517.30078125,
          173701.40625,
          112988.8125,
          32475.765625,
          96536.4921875,
          66439.8671875,
          75557.46875,
          35114.10546875,
          66313.0703125,
          34941.43359375,
          23407.794921875,
          40814.1875,
          129482.2890625,
          21724.140625,
          86890.921875,
          24609.3515625,
          40128.0390625,
          129856.2421875,
          30626.919921875,
          445564.90625,
          124210.203125,
          26563.4921875,
          337145.40625,
          62537.3359375,
          170180.15625,
          32933.68359375,
          17301.8515625,
          120282.046875,
          22432.44921875,
          25870.587890625,
          50816.51171875,
          41518.5234375,
          37936.41796875,
          43016.8359375,
          175040.21875,
          425969.875,
          19440.3828125,
          69402.0546875,
          22191.85546875,
          62514.796875,
          24184.236328125,
          50373.13671875,
          41077.41796875,
          12113.025390625,
          66793.09375,
          35192.8203125,
          46270.90234375,
          32224.849609375,
          16222.1953125,
          81723.2109375,
          23363.48046875,
          48168.0234375,
          64330.29296875,
          69095.625,
          28599.09375,
          155152.640625,
          52777.80859375,
          46717.13671875,
          47142.62890625,
          58098.40234375
         ],
         "yaxis": "y"
        }
       ],
       "layout": {
        "height": 600,
        "legend": {
         "tracegroupgap": 0
        },
        "template": {
         "data": {
          "bar": [
           {
            "error_x": {
             "color": "#2a3f5f"
            },
            "error_y": {
             "color": "#2a3f5f"
            },
            "marker": {
             "line": {
              "color": "#E5ECF6",
              "width": 0.5
             },
             "pattern": {
              "fillmode": "overlay",
              "size": 10,
              "solidity": 0.2
             }
            },
            "type": "bar"
           }
          ],
          "barpolar": [
           {
            "marker": {
             "line": {
              "color": "#E5ECF6",
              "width": 0.5
             },
             "pattern": {
              "fillmode": "overlay",
              "size": 10,
              "solidity": 0.2
             }
            },
            "type": "barpolar"
           }
          ],
          "carpet": [
           {
            "aaxis": {
             "endlinecolor": "#2a3f5f",
             "gridcolor": "white",
             "linecolor": "white",
             "minorgridcolor": "white",
             "startlinecolor": "#2a3f5f"
            },
            "baxis": {
             "endlinecolor": "#2a3f5f",
             "gridcolor": "white",
             "linecolor": "white",
             "minorgridcolor": "white",
             "startlinecolor": "#2a3f5f"
            },
            "type": "carpet"
           }
          ],
          "choropleth": [
           {
            "colorbar": {
             "outlinewidth": 0,
             "ticks": ""
            },
            "type": "choropleth"
           }
          ],
          "contour": [
           {
            "colorbar": {
             "outlinewidth": 0,
             "ticks": ""
            },
            "colorscale": [
             [
              0,
              "#0d0887"
             ],
             [
              0.1111111111111111,
              "#46039f"
             ],
             [
              0.2222222222222222,
              "#7201a8"
             ],
             [
              0.3333333333333333,
              "#9c179e"
             ],
             [
              0.4444444444444444,
              "#bd3786"
             ],
             [
              0.5555555555555556,
              "#d8576b"
             ],
             [
              0.6666666666666666,
              "#ed7953"
             ],
             [
              0.7777777777777778,
              "#fb9f3a"
             ],
             [
              0.8888888888888888,
              "#fdca26"
             ],
             [
              1,
              "#f0f921"
             ]
            ],
            "type": "contour"
           }
          ],
          "contourcarpet": [
           {
            "colorbar": {
             "outlinewidth": 0,
             "ticks": ""
            },
            "type": "contourcarpet"
           }
          ],
          "heatmap": [
           {
            "colorbar": {
             "outlinewidth": 0,
             "ticks": ""
            },
            "colorscale": [
             [
              0,
              "#0d0887"
             ],
             [
              0.1111111111111111,
              "#46039f"
             ],
             [
              0.2222222222222222,
              "#7201a8"
             ],
             [
              0.3333333333333333,
              "#9c179e"
             ],
             [
              0.4444444444444444,
              "#bd3786"
             ],
             [
              0.5555555555555556,
              "#d8576b"
             ],
             [
              0.6666666666666666,
              "#ed7953"
             ],
             [
              0.7777777777777778,
              "#fb9f3a"
             ],
             [
              0.8888888888888888,
              "#fdca26"
             ],
             [
              1,
              "#f0f921"
             ]
            ],
            "type": "heatmap"
           }
          ],
          "heatmapgl": [
           {
            "colorbar": {
             "outlinewidth": 0,
             "ticks": ""
            },
            "colorscale": [
             [
              0,
              "#0d0887"
             ],
             [
              0.1111111111111111,
              "#46039f"
             ],
             [
              0.2222222222222222,
              "#7201a8"
             ],
             [
              0.3333333333333333,
              "#9c179e"
             ],
             [
              0.4444444444444444,
              "#bd3786"
             ],
             [
              0.5555555555555556,
              "#d8576b"
             ],
             [
              0.6666666666666666,
              "#ed7953"
             ],
             [
              0.7777777777777778,
              "#fb9f3a"
             ],
             [
              0.8888888888888888,
              "#fdca26"
             ],
             [
              1,
              "#f0f921"
             ]
            ],
            "type": "heatmapgl"
           }
          ],
          "histogram": [
           {
            "marker": {
             "pattern": {
              "fillmode": "overlay",
              "size": 10,
              "solidity": 0.2
             }
            },
            "type": "histogram"
           }
          ],
          "histogram2d": [
           {
            "colorbar": {
             "outlinewidth": 0,
             "ticks": ""
            },
            "colorscale": [
             [
              0,
              "#0d0887"
             ],
             [
              0.1111111111111111,
              "#46039f"
             ],
             [
              0.2222222222222222,
              "#7201a8"
             ],
             [
              0.3333333333333333,
              "#9c179e"
             ],
             [
              0.4444444444444444,
              "#bd3786"
             ],
             [
              0.5555555555555556,
              "#d8576b"
             ],
             [
              0.6666666666666666,
              "#ed7953"
             ],
             [
              0.7777777777777778,
              "#fb9f3a"
             ],
             [
              0.8888888888888888,
              "#fdca26"
             ],
             [
              1,
              "#f0f921"
             ]
            ],
            "type": "histogram2d"
           }
          ],
          "histogram2dcontour": [
           {
            "colorbar": {
             "outlinewidth": 0,
             "ticks": ""
            },
            "colorscale": [
             [
              0,
              "#0d0887"
             ],
             [
              0.1111111111111111,
              "#46039f"
             ],
             [
              0.2222222222222222,
              "#7201a8"
             ],
             [
              0.3333333333333333,
              "#9c179e"
             ],
             [
              0.4444444444444444,
              "#bd3786"
             ],
             [
              0.5555555555555556,
              "#d8576b"
             ],
             [
              0.6666666666666666,
              "#ed7953"
             ],
             [
              0.7777777777777778,
              "#fb9f3a"
             ],
             [
              0.8888888888888888,
              "#fdca26"
             ],
             [
              1,
              "#f0f921"
             ]
            ],
            "type": "histogram2dcontour"
           }
          ],
          "mesh3d": [
           {
            "colorbar": {
             "outlinewidth": 0,
             "ticks": ""
            },
            "type": "mesh3d"
           }
          ],
          "parcoords": [
           {
            "line": {
             "colorbar": {
              "outlinewidth": 0,
              "ticks": ""
             }
            },
            "type": "parcoords"
           }
          ],
          "pie": [
           {
            "automargin": true,
            "type": "pie"
           }
          ],
          "scatter": [
           {
            "fillpattern": {
             "fillmode": "overlay",
             "size": 10,
             "solidity": 0.2
            },
            "type": "scatter"
           }
          ],
          "scatter3d": [
           {
            "line": {
             "colorbar": {
              "outlinewidth": 0,
              "ticks": ""
             }
            },
            "marker": {
             "colorbar": {
              "outlinewidth": 0,
              "ticks": ""
             }
            },
            "type": "scatter3d"
           }
          ],
          "scattercarpet": [
           {
            "marker": {
             "colorbar": {
              "outlinewidth": 0,
              "ticks": ""
             }
            },
            "type": "scattercarpet"
           }
          ],
          "scattergeo": [
           {
            "marker": {
             "colorbar": {
              "outlinewidth": 0,
              "ticks": ""
             }
            },
            "type": "scattergeo"
           }
          ],
          "scattergl": [
           {
            "marker": {
             "colorbar": {
              "outlinewidth": 0,
              "ticks": ""
             }
            },
            "type": "scattergl"
           }
          ],
          "scattermapbox": [
           {
            "marker": {
             "colorbar": {
              "outlinewidth": 0,
              "ticks": ""
             }
            },
            "type": "scattermapbox"
           }
          ],
          "scatterpolar": [
           {
            "marker": {
             "colorbar": {
              "outlinewidth": 0,
              "ticks": ""
             }
            },
            "type": "scatterpolar"
           }
          ],
          "scatterpolargl": [
           {
            "marker": {
             "colorbar": {
              "outlinewidth": 0,
              "ticks": ""
             }
            },
            "type": "scatterpolargl"
           }
          ],
          "scatterternary": [
           {
            "marker": {
             "colorbar": {
              "outlinewidth": 0,
              "ticks": ""
             }
            },
            "type": "scatterternary"
           }
          ],
          "surface": [
           {
            "colorbar": {
             "outlinewidth": 0,
             "ticks": ""
            },
            "colorscale": [
             [
              0,
              "#0d0887"
             ],
             [
              0.1111111111111111,
              "#46039f"
             ],
             [
              0.2222222222222222,
              "#7201a8"
             ],
             [
              0.3333333333333333,
              "#9c179e"
             ],
             [
              0.4444444444444444,
              "#bd3786"
             ],
             [
              0.5555555555555556,
              "#d8576b"
             ],
             [
              0.6666666666666666,
              "#ed7953"
             ],
             [
              0.7777777777777778,
              "#fb9f3a"
             ],
             [
              0.8888888888888888,
              "#fdca26"
             ],
             [
              1,
              "#f0f921"
             ]
            ],
            "type": "surface"
           }
          ],
          "table": [
           {
            "cells": {
             "fill": {
              "color": "#EBF0F8"
             },
             "line": {
              "color": "white"
             }
            },
            "header": {
             "fill": {
              "color": "#C8D4E3"
             },
             "line": {
              "color": "white"
             }
            },
            "type": "table"
           }
          ]
         },
         "layout": {
          "annotationdefaults": {
           "arrowcolor": "#2a3f5f",
           "arrowhead": 0,
           "arrowwidth": 1
          },
          "autotypenumbers": "strict",
          "coloraxis": {
           "colorbar": {
            "outlinewidth": 0,
            "ticks": ""
           }
          },
          "colorscale": {
           "diverging": [
            [
             0,
             "#8e0152"
            ],
            [
             0.1,
             "#c51b7d"
            ],
            [
             0.2,
             "#de77ae"
            ],
            [
             0.3,
             "#f1b6da"
            ],
            [
             0.4,
             "#fde0ef"
            ],
            [
             0.5,
             "#f7f7f7"
            ],
            [
             0.6,
             "#e6f5d0"
            ],
            [
             0.7,
             "#b8e186"
            ],
            [
             0.8,
             "#7fbc41"
            ],
            [
             0.9,
             "#4d9221"
            ],
            [
             1,
             "#276419"
            ]
           ],
           "sequential": [
            [
             0,
             "#0d0887"
            ],
            [
             0.1111111111111111,
             "#46039f"
            ],
            [
             0.2222222222222222,
             "#7201a8"
            ],
            [
             0.3333333333333333,
             "#9c179e"
            ],
            [
             0.4444444444444444,
             "#bd3786"
            ],
            [
             0.5555555555555556,
             "#d8576b"
            ],
            [
             0.6666666666666666,
             "#ed7953"
            ],
            [
             0.7777777777777778,
             "#fb9f3a"
            ],
            [
             0.8888888888888888,
             "#fdca26"
            ],
            [
             1,
             "#f0f921"
            ]
           ],
           "sequentialminus": [
            [
             0,
             "#0d0887"
            ],
            [
             0.1111111111111111,
             "#46039f"
            ],
            [
             0.2222222222222222,
             "#7201a8"
            ],
            [
             0.3333333333333333,
             "#9c179e"
            ],
            [
             0.4444444444444444,
             "#bd3786"
            ],
            [
             0.5555555555555556,
             "#d8576b"
            ],
            [
             0.6666666666666666,
             "#ed7953"
            ],
            [
             0.7777777777777778,
             "#fb9f3a"
            ],
            [
             0.8888888888888888,
             "#fdca26"
            ],
            [
             1,
             "#f0f921"
            ]
           ]
          },
          "colorway": [
           "#636efa",
           "#EF553B",
           "#00cc96",
           "#ab63fa",
           "#FFA15A",
           "#19d3f3",
           "#FF6692",
           "#B6E880",
           "#FF97FF",
           "#FECB52"
          ],
          "font": {
           "color": "#2a3f5f"
          },
          "geo": {
           "bgcolor": "white",
           "lakecolor": "white",
           "landcolor": "#E5ECF6",
           "showlakes": true,
           "showland": true,
           "subunitcolor": "white"
          },
          "hoverlabel": {
           "align": "left"
          },
          "hovermode": "closest",
          "mapbox": {
           "style": "light"
          },
          "paper_bgcolor": "white",
          "plot_bgcolor": "#E5ECF6",
          "polar": {
           "angularaxis": {
            "gridcolor": "white",
            "linecolor": "white",
            "ticks": ""
           },
           "bgcolor": "#E5ECF6",
           "radialaxis": {
            "gridcolor": "white",
            "linecolor": "white",
            "ticks": ""
           }
          },
          "scene": {
           "xaxis": {
            "backgroundcolor": "#E5ECF6",
            "gridcolor": "white",
            "gridwidth": 2,
            "linecolor": "white",
            "showbackground": true,
            "ticks": "",
            "zerolinecolor": "white"
           },
           "yaxis": {
            "backgroundcolor": "#E5ECF6",
            "gridcolor": "white",
            "gridwidth": 2,
            "linecolor": "white",
            "showbackground": true,
            "ticks": "",
            "zerolinecolor": "white"
           },
           "zaxis": {
            "backgroundcolor": "#E5ECF6",
            "gridcolor": "white",
            "gridwidth": 2,
            "linecolor": "white",
            "showbackground": true,
            "ticks": "",
            "zerolinecolor": "white"
           }
          },
          "shapedefaults": {
           "line": {
            "color": "#2a3f5f"
           }
          },
          "ternary": {
           "aaxis": {
            "gridcolor": "white",
            "linecolor": "white",
            "ticks": ""
           },
           "baxis": {
            "gridcolor": "white",
            "linecolor": "white",
            "ticks": ""
           },
           "bgcolor": "#E5ECF6",
           "caxis": {
            "gridcolor": "white",
            "linecolor": "white",
            "ticks": ""
           }
          },
          "title": {
           "x": 0.05
          },
          "xaxis": {
           "automargin": true,
           "gridcolor": "white",
           "linecolor": "white",
           "ticks": "",
           "title": {
            "standoff": 15
           },
           "zerolinecolor": "white",
           "zerolinewidth": 2
          },
          "yaxis": {
           "automargin": true,
           "gridcolor": "white",
           "linecolor": "white",
           "ticks": "",
           "title": {
            "standoff": 15
           },
           "zerolinecolor": "white",
           "zerolinewidth": 2
          }
         }
        },
        "title": {
         "text": "Actual Price vs Prediction Price"
        },
        "xaxis": {
         "anchor": "y",
         "domain": [
          0,
          1
         ],
         "title": {
          "text": "Actual Price"
         }
        },
        "yaxis": {
         "anchor": "x",
         "domain": [
          0,
          1
         ],
         "title": {
          "text": "Predicted Price"
         }
        }
       }
      }
     },
     "metadata": {},
     "output_type": "display_data"
    }
   ],
   "source": [
    "fig=px.scatter(x=y_test, y=y_pred_xgb_tuning,height=600,\n",
    "                labels={\n",
    "                     \"y\":\"Predicted Price\",\n",
    "                     \"x\":\"Actual Price\",\n",
    "                 },\n",
    "                title=\"Actual Price vs Prediction Price\"\n",
    ")\n",
    "fig.show()"
   ]
  },
  {
   "cell_type": "markdown",
   "metadata": {},
   "source": [
    "**Summary**\n",
    "\n",
    "- Secara keseluruhan, model mengalami peningkatan performa (nilai RMSE, MAE dan MAPE berkurang) dengan dilakukannya hyperparameter tuning\n",
    "- Apabila melihat dari perbandingan nilai residual antara train set dan test set khususnya nilai MAPE, maka bisa dikatakan model cukup overfit (Nilai RMSE, dan MAE pada train set lebih rendah dari Nilai RMSE dan MAE pada test set). Sedangkan untuk nilai MAPE turun\n",
    "- Apabila melihat dari plot perbandingan nilai residual yang aktual dengan yang prediksi, maka dapat disimpulkan model menunjukan hasil yang baik khususnya di rentang harga yang berada ditengah dataset. Namun hasil prediksi harga yang buruk terdapat pada rentang harga yang rendah\n",
    "- Walaupun sudah dilakukan hyperparameter tuning, rata-rata nilai MAPE tetap besar yaitu sekitar 58.3%. Hal ini mungkin saja disebabkan karena model tidak mampu memprediksi harga mobil yang rendah (price range antara 1-5000) seperti yang ditunjukan pada scatterplot antara actual price dan predict price. Sehingga, akan dilakukan pengerucutan batasan model."
   ]
  },
  {
   "cell_type": "markdown",
   "metadata": {},
   "source": [
    "## 7 Hyperparameter Tuning and Predict to Test set (Second Attempt)"
   ]
  },
  {
   "cell_type": "markdown",
   "metadata": {},
   "source": [
    "### 7.1 Target Outlier Modification"
   ]
  },
  {
   "cell_type": "code",
   "execution_count": 172,
   "metadata": {},
   "outputs": [
    {
     "data": {
      "image/png": "[encoded data removed]",
      "text/plain": [
       "<Figure size 1296x432 with 2 Axes>"
      ]
     },
     "metadata": {
      "needs_background": "light"
     },
     "output_type": "display_data"
    },
    {
     "data": {
      "image/png": "[encoded data removed]",
      "text/plain": [
       "<Figure size 1296x432 with 2 Axes>"
      ]
     },
     "metadata": {
      "needs_background": "light"
     },
     "output_type": "display_data"
    }
   ],
   "source": [
    "price_desc_before=df[\"Price\"].describe()\n",
    "price_normtest_before=normaltest(df[\"Price\"])\n",
    "\n",
    "plt.figure(figsize=(18,6))\n",
    "plt.subplot(1,2,1)\n",
    "sns.distplot(df[\"Price\"])\n",
    "plt.xticks(rotation=90)\n",
    "plt.subplot(1,2,2)\n",
    "sns.boxplot(data=df,x=\"Price\")\n",
    "plt.suptitle(\"Before Outlier Elimination\");\n",
    "\n",
    "df=df[(df[\"Price\"]>5000)]\n",
    "\n",
    "plt.figure(figsize=(18,6))\n",
    "plt.subplot(1,2,1)\n",
    "sns.distplot(df[\"Price\"])\n",
    "plt.xticks(rotation=90)\n",
    "plt.subplot(1,2,2)\n",
    "sns.boxplot(data=df,x=\"Price\")\n",
    "plt.suptitle(\"After Outlier Elimination\");"
   ]
  },
  {
   "cell_type": "markdown",
   "metadata": {},
   "source": [
    "**Summary**\n",
    "- Seperti yang disinggung sebelumnya, model aka dilakukan pengercutan batasan model dimana pemodelan yang dilakukan hanya berlaku untuk target(price) range yaitu dari 5000 hingga 500000. \n",
    "- Kesalahan ini bisa saja terjadi karena kesalahan asumsi satuan dimana pada awalnya asumsi mengarah pada satuan USD dimana mobil dengan harga diatas 1000 masih masuk akal. Namun apabila satuan harga adalah SAR maka harga mobil dikisaran 1000 mungkin tidak masuk akal. Shingga di model ini akan diasumsikan bahwa satuan harga mobil dalam SAR"
   ]
  },
  {
   "cell_type": "markdown",
   "metadata": {},
   "source": [
    "### 7.2 Preparation"
   ]
  },
  {
   "cell_type": "markdown",
   "metadata": {},
   "source": [
    "**Define Feature**"
   ]
  },
  {
   "cell_type": "code",
   "execution_count": 173,
   "metadata": {},
   "outputs": [],
   "source": [
    "X=df.drop(columns=[\"Price\"])\n",
    "y=df[\"Price\"]"
   ]
  },
  {
   "cell_type": "markdown",
   "metadata": {},
   "source": [
    "**Splitting**"
   ]
  },
  {
   "cell_type": "code",
   "execution_count": 174,
   "metadata": {},
   "outputs": [],
   "source": [
    "X_train, X_test, y_train, y_test = train_test_split(X,y, random_state=42, test_size=0.2)"
   ]
  },
  {
   "cell_type": "markdown",
   "metadata": {},
   "source": [
    "### 7.3 Hyperparameter Tuning"
   ]
  },
  {
   "cell_type": "markdown",
   "metadata": {},
   "source": [
    "**Hyperparameter Process**"
   ]
  },
  {
   "cell_type": "code",
   "execution_count": 175,
   "metadata": {},
   "outputs": [
    {
     "data": {
      "text/plain": [
       "GridSearchCV(cv=KFold(n_splits=5, random_state=42, shuffle=True),\n",
       "             estimator=Pipeline(steps=[('transformer',\n",
       "                                        ColumnTransformer(remainder='passthrough',\n",
       "                                                          transformers=[('onehot',\n",
       "                                                                         OneHotEncoder(drop='first'),\n",
       "                                                                         ['Gear_Type',\n",
       "                                                                          'Origin',\n",
       "                                                                          'Options']),\n",
       "                                                                        ('Binary',\n",
       "                                                                         BinaryEncoder(),\n",
       "                                                                         ['Type',\n",
       "                                                                          'Region',\n",
       "                                                                          'Make'])])),\n",
       "                                       ('scaler', StandardScaler()),\n",
       "                                       ('model',\n",
       "                                        TransformedTargetRegressor...\n",
       "                                                                                          reg_lambda=None, ...)))]),\n",
       "             n_jobs=-1,\n",
       "             param_grid={'model__regressor__learning_rate': [0.1, 0.2, 0.3, 0.4,\n",
       "                                                             0.5, 0.6, 0.7, 0.8,\n",
       "                                                             0.9],\n",
       "                         'model__regressor__max_depth': [2, 4, 6, 8, 10],\n",
       "                         'scaler': [StandardScaler(), MinMaxScaler(),\n",
       "                                    RobustScaler()]},\n",
       "             refit='neg_mean_absolute_error',\n",
       "             scoring=['neg_root_mean_squared_error', 'neg_mean_absolute_error',\n",
       "                      'neg_mean_absolute_percentage_error'])"
      ]
     },
     "execution_count": 175,
     "metadata": {},
     "output_type": "execute_result"
    }
   ],
   "source": [
    "hyperparam_space={\n",
    "    \"model__regressor__max_depth\":[2,4,6,8,10],                     # max depth default: 6\n",
    "    \"model__regressor__learning_rate\":list(np.arange(1, 10)/10),    # learning rate default: 0.3\n",
    "    \"scaler\":[scaler_standard,scaler_minmax,scaler_robust]\n",
    "}\n",
    "\n",
    "pipe_model=Pipeline([\n",
    "    (\"transformer\",transformer),\n",
    "    (\"scaler\",scaler_standard),\n",
    "    (\"model\",log_xgb)                  \n",
    "])\n",
    "\n",
    "gridsearch_xgb=GridSearchCV(\n",
    "    estimator=pipe_model,       \n",
    "    param_grid=hyperparam_space,           \n",
    "    cv=crossval,                                  \n",
    "    scoring=[\"neg_root_mean_squared_error\",\"neg_mean_absolute_error\",\"neg_mean_absolute_percentage_error\"],\n",
    "    refit=\"neg_mean_absolute_error\",    \n",
    "    n_jobs=-1                              \n",
    ")\n",
    "\n",
    "gridsearch_xgb.fit(X_train, y_train)"
   ]
  },
  {
   "cell_type": "markdown",
   "metadata": {},
   "source": [
    "**Hyperparameter Result**"
   ]
  },
  {
   "cell_type": "code",
   "execution_count": 176,
   "metadata": {},
   "outputs": [
    {
     "data": {
      "text/html": [
       "<div>\n",
       "<style scoped>\n",
       "    .dataframe tbody tr th:only-of-type {\n",
       "        vertical-align: middle;\n",
       "    }\n",
       "\n",
       "    .dataframe tbody tr th {\n",
       "        vertical-align: top;\n",
       "    }\n",
       "\n",
       "    .dataframe thead th {\n",
       "        text-align: right;\n",
       "    }\n",
       "</style>\n",
       "<table border=\"1\" class=\"dataframe\">\n",
       "  <thead>\n",
       "    <tr style=\"text-align: right;\">\n",
       "      <th></th>\n",
       "      <th>mean_fit_time</th>\n",
       "      <th>std_fit_time</th>\n",
       "      <th>mean_score_time</th>\n",
       "      <th>std_score_time</th>\n",
       "      <th>param_model__regressor__learning_rate</th>\n",
       "      <th>param_model__regressor__max_depth</th>\n",
       "      <th>param_scaler</th>\n",
       "      <th>params</th>\n",
       "      <th>split0_test_neg_root_mean_squared_error</th>\n",
       "      <th>split1_test_neg_root_mean_squared_error</th>\n",
       "      <th>split2_test_neg_root_mean_squared_error</th>\n",
       "      <th>split3_test_neg_root_mean_squared_error</th>\n",
       "      <th>split4_test_neg_root_mean_squared_error</th>\n",
       "      <th>mean_test_neg_root_mean_squared_error</th>\n",
       "      <th>std_test_neg_root_mean_squared_error</th>\n",
       "      <th>rank_test_neg_root_mean_squared_error</th>\n",
       "      <th>split0_test_neg_mean_absolute_error</th>\n",
       "      <th>split1_test_neg_mean_absolute_error</th>\n",
       "      <th>split2_test_neg_mean_absolute_error</th>\n",
       "      <th>split3_test_neg_mean_absolute_error</th>\n",
       "      <th>split4_test_neg_mean_absolute_error</th>\n",
       "      <th>mean_test_neg_mean_absolute_error</th>\n",
       "      <th>std_test_neg_mean_absolute_error</th>\n",
       "      <th>rank_test_neg_mean_absolute_error</th>\n",
       "      <th>split0_test_neg_mean_absolute_percentage_error</th>\n",
       "      <th>split1_test_neg_mean_absolute_percentage_error</th>\n",
       "      <th>split2_test_neg_mean_absolute_percentage_error</th>\n",
       "      <th>split3_test_neg_mean_absolute_percentage_error</th>\n",
       "      <th>split4_test_neg_mean_absolute_percentage_error</th>\n",
       "      <th>mean_test_neg_mean_absolute_percentage_error</th>\n",
       "      <th>std_test_neg_mean_absolute_percentage_error</th>\n",
       "      <th>rank_test_neg_mean_absolute_percentage_error</th>\n",
       "    </tr>\n",
       "  </thead>\n",
       "  <tbody>\n",
       "    <tr>\n",
       "      <th>0</th>\n",
       "      <td>1.455141</td>\n",
       "      <td>0.009020</td>\n",
       "      <td>0.041195</td>\n",
       "      <td>0.008914</td>\n",
       "      <td>0.1</td>\n",
       "      <td>10</td>\n",
       "      <td>MinMaxScaler()</td>\n",
       "      <td>{'model__regressor__learning_rate': 0.1, 'model__regressor__max_depth': 10, 'scaler': MinMaxScaler()}</td>\n",
       "      <td>-26744.038246</td>\n",
       "      <td>-31729.440635</td>\n",
       "      <td>-31000.153302</td>\n",
       "      <td>-24862.715042</td>\n",
       "      <td>-21543.886056</td>\n",
       "      <td>-27176.046656</td>\n",
       "      <td>3810.946230</td>\n",
       "      <td>19</td>\n",
       "      <td>-13738.854690</td>\n",
       "      <td>-15620.075992</td>\n",
       "      <td>-14770.820570</td>\n",
       "      <td>-12837.777367</td>\n",
       "      <td>-12317.569902</td>\n",
       "      <td>-13857.019704</td>\n",
       "      <td>1213.764648</td>\n",
       "      <td>1</td>\n",
       "      <td>-0.177105</td>\n",
       "      <td>-0.192460</td>\n",
       "      <td>-0.212853</td>\n",
       "      <td>-0.163739</td>\n",
       "      <td>-0.178292</td>\n",
       "      <td>-0.184890</td>\n",
       "      <td>0.016678</td>\n",
       "      <td>1</td>\n",
       "    </tr>\n",
       "    <tr>\n",
       "      <th>1</th>\n",
       "      <td>1.447860</td>\n",
       "      <td>0.047159</td>\n",
       "      <td>0.030719</td>\n",
       "      <td>0.004107</td>\n",
       "      <td>0.1</td>\n",
       "      <td>10</td>\n",
       "      <td>StandardScaler()</td>\n",
       "      <td>{'model__regressor__learning_rate': 0.1, 'model__regressor__max_depth': 10, 'scaler': StandardScaler()}</td>\n",
       "      <td>-26752.668488</td>\n",
       "      <td>-31728.216199</td>\n",
       "      <td>-30999.298492</td>\n",
       "      <td>-24917.839292</td>\n",
       "      <td>-21537.549303</td>\n",
       "      <td>-27187.114355</td>\n",
       "      <td>3805.529967</td>\n",
       "      <td>20</td>\n",
       "      <td>-13763.114080</td>\n",
       "      <td>-15615.546951</td>\n",
       "      <td>-14764.943059</td>\n",
       "      <td>-12874.144526</td>\n",
       "      <td>-12303.813542</td>\n",
       "      <td>-13864.312431</td>\n",
       "      <td>1208.618074</td>\n",
       "      <td>2</td>\n",
       "      <td>-0.177427</td>\n",
       "      <td>-0.192521</td>\n",
       "      <td>-0.212585</td>\n",
       "      <td>-0.166200</td>\n",
       "      <td>-0.178156</td>\n",
       "      <td>-0.185378</td>\n",
       "      <td>0.015965</td>\n",
       "      <td>2</td>\n",
       "    </tr>\n",
       "    <tr>\n",
       "      <th>2</th>\n",
       "      <td>1.517106</td>\n",
       "      <td>0.080137</td>\n",
       "      <td>0.033020</td>\n",
       "      <td>0.003593</td>\n",
       "      <td>0.1</td>\n",
       "      <td>10</td>\n",
       "      <td>RobustScaler()</td>\n",
       "      <td>{'model__regressor__learning_rate': 0.1, 'model__regressor__max_depth': 10, 'scaler': RobustScaler()}</td>\n",
       "      <td>-26758.947043</td>\n",
       "      <td>-31808.753758</td>\n",
       "      <td>-30996.235131</td>\n",
       "      <td>-24895.250311</td>\n",
       "      <td>-21544.590614</td>\n",
       "      <td>-27200.755371</td>\n",
       "      <td>3824.710804</td>\n",
       "      <td>21</td>\n",
       "      <td>-13762.997649</td>\n",
       "      <td>-15660.289800</td>\n",
       "      <td>-14767.846502</td>\n",
       "      <td>-12846.425595</td>\n",
       "      <td>-12316.039062</td>\n",
       "      <td>-13870.719722</td>\n",
       "      <td>1223.536839</td>\n",
       "      <td>3</td>\n",
       "      <td>-0.177469</td>\n",
       "      <td>-0.192860</td>\n",
       "      <td>-0.212843</td>\n",
       "      <td>-0.165845</td>\n",
       "      <td>-0.178237</td>\n",
       "      <td>-0.185451</td>\n",
       "      <td>0.016158</td>\n",
       "      <td>3</td>\n",
       "    </tr>\n",
       "    <tr>\n",
       "      <th>3</th>\n",
       "      <td>1.163159</td>\n",
       "      <td>0.055291</td>\n",
       "      <td>0.033013</td>\n",
       "      <td>0.004188</td>\n",
       "      <td>0.1</td>\n",
       "      <td>8</td>\n",
       "      <td>MinMaxScaler()</td>\n",
       "      <td>{'model__regressor__learning_rate': 0.1, 'model__regressor__max_depth': 8, 'scaler': MinMaxScaler()}</td>\n",
       "      <td>-29376.451014</td>\n",
       "      <td>-30875.573214</td>\n",
       "      <td>-29905.669950</td>\n",
       "      <td>-24921.644151</td>\n",
       "      <td>-21813.189177</td>\n",
       "      <td>-27378.505501</td>\n",
       "      <td>3453.020200</td>\n",
       "      <td>26</td>\n",
       "      <td>-14854.506071</td>\n",
       "      <td>-15537.195714</td>\n",
       "      <td>-14851.158423</td>\n",
       "      <td>-12832.343479</td>\n",
       "      <td>-12610.510177</td>\n",
       "      <td>-14137.142773</td>\n",
       "      <td>1184.709666</td>\n",
       "      <td>4</td>\n",
       "      <td>-0.187751</td>\n",
       "      <td>-0.194246</td>\n",
       "      <td>-0.208243</td>\n",
       "      <td>-0.166839</td>\n",
       "      <td>-0.181615</td>\n",
       "      <td>-0.187739</td>\n",
       "      <td>0.013690</td>\n",
       "      <td>4</td>\n",
       "    </tr>\n",
       "    <tr>\n",
       "      <th>4</th>\n",
       "      <td>1.159257</td>\n",
       "      <td>0.035450</td>\n",
       "      <td>0.033212</td>\n",
       "      <td>0.006462</td>\n",
       "      <td>0.1</td>\n",
       "      <td>8</td>\n",
       "      <td>StandardScaler()</td>\n",
       "      <td>{'model__regressor__learning_rate': 0.1, 'model__regressor__max_depth': 8, 'scaler': StandardScaler()}</td>\n",
       "      <td>-29383.332177</td>\n",
       "      <td>-30862.515564</td>\n",
       "      <td>-29903.321551</td>\n",
       "      <td>-24850.299898</td>\n",
       "      <td>-21811.311508</td>\n",
       "      <td>-27362.156140</td>\n",
       "      <td>3461.689998</td>\n",
       "      <td>25</td>\n",
       "      <td>-14871.539606</td>\n",
       "      <td>-15531.585474</td>\n",
       "      <td>-14853.061668</td>\n",
       "      <td>-12844.167014</td>\n",
       "      <td>-12610.986594</td>\n",
       "      <td>-14142.268071</td>\n",
       "      <td>1182.975627</td>\n",
       "      <td>5</td>\n",
       "      <td>-0.188119</td>\n",
       "      <td>-0.194829</td>\n",
       "      <td>-0.208348</td>\n",
       "      <td>-0.169609</td>\n",
       "      <td>-0.181666</td>\n",
       "      <td>-0.188514</td>\n",
       "      <td>0.012944</td>\n",
       "      <td>5</td>\n",
       "    </tr>\n",
       "  </tbody>\n",
       "</table>\n",
       "</div>"
      ],
      "text/plain": [
       "   mean_fit_time  std_fit_time  mean_score_time  std_score_time  \\\n",
       "0  1.455141       0.009020      0.041195         0.008914         \n",
       "1  1.447860       0.047159      0.030719         0.004107         \n",
       "2  1.517106       0.080137      0.033020         0.003593         \n",
       "3  1.163159       0.055291      0.033013         0.004188         \n",
       "4  1.159257       0.035450      0.033212         0.006462         \n",
       "\n",
       "  param_model__regressor__learning_rate param_model__regressor__max_depth  \\\n",
       "0  0.1                                   10                                 \n",
       "1  0.1                                   10                                 \n",
       "2  0.1                                   10                                 \n",
       "3  0.1                                   8                                  \n",
       "4  0.1                                   8                                  \n",
       "\n",
       "       param_scaler  \\\n",
       "0  MinMaxScaler()     \n",
       "1  StandardScaler()   \n",
       "2  RobustScaler()     \n",
       "3  MinMaxScaler()     \n",
       "4  StandardScaler()   \n",
       "\n",
       "                                                                                                    params  \\\n",
       "0  {'model__regressor__learning_rate': 0.1, 'model__regressor__max_depth': 10, 'scaler': MinMaxScaler()}     \n",
       "1  {'model__regressor__learning_rate': 0.1, 'model__regressor__max_depth': 10, 'scaler': StandardScaler()}   \n",
       "2  {'model__regressor__learning_rate': 0.1, 'model__regressor__max_depth': 10, 'scaler': RobustScaler()}     \n",
       "3  {'model__regressor__learning_rate': 0.1, 'model__regressor__max_depth': 8, 'scaler': MinMaxScaler()}      \n",
       "4  {'model__regressor__learning_rate': 0.1, 'model__regressor__max_depth': 8, 'scaler': StandardScaler()}    \n",
       "\n",
       "   split0_test_neg_root_mean_squared_error  \\\n",
       "0 -26744.038246                              \n",
       "1 -26752.668488                              \n",
       "2 -26758.947043                              \n",
       "3 -29376.451014                              \n",
       "4 -29383.332177                              \n",
       "\n",
       "   split1_test_neg_root_mean_squared_error  \\\n",
       "0 -31729.440635                              \n",
       "1 -31728.216199                              \n",
       "2 -31808.753758                              \n",
       "3 -30875.573214                              \n",
       "4 -30862.515564                              \n",
       "\n",
       "   split2_test_neg_root_mean_squared_error  \\\n",
       "0 -31000.153302                              \n",
       "1 -30999.298492                              \n",
       "2 -30996.235131                              \n",
       "3 -29905.669950                              \n",
       "4 -29903.321551                              \n",
       "\n",
       "   split3_test_neg_root_mean_squared_error  \\\n",
       "0 -24862.715042                              \n",
       "1 -24917.839292                              \n",
       "2 -24895.250311                              \n",
       "3 -24921.644151                              \n",
       "4 -24850.299898                              \n",
       "\n",
       "   split4_test_neg_root_mean_squared_error  \\\n",
       "0 -21543.886056                              \n",
       "1 -21537.549303                              \n",
       "2 -21544.590614                              \n",
       "3 -21813.189177                              \n",
       "4 -21811.311508                              \n",
       "\n",
       "   mean_test_neg_root_mean_squared_error  \\\n",
       "0 -27176.046656                            \n",
       "1 -27187.114355                            \n",
       "2 -27200.755371                            \n",
       "3 -27378.505501                            \n",
       "4 -27362.156140                            \n",
       "\n",
       "   std_test_neg_root_mean_squared_error  \\\n",
       "0  3810.946230                            \n",
       "1  3805.529967                            \n",
       "2  3824.710804                            \n",
       "3  3453.020200                            \n",
       "4  3461.689998                            \n",
       "\n",
       "   rank_test_neg_root_mean_squared_error  split0_test_neg_mean_absolute_error  \\\n",
       "0  19                                    -13738.854690                          \n",
       "1  20                                    -13763.114080                          \n",
       "2  21                                    -13762.997649                          \n",
       "3  26                                    -14854.506071                          \n",
       "4  25                                    -14871.539606                          \n",
       "\n",
       "   split1_test_neg_mean_absolute_error  split2_test_neg_mean_absolute_error  \\\n",
       "0 -15620.075992                        -14770.820570                          \n",
       "1 -15615.546951                        -14764.943059                          \n",
       "2 -15660.289800                        -14767.846502                          \n",
       "3 -15537.195714                        -14851.158423                          \n",
       "4 -15531.585474                        -14853.061668                          \n",
       "\n",
       "   split3_test_neg_mean_absolute_error  split4_test_neg_mean_absolute_error  \\\n",
       "0 -12837.777367                        -12317.569902                          \n",
       "1 -12874.144526                        -12303.813542                          \n",
       "2 -12846.425595                        -12316.039062                          \n",
       "3 -12832.343479                        -12610.510177                          \n",
       "4 -12844.167014                        -12610.986594                          \n",
       "\n",
       "   mean_test_neg_mean_absolute_error  std_test_neg_mean_absolute_error  \\\n",
       "0 -13857.019704                       1213.764648                        \n",
       "1 -13864.312431                       1208.618074                        \n",
       "2 -13870.719722                       1223.536839                        \n",
       "3 -14137.142773                       1184.709666                        \n",
       "4 -14142.268071                       1182.975627                        \n",
       "\n",
       "   rank_test_neg_mean_absolute_error  \\\n",
       "0  1                                   \n",
       "1  2                                   \n",
       "2  3                                   \n",
       "3  4                                   \n",
       "4  5                                   \n",
       "\n",
       "   split0_test_neg_mean_absolute_percentage_error  \\\n",
       "0 -0.177105                                         \n",
       "1 -0.177427                                         \n",
       "2 -0.177469                                         \n",
       "3 -0.187751                                         \n",
       "4 -0.188119                                         \n",
       "\n",
       "   split1_test_neg_mean_absolute_percentage_error  \\\n",
       "0 -0.192460                                         \n",
       "1 -0.192521                                         \n",
       "2 -0.192860                                         \n",
       "3 -0.194246                                         \n",
       "4 -0.194829                                         \n",
       "\n",
       "   split2_test_neg_mean_absolute_percentage_error  \\\n",
       "0 -0.212853                                         \n",
       "1 -0.212585                                         \n",
       "2 -0.212843                                         \n",
       "3 -0.208243                                         \n",
       "4 -0.208348                                         \n",
       "\n",
       "   split3_test_neg_mean_absolute_percentage_error  \\\n",
       "0 -0.163739                                         \n",
       "1 -0.166200                                         \n",
       "2 -0.165845                                         \n",
       "3 -0.166839                                         \n",
       "4 -0.169609                                         \n",
       "\n",
       "   split4_test_neg_mean_absolute_percentage_error  \\\n",
       "0 -0.178292                                         \n",
       "1 -0.178156                                         \n",
       "2 -0.178237                                         \n",
       "3 -0.181615                                         \n",
       "4 -0.181666                                         \n",
       "\n",
       "   mean_test_neg_mean_absolute_percentage_error  \\\n",
       "0 -0.184890                                       \n",
       "1 -0.185378                                       \n",
       "2 -0.185451                                       \n",
       "3 -0.187739                                       \n",
       "4 -0.188514                                       \n",
       "\n",
       "   std_test_neg_mean_absolute_percentage_error  \\\n",
       "0  0.016678                                      \n",
       "1  0.015965                                      \n",
       "2  0.016158                                      \n",
       "3  0.013690                                      \n",
       "4  0.012944                                      \n",
       "\n",
       "   rank_test_neg_mean_absolute_percentage_error  \n",
       "0  1                                             \n",
       "1  2                                             \n",
       "2  3                                             \n",
       "3  4                                             \n",
       "4  5                                             "
      ]
     },
     "execution_count": 176,
     "metadata": {},
     "output_type": "execute_result"
    }
   ],
   "source": [
    "# Melihat hasil tuning dalam bentuk dataframe. Diurutkan berdasarkan RMSE, MAE & MAPE\n",
    "df_xgb_score=pd.DataFrame(gridsearch_xgb.cv_results_).sort_values(by=[\"rank_test_neg_mean_absolute_error\",\"rank_test_neg_root_mean_squared_error\",\"rank_test_neg_mean_absolute_percentage_error\"]).reset_index(drop=True)\n",
    "df_xgb_score.head()"
   ]
  },
  {
   "cell_type": "code",
   "execution_count": 177,
   "metadata": {},
   "outputs": [
    {
     "name": "stdout",
     "output_type": "stream",
     "text": [
      "XGBoost Hypertuning\n",
      "Best_score: -13857.01970430738\n",
      "Best_params: {'model__regressor__learning_rate': 0.1, 'model__regressor__max_depth': 10, 'scaler': MinMaxScaler()}\n"
     ]
    }
   ],
   "source": [
    "print(\"XGBoost Hypertuning\")\n",
    "print(\"Best_score:\",gridsearch_xgb.best_score_)\n",
    "print(\"Best_params:\",gridsearch_xgb.best_params_)"
   ]
  },
  {
   "cell_type": "markdown",
   "metadata": {},
   "source": [
    "### 7.4 Model Implementation to Test Set"
   ]
  },
  {
   "cell_type": "markdown",
   "metadata": {},
   "source": [
    "**Comparison Between Before Tuning and After Tuning**"
   ]
  },
  {
   "cell_type": "code",
   "execution_count": 178,
   "metadata": {},
   "outputs": [],
   "source": [
    "score_rmse=[]\n",
    "score_mae=[]\n",
    "score_mape=[]"
   ]
  },
  {
   "cell_type": "code",
   "execution_count": 179,
   "metadata": {},
   "outputs": [],
   "source": [
    "model_before_tuning=Pipeline([\n",
    "    (\"transformer\",transformer),\n",
    "    (\"scaler\",scaler_standard),\n",
    "    (\"model\",log_xgb)\n",
    "])\n",
    "\n",
    "model_before_tuning.fit(X_train, y_train)\n",
    "y_pred_xgb=model_before_tuning.predict(X_test)\n",
    "\n",
    "score_rmse.append(np.sqrt(mean_squared_error(y_test,y_pred_xgb)))\n",
    "score_mae.append(mean_absolute_error(y_test,y_pred_xgb))\n",
    "score_mape.append(mean_absolute_percentage_error(y_test,y_pred_xgb))"
   ]
  },
  {
   "cell_type": "code",
   "execution_count": 180,
   "metadata": {},
   "outputs": [],
   "source": [
    "xgb_tuning=gridsearch_xgb.best_estimator_.fit(X_train,y_train)\n",
    "y_pred_xgb_tuning=xgb_tuning.predict(X_test)\n",
    "\n",
    "score_rmse.append(np.sqrt(mean_squared_error(y_test,y_pred_xgb_tuning)))\n",
    "score_mae.append(mean_absolute_error(y_test,y_pred_xgb_tuning))\n",
    "score_mape.append(mean_absolute_percentage_error(y_test,y_pred_xgb_tuning))"
   ]
  },
  {
   "cell_type": "code",
   "execution_count": 181,
   "metadata": {},
   "outputs": [
    {
     "data": {
      "text/html": [
       "<div>\n",
       "<style scoped>\n",
       "    .dataframe tbody tr th:only-of-type {\n",
       "        vertical-align: middle;\n",
       "    }\n",
       "\n",
       "    .dataframe tbody tr th {\n",
       "        vertical-align: top;\n",
       "    }\n",
       "\n",
       "    .dataframe thead th {\n",
       "        text-align: right;\n",
       "    }\n",
       "</style>\n",
       "<table border=\"1\" class=\"dataframe\">\n",
       "  <thead>\n",
       "    <tr style=\"text-align: right;\">\n",
       "      <th></th>\n",
       "      <th>RMSE</th>\n",
       "      <th>MAE</th>\n",
       "      <th>MAPE</th>\n",
       "    </tr>\n",
       "  </thead>\n",
       "  <tbody>\n",
       "    <tr>\n",
       "      <th>XGB Before Tuning</th>\n",
       "      <td>24779.564456</td>\n",
       "      <td>14072.533962</td>\n",
       "      <td>0.21306</td>\n",
       "    </tr>\n",
       "    <tr>\n",
       "      <th>XGB After Tuning</th>\n",
       "      <td>23721.409458</td>\n",
       "      <td>13186.261234</td>\n",
       "      <td>0.19665</td>\n",
       "    </tr>\n",
       "  </tbody>\n",
       "</table>\n",
       "</div>"
      ],
      "text/plain": [
       "                           RMSE           MAE     MAPE\n",
       "XGB Before Tuning  24779.564456  14072.533962  0.21306\n",
       "XGB After Tuning   23721.409458  13186.261234  0.19665"
      ]
     },
     "execution_count": 181,
     "metadata": {},
     "output_type": "execute_result"
    }
   ],
   "source": [
    "df_comp_tuning=pd.DataFrame({\"RMSE\":score_rmse,\"MAE\":score_mae,\"MAPE\":score_mape},index=[\"XGB Before Tuning\",\"XGB After Tuning\"])\n",
    "df_comp_tuning"
   ]
  },
  {
   "cell_type": "markdown",
   "metadata": {},
   "source": [
    "**Comparison Between XGB model with best hyperparameter Predicted on Test Set and Train Set**"
   ]
  },
  {
   "cell_type": "code",
   "execution_count": 182,
   "metadata": {},
   "outputs": [],
   "source": [
    "score_rmse=[]\n",
    "score_mae=[]\n",
    "score_mape=[]"
   ]
  },
  {
   "cell_type": "code",
   "execution_count": 183,
   "metadata": {},
   "outputs": [],
   "source": [
    "# train \n",
    "score_rmse.append(df_xgb_score[\"mean_test_neg_root_mean_squared_error\"][0]*-1)\n",
    "score_mae.append(df_xgb_score[\"mean_test_neg_mean_absolute_error\"][0]*-1)\n",
    "score_mape.append(df_xgb_score[\"mean_test_neg_mean_absolute_percentage_error\"][0]*-1)"
   ]
  },
  {
   "cell_type": "code",
   "execution_count": 184,
   "metadata": {},
   "outputs": [],
   "source": [
    "# test\n",
    "xgb_tuning=gridsearch_xgb.best_estimator_.fit(X_train,y_train)\n",
    "y_pred_xgb_tuning=xgb_tuning.predict(X_test)\n",
    "\n",
    "score_rmse.append(np.sqrt(mean_squared_error(y_test,y_pred_xgb_tuning)))\n",
    "score_mae.append(mean_absolute_error(y_test,y_pred_xgb_tuning))\n",
    "score_mape.append(mean_absolute_percentage_error(y_test,y_pred_xgb_tuning))"
   ]
  },
  {
   "cell_type": "code",
   "execution_count": 185,
   "metadata": {},
   "outputs": [
    {
     "data": {
      "text/html": [
       "<div>\n",
       "<style scoped>\n",
       "    .dataframe tbody tr th:only-of-type {\n",
       "        vertical-align: middle;\n",
       "    }\n",
       "\n",
       "    .dataframe tbody tr th {\n",
       "        vertical-align: top;\n",
       "    }\n",
       "\n",
       "    .dataframe thead th {\n",
       "        text-align: right;\n",
       "    }\n",
       "</style>\n",
       "<table border=\"1\" class=\"dataframe\">\n",
       "  <thead>\n",
       "    <tr style=\"text-align: right;\">\n",
       "      <th></th>\n",
       "      <th>RMSE</th>\n",
       "      <th>MAE</th>\n",
       "      <th>MAPE</th>\n",
       "    </tr>\n",
       "  </thead>\n",
       "  <tbody>\n",
       "    <tr>\n",
       "      <th>XGB Train Score</th>\n",
       "      <td>27176.046656</td>\n",
       "      <td>13857.019704</td>\n",
       "      <td>0.18489</td>\n",
       "    </tr>\n",
       "    <tr>\n",
       "      <th>XGB Test Score</th>\n",
       "      <td>23721.409458</td>\n",
       "      <td>13186.261234</td>\n",
       "      <td>0.19665</td>\n",
       "    </tr>\n",
       "  </tbody>\n",
       "</table>\n",
       "</div>"
      ],
      "text/plain": [
       "                         RMSE           MAE     MAPE\n",
       "XGB Train Score  27176.046656  13857.019704  0.18489\n",
       "XGB Test Score   23721.409458  13186.261234  0.19665"
      ]
     },
     "execution_count": 185,
     "metadata": {},
     "output_type": "execute_result"
    }
   ],
   "source": [
    "df_comp_traintest=pd.DataFrame({\"RMSE\":score_rmse,\"MAE\":score_mae,\"MAPE\":score_mape},index=[\"XGB Train Score\",\"XGB Test Score\"])\n",
    "df_comp_traintest"
   ]
  },
  {
   "cell_type": "markdown",
   "metadata": {},
   "source": [
    "**Comparison Between Predicted and Actual Price Predict on Test Set**"
   ]
  },
  {
   "cell_type": "code",
   "execution_count": 186,
   "metadata": {},
   "outputs": [
    {
     "data": {
      "application/vnd.plotly.v1+json": {
       "config": {
        "plotlyServerURL": "https://plot.ly"
       },
       "data": [
        {
         "hovertemplate": "Actual Price=%{x}<br>Predicted Price=%{y}<extra></extra>",
         "legendgroup": "",
         "marker": {
          "color": "#636efa",
          "symbol": "circle"
         },
         "mode": "markers",
         "name": "",
         "orientation": "v",
         "showlegend": false,
         "type": "scatter",
         "x": [
          78000,
          40000,
          245000,
          90000,
          40500,
          64000,
          26000,
          159000,
          66587,
          164000,
          259000,
          77000,
          135000,
          42000,
          80000,
          50000,
          52000,
          104000,
          116000,
          52000,
          15000,
          59500,
          20000,
          98000,
          32000,
          57000,
          77500,
          83000,
          40000,
          36500,
          122000,
          14000,
          40000,
          57000,
          70000,
          85000,
          65000,
          21000,
          40500,
          25000,
          45000,
          67000,
          27500,
          124500,
          113000,
          39000,
          47000,
          32000,
          26000,
          81000,
          42000,
          17000,
          17000,
          55000,
          85000,
          30000,
          79000,
          48000,
          36000,
          185000,
          24000,
          310000,
          50000,
          60000,
          33000,
          33000,
          147000,
          40000,
          95000,
          115000,
          63000,
          19000,
          41500,
          83500,
          72000,
          100000,
          55000,
          83000,
          45000,
          220000,
          106000,
          60000,
          74000,
          13000,
          31000,
          34000,
          100000,
          140000,
          30000,
          93500,
          15000,
          365000,
          126500,
          155000,
          38000,
          59000,
          26500,
          111500,
          54000,
          36000,
          65000,
          55000,
          74500,
          36500,
          36000,
          105000,
          75000,
          46000,
          182000,
          122000,
          30000,
          145000,
          41500,
          29000,
          120000,
          70000,
          10000,
          103000,
          36500,
          30000,
          27500,
          75000,
          127000,
          14000,
          86000,
          85000,
          30000,
          38000,
          75000,
          95000,
          62000,
          27500,
          175000,
          15000,
          68000,
          150000,
          39000,
          220000,
          50000,
          36000,
          30000,
          39000,
          10000,
          88000,
          135000,
          186500,
          54000,
          50500,
          120000,
          37500,
          30000,
          171500,
          90000,
          30000,
          76500,
          38000,
          48000,
          57000,
          48000,
          27000,
          28000,
          125000,
          13000,
          63000,
          121500,
          17000,
          30000,
          39000,
          23900,
          35000,
          45000,
          28000,
          40000,
          45000,
          37000,
          50000,
          82000,
          43000,
          40000,
          38500,
          43000,
          115000,
          35000,
          24500,
          126000,
          195000,
          79500,
          55000,
          43000,
          77000,
          61000,
          55000,
          119000,
          78000,
          35000,
          27500,
          80000,
          50000,
          111500,
          67000,
          54000,
          220000,
          65000,
          48000,
          57500,
          125000,
          58500,
          38000,
          498000,
          144000,
          145000,
          23000,
          106000,
          16500,
          125000,
          105000,
          110000,
          17000,
          10000,
          46000,
          70000,
          19000,
          45000,
          75000,
          135000,
          15000,
          27000,
          82000,
          161500,
          18000,
          122000,
          38000,
          32000,
          85000,
          84000,
          17000,
          49000,
          116500,
          45000,
          38000,
          98000,
          55000,
          59000,
          245000,
          245000,
          45000,
          82000,
          37500,
          160000,
          58000,
          63000,
          195000,
          42000,
          40000,
          39500,
          42000,
          14000,
          25000,
          46000,
          45000,
          38000,
          39000,
          37000,
          135000,
          83000,
          36000,
          63000,
          21000,
          68500,
          42000,
          60500,
          175000,
          195000,
          85000,
          79500,
          18000,
          66000,
          38000,
          105000,
          194500,
          25000,
          45000,
          53000,
          16000,
          22000,
          54000,
          18000,
          132000,
          27000,
          15000,
          350000,
          150000,
          85000,
          95000,
          58000,
          76500,
          86000,
          12000,
          180000,
          130000,
          29000,
          200000,
          38000,
          105000,
          63000,
          33000,
          40000,
          75000,
          45000,
          110000,
          48500,
          59000,
          50000,
          21000,
          57000,
          85000,
          35500,
          52000,
          58000,
          320000,
          10000,
          163000,
          150000,
          11000,
          17500,
          145000,
          39500,
          26500,
          41500,
          54000,
          32000,
          33000,
          77000,
          145000,
          63000,
          20000,
          25000,
          54000,
          72910,
          71000,
          30000,
          45000,
          22500,
          40000,
          42000,
          35000,
          65000,
          71500,
          108000,
          82000,
          16000,
          57500,
          57000,
          115000,
          188000,
          178000,
          85000,
          13000,
          45000,
          17000,
          100000,
          35000,
          35000,
          88000,
          180000,
          20000,
          65000,
          60000,
          15000,
          58000,
          180000,
          33000,
          174000,
          130000,
          47000,
          30000,
          90000,
          22000,
          32000,
          142000,
          65000,
          95000,
          155000,
          68000,
          52000,
          37500,
          49000,
          9500,
          62000,
          72000,
          230000,
          225000,
          32000,
          79000,
          45000,
          54000,
          98000,
          28000,
          11000,
          145000,
          65000,
          88000,
          11000,
          22000,
          26000,
          33000,
          123000,
          213000,
          119000,
          62000,
          139000,
          120000,
          129000,
          82000,
          18500,
          29500,
          58000,
          24000,
          68000,
          32000,
          45000,
          69500,
          35000,
          220000,
          12000,
          125000,
          45000,
          9500,
          48500,
          90000,
          25000,
          32000,
          165000,
          56000,
          160000,
          50000,
          64000,
          12000,
          75000,
          50000,
          135000,
          75000,
          120000,
          72000,
          71000,
          100000,
          129000,
          65000,
          70000,
          12000,
          38500,
          70500,
          76500,
          71500,
          49000,
          195000,
          15000,
          142000,
          104500,
          38000,
          30000,
          66000,
          76500,
          61000,
          66000,
          52000,
          32000,
          50000,
          58000,
          64000,
          265000,
          95000,
          25000,
          155000,
          65000,
          90000,
          58000,
          25000,
          126000,
          22000,
          15000,
          9000,
          28500,
          43500,
          225000,
          6500,
          110000,
          32000,
          120000,
          64000,
          60000,
          19000,
          76000,
          68000,
          69500,
          138000,
          75000,
          65000,
          44000,
          13500,
          48000,
          65000,
          70000,
          235000,
          48000,
          42000,
          45000,
          261500,
          55000,
          53000,
          418000,
          60000,
          223000,
          54000,
          150000,
          75000,
          290000,
          33000,
          40000,
          45000,
          54000,
          47000,
          43000,
          93500,
          30000,
          76500,
          42000,
          25000,
          76500,
          50000,
          12500,
          111000,
          33500,
          112000,
          16000,
          60000,
          37000,
          65000,
          65000,
          53000,
          58000,
          30000,
          35500,
          69000,
          64000,
          45000,
          68000,
          85000,
          60000,
          22000,
          110000,
          57000,
          48000,
          220000,
          45000,
          64000,
          49000,
          48500,
          70000,
          40000,
          50000,
          27500,
          57000,
          210000,
          49000,
          32500,
          80000,
          127000,
          62000,
          63000,
          45000,
          86000,
          30000,
          110000,
          68000,
          170000,
          30000,
          55000,
          84500,
          129000,
          34000,
          21500,
          298000,
          62000,
          120000,
          175000,
          35000,
          67000,
          39000,
          56500,
          50000,
          85000,
          124000,
          19000,
          41000,
          41500,
          80000,
          255000,
          360000,
          445000,
          129000,
          75000,
          63000,
          66000,
          63000,
          45000,
          119000,
          39000,
          20000,
          296000,
          18500,
          39000,
          45000,
          45000,
          95000,
          290000,
          290000,
          64000,
          210000,
          20000,
          48000,
          260000,
          52000,
          25000,
          108000,
          140000,
          83000,
          79000,
          38000,
          57000,
          95000,
          250000,
          58000,
          26000,
          8000,
          29000,
          85000,
          50000,
          170000,
          69000,
          63000,
          118000,
          70000,
          65000,
          62000,
          37000,
          20000,
          28000,
          15000,
          177000,
          38000,
          56000,
          105000,
          57000,
          73000,
          61000,
          30000,
          56008,
          40000,
          69000,
          75000,
          20000,
          35000,
          64500,
          75000,
          10000,
          58000,
          50000,
          53000,
          138000,
          44000,
          60000,
          25000,
          66000,
          26800,
          110000,
          245000,
          55000,
          28000,
          150000,
          58000,
          116000,
          47000,
          290000,
          80000,
          55000,
          38500,
          72500,
          14000,
          13500,
          65000,
          141000,
          40000,
          123000,
          98000,
          22000,
          87000,
          30000,
          30000,
          78000,
          22500,
          24000,
          45000,
          25000,
          45000,
          135000,
          60000,
          75000,
          25000,
          75000,
          107000,
          18000,
          99000,
          60000,
          40000,
          68500,
          40000,
          38000,
          102000,
          48000,
          23000,
          140000,
          179000,
          52000,
          83000,
          160000,
          69000
         ],
         "xaxis": "x",
         "y": [
          73048.6640625,
          46352.078125,
          289918.3125,
          112719.3203125,
          48460.23828125,
          58483.8671875,
          39388.61328125,
          106346.9296875,
          50988.89453125,
          138909.84375,
          228987.796875,
          36031.484375,
          141148.359375,
          40857.7265625,
          85202.5,
          50441.9765625,
          43290.1796875,
          31155.8671875,
          153668.875,
          51951.08984375,
          19522.185546875,
          89709.7734375,
          21723.45703125,
          118171.0859375,
          32516.30078125,
          48777.66015625,
          65811.765625,
          76826.5625,
          53061.7890625,
          33994.01953125,
          143914.28125,
          22404.142578125,
          36909.20703125,
          38416.3046875,
          63162.1875,
          73501.984375,
          55846.2109375,
          25456.55859375,
          39675.703125,
          27086.2734375,
          38499.2265625,
          67223.546875,
          42187.46875,
          179252.375,
          143824.96875,
          64214.9375,
          61910.22265625,
          34453.890625,
          25598.26953125,
          69145.5859375,
          35704.44140625,
          15781.7841796875,
          20934.7421875,
          45108.6484375,
          62972.125,
          30553.9296875,
          61505.1640625,
          49058.83203125,
          33500.90625,
          160530.84375,
          37339.54296875,
          207834.09375,
          56083.23828125,
          61256.44140625,
          27675.6875,
          29881.720703125,
          135111.6875,
          38815.69140625,
          101447.2421875,
          137053.53125,
          57014.03125,
          17990.8046875,
          40638.20703125,
          119317.5546875,
          84506.2421875,
          102320.9375,
          59438.40234375,
          84951.953125,
          53246.00390625,
          163095.21875,
          104410.8046875,
          70169.265625,
          75342.5390625,
          14814.830078125,
          28138.90234375,
          37920.9375,
          75165.1328125,
          116105.921875,
          29640.01953125,
          123350.359375,
          21616.880859375,
          288974.8125,
          85057.2578125,
          104990.734375,
          39930.14453125,
          60177.484375,
          39570.27734375,
          100475.8359375,
          53137.59765625,
          52425.05078125,
          33243.37109375,
          36563.453125,
          73735.84375,
          36907.62109375,
          54578.81640625,
          98283.1015625,
          86907.3359375,
          44930.859375,
          147671.328125,
          124734.765625,
          51010.68359375,
          166124.625,
          39933.15234375,
          26151.0390625,
          169071.71875,
          42124.390625,
          13467.26953125,
          188417.359375,
          23950.146484375,
          33873.6015625,
          26552.955078125,
          65865.515625,
          152420.671875,
          19793.28125,
          103579.6015625,
          78346.984375,
          28430.330078125,
          41790.4765625,
          47340.81640625,
          95181.1484375,
          52554,
          28112.107421875,
          63934.88671875,
          29898.880859375,
          61382.2890625,
          134854.75,
          37017.00390625,
          243739.265625,
          51389.9296875,
          32104.728515625,
          28882.009765625,
          35524.01953125,
          17081.37109375,
          83575.09375,
          70744.8359375,
          185279.453125,
          46643.55078125,
          43169.42578125,
          155819.609375,
          35251.7734375,
          26371.984375,
          165467.171875,
          95857.7109375,
          30664.65234375,
          69849.71875,
          39382.56640625,
          43706.2109375,
          59741.53125,
          44898.4765625,
          23572.763671875,
          26685.291015625,
          129553.3125,
          14726.677734375,
          64714.4453125,
          200163.9375,
          12909.296875,
          51986.82421875,
          49892.73828125,
          39939.6640625,
          37206.45703125,
          65044.6640625,
          25454.6640625,
          38757.69140625,
          45491.54296875,
          51820.16015625,
          54411.41796875,
          67056.625,
          41782.109375,
          43933.83984375,
          34085.14453125,
          43593.8984375,
          96999.3046875,
          44246.6328125,
          33674.29296875,
          116649.9765625,
          206647.265625,
          75520.3671875,
          64537.9921875,
          44154.1484375,
          68124.1796875,
          62480.58203125,
          122769.0859375,
          121907.5859375,
          74679.265625,
          34833.50390625,
          29384.099609375,
          114746.8984375,
          44922.12109375,
          91146.2265625,
          59336.23046875,
          49156.52734375,
          82142.1015625,
          67173.8203125,
          59391.9375,
          46860.05859375,
          127268.3515625,
          57003.75390625,
          33485.54296875,
          456481.46875,
          137083.46875,
          175627.640625,
          25228.6015625,
          111037.9296875,
          20450.919921875,
          94478.5546875,
          96305.046875,
          91592.453125,
          13629.9423828125,
          18001.048828125,
          29457.470703125,
          55614.16796875,
          24464.80859375,
          63685.01953125,
          40241.74609375,
          126740.5078125,
          35673.05859375,
          27969.732421875,
          75660.796875,
          125523.3125,
          36469.0078125,
          115729.9453125,
          56613.41015625,
          38083.734375,
          64727.40625,
          72073.515625,
          22415.169921875,
          61824.96484375,
          97469.5390625,
          51221.17578125,
          40406.72265625,
          97928.5078125,
          84564.125,
          59194.25390625,
          238463.234375,
          139802.125,
          37548.62109375,
          59161.46484375,
          34470.9140625,
          26437.607421875,
          75801.78125,
          63517.9140625,
          133741,
          29632.21875,
          40589.36328125,
          40739.2109375,
          44887.55859375,
          16780.568359375,
          36588.7421875,
          44930.859375,
          54451.9609375,
          30527.802734375,
          44507.03515625,
          41618.4609375,
          84270.03125,
          70793.765625,
          64774.83203125,
          61011.921875,
          24694.41015625,
          72949.671875,
          39189.83984375,
          52611.3671875,
          177416.625,
          270126.375,
          43051.5546875,
          80479.5390625,
          11820.67578125,
          65039.640625,
          49096.23046875,
          105715.640625,
          193183.03125,
          41423.640625,
          48116.234375,
          48394.1484375,
          23973.73046875,
          16432.400390625,
          60317.50390625,
          20826.69140625,
          129490.9296875,
          25285.6875,
          11867.505859375,
          326002.15625,
          118389.921875,
          66060.71875,
          43191.2109375,
          58262.3046875,
          65186.8125,
          61789.71484375,
          13828.9853515625,
          226758.359375,
          136723.515625,
          28424.80078125,
          156044.15625,
          39801.18359375,
          95242.2578125,
          50749.2890625,
          31256.99609375,
          44889.40234375,
          94095.40625,
          50515.62890625,
          114360.2734375,
          43751.66796875,
          46864.2578125,
          57290.2578125,
          27481.115234375,
          39921.5390625,
          87142.0390625,
          38064.9609375,
          51107.2890625,
          55494.74609375,
          166753.03125,
          12425.5400390625,
          145109.703125,
          140480.53125,
          24057.166015625,
          17274.91015625,
          194234.171875,
          35251.7734375,
          26066.580078125,
          39221.47265625,
          50622.59765625,
          33079.234375,
          31403.8203125,
          52652.7265625,
          138087.890625,
          63944.15234375,
          23035.11328125,
          18586.267578125,
          65064.765625,
          81554.5703125,
          72625.21875,
          29923.212890625,
          47689.0078125,
          33056.53125,
          31066.740234375,
          41128.1015625,
          30637.408203125,
          46007.59375,
          61532.15234375,
          92228.71875,
          59963.3984375,
          11813.552734375,
          60421.078125,
          39298.90234375,
          95088.8828125,
          188620.875,
          136932.171875,
          51732.8125,
          15633.0966796875,
          36362.078125,
          20774.71875,
          79572.421875,
          62837.74609375,
          31461.67578125,
          82675.265625,
          188039.84375,
          23562.919921875,
          39223.90234375,
          52270.140625,
          29230.013671875,
          57116.72265625,
          165487.53125,
          31344.90625,
          200041.609375,
          97337.0703125,
          53779.55859375,
          11310.626953125,
          127399.6171875,
          32585.619140625,
          38957.20703125,
          117307.0546875,
          78174.875,
          90157.21875,
          212927.96875,
          71515.9765625,
          49794.05859375,
          33151.08203125,
          45998.6875,
          14270.9716796875,
          50006.30078125,
          80927.3203125,
          203558.78125,
          307180.25,
          30023.630859375,
          64311.40234375,
          76267.015625,
          83915.9609375,
          94546.3359375,
          14420.794921875,
          16018.177734375,
          93939.125,
          65416.671875,
          96376.6171875,
          23384.033203125,
          31247.875,
          27978.32421875,
          34976.375,
          119950.875,
          230871.390625,
          130241.7109375,
          63826.01953125,
          131234.296875,
          106308.1953125,
          127922.5234375,
          79231.515625,
          18030.068359375,
          27978.32421875,
          51706.62109375,
          21555.4296875,
          78987,
          41019.98828125,
          50374.86328125,
          43930.02734375,
          37676.89453125,
          202079.859375,
          18916.607421875,
          106833.9453125,
          48302.76171875,
          20188.154296875,
          50780.66015625,
          94540.7421875,
          18132.771484375,
          31995.181640625,
          164166.34375,
          42655.33984375,
          85679.0078125,
          50876.10546875,
          70033.953125,
          29801.208984375,
          15211.2314453125,
          49813.4375,
          105742.359375,
          66977.8203125,
          65410.68359375,
          104240.7734375,
          75708.65625,
          119585.2578125,
          124419.21875,
          70465.734375,
          71805.5390625,
          17605.33203125,
          61639.6328125,
          65459.671875,
          68473.1640625,
          69993.421875,
          50128.77734375,
          203499.578125,
          24418.935546875,
          118719.2734375,
          108406.796875,
          40854.7265625,
          28814.908203125,
          67688.0859375,
          54217.0703125,
          65540.5,
          51945.34375,
          47328.265625,
          32962.30859375,
          57642.1015625,
          78153.2578125,
          51708.7421875,
          243828.078125,
          72385.6328125,
          30389.537109375,
          148362.859375,
          59829.50390625,
          114591.0625,
          57839.51171875,
          36788.109375,
          128393.4375,
          26727.31640625,
          27943.7109375,
          22663.630859375,
          30191.9765625,
          45997.85546875,
          217544.203125,
          19956.685546875,
          97613.3515625,
          33560.92578125,
          100976.3046875,
          68386.1796875,
          65751.546875,
          19433.44921875,
          80311.703125,
          78658.4296875,
          67114.015625,
          131431.6875,
          77133.65625,
          77824.9609375,
          51322.734375,
          15084.32421875,
          49851.265625,
          70094.0234375,
          80075.6171875,
          213730.5625,
          34033.88671875,
          40666.546875,
          40082.02734375,
          242686,
          35772.265625,
          55341.796875,
          420853.8125,
          54598.546875,
          156429.328125,
          50014.21875,
          159877.546875,
          66235.140625,
          192630.203125,
          40816.9921875,
          34278.02734375,
          31603.85546875,
          57469.85546875,
          53605.1015625,
          46749.18359375,
          79900.09375,
          40402.09765625,
          68198.21875,
          47157.828125,
          32279.90625,
          67087.84375,
          25924.353515625,
          15126.6044921875,
          131904.203125,
          36421.25390625,
          101075.546875,
          27200.533203125,
          91445.2109375,
          45055.55078125,
          53960.13671875,
          65187.49609375,
          60805.76953125,
          55695.21484375,
          29802.744140625,
          37224.16796875,
          64047.78515625,
          55456.23046875,
          47707.06640625,
          53127.3125,
          74058.3359375,
          72080.390625,
          20640.234375,
          93204.8828125,
          75514.3203125,
          59928.2421875,
          15164.7509765625,
          58046.12109375,
          56164.00390625,
          45887.26953125,
          47268.05078125,
          77666.7421875,
          54443.08203125,
          42042.1953125,
          38643.4609375,
          51589.14453125,
          249031.796875,
          44926.23046875,
          32595.658203125,
          80459.96875,
          130541.890625,
          79749.5859375,
          55307.9765625,
          55055.796875,
          90193.0859375,
          47196.92578125,
          99193.9453125,
          68521.640625,
          129586.796875,
          34905.1328125,
          17636.1015625,
          74251.609375,
          148291,
          29701.365234375,
          21379.853515625,
          296341.28125,
          57946.62109375,
          134134.15625,
          166484,
          36116.4921875,
          55286.4609375,
          42918.98046875,
          49040.21484375,
          53237.1171875,
          86925.734375,
          98488.5859375,
          22794.685546875,
          50840.3125,
          38295.30078125,
          74486.578125,
          211054.453125,
          208031,
          441307.25,
          140495.671875,
          70039.4921875,
          69756.0546875,
          71253.203125,
          52528.64453125,
          36791.6171875,
          68810.8828125,
          69625.125,
          22924.857421875,
          274666.40625,
          17859.17578125,
          43329.875,
          48498.0078125,
          45398.1015625,
          85597.9921875,
          267366.34375,
          176668.65625,
          70804.84375,
          211426.75,
          16205.09375,
          36613.45703125,
          253230.328125,
          69505.90625,
          28837.28515625,
          102707.890625,
          121420.6171875,
          92527.2890625,
          70271.7890625,
          46634.875,
          50478.2578125,
          88799.4296875,
          184439.40625,
          45982.59375,
          48214.58203125,
          16237.611328125,
          40746.6328125,
          107250.4453125,
          58632.3046875,
          215192.921875,
          64212.671875,
          58063.89453125,
          120545.9375,
          61342.203125,
          57467.390625,
          63657.02734375,
          42762.828125,
          29030.771484375,
          25532.416015625,
          20623.17578125,
          132656.828125,
          43316.15625,
          55553.734375,
          100534.78125,
          58868.18359375,
          65001.1953125,
          89709.7734375,
          33288.95703125,
          63716.0625,
          40928.00390625,
          61866.07421875,
          60143.34375,
          17708.150390625,
          47571.17578125,
          64235.8828125,
          87124.2578125,
          12463.7548828125,
          56033.73046875,
          19066.826171875,
          44350.515625,
          105858.296875,
          42883.62890625,
          63033.65234375,
          32344.095703125,
          84725.0078125,
          27978.32421875,
          101145.359375,
          235516.078125,
          45114.54296875,
          29759.091796875,
          129970.46875,
          56500.14453125,
          102143.59375,
          45376.71875,
          298193.625,
          87195.5703125,
          70490.3359375,
          29860.66796875,
          66169.734375,
          12370.1943359375,
          12672.533203125,
          53046.00390625,
          119371.953125,
          17704.72265625,
          128386.4609375,
          89640.25,
          27457.591796875,
          98531.609375,
          20026.619140625,
          26093.14453125,
          67575.3359375,
          20633.740234375,
          23421.73046875,
          61033.8046875,
          28939.6328125,
          47561.7890625,
          149764.109375,
          57041.27734375,
          74121.640625,
          43479.5546875,
          49887.125,
          95874.7109375,
          35070.1640625,
          59402.703125,
          53631.58984375,
          53712.6171875,
          61026.64453125,
          31868.681640625,
          49742.51171875,
          118290.9453125,
          42441.984375,
          28716.724609375,
          118679.421875,
          200978.984375,
          54099.26171875,
          70760.4921875,
          150089.390625,
          73851.046875
         ],
         "yaxis": "y"
        }
       ],
       "layout": {
        "height": 600,
        "legend": {
         "tracegroupgap": 0
        },
        "template": {
         "data": {
          "bar": [
           {
            "error_x": {
             "color": "#2a3f5f"
            },
            "error_y": {
             "color": "#2a3f5f"
            },
            "marker": {
             "line": {
              "color": "#E5ECF6",
              "width": 0.5
             },
             "pattern": {
              "fillmode": "overlay",
              "size": 10,
              "solidity": 0.2
             }
            },
            "type": "bar"
           }
          ],
          "barpolar": [
           {
            "marker": {
             "line": {
              "color": "#E5ECF6",
              "width": 0.5
             },
             "pattern": {
              "fillmode": "overlay",
              "size": 10,
              "solidity": 0.2
             }
            },
            "type": "barpolar"
           }
          ],
          "carpet": [
           {
            "aaxis": {
             "endlinecolor": "#2a3f5f",
             "gridcolor": "white",
             "linecolor": "white",
             "minorgridcolor": "white",
             "startlinecolor": "#2a3f5f"
            },
            "baxis": {
             "endlinecolor": "#2a3f5f",
             "gridcolor": "white",
             "linecolor": "white",
             "minorgridcolor": "white",
             "startlinecolor": "#2a3f5f"
            },
            "type": "carpet"
           }
          ],
          "choropleth": [
           {
            "colorbar": {
             "outlinewidth": 0,
             "ticks": ""
            },
            "type": "choropleth"
           }
          ],
          "contour": [
           {
            "colorbar": {
             "outlinewidth": 0,
             "ticks": ""
            },
            "colorscale": [
             [
              0,
              "#0d0887"
             ],
             [
              0.1111111111111111,
              "#46039f"
             ],
             [
              0.2222222222222222,
              "#7201a8"
             ],
             [
              0.3333333333333333,
              "#9c179e"
             ],
             [
              0.4444444444444444,
              "#bd3786"
             ],
             [
              0.5555555555555556,
              "#d8576b"
             ],
             [
              0.6666666666666666,
              "#ed7953"
             ],
             [
              0.7777777777777778,
              "#fb9f3a"
             ],
             [
              0.8888888888888888,
              "#fdca26"
             ],
             [
              1,
              "#f0f921"
             ]
            ],
            "type": "contour"
           }
          ],
          "contourcarpet": [
           {
            "colorbar": {
             "outlinewidth": 0,
             "ticks": ""
            },
            "type": "contourcarpet"
           }
          ],
          "heatmap": [
           {
            "colorbar": {
             "outlinewidth": 0,
             "ticks": ""
            },
            "colorscale": [
             [
              0,
              "#0d0887"
             ],
             [
              0.1111111111111111,
              "#46039f"
             ],
             [
              0.2222222222222222,
              "#7201a8"
             ],
             [
              0.3333333333333333,
              "#9c179e"
             ],
             [
              0.4444444444444444,
              "#bd3786"
             ],
             [
              0.5555555555555556,
              "#d8576b"
             ],
             [
              0.6666666666666666,
              "#ed7953"
             ],
             [
              0.7777777777777778,
              "#fb9f3a"
             ],
             [
              0.8888888888888888,
              "#fdca26"
             ],
             [
              1,
              "#f0f921"
             ]
            ],
            "type": "heatmap"
           }
          ],
          "heatmapgl": [
           {
            "colorbar": {
             "outlinewidth": 0,
             "ticks": ""
            },
            "colorscale": [
             [
              0,
              "#0d0887"
             ],
             [
              0.1111111111111111,
              "#46039f"
             ],
             [
              0.2222222222222222,
              "#7201a8"
             ],
             [
              0.3333333333333333,
              "#9c179e"
             ],
             [
              0.4444444444444444,
              "#bd3786"
             ],
             [
              0.5555555555555556,
              "#d8576b"
             ],
             [
              0.6666666666666666,
              "#ed7953"
             ],
             [
              0.7777777777777778,
              "#fb9f3a"
             ],
             [
              0.8888888888888888,
              "#fdca26"
             ],
             [
              1,
              "#f0f921"
             ]
            ],
            "type": "heatmapgl"
           }
          ],
          "histogram": [
           {
            "marker": {
             "pattern": {
              "fillmode": "overlay",
              "size": 10,
              "solidity": 0.2
             }
            },
            "type": "histogram"
           }
          ],
          "histogram2d": [
           {
            "colorbar": {
             "outlinewidth": 0,
             "ticks": ""
            },
            "colorscale": [
             [
              0,
              "#0d0887"
             ],
             [
              0.1111111111111111,
              "#46039f"
             ],
             [
              0.2222222222222222,
              "#7201a8"
             ],
             [
              0.3333333333333333,
              "#9c179e"
             ],
             [
              0.4444444444444444,
              "#bd3786"
             ],
             [
              0.5555555555555556,
              "#d8576b"
             ],
             [
              0.6666666666666666,
              "#ed7953"
             ],
             [
              0.7777777777777778,
              "#fb9f3a"
             ],
             [
              0.8888888888888888,
              "#fdca26"
             ],
             [
              1,
              "#f0f921"
             ]
            ],
            "type": "histogram2d"
           }
          ],
          "histogram2dcontour": [
           {
            "colorbar": {
             "outlinewidth": 0,
             "ticks": ""
            },
            "colorscale": [
             [
              0,
              "#0d0887"
             ],
             [
              0.1111111111111111,
              "#46039f"
             ],
             [
              0.2222222222222222,
              "#7201a8"
             ],
             [
              0.3333333333333333,
              "#9c179e"
             ],
             [
              0.4444444444444444,
              "#bd3786"
             ],
             [
              0.5555555555555556,
              "#d8576b"
             ],
             [
              0.6666666666666666,
              "#ed7953"
             ],
             [
              0.7777777777777778,
              "#fb9f3a"
             ],
             [
              0.8888888888888888,
              "#fdca26"
             ],
             [
              1,
              "#f0f921"
             ]
            ],
            "type": "histogram2dcontour"
           }
          ],
          "mesh3d": [
           {
            "colorbar": {
             "outlinewidth": 0,
             "ticks": ""
            },
            "type": "mesh3d"
           }
          ],
          "parcoords": [
           {
            "line": {
             "colorbar": {
              "outlinewidth": 0,
              "ticks": ""
             }
            },
            "type": "parcoords"
           }
          ],
          "pie": [
           {
            "automargin": true,
            "type": "pie"
           }
          ],
          "scatter": [
           {
            "fillpattern": {
             "fillmode": "overlay",
             "size": 10,
             "solidity": 0.2
            },
            "type": "scatter"
           }
          ],
          "scatter3d": [
           {
            "line": {
             "colorbar": {
              "outlinewidth": 0,
              "ticks": ""
             }
            },
            "marker": {
             "colorbar": {
              "outlinewidth": 0,
              "ticks": ""
             }
            },
            "type": "scatter3d"
           }
          ],
          "scattercarpet": [
           {
            "marker": {
             "colorbar": {
              "outlinewidth": 0,
              "ticks": ""
             }
            },
            "type": "scattercarpet"
           }
          ],
          "scattergeo": [
           {
            "marker": {
             "colorbar": {
              "outlinewidth": 0,
              "ticks": ""
             }
            },
            "type": "scattergeo"
           }
          ],
          "scattergl": [
           {
            "marker": {
             "colorbar": {
              "outlinewidth": 0,
              "ticks": ""
             }
            },
            "type": "scattergl"
           }
          ],
          "scattermapbox": [
           {
            "marker": {
             "colorbar": {
              "outlinewidth": 0,
              "ticks": ""
             }
            },
            "type": "scattermapbox"
           }
          ],
          "scatterpolar": [
           {
            "marker": {
             "colorbar": {
              "outlinewidth": 0,
              "ticks": ""
             }
            },
            "type": "scatterpolar"
           }
          ],
          "scatterpolargl": [
           {
            "marker": {
             "colorbar": {
              "outlinewidth": 0,
              "ticks": ""
             }
            },
            "type": "scatterpolargl"
           }
          ],
          "scatterternary": [
           {
            "marker": {
             "colorbar": {
              "outlinewidth": 0,
              "ticks": ""
             }
            },
            "type": "scatterternary"
           }
          ],
          "surface": [
           {
            "colorbar": {
             "outlinewidth": 0,
             "ticks": ""
            },
            "colorscale": [
             [
              0,
              "#0d0887"
             ],
             [
              0.1111111111111111,
              "#46039f"
             ],
             [
              0.2222222222222222,
              "#7201a8"
             ],
             [
              0.3333333333333333,
              "#9c179e"
             ],
             [
              0.4444444444444444,
              "#bd3786"
             ],
             [
              0.5555555555555556,
              "#d8576b"
             ],
             [
              0.6666666666666666,
              "#ed7953"
             ],
             [
              0.7777777777777778,
              "#fb9f3a"
             ],
             [
              0.8888888888888888,
              "#fdca26"
             ],
             [
              1,
              "#f0f921"
             ]
            ],
            "type": "surface"
           }
          ],
          "table": [
           {
            "cells": {
             "fill": {
              "color": "#EBF0F8"
             },
             "line": {
              "color": "white"
             }
            },
            "header": {
             "fill": {
              "color": "#C8D4E3"
             },
             "line": {
              "color": "white"
             }
            },
            "type": "table"
           }
          ]
         },
         "layout": {
          "annotationdefaults": {
           "arrowcolor": "#2a3f5f",
           "arrowhead": 0,
           "arrowwidth": 1
          },
          "autotypenumbers": "strict",
          "coloraxis": {
           "colorbar": {
            "outlinewidth": 0,
            "ticks": ""
           }
          },
          "colorscale": {
           "diverging": [
            [
             0,
             "#8e0152"
            ],
            [
             0.1,
             "#c51b7d"
            ],
            [
             0.2,
             "#de77ae"
            ],
            [
             0.3,
             "#f1b6da"
            ],
            [
             0.4,
             "#fde0ef"
            ],
            [
             0.5,
             "#f7f7f7"
            ],
            [
             0.6,
             "#e6f5d0"
            ],
            [
             0.7,
             "#b8e186"
            ],
            [
             0.8,
             "#7fbc41"
            ],
            [
             0.9,
             "#4d9221"
            ],
            [
             1,
             "#276419"
            ]
           ],
           "sequential": [
            [
             0,
             "#0d0887"
            ],
            [
             0.1111111111111111,
             "#46039f"
            ],
            [
             0.2222222222222222,
             "#7201a8"
            ],
            [
             0.3333333333333333,
             "#9c179e"
            ],
            [
             0.4444444444444444,
             "#bd3786"
            ],
            [
             0.5555555555555556,
             "#d8576b"
            ],
            [
             0.6666666666666666,
             "#ed7953"
            ],
            [
             0.7777777777777778,
             "#fb9f3a"
            ],
            [
             0.8888888888888888,
             "#fdca26"
            ],
            [
             1,
             "#f0f921"
            ]
           ],
           "sequentialminus": [
            [
             0,
             "#0d0887"
            ],
            [
             0.1111111111111111,
             "#46039f"
            ],
            [
             0.2222222222222222,
             "#7201a8"
            ],
            [
             0.3333333333333333,
             "#9c179e"
            ],
            [
             0.4444444444444444,
             "#bd3786"
            ],
            [
             0.5555555555555556,
             "#d8576b"
            ],
            [
             0.6666666666666666,
             "#ed7953"
            ],
            [
             0.7777777777777778,
             "#fb9f3a"
            ],
            [
             0.8888888888888888,
             "#fdca26"
            ],
            [
             1,
             "#f0f921"
            ]
           ]
          },
          "colorway": [
           "#636efa",
           "#EF553B",
           "#00cc96",
           "#ab63fa",
           "#FFA15A",
           "#19d3f3",
           "#FF6692",
           "#B6E880",
           "#FF97FF",
           "#FECB52"
          ],
          "font": {
           "color": "#2a3f5f"
          },
          "geo": {
           "bgcolor": "white",
           "lakecolor": "white",
           "landcolor": "#E5ECF6",
           "showlakes": true,
           "showland": true,
           "subunitcolor": "white"
          },
          "hoverlabel": {
           "align": "left"
          },
          "hovermode": "closest",
          "mapbox": {
           "style": "light"
          },
          "paper_bgcolor": "white",
          "plot_bgcolor": "#E5ECF6",
          "polar": {
           "angularaxis": {
            "gridcolor": "white",
            "linecolor": "white",
            "ticks": ""
           },
           "bgcolor": "#E5ECF6",
           "radialaxis": {
            "gridcolor": "white",
            "linecolor": "white",
            "ticks": ""
           }
          },
          "scene": {
           "xaxis": {
            "backgroundcolor": "#E5ECF6",
            "gridcolor": "white",
            "gridwidth": 2,
            "linecolor": "white",
            "showbackground": true,
            "ticks": "",
            "zerolinecolor": "white"
           },
           "yaxis": {
            "backgroundcolor": "#E5ECF6",
            "gridcolor": "white",
            "gridwidth": 2,
            "linecolor": "white",
            "showbackground": true,
            "ticks": "",
            "zerolinecolor": "white"
           },
           "zaxis": {
            "backgroundcolor": "#E5ECF6",
            "gridcolor": "white",
            "gridwidth": 2,
            "linecolor": "white",
            "showbackground": true,
            "ticks": "",
            "zerolinecolor": "white"
           }
          },
          "shapedefaults": {
           "line": {
            "color": "#2a3f5f"
           }
          },
          "ternary": {
           "aaxis": {
            "gridcolor": "white",
            "linecolor": "white",
            "ticks": ""
           },
           "baxis": {
            "gridcolor": "white",
            "linecolor": "white",
            "ticks": ""
           },
           "bgcolor": "#E5ECF6",
           "caxis": {
            "gridcolor": "white",
            "linecolor": "white",
            "ticks": ""
           }
          },
          "title": {
           "x": 0.05
          },
          "xaxis": {
           "automargin": true,
           "gridcolor": "white",
           "linecolor": "white",
           "ticks": "",
           "title": {
            "standoff": 15
           },
           "zerolinecolor": "white",
           "zerolinewidth": 2
          },
          "yaxis": {
           "automargin": true,
           "gridcolor": "white",
           "linecolor": "white",
           "ticks": "",
           "title": {
            "standoff": 15
           },
           "zerolinecolor": "white",
           "zerolinewidth": 2
          }
         }
        },
        "title": {
         "text": "Actual Price vs Prediction Price"
        },
        "xaxis": {
         "anchor": "y",
         "domain": [
          0,
          1
         ],
         "title": {
          "text": "Actual Price"
         }
        },
        "yaxis": {
         "anchor": "x",
         "domain": [
          0,
          1
         ],
         "title": {
          "text": "Predicted Price"
         }
        }
       }
      }
     },
     "metadata": {},
     "output_type": "display_data"
    }
   ],
   "source": [
    "fig=px.scatter(x=y_test, y=y_pred_xgb_tuning,height=600,\n",
    "                labels={\n",
    "                     \"y\":\"Predicted Price\",\n",
    "                     \"x\":\"Actual Price\",\n",
    "                 },\n",
    "                title=\"Actual Price vs Prediction Price\"\n",
    ")\n",
    "fig.show()"
   ]
  },
  {
   "cell_type": "markdown",
   "metadata": {},
   "source": [
    "**Summary**\n",
    "\n",
    "- Secara keseluruhan, model mengalami peningkatan performa (RMSE, MAE dan MAPE berkurang) dengan dilakukannya hyperparameter tuning.\n",
    "- Apabila melihat dari perbandingan nilai residual antara train set dan test set, maka bisa dikatakan model tidak terlalu overfit ataupun juga tidak terlalu underfit (Perbandingan Nilai RMSE, MAE, MAPE pada train set dan test set tidak jauh dan juga nilai error tidak tinggi)\n",
    "- Apabila melihat dari plot perbandingan nilai residual yang aktual dengan yang prediksi, maka dapat disimpulkan model menunjukan hasil yang baik (hampir membentuk garis linear).\n",
    "- Setelah dilakukan pengerucutan batasan model dan juga hyperparameter tuning (second attempt), maka rata-rata nilai MAPE turun secara drastis apabila dibandingkan hyperparameter tuning (first attempt).\n",
    "    - Nilai MAPE test set sebelum pengerucutan batasan model: 79.6%\n",
    "    - Nilai MAPE test set setalah pengerucutan batasan model: 19.6%"
   ]
  },
  {
   "cell_type": "markdown",
   "metadata": {},
   "source": [
    "## 8 Feature Importance"
   ]
  },
  {
   "cell_type": "code",
   "execution_count": 187,
   "metadata": {},
   "outputs": [
    {
     "data": {
      "image/png": "[encoded data removed]",
      "text/plain": [
       "<Figure size 432x288 with 1 Axes>"
      ]
     },
     "metadata": {
      "needs_background": "light"
     },
     "output_type": "display_data"
    }
   ],
   "source": [
    "# Plot feature importances\n",
    "feature_imp = pd.Series(xgb_tuning['model'].regressor_.feature_importances_, transformer.get_feature_names()).sort_values(ascending = False)\n",
    "df_feature_imp=pd.DataFrame(feature_imp).reset_index().rename(columns={0:\"feature importance score\"})\n",
    "df_feature_imp[\"indicator\"]=df_feature_imp[\"index\"].apply(lambda x: x.split(\"__\")[0])\n",
    "sns.barplot(data=df_feature_imp[df_feature_imp[\"indicator\"]!=\"Binary\"].sort_values(by=\"feature importance score\",ascending=False),y=\"index\",x=\"feature importance score\",color=\"royalblue\");"
   ]
  },
  {
   "cell_type": "markdown",
   "metadata": {},
   "source": [
    "**Summary**\n",
    "\n",
    "- Berdasarkan pemodelan yang sudah dilakukan dan barplot diatas, fitur \"Year\" dan \"Engine_Size\" menjadi fitur yang paling berpengaruh terhadap target \"Price\" atau dalam bisnis ini adalah harga mobil bekas. Hal ini juga didukung apabila melihat correlation score dari \"Year\" vs \"Price\" dan \"Engine_Size\" vs \"Price\" dengan masing-masing score yaitu 0.42 dan 0.38 (Nilai tertinggi)\n",
    "- Namun pada grafik diatas fitur-fitur yang sudah diencode dengan binary encoder tidak dimasukan (fitur \"Type\", \"Make\", \"Region\"). Hal ini dikarenakan fitur yang diencode secara binary akan sulit dintepretasi"
   ]
  },
  {
   "cell_type": "markdown",
   "metadata": {},
   "source": [
    "## 9 Conclusion and Recommendation"
   ]
  },
  {
   "cell_type": "markdown",
   "metadata": {},
   "source": [
    "### 9.1 Conclusion"
   ]
  },
  {
   "cell_type": "markdown",
   "metadata": {},
   "source": [
    "Setelah dilakukan pemodelan untuk dataset Saudi Arabia Secara keseluruhan maka dapat disimpulkan bahwa:\n",
    "- Model yang paling baik untuk diimplementasi pada Dataset ini adalah XGBoost (\"model__regressor__learning_rate\": 0.1, \"model__regressor__max_depth\": 10, \"scaler\": MinMaxScaler()) dengan limitasi model (range harga SAR 5000 - SAR 500000)\n",
    "- Dua fitur yang sangat berpengaruh terhadap harga mobil adalah \"Year\" dan \"Engine_Size\"\n",
    "- Nilai MAPE pada test set sebesar 18.89% dapat menyimpulkan bahwa model dapat dikategorikan good forcasting (lewis, 1982)\n",
    "- Metrik evaluasi yang digunakan pada model adalah nilai RMSE, MAE & MAPE. Namun dikarenakan umunya kasus yang tragetnya merupakan harga properti (dalam kasus ini mobil bekas) menggunakan evaluasi metrik MAE, maka kita coba simpulkan model menggunakan metrik ini. Hasil evalusi MAE pada test set setelah dilakukan hyperparamter tuning (second attempt) yaitu SAR 13186. Dari hasil tersebut dapat disimpulkan bahwa apabila ada data baru (maksimal harga SAR 500000 dan minimal harga SAR 5000) yang ingin diprediksi dengan menggunakan model ini maka perkiraan harganya setidaknya akan meleset kurang lebih sebesar SAR 13186. Namun untuk disini kita dapat memakai evalusi metrik RMSE untuk berjaga-jaga (asumsi yang lebih aman), karena RMSE \"menghukum\" model lebih besar dibanding MAE. Sehingga umumnya nilai RMSE lebih besar dari MAE. Apabila dilihat dari nilai RMSE, maka dapat disimpulkan bahwa apabila ada data baru (maksimal harga SAR 500000 dan minimal harga SAR 5000) yang ingin diprediksi dengan menggunakan model ini maka perkiraan harganya setidaknya akan meleset kurang lebih sebesar SAR 23721. Namun bukan berarti nilai errornya selalu dirange RMSE ataupun MAE. Bisa saja nilai prediksinya meleset jauh diluar nilai MAE atau bahkan RMSE karena bias yang dihasilkan model cukup tinggi khususnya terlihat pada harga mobil yang diatas SAR 150000.\n",
    "\n",
    "Source: *Source: Lewis, C. D. (1982). Industrial and business forecasting methods: A practical guide to exponential smoothing and curve fitting*"
   ]
  },
  {
   "cell_type": "markdown",
   "metadata": {},
   "source": [
    "### 9.2 Recommendation"
   ]
  },
  {
   "cell_type": "markdown",
   "metadata": {},
   "source": [
    "Hal-hal yang dapat dilakukan untuk mengembangkan model agar lebih baik lagi, seperti:\n",
    "- Penambahan fitur yang lebih korelatif dengan target (\"Price\"). Apabila dilihat dari correlation test, fitur yang memiliki korelasi paling tinggi adalah fitur \"Year\" dengan score yang bisa dibilang moderate correlation (0.42) / tidak terlalu tinggi.  \n",
    "- Jika memungkinkan dilakukan penambahan data khususnya pada fitur \"Type\" dan \"Make\" pada mobil-mobil bekas yang memiliki jumlah sedikit.\n",
    "- Peningkatan performa model juga bisa dilakukan dengan feature engineering yang lain. Sebagai contoh:\n",
    "    - Polynomial dengan ordo yang tidak terlalu tinggi. Polynomial yang tinggi beresiko membuat model menjadi overfitting. Perlu diingat juga pengimplementasian polynomial kepada feature membuat pengintepretasian pada feature importance menjadi sedikit sulit\n",
    "    - Binning terhadap salah satu fitur. Misalnya fitur region bisa dilakukan pelompokan(binning) berdasarkan provinsi di Saudi Arabia\n",
    "- Penambahan parameter pada saat melakukan tuning. Misalnya gamma, n_estimator, etc. Namun penambahan ini akan memakan banyak waktu komputasi\n",
    "- Penggunaan model lain selain yang sudah dilakukan ataupun menggunakan pendekatan ensemble model lainnya (voting, etc)."
   ]
  },
  {
   "cell_type": "markdown",
   "metadata": {},
   "source": [
    "## 10 Deployment"
   ]
  },
  {
   "cell_type": "code",
   "execution_count": 190,
   "metadata": {},
   "outputs": [],
   "source": [
    "# Load Dataset\n",
    "df = pd.read_csv(\"data_saudi_used_cars.csv\")\n",
    "\n",
    "# Drop Duplicate\n",
    "df.drop_duplicates()\n",
    "\n",
    "# Drop baris yang termasuk negotiable dan kolom negotiable\n",
    "df=df[df[\"Negotiable\"]!=True]\n",
    "df.drop(columns=\"Negotiable\",inplace=True)\n",
    "\n",
    "# Drop Unique item yang jumlahnya kurang dari 2 \n",
    "for i in list(df[\"Type\"].value_counts()[df[\"Type\"].value_counts()<2].index):\n",
    "    df=df[df[\"Type\"]!=i]\n",
    "for i in list(df[\"Make\"].value_counts()[df[\"Make\"].value_counts()<2].index):\n",
    "    df=df[df[\"Make\"]!=i]\n",
    "for i in list(df[\"Region\"].value_counts()[df[\"Region\"].value_counts()<2].index):\n",
    "    df=df[df[\"Region\"]!=i]\n",
    "\n",
    "# Mengubah \"Unknown\" pada fitur \"Origin\" menjadi Modusnya\n",
    "df[\"Origin\"]=np.where(df[\"Origin\"]==\"Unknown\",df[\"Origin\"].mode(),df[\"Origin\"])\n",
    "\n",
    "# Outlier Elimination\n",
    "df=df[df[\"Mileage\"]<1000000]\n",
    "df=df[(df[\"Price\"]<500000)&(df[\"Price\"]>5000)]\n",
    "\n",
    "# Putting features into dependent and independent variables\n",
    "X=df.drop(columns=[\"Price\"])\n",
    "y=df[\"Price\"]\n",
    "\n",
    "# Transformer\n",
    "transformer = ColumnTransformer([\n",
    "    (\"onehot\", OneHotEncoder(drop='first'),[\"Gear_Type\",\"Origin\",\"Options\"]),\n",
    "    ('Binary', ce.BinaryEncoder(), [\"Type\",\"Region\",\"Make\"])\n",
    "],remainder='passthrough')\n",
    "\n",
    "# model\n",
    "xgb=XGBRegressor(random_state=42,learning_rate=0.1,max_depth= 10)\n",
    "log_xgb=TransformedTargetRegressor(xgb,func=np.log,inverse_func=np.exp)\n",
    "\n",
    "# pipeline\n",
    "log_xgb_final=Pipeline([\n",
    "    (\"transformer\",transformer),\n",
    "    (\"scaler\",scaler_minmax),\n",
    "    (\"model\",log_xgb)                  \n",
    "])\n",
    "\n",
    "log_xgb_final.fit(X,y)\n",
    "pickle.dump(log_xgb_final,open(\"saudi_used_car.sav\",\"wb\"))"
   ]
  }
 ],
 "metadata": {
  "kernelspec": {
   "display_name": "Python 3.9.7 ('base')",
   "language": "python",
   "name": "python3"
  },
  "language_info": {
   "codemirror_mode": {
    "name": "ipython",
    "version": 3
   },
   "file_extension": ".py",
   "mimetype": "text/x-python",
   "name": "python",
   "nbconvert_exporter": "python",
   "pygments_lexer": "ipython3",
   "version": "3.9.7"
  },
  "orig_nbformat": 4,
  "vscode": {
   "interpreter": {
    "hash": "a2e22831135148f5316f9d92d555f2bb3ed3ceb2fdfda7ea4dc4cffbc48821d3"
   }
  }
 },
 "nbformat": 4,
 "nbformat_minor": 2
}
