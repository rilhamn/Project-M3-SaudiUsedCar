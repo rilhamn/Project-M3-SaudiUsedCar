{
 "cells": [
  {
   "cell_type": "markdown",
   "metadata": {},
   "source": [
    "# **Business Problem Understanding**\n",
    "\n",
    "**Context**\n",
    " \n",
    "Platform penjualan mobil bekas sudah menjadi hal yang umum pada era ini. Karena dengan platform inilah (sebagai third party) interaksi yang terjadi antara penjual dan calon pembeli menjadi mudah. Penjualan mobil bekas memang menguntungkan bagi kedua belah pihak. Di satu sisi, penjual mobil bekas beranggapan bahwa mobil yang dia punya sudah ada manfaatnya lagi bagi dia dan lebih baik dijual untuk mendatangkan keuntungan. Di sisi lain, pembeli mobil bekas sedang membutuhkan mobil dengan harga yang terjangkau. \n",
    "\n",
    "Model bisnis platform penjualan mobil umumnya memberikan kebebasan bagi penjual untuk menentukan harga mobil. Namun perlu diingat bahwa harga mobil bekas yang terlalu tinggi dibanding mobil dengan fitur yang sama, tentu membuat pembeli berpikir dua kali untuk membelinya (kehilangan calon pembeli itu berarti kehilangan profit). Sebaliknya, jika terlalu murah, tentu penjual tidak akan mendapatkan profit yang sepadan.\n",
    "\n",
    "**Problem Statement**\n",
    "\n",
    "Tantangan bagi perusahaan platform penjualan mobil bekas adalah memecahkan masalah untuk dapat memiliki model bisnis yang menguntungkan bagi penjual, serta dapat memberikan pengalaman positif bagi pembeli. Mengingat platform ini menawarkan kebebasan penuh kepada penjual untuk menentukan harga mobil bekas-nya, namun akan sulit bagi penjual untuk menentukan harga yang kompetitif. Sehingga setidaknya dibutuhkan petunjuk harga bagi penjual melalui platform jual beli ini.  \n",
    "\n",
    "**Goals**\n",
    "\n",
    "Berdasarkan permasalahan tersebut, platform penjualan mobil bekas di Saudi Arabia tentu perlu memiliki \"model\" yang dapat memprediksi serta membantu klien mereka (dalam hal ini penjual mobil bekas) untuk dapat menentukan harga mobil yang tepat. Adanya perbedaan pada berbagai fitur yang terdapat pada mobil, seperti tahun pembuatan, jarak yang sudah ditempuh mobil bekas, ukuran mesin, dan sebagainya dapat menambah keakuratan prediksi harga mobil bekas, yang mana dapat mendatangkan keuntungan bagi penjual dan juga tentunya masih terjangkau bagi pembeli.\n",
    "\n",
    "**Analytic Approach**\n",
    "\n",
    "Penganalisan data perlu dilakukan untuk dapat menemukan pola dari fitur-fitur yang ada. Kemudian, proses dilanjutkan dengan membuat suatu model regresi untuk memprediksi harga penjualan mobil bekas pada data yang baru masuk kedalam daftar/list penjualan mobil bekas, di mana hal ini bertujuan untuk mempermudah penjual dalam menentukan harga mobil bekas-nya.\n",
    "\n",
    "**Metric Evaluation**\n",
    "\n",
    "RMSE, MAE, dan MAPE akan digunakan sebagai evaluasi metrik keakuratan suatu model, di mana RMSE adalah nilai rataan akar kuadrat dari error, MAE adalah rataan nilai absolut dari error, sedangkan MAPE adalah rataan persentase error yang dihasilkan oleh model regresi. Semakin kecil nilai RMSE, MAE, dan MAPE yang dihasilkan, berarti model semakin akurat dalam memprediksi harga sewa sesuai dengan limitasi fitur yang digunakan. Namun, nilai R-squared atau adj. R-squared ini tidak akan digunakan dalam evaluasi metrik untuk dataset ini dikarenakan model yang digunakan merupakan model non-linear."
   ]
  },
  {
   "cell_type": "markdown",
   "metadata": {},
   "source": [
    "## 1 Initial Preparation"
   ]
  },
  {
   "cell_type": "markdown",
   "metadata": {},
   "source": [
    "### 1.1 Load Libraries"
   ]
  },
  {
   "cell_type": "code",
   "execution_count": 89,
   "metadata": {},
   "outputs": [],
   "source": [
    "import numpy as np\n",
    "import pandas as pd\n",
    "import matplotlib.pyplot as plt\n",
    "import plotly.graph_objects as go\n",
    "import plotly.express as px\n",
    "import seaborn as sns\n",
    "\n",
    "from scipy.stats import shapiro\n",
    "from scipy.stats import normaltest\n",
    "\n",
    "import category_encoders as ce\n",
    "from sklearn.preprocessing import OneHotEncoder\n",
    "from sklearn.preprocessing import PolynomialFeatures\n",
    "from sklearn.preprocessing import StandardScaler, MinMaxScaler, RobustScaler\n",
    "from sklearn.compose import ColumnTransformer\n",
    "from sklearn.pipeline import Pipeline\n",
    "\n",
    "from sklearn.model_selection import cross_val_score, GridSearchCV, RandomizedSearchCV, train_test_split, KFold\n",
    "from sklearn.metrics import r2_score, mean_squared_error, mean_absolute_error, mean_absolute_percentage_error\n",
    "\n",
    "from sklearn.compose import TransformedTargetRegressor\n",
    "from sklearn.linear_model import LinearRegression\n",
    "from sklearn.neighbors import KNeighborsRegressor\n",
    "from sklearn.tree import DecisionTreeRegressor\n",
    "from sklearn.ensemble import RandomForestRegressor\n",
    "from xgboost.sklearn import XGBRegressor\n",
    "\n",
    "from imblearn.over_sampling import RandomOverSampler, SMOTE\n",
    "from imblearn.under_sampling import RandomUnderSampler, NearMiss\n",
    "from imblearn.pipeline import Pipeline\n",
    "\n",
    "import warnings\n",
    "warnings.filterwarnings('ignore')\n",
    "\n",
    "import pickle\n",
    "pd.set_option(\"display.max_columns\", None)"
   ]
  },
  {
   "cell_type": "markdown",
   "metadata": {},
   "source": [
    "### 1.2 Load and Overview Dataset"
   ]
  },
  {
   "cell_type": "code",
   "execution_count": 90,
   "metadata": {},
   "outputs": [
    {
     "data": {
      "text/html": [
       "<div>\n",
       "<style scoped>\n",
       "    .dataframe tbody tr th:only-of-type {\n",
       "        vertical-align: middle;\n",
       "    }\n",
       "\n",
       "    .dataframe tbody tr th {\n",
       "        vertical-align: top;\n",
       "    }\n",
       "\n",
       "    .dataframe thead th {\n",
       "        text-align: right;\n",
       "    }\n",
       "</style>\n",
       "<table border=\"1\" class=\"dataframe\">\n",
       "  <thead>\n",
       "    <tr style=\"text-align: right;\">\n",
       "      <th></th>\n",
       "      <th>Type</th>\n",
       "      <th>Region</th>\n",
       "      <th>Make</th>\n",
       "      <th>Gear_Type</th>\n",
       "      <th>Origin</th>\n",
       "      <th>Options</th>\n",
       "      <th>Year</th>\n",
       "      <th>Engine_Size</th>\n",
       "      <th>Mileage</th>\n",
       "      <th>Negotiable</th>\n",
       "      <th>Price</th>\n",
       "    </tr>\n",
       "  </thead>\n",
       "  <tbody>\n",
       "    <tr>\n",
       "      <th>0</th>\n",
       "      <td>Corolla</td>\n",
       "      <td>Abha</td>\n",
       "      <td>Toyota</td>\n",
       "      <td>Manual</td>\n",
       "      <td>Saudi</td>\n",
       "      <td>Standard</td>\n",
       "      <td>2013</td>\n",
       "      <td>1.4</td>\n",
       "      <td>421000</td>\n",
       "      <td>True</td>\n",
       "      <td>0</td>\n",
       "    </tr>\n",
       "    <tr>\n",
       "      <th>1</th>\n",
       "      <td>Yukon</td>\n",
       "      <td>Riyadh</td>\n",
       "      <td>GMC</td>\n",
       "      <td>Automatic</td>\n",
       "      <td>Saudi</td>\n",
       "      <td>Full</td>\n",
       "      <td>2014</td>\n",
       "      <td>8.0</td>\n",
       "      <td>80000</td>\n",
       "      <td>False</td>\n",
       "      <td>120000</td>\n",
       "    </tr>\n",
       "    <tr>\n",
       "      <th>2</th>\n",
       "      <td>Range Rover</td>\n",
       "      <td>Riyadh</td>\n",
       "      <td>Land Rover</td>\n",
       "      <td>Automatic</td>\n",
       "      <td>Gulf Arabic</td>\n",
       "      <td>Full</td>\n",
       "      <td>2015</td>\n",
       "      <td>5.0</td>\n",
       "      <td>140000</td>\n",
       "      <td>False</td>\n",
       "      <td>260000</td>\n",
       "    </tr>\n",
       "    <tr>\n",
       "      <th>3</th>\n",
       "      <td>Optima</td>\n",
       "      <td>Hafar Al-Batin</td>\n",
       "      <td>Kia</td>\n",
       "      <td>Automatic</td>\n",
       "      <td>Saudi</td>\n",
       "      <td>Semi Full</td>\n",
       "      <td>2015</td>\n",
       "      <td>2.4</td>\n",
       "      <td>220000</td>\n",
       "      <td>False</td>\n",
       "      <td>42000</td>\n",
       "    </tr>\n",
       "    <tr>\n",
       "      <th>4</th>\n",
       "      <td>FJ</td>\n",
       "      <td>Riyadh</td>\n",
       "      <td>Toyota</td>\n",
       "      <td>Automatic</td>\n",
       "      <td>Saudi</td>\n",
       "      <td>Full</td>\n",
       "      <td>2020</td>\n",
       "      <td>4.0</td>\n",
       "      <td>49000</td>\n",
       "      <td>True</td>\n",
       "      <td>0</td>\n",
       "    </tr>\n",
       "  </tbody>\n",
       "</table>\n",
       "</div>"
      ],
      "text/plain": [
       "          Type          Region        Make  Gear_Type       Origin    Options  \\\n",
       "0  Corolla      Abha            Toyota      Manual     Saudi        Standard    \n",
       "1  Yukon        Riyadh          GMC         Automatic  Saudi        Full        \n",
       "2  Range Rover  Riyadh          Land Rover  Automatic  Gulf Arabic  Full        \n",
       "3  Optima       Hafar Al-Batin  Kia         Automatic  Saudi        Semi Full   \n",
       "4  FJ           Riyadh          Toyota      Automatic  Saudi        Full        \n",
       "\n",
       "   Year  Engine_Size  Mileage  Negotiable   Price  \n",
       "0  2013  1.4          421000   True        0       \n",
       "1  2014  8.0          80000    False       120000  \n",
       "2  2015  5.0          140000   False       260000  \n",
       "3  2015  2.4          220000   False       42000   \n",
       "4  2020  4.0          49000    True        0       "
      ]
     },
     "execution_count": 90,
     "metadata": {},
     "output_type": "execute_result"
    }
   ],
   "source": [
    "df=pd.read_csv(\"data_saudi_used_cars.csv\")\n",
    "df_ori=pd.read_csv(\"data_saudi_used_cars.csv\")\n",
    "df_ori.head()"
   ]
  },
  {
   "cell_type": "markdown",
   "metadata": {},
   "source": [
    "### 1.3 Feature/Column Description\n",
    "\n",
    "Deskripsi untuk masing masing feature:\n",
    "- Type: Nama produk mobil bekas\n",
    "- Region: Daerah/region dimana mobil bekas dijual\n",
    "- Make: Brand Mobil bekas\n",
    "- Gear_Type\t: Tipe gear dari mobil bekas\n",
    "- Origin: Daerah dimana mobil bekas tersebut berasal\n",
    "- Options: Pilihan mobil bekas\n",
    "- Year: Tahun pembuatan mobil \n",
    "- Engine_Size: Ukuran mesin dari mobil bekas\n",
    "- Mileage: Jarak yang sudah ditempuh dari mobil bekas tersebut\n",
    "- Negotiable: Apakah harga dari mobil bekas bisa dinego\n",
    "- Price: Harga mobil bekas"
   ]
  },
  {
   "cell_type": "markdown",
   "metadata": {},
   "source": [
    "### 1.4 Dataset Information"
   ]
  },
  {
   "cell_type": "markdown",
   "metadata": {},
   "source": [
    "**Data Overview**"
   ]
  },
  {
   "cell_type": "code",
   "execution_count": 91,
   "metadata": {},
   "outputs": [
    {
     "name": "stdout",
     "output_type": "stream",
     "text": [
      "<class 'pandas.core.frame.DataFrame'>\n",
      "RangeIndex: 5624 entries, 0 to 5623\n",
      "Data columns (total 11 columns):\n",
      " #   Column       Non-Null Count  Dtype  \n",
      "---  ------       --------------  -----  \n",
      " 0   Type         5624 non-null   object \n",
      " 1   Region       5624 non-null   object \n",
      " 2   Make         5624 non-null   object \n",
      " 3   Gear_Type    5624 non-null   object \n",
      " 4   Origin       5624 non-null   object \n",
      " 5   Options      5624 non-null   object \n",
      " 6   Year         5624 non-null   int64  \n",
      " 7   Engine_Size  5624 non-null   float64\n",
      " 8   Mileage      5624 non-null   int64  \n",
      " 9   Negotiable   5624 non-null   bool   \n",
      " 10  Price        5624 non-null   int64  \n",
      "dtypes: bool(1), float64(1), int64(3), object(6)\n",
      "memory usage: 445.0+ KB\n"
     ]
    }
   ],
   "source": [
    "df_ori.info()"
   ]
  },
  {
   "cell_type": "code",
   "execution_count": 92,
   "metadata": {},
   "outputs": [
    {
     "data": {
      "text/html": [
       "<div>\n",
       "<style scoped>\n",
       "    .dataframe tbody tr th:only-of-type {\n",
       "        vertical-align: middle;\n",
       "    }\n",
       "\n",
       "    .dataframe tbody tr th {\n",
       "        vertical-align: top;\n",
       "    }\n",
       "\n",
       "    .dataframe thead th {\n",
       "        text-align: right;\n",
       "    }\n",
       "</style>\n",
       "<table border=\"1\" class=\"dataframe\">\n",
       "  <thead>\n",
       "    <tr style=\"text-align: right;\">\n",
       "      <th></th>\n",
       "      <th>Column Name</th>\n",
       "      <th>Number of Unique</th>\n",
       "      <th>Unique Sample</th>\n",
       "    </tr>\n",
       "  </thead>\n",
       "  <tbody>\n",
       "    <tr>\n",
       "      <th>0</th>\n",
       "      <td>Type</td>\n",
       "      <td>347</td>\n",
       "      <td>[Corolla, Yukon, Range Rover, Optima, FJ, CX3, Cayenne S, Sonata, Avalon, LS, C300, Land Cruiser, Hilux, Tucson, Caprice, Sunny, Pajero, Azera, Focus, 5, Spark, Camry, Pathfinder, Accent, ML, Tahoe, Yaris, Suburban, A, Altima, Traverse, Expedition, Senta fe, Liberty, 3, X, Elantra, Land Cruiser Pickup, VTC, Malibu, The 5, A8, Patrol, Grand Cherokee, SL, Previa, SEL, Aveo, MKZ, Victoria, Datsun, Flex, GLC, ES, Edge, 6, Escalade, Innova, Navara, H1, G80, Carnival, Symbol, Camaro, Accord, Avanza, Land Cruiser 70, Taurus, C5700, Impala, Optra, S, Other, Cerato, Furniture, Murano, Explorer, LX, Pick up, Charger, H6, BT-50, Hiace, Ranger, Fusion, Rav4, Ciocca, CX9, Kona, Sentra, Sierra, Durango, CT-S, Sylvian Bus, Navigator, Opirus, Marquis, The 7, FX, Creta, ...]</td>\n",
       "    </tr>\n",
       "    <tr>\n",
       "      <th>1</th>\n",
       "      <td>Region</td>\n",
       "      <td>27</td>\n",
       "      <td>[Abha, Riyadh, Hafar Al-Batin, Aseer, Makkah, Dammam, Yanbu, Al-Baha, Jeddah, Hail, Khobar, Al-Ahsa, Jazan, Al-Medina, Al-Namas, Tabouk, Taef, Qassim, Arar, Jubail, Sabya, Al-Jouf, Najran, Wadi Dawasir, Qurayyat, Sakaka, Besha]</td>\n",
       "    </tr>\n",
       "    <tr>\n",
       "      <th>2</th>\n",
       "      <td>Make</td>\n",
       "      <td>58</td>\n",
       "      <td>[Toyota, GMC, Land Rover, Kia, Mazda, Porsche, Hyundai, Lexus, Chrysler, Chevrolet, Nissan, Mitsubishi, Ford, MG, Mercedes, Jeep, BMW, Audi, Lincoln, Cadillac, Genesis, Renault, Honda, Suzuki, Zhengzhou, Dodge, HAVAL, INFINITI, Isuzu, Changan, Aston Martin, Mercury, Great Wall, Other, Rolls-Royce, MINI, Volkswagen, BYD, Geely, Victory Auto, Classic, Jaguar, Daihatsu, Maserati, Hummer, GAC, Lifan, Bentley, Chery, Peugeot, Foton, Škoda, Fiat, Iveco, SsangYong, FAW, Tata, Ferrari]</td>\n",
       "    </tr>\n",
       "    <tr>\n",
       "      <th>3</th>\n",
       "      <td>Gear_Type</td>\n",
       "      <td>2</td>\n",
       "      <td>[Manual, Automatic]</td>\n",
       "    </tr>\n",
       "    <tr>\n",
       "      <th>4</th>\n",
       "      <td>Origin</td>\n",
       "      <td>4</td>\n",
       "      <td>[Saudi, Gulf Arabic, Other, Unknown]</td>\n",
       "    </tr>\n",
       "    <tr>\n",
       "      <th>5</th>\n",
       "      <td>Options</td>\n",
       "      <td>3</td>\n",
       "      <td>[Standard, Full, Semi Full]</td>\n",
       "    </tr>\n",
       "    <tr>\n",
       "      <th>6</th>\n",
       "      <td>Year</td>\n",
       "      <td>50</td>\n",
       "      <td>[2013, 2014, 2015, 2020, 2019, 2012, 2016, 1998, 2011, 2008, 1982, 1985, 2018, 1983, 2021, 2017, 2002, 2010, 2009, 2004, 2001, 1986, 2007, 1999, 2005, 1977, 1991, 2003, 1995, 2006, 1997, 1993, 1996, 2000, 1990, 1965, 1980, 1987, 1994, 1988, 1989, 1978, 2022, 1975, 1964, 1984, 1979, 1992, 1963, 1981]</td>\n",
       "    </tr>\n",
       "    <tr>\n",
       "      <th>7</th>\n",
       "      <td>Engine_Size</td>\n",
       "      <td>71</td>\n",
       "      <td>[1.4, 8.0, 5.0, 2.4, 4.0, 2.0, 4.8, 3.5, 4.6, 5.7, 2.7, 1.0, 3.0, 1.6, 1.5, 3.3, 6.2, 2.5, 5.3, 3.6, 5.4, 1.7, 3.7, 9.0, 4.7, 4.5, 3.8, 5.5, 2.6, 1.8, 1.2, 6.0, 6.9, 3.2, 5.9, 2.2, 5.6, 1.1, 2.9, 4.1, 1.3, 4.4, 2.8, 3.4, 8.8, 6.1, 7.0, 1.9, 7.5, 4.3, 6.5, 3.1, 6.3, 6.4, 5.8, 8.5, 2.3, 6.6, 7.2, 4.2, 5.1, 7.4, 5.2, 2.1, 6.7, 7.8, 3.9, 8.7, 4.9, 6.8, 8.9]</td>\n",
       "    </tr>\n",
       "    <tr>\n",
       "      <th>8</th>\n",
       "      <td>Mileage</td>\n",
       "      <td>1716</td>\n",
       "      <td>[421000, 80000, 140000, 220000, 49000, 25000, 189000, 155, 110864, 300, 200, 79000, 299000, 17000, 209, 340000, 30000, 71000, 85000, 500000, 290, 74715, 250, 284000, 98000, 3400, 108, 350000, 550000, 204000, 139240, 296, 105920, 187000, 10000, 18500, 292000, 280000, 270000, 345500, 110000, 247000, 55800, 92000, 27000, 600000, 307801, 62000, 38000, 89000, 137000, 422000, 208000, 11000, 245000, 500, 150000, 81000, 156000, 42000, 228000, 24000, 266000, 98100, 182000, 210800, 88000, 214000, 82808, 4000, 417970, 70000, 115, 270373, 91440, 45000, 96000, 50100, 35449, 180, 66200, 100, 349000, 168000, 105000, 130000, 212000, 139740, 256, 280, 73000, 240000, 866, 216, 183000, 148000, 4358765, 188257, 117000, 160000, ...]</td>\n",
       "    </tr>\n",
       "    <tr>\n",
       "      <th>9</th>\n",
       "      <td>Negotiable</td>\n",
       "      <td>2</td>\n",
       "      <td>[True, False]</td>\n",
       "    </tr>\n",
       "    <tr>\n",
       "      <th>10</th>\n",
       "      <td>Price</td>\n",
       "      <td>467</td>\n",
       "      <td>[0, 120000, 260000, 42000, 58000, 85000, 48000, 81500, 55000, 145000, 38000, 140000, 200000, 65000, 7000, 76000, 32000, 23000, 20000, 10000, 45000, 30000, 149000, 179000, 22000, 49500, 52000, 25000, 72000, 1010, 105000, 99000, 57000, 110000, 15000, 265000, 56500, 5500, 90000, 1200, 71500, 29000, 62000, 141000, 230000, 225000, 60000, 93000, 68000, 50000, 69000, 121500, 51000, 109000, 47000, 88000, 142000, 53000, 39000, 78500, 5000, 35000, 45500, 33000, 125000, 9500, 63000, 80000, 44000, 54000, 37000, 79000, 70000, 81000, 68500, 33500, 14500, 11000, 118000, 36500, 75000, 61500, 44500, 13000, 107000, 102000, 99500, 122000, 14000, 21000, 77000, 100000, 59500, 119000, 38500, 165000, 330000, 72910, 410000, 400000, ...]</td>\n",
       "    </tr>\n",
       "  </tbody>\n",
       "</table>\n",
       "</div>"
      ],
      "text/plain": [
       "    Column Name  Number of Unique  \\\n",
       "0   Type         347                \n",
       "1   Region       27                 \n",
       "2   Make         58                 \n",
       "3   Gear_Type    2                  \n",
       "4   Origin       4                  \n",
       "5   Options      3                  \n",
       "6   Year         50                 \n",
       "7   Engine_Size  71                 \n",
       "8   Mileage      1716               \n",
       "9   Negotiable   2                  \n",
       "10  Price        467                \n",
       "\n",
       "                                                                                                                                                                                                                                                                                                                                                                                                                                                                                                                                                                                                                                                                                                                                                                                       Unique Sample  \n",
       "0   [Corolla, Yukon, Range Rover, Optima, FJ, CX3, Cayenne S, Sonata, Avalon, LS, C300, Land Cruiser, Hilux, Tucson, Caprice, Sunny, Pajero, Azera, Focus, 5, Spark, Camry, Pathfinder, Accent, ML, Tahoe, Yaris, Suburban, A, Altima, Traverse, Expedition, Senta fe, Liberty, 3, X, Elantra, Land Cruiser Pickup, VTC, Malibu, The 5, A8, Patrol, Grand Cherokee, SL, Previa, SEL, Aveo, MKZ, Victoria, Datsun, Flex, GLC, ES, Edge, 6, Escalade, Innova, Navara, H1, G80, Carnival, Symbol, Camaro, Accord, Avanza, Land Cruiser 70, Taurus, C5700, Impala, Optra, S, Other, Cerato, Furniture, Murano, Explorer, LX, Pick up, Charger, H6, BT-50, Hiace, Ranger, Fusion, Rav4, Ciocca, CX9, Kona, Sentra, Sierra, Durango, CT-S, Sylvian Bus, Navigator, Opirus, Marquis, The 7, FX, Creta, ...]  \n",
       "1   [Abha, Riyadh, Hafar Al-Batin, Aseer, Makkah, Dammam, Yanbu, Al-Baha, Jeddah, Hail, Khobar, Al-Ahsa, Jazan, Al-Medina, Al-Namas, Tabouk, Taef, Qassim, Arar, Jubail, Sabya, Al-Jouf, Najran, Wadi Dawasir, Qurayyat, Sakaka, Besha]                                                                                                                                                                                                                                                                                                                                                                                                                                                                                                                                                               \n",
       "2   [Toyota, GMC, Land Rover, Kia, Mazda, Porsche, Hyundai, Lexus, Chrysler, Chevrolet, Nissan, Mitsubishi, Ford, MG, Mercedes, Jeep, BMW, Audi, Lincoln, Cadillac, Genesis, Renault, Honda, Suzuki, Zhengzhou, Dodge, HAVAL, INFINITI, Isuzu, Changan, Aston Martin, Mercury, Great Wall, Other, Rolls-Royce, MINI, Volkswagen, BYD, Geely, Victory Auto, Classic, Jaguar, Daihatsu, Maserati, Hummer, GAC, Lifan, Bentley, Chery, Peugeot, Foton, Škoda, Fiat, Iveco, SsangYong, FAW, Tata, Ferrari]                                                                                                                                                                                                                                                                                                \n",
       "3   [Manual, Automatic]                                                                                                                                                                                                                                                                                                                                                                                                                                                                                                                                                                                                                                                                                                                                                                               \n",
       "4   [Saudi, Gulf Arabic, Other, Unknown]                                                                                                                                                                                                                                                                                                                                                                                                                                                                                                                                                                                                                                                                                                                                                              \n",
       "5   [Standard, Full, Semi Full]                                                                                                                                                                                                                                                                                                                                                                                                                                                                                                                                                                                                                                                                                                                                                                       \n",
       "6   [2013, 2014, 2015, 2020, 2019, 2012, 2016, 1998, 2011, 2008, 1982, 1985, 2018, 1983, 2021, 2017, 2002, 2010, 2009, 2004, 2001, 1986, 2007, 1999, 2005, 1977, 1991, 2003, 1995, 2006, 1997, 1993, 1996, 2000, 1990, 1965, 1980, 1987, 1994, 1988, 1989, 1978, 2022, 1975, 1964, 1984, 1979, 1992, 1963, 1981]                                                                                                                                                                                                                                                                                                                                                                                                                                                                                      \n",
       "7   [1.4, 8.0, 5.0, 2.4, 4.0, 2.0, 4.8, 3.5, 4.6, 5.7, 2.7, 1.0, 3.0, 1.6, 1.5, 3.3, 6.2, 2.5, 5.3, 3.6, 5.4, 1.7, 3.7, 9.0, 4.7, 4.5, 3.8, 5.5, 2.6, 1.8, 1.2, 6.0, 6.9, 3.2, 5.9, 2.2, 5.6, 1.1, 2.9, 4.1, 1.3, 4.4, 2.8, 3.4, 8.8, 6.1, 7.0, 1.9, 7.5, 4.3, 6.5, 3.1, 6.3, 6.4, 5.8, 8.5, 2.3, 6.6, 7.2, 4.2, 5.1, 7.4, 5.2, 2.1, 6.7, 7.8, 3.9, 8.7, 4.9, 6.8, 8.9]                                                                                                                                                                                                                                                                                                                                                                                                                               \n",
       "8   [421000, 80000, 140000, 220000, 49000, 25000, 189000, 155, 110864, 300, 200, 79000, 299000, 17000, 209, 340000, 30000, 71000, 85000, 500000, 290, 74715, 250, 284000, 98000, 3400, 108, 350000, 550000, 204000, 139240, 296, 105920, 187000, 10000, 18500, 292000, 280000, 270000, 345500, 110000, 247000, 55800, 92000, 27000, 600000, 307801, 62000, 38000, 89000, 137000, 422000, 208000, 11000, 245000, 500, 150000, 81000, 156000, 42000, 228000, 24000, 266000, 98100, 182000, 210800, 88000, 214000, 82808, 4000, 417970, 70000, 115, 270373, 91440, 45000, 96000, 50100, 35449, 180, 66200, 100, 349000, 168000, 105000, 130000, 212000, 139740, 256, 280, 73000, 240000, 866, 216, 183000, 148000, 4358765, 188257, 117000, 160000, ...]                                                 \n",
       "9   [True, False]                                                                                                                                                                                                                                                                                                                                                                                                                                                                                                                                                                                                                                                                                                                                                                                     \n",
       "10  [0, 120000, 260000, 42000, 58000, 85000, 48000, 81500, 55000, 145000, 38000, 140000, 200000, 65000, 7000, 76000, 32000, 23000, 20000, 10000, 45000, 30000, 149000, 179000, 22000, 49500, 52000, 25000, 72000, 1010, 105000, 99000, 57000, 110000, 15000, 265000, 56500, 5500, 90000, 1200, 71500, 29000, 62000, 141000, 230000, 225000, 60000, 93000, 68000, 50000, 69000, 121500, 51000, 109000, 47000, 88000, 142000, 53000, 39000, 78500, 5000, 35000, 45500, 33000, 125000, 9500, 63000, 80000, 44000, 54000, 37000, 79000, 70000, 81000, 68500, 33500, 14500, 11000, 118000, 36500, 75000, 61500, 44500, 13000, 107000, 102000, 99500, 122000, 14000, 21000, 77000, 100000, 59500, 119000, 38500, 165000, 330000, 72910, 410000, 400000, ...]                                                "
      ]
     },
     "execution_count": 92,
     "metadata": {},
     "output_type": "execute_result"
    }
   ],
   "source": [
    "pd.set_option(\"display.max_colwidth\", -1)\n",
    "listItem = []\n",
    "for col in df_ori.columns :\n",
    "    listItem.append( [col, df_ori[col].nunique(), df_ori[col].unique()])\n",
    "df_desk = pd.DataFrame(columns=[\"Column Name\",\"Number of Unique\",\"Unique Sample\"],data=listItem)\n",
    "df_desk"
   ]
  },
  {
   "cell_type": "code",
   "execution_count": 93,
   "metadata": {},
   "outputs": [
    {
     "data": {
      "text/html": [
       "<div>\n",
       "<style scoped>\n",
       "    .dataframe tbody tr th:only-of-type {\n",
       "        vertical-align: middle;\n",
       "    }\n",
       "\n",
       "    .dataframe tbody tr th {\n",
       "        vertical-align: top;\n",
       "    }\n",
       "\n",
       "    .dataframe thead th {\n",
       "        text-align: right;\n",
       "    }\n",
       "</style>\n",
       "<table border=\"1\" class=\"dataframe\">\n",
       "  <thead>\n",
       "    <tr style=\"text-align: right;\">\n",
       "      <th></th>\n",
       "      <th>Year</th>\n",
       "      <th>Engine_Size</th>\n",
       "      <th>Mileage</th>\n",
       "      <th>Price</th>\n",
       "    </tr>\n",
       "  </thead>\n",
       "  <tbody>\n",
       "    <tr>\n",
       "      <th>count</th>\n",
       "      <td>5624.000000</td>\n",
       "      <td>5624.000000</td>\n",
       "      <td>5.624000e+03</td>\n",
       "      <td>5624.000000</td>\n",
       "    </tr>\n",
       "    <tr>\n",
       "      <th>mean</th>\n",
       "      <td>2014.101885</td>\n",
       "      <td>3.295430</td>\n",
       "      <td>1.509234e+05</td>\n",
       "      <td>53074.058144</td>\n",
       "    </tr>\n",
       "    <tr>\n",
       "      <th>std</th>\n",
       "      <td>5.791606</td>\n",
       "      <td>1.515108</td>\n",
       "      <td>3.828360e+05</td>\n",
       "      <td>70155.340614</td>\n",
       "    </tr>\n",
       "    <tr>\n",
       "      <th>min</th>\n",
       "      <td>1963.000000</td>\n",
       "      <td>1.000000</td>\n",
       "      <td>1.000000e+02</td>\n",
       "      <td>0.000000</td>\n",
       "    </tr>\n",
       "    <tr>\n",
       "      <th>25%</th>\n",
       "      <td>2012.000000</td>\n",
       "      <td>2.000000</td>\n",
       "      <td>3.800000e+04</td>\n",
       "      <td>0.000000</td>\n",
       "    </tr>\n",
       "    <tr>\n",
       "      <th>50%</th>\n",
       "      <td>2016.000000</td>\n",
       "      <td>3.000000</td>\n",
       "      <td>1.030000e+05</td>\n",
       "      <td>36500.000000</td>\n",
       "    </tr>\n",
       "    <tr>\n",
       "      <th>75%</th>\n",
       "      <td>2018.000000</td>\n",
       "      <td>4.500000</td>\n",
       "      <td>1.960000e+05</td>\n",
       "      <td>72932.500000</td>\n",
       "    </tr>\n",
       "    <tr>\n",
       "      <th>max</th>\n",
       "      <td>2022.000000</td>\n",
       "      <td>9.000000</td>\n",
       "      <td>2.000000e+07</td>\n",
       "      <td>850000.000000</td>\n",
       "    </tr>\n",
       "  </tbody>\n",
       "</table>\n",
       "</div>"
      ],
      "text/plain": [
       "              Year  Engine_Size       Mileage          Price\n",
       "count  5624.000000  5624.000000  5.624000e+03  5624.000000  \n",
       "mean   2014.101885  3.295430     1.509234e+05  53074.058144 \n",
       "std    5.791606     1.515108     3.828360e+05  70155.340614 \n",
       "min    1963.000000  1.000000     1.000000e+02  0.000000     \n",
       "25%    2012.000000  2.000000     3.800000e+04  0.000000     \n",
       "50%    2016.000000  3.000000     1.030000e+05  36500.000000 \n",
       "75%    2018.000000  4.500000     1.960000e+05  72932.500000 \n",
       "max    2022.000000  9.000000     2.000000e+07  850000.000000"
      ]
     },
     "execution_count": 93,
     "metadata": {},
     "output_type": "execute_result"
    }
   ],
   "source": [
    "df_ori.describe()"
   ]
  },
  {
   "cell_type": "code",
   "execution_count": 94,
   "metadata": {},
   "outputs": [
    {
     "data": {
      "text/html": [
       "<div>\n",
       "<style scoped>\n",
       "    .dataframe tbody tr th:only-of-type {\n",
       "        vertical-align: middle;\n",
       "    }\n",
       "\n",
       "    .dataframe tbody tr th {\n",
       "        vertical-align: top;\n",
       "    }\n",
       "\n",
       "    .dataframe thead th {\n",
       "        text-align: right;\n",
       "    }\n",
       "</style>\n",
       "<table border=\"1\" class=\"dataframe\">\n",
       "  <thead>\n",
       "    <tr style=\"text-align: right;\">\n",
       "      <th></th>\n",
       "      <th>Type</th>\n",
       "      <th>Region</th>\n",
       "      <th>Make</th>\n",
       "      <th>Gear_Type</th>\n",
       "      <th>Origin</th>\n",
       "      <th>Options</th>\n",
       "    </tr>\n",
       "  </thead>\n",
       "  <tbody>\n",
       "    <tr>\n",
       "      <th>count</th>\n",
       "      <td>5624</td>\n",
       "      <td>5624</td>\n",
       "      <td>5624</td>\n",
       "      <td>5624</td>\n",
       "      <td>5624</td>\n",
       "      <td>5624</td>\n",
       "    </tr>\n",
       "    <tr>\n",
       "      <th>unique</th>\n",
       "      <td>347</td>\n",
       "      <td>27</td>\n",
       "      <td>58</td>\n",
       "      <td>2</td>\n",
       "      <td>4</td>\n",
       "      <td>3</td>\n",
       "    </tr>\n",
       "    <tr>\n",
       "      <th>top</th>\n",
       "      <td>Land Cruiser</td>\n",
       "      <td>Riyadh</td>\n",
       "      <td>Toyota</td>\n",
       "      <td>Automatic</td>\n",
       "      <td>Saudi</td>\n",
       "      <td>Full</td>\n",
       "    </tr>\n",
       "    <tr>\n",
       "      <th>freq</th>\n",
       "      <td>269</td>\n",
       "      <td>2272</td>\n",
       "      <td>1431</td>\n",
       "      <td>4875</td>\n",
       "      <td>4188</td>\n",
       "      <td>2233</td>\n",
       "    </tr>\n",
       "  </tbody>\n",
       "</table>\n",
       "</div>"
      ],
      "text/plain": [
       "                Type  Region    Make  Gear_Type Origin Options\n",
       "count   5624          5624    5624    5624       5624   5624  \n",
       "unique  347           27      58      2          4      3     \n",
       "top     Land Cruiser  Riyadh  Toyota  Automatic  Saudi  Full  \n",
       "freq    269           2272    1431    4875       4188   2233  "
      ]
     },
     "execution_count": 94,
     "metadata": {},
     "output_type": "execute_result"
    }
   ],
   "source": [
    "df_ori.describe(include=\"object\")"
   ]
  },
  {
   "cell_type": "markdown",
   "metadata": {},
   "source": [
    "Dari penjabaran singkat diatas dapat diketahui bahwa:\n",
    "- Terdapat 11 fitur (kolom) yang membentuk Boston crime dataset dengan banyak data (baris) yaitu 5624 data\n",
    "- Jenis data setiap fitur (kolom) terbagi menjadi empat jenis data yaitu Object(6 fitur), int64(3 fitur), float64(1 fitur), dan bool(1 fitur)\n",
    "- Tidak ada missing value di setiap fitur"
   ]
  },
  {
   "cell_type": "markdown",
   "metadata": {},
   "source": [
    "## 2 EDA and Data Cleaning"
   ]
  },
  {
   "cell_type": "markdown",
   "metadata": {},
   "source": [
    "### 2.1 Negotiable Column"
   ]
  },
  {
   "cell_type": "code",
   "execution_count": 95,
   "metadata": {},
   "outputs": [
    {
     "data": {
      "text/html": [
       "<div>\n",
       "<style scoped>\n",
       "    .dataframe tbody tr th:only-of-type {\n",
       "        vertical-align: middle;\n",
       "    }\n",
       "\n",
       "    .dataframe tbody tr th {\n",
       "        vertical-align: top;\n",
       "    }\n",
       "\n",
       "    .dataframe thead th {\n",
       "        text-align: right;\n",
       "    }\n",
       "</style>\n",
       "<table border=\"1\" class=\"dataframe\">\n",
       "  <thead>\n",
       "    <tr style=\"text-align: right;\">\n",
       "      <th></th>\n",
       "      <th>Presentase dari Total Data</th>\n",
       "    </tr>\n",
       "  </thead>\n",
       "  <tbody>\n",
       "    <tr>\n",
       "      <th>False</th>\n",
       "      <td>68.065434</td>\n",
       "    </tr>\n",
       "    <tr>\n",
       "      <th>True</th>\n",
       "      <td>31.934566</td>\n",
       "    </tr>\n",
       "  </tbody>\n",
       "</table>\n",
       "</div>"
      ],
      "text/plain": [
       "       Presentase dari Total Data\n",
       "False  68.065434                 \n",
       "True   31.934566                 "
      ]
     },
     "execution_count": 95,
     "metadata": {},
     "output_type": "execute_result"
    },
    {
     "data": {
      "image/png": "[encoded data removed]",
      "text/plain": [
       "<Figure size 1296x432 with 2 Axes>"
      ]
     },
     "metadata": {
      "needs_background": "light"
     },
     "output_type": "display_data"
    }
   ],
   "source": [
    "plt.figure(figsize=(18,6))\n",
    "plt.subplot(1,2,1)\n",
    "sns.countplot(data=df_ori,x=\"Negotiable\")\n",
    "plt.subplot(1,2,2)\n",
    "sns.boxplot(data=df_ori,x=\"Negotiable\",y=\"Price\")\n",
    ";\n",
    "\n",
    "pd.DataFrame(df_ori[\"Negotiable\"].value_counts().rename(\"Presentase dari Total Data\")/len(df_ori)*100)"
   ]
  },
  {
   "cell_type": "code",
   "execution_count": 96,
   "metadata": {},
   "outputs": [
    {
     "data": {
      "text/html": [
       "<div>\n",
       "<style scoped>\n",
       "    .dataframe tbody tr th:only-of-type {\n",
       "        vertical-align: middle;\n",
       "    }\n",
       "\n",
       "    .dataframe tbody tr th {\n",
       "        vertical-align: top;\n",
       "    }\n",
       "\n",
       "    .dataframe thead th {\n",
       "        text-align: right;\n",
       "    }\n",
       "</style>\n",
       "<table border=\"1\" class=\"dataframe\">\n",
       "  <thead>\n",
       "    <tr style=\"text-align: right;\">\n",
       "      <th></th>\n",
       "      <th>Type</th>\n",
       "      <th>Region</th>\n",
       "      <th>Make</th>\n",
       "      <th>Gear_Type</th>\n",
       "      <th>Origin</th>\n",
       "      <th>Options</th>\n",
       "      <th>Year</th>\n",
       "      <th>Engine_Size</th>\n",
       "      <th>Mileage</th>\n",
       "      <th>Price</th>\n",
       "    </tr>\n",
       "  </thead>\n",
       "  <tbody>\n",
       "    <tr>\n",
       "      <th>1</th>\n",
       "      <td>Yukon</td>\n",
       "      <td>Riyadh</td>\n",
       "      <td>GMC</td>\n",
       "      <td>Automatic</td>\n",
       "      <td>Saudi</td>\n",
       "      <td>Full</td>\n",
       "      <td>2014</td>\n",
       "      <td>8.0</td>\n",
       "      <td>80000</td>\n",
       "      <td>120000</td>\n",
       "    </tr>\n",
       "    <tr>\n",
       "      <th>2</th>\n",
       "      <td>Range Rover</td>\n",
       "      <td>Riyadh</td>\n",
       "      <td>Land Rover</td>\n",
       "      <td>Automatic</td>\n",
       "      <td>Gulf Arabic</td>\n",
       "      <td>Full</td>\n",
       "      <td>2015</td>\n",
       "      <td>5.0</td>\n",
       "      <td>140000</td>\n",
       "      <td>260000</td>\n",
       "    </tr>\n",
       "    <tr>\n",
       "      <th>3</th>\n",
       "      <td>Optima</td>\n",
       "      <td>Hafar Al-Batin</td>\n",
       "      <td>Kia</td>\n",
       "      <td>Automatic</td>\n",
       "      <td>Saudi</td>\n",
       "      <td>Semi Full</td>\n",
       "      <td>2015</td>\n",
       "      <td>2.4</td>\n",
       "      <td>220000</td>\n",
       "      <td>42000</td>\n",
       "    </tr>\n",
       "    <tr>\n",
       "      <th>5</th>\n",
       "      <td>CX3</td>\n",
       "      <td>Abha</td>\n",
       "      <td>Mazda</td>\n",
       "      <td>Automatic</td>\n",
       "      <td>Saudi</td>\n",
       "      <td>Semi Full</td>\n",
       "      <td>2019</td>\n",
       "      <td>2.0</td>\n",
       "      <td>25000</td>\n",
       "      <td>58000</td>\n",
       "    </tr>\n",
       "    <tr>\n",
       "      <th>6</th>\n",
       "      <td>Cayenne S</td>\n",
       "      <td>Riyadh</td>\n",
       "      <td>Porsche</td>\n",
       "      <td>Automatic</td>\n",
       "      <td>Saudi</td>\n",
       "      <td>Full</td>\n",
       "      <td>2012</td>\n",
       "      <td>4.8</td>\n",
       "      <td>189000</td>\n",
       "      <td>85000</td>\n",
       "    </tr>\n",
       "    <tr>\n",
       "      <th>...</th>\n",
       "      <td>...</td>\n",
       "      <td>...</td>\n",
       "      <td>...</td>\n",
       "      <td>...</td>\n",
       "      <td>...</td>\n",
       "      <td>...</td>\n",
       "      <td>...</td>\n",
       "      <td>...</td>\n",
       "      <td>...</td>\n",
       "      <td>...</td>\n",
       "    </tr>\n",
       "    <tr>\n",
       "      <th>5616</th>\n",
       "      <td>CX9</td>\n",
       "      <td>Qassim</td>\n",
       "      <td>Mazda</td>\n",
       "      <td>Automatic</td>\n",
       "      <td>Saudi</td>\n",
       "      <td>Full</td>\n",
       "      <td>2020</td>\n",
       "      <td>2.0</td>\n",
       "      <td>9500</td>\n",
       "      <td>132000</td>\n",
       "    </tr>\n",
       "    <tr>\n",
       "      <th>5618</th>\n",
       "      <td>Suburban</td>\n",
       "      <td>Riyadh</td>\n",
       "      <td>GMC</td>\n",
       "      <td>Automatic</td>\n",
       "      <td>Saudi</td>\n",
       "      <td>Full</td>\n",
       "      <td>2006</td>\n",
       "      <td>5.3</td>\n",
       "      <td>86000</td>\n",
       "      <td>50000</td>\n",
       "    </tr>\n",
       "    <tr>\n",
       "      <th>5619</th>\n",
       "      <td>X-Trail</td>\n",
       "      <td>Jeddah</td>\n",
       "      <td>Nissan</td>\n",
       "      <td>Automatic</td>\n",
       "      <td>Saudi</td>\n",
       "      <td>Standard</td>\n",
       "      <td>2018</td>\n",
       "      <td>2.5</td>\n",
       "      <td>78794</td>\n",
       "      <td>68000</td>\n",
       "    </tr>\n",
       "    <tr>\n",
       "      <th>5621</th>\n",
       "      <td>Yukon</td>\n",
       "      <td>Dammam</td>\n",
       "      <td>GMC</td>\n",
       "      <td>Automatic</td>\n",
       "      <td>Saudi</td>\n",
       "      <td>Full</td>\n",
       "      <td>2016</td>\n",
       "      <td>5.3</td>\n",
       "      <td>48000</td>\n",
       "      <td>145000</td>\n",
       "    </tr>\n",
       "    <tr>\n",
       "      <th>5622</th>\n",
       "      <td>RX</td>\n",
       "      <td>Dammam</td>\n",
       "      <td>Lexus</td>\n",
       "      <td>Automatic</td>\n",
       "      <td>Gulf Arabic</td>\n",
       "      <td>Full</td>\n",
       "      <td>2016</td>\n",
       "      <td>2.5</td>\n",
       "      <td>81000</td>\n",
       "      <td>154000</td>\n",
       "    </tr>\n",
       "  </tbody>\n",
       "</table>\n",
       "<p>3828 rows × 10 columns</p>\n",
       "</div>"
      ],
      "text/plain": [
       "             Type          Region        Make  Gear_Type       Origin  \\\n",
       "1     Yukon        Riyadh          GMC         Automatic  Saudi         \n",
       "2     Range Rover  Riyadh          Land Rover  Automatic  Gulf Arabic   \n",
       "3     Optima       Hafar Al-Batin  Kia         Automatic  Saudi         \n",
       "5     CX3          Abha            Mazda       Automatic  Saudi         \n",
       "6     Cayenne S    Riyadh          Porsche     Automatic  Saudi         \n",
       "...         ...       ...              ...           ...    ...         \n",
       "5616  CX9          Qassim          Mazda       Automatic  Saudi         \n",
       "5618  Suburban     Riyadh          GMC         Automatic  Saudi         \n",
       "5619  X-Trail      Jeddah          Nissan      Automatic  Saudi         \n",
       "5621  Yukon        Dammam          GMC         Automatic  Saudi         \n",
       "5622  RX           Dammam          Lexus       Automatic  Gulf Arabic   \n",
       "\n",
       "        Options  Year  Engine_Size  Mileage   Price  \n",
       "1     Full       2014  8.0          80000    120000  \n",
       "2     Full       2015  5.0          140000   260000  \n",
       "3     Semi Full  2015  2.4          220000   42000   \n",
       "5     Semi Full  2019  2.0          25000    58000   \n",
       "6     Full       2012  4.8          189000   85000   \n",
       "...    ...        ...  ...             ...     ...   \n",
       "5616  Full       2020  2.0          9500     132000  \n",
       "5618  Full       2006  5.3          86000    50000   \n",
       "5619  Standard   2018  2.5          78794    68000   \n",
       "5621  Full       2016  5.3          48000    145000  \n",
       "5622  Full       2016  2.5          81000    154000  \n",
       "\n",
       "[3828 rows x 10 columns]"
      ]
     },
     "execution_count": 96,
     "metadata": {},
     "output_type": "execute_result"
    }
   ],
   "source": [
    "df=df[df[\"Negotiable\"]!=True]\n",
    "df.drop(columns=\"Negotiable\",inplace=True)\n",
    "df"
   ]
  },
  {
   "cell_type": "markdown",
   "metadata": {},
   "source": [
    "**Summary**\n",
    "- Dari grafik countplot kolom \"Negotiable\" diketahui bahwa kebanyakan mobil bekas yang dijual di Saudi Arabia sudah ditetapkan harganya (sekitar 68%).\n",
    "- Dari grafik boxplot kolom \"Negotiable\" dengan \"Price\" diketahui bahwa untuk mobil bekas yang dapat ditawar (negotiable) memiliki harga yaitu 0. Hal ini dikarenakan mobil bekas yang dapat ditawar (negotable) tidak memiliki harga yang pasti. \n",
    "- Dikarenakan mobil bekas yang dapat ditawar ini tidak tentu harganya dan sulit untuk diprediksi (akan mempengaruhi pemodelan) maka ada baiknya mobil-mobil bekas yang dapat ditawar akan didrop. Hal ini juga akan berlanjutkan dengan menghapus kolom \"Negotiable\" karena model sudah dikercutkan hanya berfokus pada mobil-mobil bekas yang sudah memiliki harga pasti."
   ]
  },
  {
   "cell_type": "markdown",
   "metadata": {},
   "source": [
    "### 2.2 Type Column"
   ]
  },
  {
   "cell_type": "markdown",
   "metadata": {},
   "source": [
    "**EDA Original Data**"
   ]
  },
  {
   "cell_type": "code",
   "execution_count": 97,
   "metadata": {},
   "outputs": [
    {
     "name": "stdout",
     "output_type": "stream",
     "text": [
      "Jumlah Unique Item pada Kolom 'Type': 347\n"
     ]
    }
   ],
   "source": [
    "print(\"Jumlah Unique Item pada Kolom 'Type':\",len(df_ori[\"Type\"].value_counts()))"
   ]
  },
  {
   "cell_type": "code",
   "execution_count": 98,
   "metadata": {},
   "outputs": [
    {
     "data": {
      "text/html": [
       "<div>\n",
       "<style scoped>\n",
       "    .dataframe tbody tr th:only-of-type {\n",
       "        vertical-align: middle;\n",
       "    }\n",
       "\n",
       "    .dataframe tbody tr th {\n",
       "        vertical-align: top;\n",
       "    }\n",
       "\n",
       "    .dataframe thead th {\n",
       "        text-align: right;\n",
       "    }\n",
       "</style>\n",
       "<table border=\"1\" class=\"dataframe\">\n",
       "  <thead>\n",
       "    <tr style=\"text-align: right;\">\n",
       "      <th></th>\n",
       "      <th>Quantity of Top 5 Car Type</th>\n",
       "    </tr>\n",
       "  </thead>\n",
       "  <tbody>\n",
       "    <tr>\n",
       "      <th>Land Cruiser</th>\n",
       "      <td>269</td>\n",
       "    </tr>\n",
       "    <tr>\n",
       "      <th>Camry</th>\n",
       "      <td>234</td>\n",
       "    </tr>\n",
       "    <tr>\n",
       "      <th>Hilux</th>\n",
       "      <td>207</td>\n",
       "    </tr>\n",
       "    <tr>\n",
       "      <th>Accent</th>\n",
       "      <td>174</td>\n",
       "    </tr>\n",
       "    <tr>\n",
       "      <th>Yukon</th>\n",
       "      <td>162</td>\n",
       "    </tr>\n",
       "    <tr>\n",
       "      <th>Sonata</th>\n",
       "      <td>157</td>\n",
       "    </tr>\n",
       "  </tbody>\n",
       "</table>\n",
       "</div>"
      ],
      "text/plain": [
       "              Quantity of Top 5 Car Type\n",
       "Land Cruiser  269                       \n",
       "Camry         234                       \n",
       "Hilux         207                       \n",
       "Accent        174                       \n",
       "Yukon         162                       \n",
       "Sonata        157                       "
      ]
     },
     "execution_count": 98,
     "metadata": {},
     "output_type": "execute_result"
    }
   ],
   "source": [
    "pd.DataFrame(df_ori[\"Type\"].value_counts()[0:6:1].rename(\"Quantity of Top 5 Car Type\"))"
   ]
  },
  {
   "cell_type": "code",
   "execution_count": 99,
   "metadata": {},
   "outputs": [
    {
     "data": {
      "text/html": [
       "<div>\n",
       "<style scoped>\n",
       "    .dataframe tbody tr th:only-of-type {\n",
       "        vertical-align: middle;\n",
       "    }\n",
       "\n",
       "    .dataframe tbody tr th {\n",
       "        vertical-align: top;\n",
       "    }\n",
       "\n",
       "    .dataframe thead th {\n",
       "        text-align: right;\n",
       "    }\n",
       "</style>\n",
       "<table border=\"1\" class=\"dataframe\">\n",
       "  <thead>\n",
       "    <tr style=\"text-align: right;\">\n",
       "      <th></th>\n",
       "      <th>Quantity of Bottom 5 Car Type</th>\n",
       "    </tr>\n",
       "  </thead>\n",
       "  <tbody>\n",
       "    <tr>\n",
       "      <th>S8</th>\n",
       "      <td>1</td>\n",
       "    </tr>\n",
       "    <tr>\n",
       "      <th>CT5</th>\n",
       "      <td>1</td>\n",
       "    </tr>\n",
       "    <tr>\n",
       "      <th>GC7</th>\n",
       "      <td>1</td>\n",
       "    </tr>\n",
       "    <tr>\n",
       "      <th>360</th>\n",
       "      <td>1</td>\n",
       "    </tr>\n",
       "    <tr>\n",
       "      <th>Nativa</th>\n",
       "      <td>1</td>\n",
       "    </tr>\n",
       "  </tbody>\n",
       "</table>\n",
       "</div>"
      ],
      "text/plain": [
       "        Quantity of Bottom 5 Car Type\n",
       "S8      1                            \n",
       "CT5     1                            \n",
       "GC7     1                            \n",
       "360     1                            \n",
       "Nativa  1                            "
      ]
     },
     "execution_count": 99,
     "metadata": {},
     "output_type": "execute_result"
    }
   ],
   "source": [
    "pd.DataFrame(df_ori[\"Type\"].value_counts()[-1:-6:-1].rename(\"Quantity of Bottom 5 Car Type\"))"
   ]
  },
  {
   "cell_type": "code",
   "execution_count": 100,
   "metadata": {},
   "outputs": [
    {
     "data": {
      "image/png": "[encoded data removed]",
      "text/plain": [
       "<Figure size 1584x576 with 1 Axes>"
      ]
     },
     "metadata": {
      "needs_background": "light"
     },
     "output_type": "display_data"
    }
   ],
   "source": [
    "plt.figure(figsize=(22,8))\n",
    "sns.barplot(data=df_ori.groupby(\"Type\").count()[[\"Price\"]].sort_values(\"Price\",ascending=False).reset_index().rename(columns={\"Price\":\"Freq\"}),y=\"Freq\",x=\"Type\",color=\"royalblue\")\n",
    "plt.xticks(rotation=90);"
   ]
  },
  {
   "cell_type": "markdown",
   "metadata": {},
   "source": [
    "**Anomalie Treatment**"
   ]
  },
  {
   "cell_type": "code",
   "execution_count": 101,
   "metadata": {},
   "outputs": [],
   "source": [
    "for i in list(df[\"Type\"].value_counts()[df[\"Type\"].value_counts()<2].index):\n",
    "    df=df[df[\"Type\"]!=i]"
   ]
  },
  {
   "cell_type": "markdown",
   "metadata": {},
   "source": [
    "**Summary**\n",
    "- Total tipe mobil bekas yang dijual di Saudi Arabia berjumlah 347\n",
    "- Dari tabel Quantity of Top 5 Car Type dan grafik dapat disimpulkan bahwa penduduk Saudi Arabia cenderung memnjual mobil bekas bertipe Land Cruiser, Hilux, dan Accent\t\n",
    "- Dari tabel Quantity of Bottom 5 Car Type, dapat diketahui bahwa terdapat beberapa unique item yang hanya berjumlah satu atau sedikit. Hal ini dapat menimbulkan kesalahan atau error selama proses pemodelan khususnya dibagian splitting data train dan data test. Ketika unique item yang berjumlah satu atau sedikit hanya masuk kedalam test set maka model tidak mampu meprediksi, karena pada saat proses train data, item tersebut tidak dipelajari oleh model. Maka dari itu untuk mencegah hal tersebut terjadi maka ada baiknya untuk mendrop unque item yang berjumlah satu atau sedikit.\n",
    "- Selain itu juga beberapa tipe mobil yang memiliki jumlah sedikit memang sangat beresiko tereliminasi ketika melakukan data cleaning"
   ]
  },
  {
   "cell_type": "markdown",
   "metadata": {},
   "source": [
    "### 2.3 Make Column"
   ]
  },
  {
   "cell_type": "markdown",
   "metadata": {},
   "source": [
    "**EDA Original Data**"
   ]
  },
  {
   "cell_type": "code",
   "execution_count": 102,
   "metadata": {},
   "outputs": [
    {
     "name": "stdout",
     "output_type": "stream",
     "text": [
      "Jumlah Unique Item pada Kolom 'Make': 58\n"
     ]
    }
   ],
   "source": [
    "print(\"Jumlah Unique Item pada Kolom 'Make':\",len(df_ori[\"Make\"].value_counts()))"
   ]
  },
  {
   "cell_type": "code",
   "execution_count": 103,
   "metadata": {},
   "outputs": [
    {
     "data": {
      "text/html": [
       "<div>\n",
       "<style scoped>\n",
       "    .dataframe tbody tr th:only-of-type {\n",
       "        vertical-align: middle;\n",
       "    }\n",
       "\n",
       "    .dataframe tbody tr th {\n",
       "        vertical-align: top;\n",
       "    }\n",
       "\n",
       "    .dataframe thead th {\n",
       "        text-align: right;\n",
       "    }\n",
       "</style>\n",
       "<table border=\"1\" class=\"dataframe\">\n",
       "  <thead>\n",
       "    <tr style=\"text-align: right;\">\n",
       "      <th></th>\n",
       "      <th>Quantity of Top 5 Make</th>\n",
       "    </tr>\n",
       "  </thead>\n",
       "  <tbody>\n",
       "    <tr>\n",
       "      <th>Toyota</th>\n",
       "      <td>1431</td>\n",
       "    </tr>\n",
       "    <tr>\n",
       "      <th>Hyundai</th>\n",
       "      <td>670</td>\n",
       "    </tr>\n",
       "    <tr>\n",
       "      <th>Ford</th>\n",
       "      <td>530</td>\n",
       "    </tr>\n",
       "    <tr>\n",
       "      <th>Chevrolet</th>\n",
       "      <td>458</td>\n",
       "    </tr>\n",
       "    <tr>\n",
       "      <th>Nissan</th>\n",
       "      <td>387</td>\n",
       "    </tr>\n",
       "    <tr>\n",
       "      <th>GMC</th>\n",
       "      <td>282</td>\n",
       "    </tr>\n",
       "  </tbody>\n",
       "</table>\n",
       "</div>"
      ],
      "text/plain": [
       "           Quantity of Top 5 Make\n",
       "Toyota     1431                  \n",
       "Hyundai    670                   \n",
       "Ford       530                   \n",
       "Chevrolet  458                   \n",
       "Nissan     387                   \n",
       "GMC        282                   "
      ]
     },
     "execution_count": 103,
     "metadata": {},
     "output_type": "execute_result"
    }
   ],
   "source": [
    "pd.DataFrame(df_ori[\"Make\"].value_counts()[0:6:1].rename(\"Quantity of Top 5 Make\"))"
   ]
  },
  {
   "cell_type": "code",
   "execution_count": 104,
   "metadata": {},
   "outputs": [
    {
     "data": {
      "text/html": [
       "<div>\n",
       "<style scoped>\n",
       "    .dataframe tbody tr th:only-of-type {\n",
       "        vertical-align: middle;\n",
       "    }\n",
       "\n",
       "    .dataframe tbody tr th {\n",
       "        vertical-align: top;\n",
       "    }\n",
       "\n",
       "    .dataframe thead th {\n",
       "        text-align: right;\n",
       "    }\n",
       "</style>\n",
       "<table border=\"1\" class=\"dataframe\">\n",
       "  <thead>\n",
       "    <tr style=\"text-align: right;\">\n",
       "      <th></th>\n",
       "      <th>Quantity of Bottom 5 Make</th>\n",
       "    </tr>\n",
       "  </thead>\n",
       "  <tbody>\n",
       "    <tr>\n",
       "      <th>Ferrari</th>\n",
       "      <td>1</td>\n",
       "    </tr>\n",
       "    <tr>\n",
       "      <th>Tata</th>\n",
       "      <td>1</td>\n",
       "    </tr>\n",
       "    <tr>\n",
       "      <th>SsangYong</th>\n",
       "      <td>1</td>\n",
       "    </tr>\n",
       "    <tr>\n",
       "      <th>Iveco</th>\n",
       "      <td>1</td>\n",
       "    </tr>\n",
       "    <tr>\n",
       "      <th>BYD</th>\n",
       "      <td>1</td>\n",
       "    </tr>\n",
       "  </tbody>\n",
       "</table>\n",
       "</div>"
      ],
      "text/plain": [
       "           Quantity of Bottom 5 Make\n",
       "Ferrari    1                        \n",
       "Tata       1                        \n",
       "SsangYong  1                        \n",
       "Iveco      1                        \n",
       "BYD        1                        "
      ]
     },
     "execution_count": 104,
     "metadata": {},
     "output_type": "execute_result"
    }
   ],
   "source": [
    "pd.DataFrame(df_ori[\"Make\"].value_counts()[-1:-6:-1].rename(\"Quantity of Bottom 5 Make\"))"
   ]
  },
  {
   "cell_type": "code",
   "execution_count": 105,
   "metadata": {},
   "outputs": [
    {
     "data": {
      "image/png": "[encoded data removed]",
      "text/plain": [
       "<Figure size 1584x576 with 1 Axes>"
      ]
     },
     "metadata": {
      "needs_background": "light"
     },
     "output_type": "display_data"
    }
   ],
   "source": [
    "plt.figure(figsize=(22,8))\n",
    "sns.barplot(data=df_ori.groupby(\"Make\").count()[[\"Price\"]].sort_values(\"Price\",ascending=False).reset_index(),y=\"Price\",x=\"Make\",color=\"royalblue\")\n",
    "plt.xticks(rotation=45);"
   ]
  },
  {
   "cell_type": "markdown",
   "metadata": {},
   "source": [
    "**Anomalie Treatment**"
   ]
  },
  {
   "cell_type": "code",
   "execution_count": 106,
   "metadata": {},
   "outputs": [],
   "source": [
    "for i in list(df[\"Make\"].value_counts()[df[\"Make\"].value_counts()<2].index):\n",
    "    df=df[df[\"Make\"]!=i]"
   ]
  },
  {
   "cell_type": "markdown",
   "metadata": {},
   "source": [
    "**Summary**\n",
    "- Total brand mobil bekas yang dijual di Saudi Arabia berjumlah 58\n",
    "- Dari tabel Quantity of Top 5 Car Type dan grafik dapat disimpulkan bahwa penduduk Saudi Arabia cenderung memnjual mobil bekas yang memiliki brand yaitu Toyota, Hyundai, dan Ford\n",
    "- Dari tabel Quantity of Bottom 5 Car Type, dapat diketahui bahwa terdapat beberapa unique item yang hanya berjumlah satu atau sedikit. Maka unique item ini akan dihapus agar tidak membuat model error selama proses splitting dan modelling\n",
    "- Beberapa brand mobil yang memiliki jumlah sedikit memang sangat beresiko tereliminasi ketika melakukan data cleaning"
   ]
  },
  {
   "cell_type": "markdown",
   "metadata": {},
   "source": [
    "### 2.4 Region Column"
   ]
  },
  {
   "cell_type": "markdown",
   "metadata": {},
   "source": [
    "**EDA Originial Data**"
   ]
  },
  {
   "cell_type": "code",
   "execution_count": 107,
   "metadata": {},
   "outputs": [
    {
     "name": "stdout",
     "output_type": "stream",
     "text": [
      "Jumlah Unique Item pada Kolom 'Region': 27\n"
     ]
    }
   ],
   "source": [
    "print(\"Jumlah Unique Item pada Kolom 'Region':\",len(df_ori[\"Region\"].value_counts()))"
   ]
  },
  {
   "cell_type": "code",
   "execution_count": 108,
   "metadata": {},
   "outputs": [
    {
     "data": {
      "text/html": [
       "<div>\n",
       "<style scoped>\n",
       "    .dataframe tbody tr th:only-of-type {\n",
       "        vertical-align: middle;\n",
       "    }\n",
       "\n",
       "    .dataframe tbody tr th {\n",
       "        vertical-align: top;\n",
       "    }\n",
       "\n",
       "    .dataframe thead th {\n",
       "        text-align: right;\n",
       "    }\n",
       "</style>\n",
       "<table border=\"1\" class=\"dataframe\">\n",
       "  <thead>\n",
       "    <tr style=\"text-align: right;\">\n",
       "      <th></th>\n",
       "      <th>Quantity of Top 5 Region</th>\n",
       "    </tr>\n",
       "  </thead>\n",
       "  <tbody>\n",
       "    <tr>\n",
       "      <th>Riyadh</th>\n",
       "      <td>2272</td>\n",
       "    </tr>\n",
       "    <tr>\n",
       "      <th>Dammam</th>\n",
       "      <td>925</td>\n",
       "    </tr>\n",
       "    <tr>\n",
       "      <th>Jeddah</th>\n",
       "      <td>733</td>\n",
       "    </tr>\n",
       "    <tr>\n",
       "      <th>Qassim</th>\n",
       "      <td>225</td>\n",
       "    </tr>\n",
       "    <tr>\n",
       "      <th>Al-Medina</th>\n",
       "      <td>214</td>\n",
       "    </tr>\n",
       "    <tr>\n",
       "      <th>Al-Ahsa</th>\n",
       "      <td>166</td>\n",
       "    </tr>\n",
       "  </tbody>\n",
       "</table>\n",
       "</div>"
      ],
      "text/plain": [
       "           Quantity of Top 5 Region\n",
       "Riyadh     2272                    \n",
       "Dammam     925                     \n",
       "Jeddah     733                     \n",
       "Qassim     225                     \n",
       "Al-Medina  214                     \n",
       "Al-Ahsa    166                     "
      ]
     },
     "execution_count": 108,
     "metadata": {},
     "output_type": "execute_result"
    }
   ],
   "source": [
    "pd.DataFrame(df_ori[\"Region\"].value_counts()[0:6:1].rename(\"Quantity of Top 5 Region\"))"
   ]
  },
  {
   "cell_type": "code",
   "execution_count": 109,
   "metadata": {},
   "outputs": [
    {
     "data": {
      "text/html": [
       "<div>\n",
       "<style scoped>\n",
       "    .dataframe tbody tr th:only-of-type {\n",
       "        vertical-align: middle;\n",
       "    }\n",
       "\n",
       "    .dataframe tbody tr th {\n",
       "        vertical-align: top;\n",
       "    }\n",
       "\n",
       "    .dataframe thead th {\n",
       "        text-align: right;\n",
       "    }\n",
       "</style>\n",
       "<table border=\"1\" class=\"dataframe\">\n",
       "  <thead>\n",
       "    <tr style=\"text-align: right;\">\n",
       "      <th></th>\n",
       "      <th>Quantity of Bottom 5 Region</th>\n",
       "    </tr>\n",
       "  </thead>\n",
       "  <tbody>\n",
       "    <tr>\n",
       "      <th>Sabya</th>\n",
       "      <td>4</td>\n",
       "    </tr>\n",
       "    <tr>\n",
       "      <th>Sakaka</th>\n",
       "      <td>10</td>\n",
       "    </tr>\n",
       "    <tr>\n",
       "      <th>Wadi Dawasir</th>\n",
       "      <td>12</td>\n",
       "    </tr>\n",
       "    <tr>\n",
       "      <th>Al-Namas</th>\n",
       "      <td>12</td>\n",
       "    </tr>\n",
       "    <tr>\n",
       "      <th>Qurayyat</th>\n",
       "      <td>13</td>\n",
       "    </tr>\n",
       "  </tbody>\n",
       "</table>\n",
       "</div>"
      ],
      "text/plain": [
       "              Quantity of Bottom 5 Region\n",
       "Sabya         4                          \n",
       "Sakaka        10                         \n",
       "Wadi Dawasir  12                         \n",
       "Al-Namas      12                         \n",
       "Qurayyat      13                         "
      ]
     },
     "execution_count": 109,
     "metadata": {},
     "output_type": "execute_result"
    }
   ],
   "source": [
    "pd.DataFrame(df_ori[\"Region\"].value_counts()[-1:-6:-1].rename(\"Quantity of Bottom 5 Region\"))"
   ]
  },
  {
   "cell_type": "code",
   "execution_count": 110,
   "metadata": {},
   "outputs": [
    {
     "data": {
      "image/png": "[encoded data removed]",
      "text/plain": [
       "<Figure size 1584x576 with 1 Axes>"
      ]
     },
     "metadata": {
      "needs_background": "light"
     },
     "output_type": "display_data"
    }
   ],
   "source": [
    "plt.figure(figsize=(22,8))\n",
    "sns.barplot(data=df_ori.groupby(\"Region\").count()[[\"Price\"]].sort_values(\"Price\",ascending=False).reset_index(),y=\"Price\",x=\"Region\",color=\"royalblue\")\n",
    "plt.xticks(rotation=45);"
   ]
  },
  {
   "cell_type": "markdown",
   "metadata": {},
   "source": [
    "**Anomalie Treatment**"
   ]
  },
  {
   "cell_type": "code",
   "execution_count": 111,
   "metadata": {},
   "outputs": [],
   "source": [
    "for i in list(df[\"Region\"].value_counts()[df[\"Region\"].value_counts()<2].index):\n",
    "    df=df[df[\"Region\"]!=i]"
   ]
  },
  {
   "cell_type": "markdown",
   "metadata": {},
   "source": [
    "**Summary**\n",
    "- Total region dimana mobil bekas dijual berjumlah 27\n",
    "- Dari tabel Quantity of Top 5 Car Region dan grafik dapat disimpulkan bahwa mobil bekas dijual di daerah Riyadh, Dammam, dan Jedah\t\n",
    "- Dari tabel Quantity of Bottom 5 Car Region, dapat diketahui bahwa terdapat beberapa unique item yang hanya berjumlah satu atau sedikit. Maka unique item ini akan dihapus agar tidak membuat model error selama proses splitting dan modelling\n",
    "- Beberapa Region yang memiliki jumlah sedikit memang sangat beresiko tereliminasi ketika melakukan data cleaning"
   ]
  },
  {
   "cell_type": "markdown",
   "metadata": {},
   "source": [
    "### 2.5 Origin Column"
   ]
  },
  {
   "cell_type": "markdown",
   "metadata": {},
   "source": [
    "**EDA Original Data**"
   ]
  },
  {
   "cell_type": "code",
   "execution_count": 112,
   "metadata": {},
   "outputs": [
    {
     "data": {
      "text/html": [
       "<div>\n",
       "<style scoped>\n",
       "    .dataframe tbody tr th:only-of-type {\n",
       "        vertical-align: middle;\n",
       "    }\n",
       "\n",
       "    .dataframe tbody tr th {\n",
       "        vertical-align: top;\n",
       "    }\n",
       "\n",
       "    .dataframe thead th {\n",
       "        text-align: right;\n",
       "    }\n",
       "</style>\n",
       "<table border=\"1\" class=\"dataframe\">\n",
       "  <thead>\n",
       "    <tr style=\"text-align: right;\">\n",
       "      <th></th>\n",
       "      <th>Presentase dari Total Data</th>\n",
       "    </tr>\n",
       "  </thead>\n",
       "  <tbody>\n",
       "    <tr>\n",
       "      <th>Saudi</th>\n",
       "      <td>74.466572</td>\n",
       "    </tr>\n",
       "    <tr>\n",
       "      <th>Gulf Arabic</th>\n",
       "      <td>12.393314</td>\n",
       "    </tr>\n",
       "    <tr>\n",
       "      <th>Other</th>\n",
       "      <td>12.055477</td>\n",
       "    </tr>\n",
       "    <tr>\n",
       "      <th>Unknown</th>\n",
       "      <td>1.084637</td>\n",
       "    </tr>\n",
       "  </tbody>\n",
       "</table>\n",
       "</div>"
      ],
      "text/plain": [
       "             Presentase dari Total Data\n",
       "Saudi        74.466572                 \n",
       "Gulf Arabic  12.393314                 \n",
       "Other        12.055477                 \n",
       "Unknown      1.084637                  "
      ]
     },
     "execution_count": 112,
     "metadata": {},
     "output_type": "execute_result"
    },
    {
     "data": {
      "image/png": "[encoded data removed]",
      "text/plain": [
       "<Figure size 648x432 with 1 Axes>"
      ]
     },
     "metadata": {
      "needs_background": "light"
     },
     "output_type": "display_data"
    }
   ],
   "source": [
    "plt.figure(figsize=(9,6))\n",
    "sns.countplot(data=df_ori,x=\"Origin\")\n",
    ";\n",
    "\n",
    "pd.DataFrame(df_ori[\"Origin\"].value_counts().rename(\"Presentase dari Total Data\")/len(df_ori)*100)"
   ]
  },
  {
   "cell_type": "markdown",
   "metadata": {},
   "source": [
    "**Anomalie Treatment**"
   ]
  },
  {
   "cell_type": "code",
   "execution_count": 113,
   "metadata": {},
   "outputs": [],
   "source": [
    "df[\"Origin\"]=np.where(df[\"Origin\"]==\"Unknown\",df[\"Origin\"].mode(),df[\"Origin\"])"
   ]
  },
  {
   "cell_type": "markdown",
   "metadata": {},
   "source": [
    "**Summary**\n",
    "\n",
    "- Total Origin dimana mobil bekas yang dijual berasal berjumlah empat yaitu Saudi, Gulf Arabic, Other, dan Unknown. Namun, Disini saya beranggapan bahwa Unknown merupakan missing data maka akan diimpute dengan modus di kolom ini. Sehingga total region hanya akan tersisa 3 Region\n",
    "- Dari grafik dapat disimpulkan bahwa mobil bekas yang dijual kebanyakan berasal dari Saudi\t(daerah perkotaan saudi Arabia) yaitu sebesar 74% dari total mobil bekas."
   ]
  },
  {
   "cell_type": "markdown",
   "metadata": {},
   "source": [
    "### 2.6 Gear_Type Column"
   ]
  },
  {
   "cell_type": "markdown",
   "metadata": {},
   "source": [
    "**EDA Original Data**"
   ]
  },
  {
   "cell_type": "code",
   "execution_count": 114,
   "metadata": {},
   "outputs": [
    {
     "data": {
      "text/html": [
       "<div>\n",
       "<style scoped>\n",
       "    .dataframe tbody tr th:only-of-type {\n",
       "        vertical-align: middle;\n",
       "    }\n",
       "\n",
       "    .dataframe tbody tr th {\n",
       "        vertical-align: top;\n",
       "    }\n",
       "\n",
       "    .dataframe thead th {\n",
       "        text-align: right;\n",
       "    }\n",
       "</style>\n",
       "<table border=\"1\" class=\"dataframe\">\n",
       "  <thead>\n",
       "    <tr style=\"text-align: right;\">\n",
       "      <th></th>\n",
       "      <th>Gear_Type</th>\n",
       "    </tr>\n",
       "  </thead>\n",
       "  <tbody>\n",
       "    <tr>\n",
       "      <th>Automatic</th>\n",
       "      <td>86.682077</td>\n",
       "    </tr>\n",
       "    <tr>\n",
       "      <th>Manual</th>\n",
       "      <td>13.317923</td>\n",
       "    </tr>\n",
       "  </tbody>\n",
       "</table>\n",
       "</div>"
      ],
      "text/plain": [
       "           Gear_Type\n",
       "Automatic  86.682077\n",
       "Manual     13.317923"
      ]
     },
     "execution_count": 114,
     "metadata": {},
     "output_type": "execute_result"
    },
    {
     "data": {
      "image/png": "[encoded data removed]",
      "text/plain": [
       "<Figure size 648x432 with 1 Axes>"
      ]
     },
     "metadata": {
      "needs_background": "light"
     },
     "output_type": "display_data"
    }
   ],
   "source": [
    "plt.figure(figsize=(9,6))\n",
    "sns.countplot(data=df_ori,x=\"Gear_Type\")\n",
    ";\n",
    "\n",
    "pd.DataFrame(df_ori[\"Gear_Type\"].value_counts().rename(\"Gear_Type\")/len(df_ori)*100)"
   ]
  },
  {
   "cell_type": "markdown",
   "metadata": {},
   "source": [
    "**Summary**\n",
    "\n",
    "- Terdapat dua gear type pada mobil bekas yang dijual di Saudi Arabia yaitu Automatic dan Manual.\n",
    "- Dari grafik dapat disimpulkan bahwa mobil bekas yang dijual kebanyakan memilki gear type yang automatic yaitu sebesar 86.6% dari total mobil bekas."
   ]
  },
  {
   "cell_type": "markdown",
   "metadata": {},
   "source": [
    "### 2.7 Options Column"
   ]
  },
  {
   "cell_type": "markdown",
   "metadata": {},
   "source": [
    "**EDA Original Data**"
   ]
  },
  {
   "cell_type": "code",
   "execution_count": 115,
   "metadata": {},
   "outputs": [
    {
     "data": {
      "text/html": [
       "<div>\n",
       "<style scoped>\n",
       "    .dataframe tbody tr th:only-of-type {\n",
       "        vertical-align: middle;\n",
       "    }\n",
       "\n",
       "    .dataframe tbody tr th {\n",
       "        vertical-align: top;\n",
       "    }\n",
       "\n",
       "    .dataframe thead th {\n",
       "        text-align: right;\n",
       "    }\n",
       "</style>\n",
       "<table border=\"1\" class=\"dataframe\">\n",
       "  <thead>\n",
       "    <tr style=\"text-align: right;\">\n",
       "      <th></th>\n",
       "      <th>Options</th>\n",
       "    </tr>\n",
       "  </thead>\n",
       "  <tbody>\n",
       "    <tr>\n",
       "      <th>Full</th>\n",
       "      <td>39.704836</td>\n",
       "    </tr>\n",
       "    <tr>\n",
       "      <th>Standard</th>\n",
       "      <td>32.396871</td>\n",
       "    </tr>\n",
       "    <tr>\n",
       "      <th>Semi Full</th>\n",
       "      <td>27.898293</td>\n",
       "    </tr>\n",
       "  </tbody>\n",
       "</table>\n",
       "</div>"
      ],
      "text/plain": [
       "             Options\n",
       "Full       39.704836\n",
       "Standard   32.396871\n",
       "Semi Full  27.898293"
      ]
     },
     "execution_count": 115,
     "metadata": {},
     "output_type": "execute_result"
    },
    {
     "data": {
      "image/png": "[encoded data removed]",
      "text/plain": [
       "<Figure size 648x432 with 1 Axes>"
      ]
     },
     "metadata": {
      "needs_background": "light"
     },
     "output_type": "display_data"
    }
   ],
   "source": [
    "plt.figure(figsize=(9,6))\n",
    "sns.countplot(data=df_ori,x=\"Options\")\n",
    ";\n",
    "\n",
    "pd.DataFrame(df_ori[\"Options\"].value_counts().rename(\"Options\")/len(df_ori)*100)"
   ]
  },
  {
   "cell_type": "markdown",
   "metadata": {},
   "source": [
    "**Summary**\n",
    "\n",
    "- Terdapat tiga options pada mobil bekas yang dijual di Saudi Arabia yaitu Full, Semi Full, dan Standard.\n",
    "- Dari grafik dapat disimpulkan bahwa mobil bekas yang dijual kebanyakan memilki option yaitu Full, sebesar 39.7% dari total mobil bekas."
   ]
  },
  {
   "cell_type": "markdown",
   "metadata": {},
   "source": [
    "### 2.8 Year Column"
   ]
  },
  {
   "cell_type": "markdown",
   "metadata": {},
   "source": [
    "**EDA Original Data**"
   ]
  },
  {
   "cell_type": "code",
   "execution_count": 116,
   "metadata": {},
   "outputs": [
    {
     "data": {
      "image/png": "[encoded data removed]",
      "text/plain": [
       "<Figure size 1296x432 with 2 Axes>"
      ]
     },
     "metadata": {
      "needs_background": "light"
     },
     "output_type": "display_data"
    }
   ],
   "source": [
    "plt.figure(figsize=(18,6))\n",
    "plt.subplot(1,2,1)\n",
    "sns.distplot(df_ori[\"Year\"])\n",
    "plt.xticks(rotation=90)\n",
    "plt.subplot(1,2,2)\n",
    "sns.boxplot(data=df_ori,x=\"Year\");"
   ]
  },
  {
   "cell_type": "code",
   "execution_count": 117,
   "metadata": {},
   "outputs": [
    {
     "data": {
      "text/plain": [
       "NormaltestResult(statistic=404.9051034541338, pvalue=1.191170522955096e-88)"
      ]
     },
     "execution_count": 117,
     "metadata": {},
     "output_type": "execute_result"
    }
   ],
   "source": [
    "normaltest(df_ori[\"Engine_Size\"])"
   ]
  },
  {
   "cell_type": "code",
   "execution_count": 118,
   "metadata": {},
   "outputs": [
    {
     "data": {
      "text/plain": [
       "count    5624.000000\n",
       "mean     2014.101885\n",
       "std      5.791606   \n",
       "min      1963.000000\n",
       "25%      2012.000000\n",
       "50%      2016.000000\n",
       "75%      2018.000000\n",
       "max      2022.000000\n",
       "Name: Year, dtype: float64"
      ]
     },
     "execution_count": 118,
     "metadata": {},
     "output_type": "execute_result"
    }
   ],
   "source": [
    "df_ori[\"Year\"].describe()"
   ]
  },
  {
   "cell_type": "markdown",
   "metadata": {},
   "source": [
    "**Summary**\n",
    "\n",
    "- Dari grafik histogram dan boxplot diatas, dapat diketahui bahwa distribusi mobil bekas berdasarkan tahun berbentuk left skewed. Hal ini juga terbukti dari nilai p-value (hasil normality test) yang dibawah 0.05\n",
    "- Dari grafik ini juga dapat disimpulkan bahwa mobil bekas yang dijual kebanyakan (median) merupakan mobil dengan kisaran tahun pembuatan yaitu 2016.\n"
   ]
  },
  {
   "cell_type": "markdown",
   "metadata": {},
   "source": [
    "### 2.9 Engine_Size Column"
   ]
  },
  {
   "cell_type": "markdown",
   "metadata": {},
   "source": [
    "**EDA Original Data**"
   ]
  },
  {
   "cell_type": "code",
   "execution_count": 119,
   "metadata": {},
   "outputs": [
    {
     "data": {
      "image/png": "[encoded data removed]",
      "text/plain": [
       "<Figure size 1296x432 with 2 Axes>"
      ]
     },
     "metadata": {
      "needs_background": "light"
     },
     "output_type": "display_data"
    }
   ],
   "source": [
    "plt.figure(figsize=(18,6))\n",
    "plt.subplot(1,2,1)\n",
    "sns.distplot(df_ori[\"Engine_Size\"])\n",
    "plt.xticks(rotation=90)\n",
    "plt.subplot(1,2,2)\n",
    "sns.boxplot(data=df_ori,x=\"Engine_Size\");"
   ]
  },
  {
   "cell_type": "code",
   "execution_count": 120,
   "metadata": {},
   "outputs": [
    {
     "data": {
      "text/plain": [
       "NormaltestResult(statistic=2962.6395681348195, pvalue=0.0)"
      ]
     },
     "execution_count": 120,
     "metadata": {},
     "output_type": "execute_result"
    }
   ],
   "source": [
    "normaltest(df_ori[\"Year\"])"
   ]
  },
  {
   "cell_type": "code",
   "execution_count": 121,
   "metadata": {},
   "outputs": [
    {
     "data": {
      "text/plain": [
       "count    5624.000000\n",
       "mean     3.295430   \n",
       "std      1.515108   \n",
       "min      1.000000   \n",
       "25%      2.000000   \n",
       "50%      3.000000   \n",
       "75%      4.500000   \n",
       "max      9.000000   \n",
       "Name: Engine_Size, dtype: float64"
      ]
     },
     "execution_count": 121,
     "metadata": {},
     "output_type": "execute_result"
    }
   ],
   "source": [
    "df_ori[\"Engine_Size\"].describe()"
   ]
  },
  {
   "cell_type": "markdown",
   "metadata": {},
   "source": [
    "**Summary**\n",
    "\n",
    "- Dari grafik histogram dan boxplot diatas, dapat diketahui bahwa distribusi ukuran mesin mobil bekas berbentuk cenderung right skewed. Hal ini juga terbukti dari nilai p-value (hasil normality test) yang dibawah 0.05\n",
    "- Dari grafik ini juga dapat disimpulkan bahwa mobil bekas yang dijual kebanyakan (median) merupakan mobil dengan ukuran mesin yaitu 3."
   ]
  },
  {
   "cell_type": "markdown",
   "metadata": {},
   "source": [
    "### 2.10 Mileage Column"
   ]
  },
  {
   "cell_type": "markdown",
   "metadata": {},
   "source": [
    "**EDA Original Data**"
   ]
  },
  {
   "cell_type": "code",
   "execution_count": 122,
   "metadata": {},
   "outputs": [
    {
     "data": {
      "image/png": "[encoded data removed]",
      "text/plain": [
       "<Figure size 1296x432 with 2 Axes>"
      ]
     },
     "metadata": {
      "needs_background": "light"
     },
     "output_type": "display_data"
    }
   ],
   "source": [
    "plt.figure(figsize=(18,6))\n",
    "plt.subplot(1,2,1)\n",
    "sns.distplot(df_ori[\"Mileage\"])\n",
    "plt.xticks(rotation=90)\n",
    "plt.subplot(1,2,2)\n",
    "sns.boxplot(data=df_ori,x=\"Mileage\");"
   ]
  },
  {
   "cell_type": "code",
   "execution_count": 123,
   "metadata": {},
   "outputs": [
    {
     "data": {
      "text/plain": [
       "NormaltestResult(statistic=14798.94292519718, pvalue=0.0)"
      ]
     },
     "execution_count": 123,
     "metadata": {},
     "output_type": "execute_result"
    }
   ],
   "source": [
    "normaltest(df_ori[\"Mileage\"])"
   ]
  },
  {
   "cell_type": "code",
   "execution_count": 124,
   "metadata": {},
   "outputs": [
    {
     "data": {
      "text/plain": [
       "count    5.624000e+03\n",
       "mean     1.509234e+05\n",
       "std      3.828360e+05\n",
       "min      1.000000e+02\n",
       "25%      3.800000e+04\n",
       "50%      1.030000e+05\n",
       "75%      1.960000e+05\n",
       "max      2.000000e+07\n",
       "Name: Mileage, dtype: float64"
      ]
     },
     "execution_count": 124,
     "metadata": {},
     "output_type": "execute_result"
    }
   ],
   "source": [
    "df_ori[\"Mileage\"].describe()"
   ]
  },
  {
   "cell_type": "markdown",
   "metadata": {},
   "source": [
    "**Anomalie Treatment**"
   ]
  },
  {
   "cell_type": "code",
   "execution_count": 125,
   "metadata": {},
   "outputs": [
    {
     "data": {
      "image/png": "[encoded data removed]",
      "text/plain": [
       "<Figure size 1296x432 with 2 Axes>"
      ]
     },
     "metadata": {
      "needs_background": "light"
     },
     "output_type": "display_data"
    }
   ],
   "source": [
    "df=df[df[\"Mileage\"]<1000000]\n",
    "\n",
    "plt.figure(figsize=(18,6))\n",
    "plt.subplot(1,2,1)\n",
    "sns.distplot(df[\"Mileage\"])\n",
    "plt.xticks(rotation=90)\n",
    "plt.subplot(1,2,2)\n",
    "sns.boxplot(data=df,x=\"Mileage\");"
   ]
  },
  {
   "cell_type": "code",
   "execution_count": 126,
   "metadata": {},
   "outputs": [
    {
     "data": {
      "text/plain": [
       "NormaltestResult(statistic=1074.1244848238928, pvalue=5.712571934766275e-234)"
      ]
     },
     "execution_count": 126,
     "metadata": {},
     "output_type": "execute_result"
    }
   ],
   "source": [
    "normaltest(df[\"Mileage\"])"
   ]
  },
  {
   "cell_type": "code",
   "execution_count": 127,
   "metadata": {},
   "outputs": [
    {
     "data": {
      "text/plain": [
       "count    3715.000000  \n",
       "mean     128837.514401\n",
       "std      111069.893101\n",
       "min      100.000000   \n",
       "25%      49000.000000 \n",
       "50%      103358.000000\n",
       "75%      183000.000000\n",
       "max      900000.000000\n",
       "Name: Mileage, dtype: float64"
      ]
     },
     "execution_count": 127,
     "metadata": {},
     "output_type": "execute_result"
    }
   ],
   "source": [
    "df[\"Mileage\"].describe()"
   ]
  },
  {
   "cell_type": "markdown",
   "metadata": {},
   "source": [
    "**Summary**\n",
    "\n",
    "- Sebelum dilakukan elminiasi outlier, dari grafik histogram dan boxplot diatas, dapat diketahui bahwa distribusi jarak yang sudah ditempuh mobil bekas berbentuk right skewed. Hal ini juga terbukti dari nilai p-value (hasil normality test) yang dibawah 0.05\n",
    "- Sebelum dilakukan elminiasi outlier, dari grafik ini juga dapat disimpulkan bahwa mobil bekas yang dijual kebanyakan (median) merupakan mobil yang sudah menempuh jarak sebesar 103000.\n",
    "- Apabila dilihat pada boxplot, terdapat satu yang data nilai mileage sangat tinggi dan mungkin nilainya bisa dianggap tidak masuk akal (apabila satuan milaege ini dalam km, maka jarak tempuh mobil 1000000 km - 20000000 km rasanya kurang tepat). Maka dari itu diputuskan untuk mendrop data tersebut."
   ]
  },
  {
   "cell_type": "markdown",
   "metadata": {},
   "source": [
    "### 2.11 Price Column (Target)"
   ]
  },
  {
   "cell_type": "markdown",
   "metadata": {},
   "source": [
    "**EDA Original Data**"
   ]
  },
  {
   "cell_type": "code",
   "execution_count": 128,
   "metadata": {},
   "outputs": [
    {
     "data": {
      "image/png": "[encoded data removed]",
      "text/plain": [
       "<Figure size 1296x432 with 2 Axes>"
      ]
     },
     "metadata": {
      "needs_background": "light"
     },
     "output_type": "display_data"
    }
   ],
   "source": [
    "plt.figure(figsize=(18,6))\n",
    "plt.subplot(1,2,1)\n",
    "sns.distplot(df_ori[\"Price\"])\n",
    "plt.xticks(rotation=90)\n",
    "plt.subplot(1,2,2)\n",
    "sns.boxplot(data=df_ori,x=\"Price\");"
   ]
  },
  {
   "cell_type": "code",
   "execution_count": 129,
   "metadata": {},
   "outputs": [
    {
     "data": {
      "text/plain": [
       "NormaltestResult(statistic=3799.9262918897903, pvalue=0.0)"
      ]
     },
     "execution_count": 129,
     "metadata": {},
     "output_type": "execute_result"
    }
   ],
   "source": [
    "normaltest(df_ori[\"Price\"])"
   ]
  },
  {
   "cell_type": "code",
   "execution_count": 130,
   "metadata": {},
   "outputs": [
    {
     "data": {
      "text/plain": [
       "count    5624.000000  \n",
       "mean     53074.058144 \n",
       "std      70155.340614 \n",
       "min      0.000000     \n",
       "25%      0.000000     \n",
       "50%      36500.000000 \n",
       "75%      72932.500000 \n",
       "max      850000.000000\n",
       "Name: Price, dtype: float64"
      ]
     },
     "execution_count": 130,
     "metadata": {},
     "output_type": "execute_result"
    }
   ],
   "source": [
    "df_ori[\"Price\"].describe()"
   ]
  },
  {
   "cell_type": "markdown",
   "metadata": {},
   "source": [
    "**Anomalie Treatment**"
   ]
  },
  {
   "cell_type": "code",
   "execution_count": 131,
   "metadata": {},
   "outputs": [
    {
     "data": {
      "image/png": "[encoded data removed]",
      "text/plain": [
       "<Figure size 1296x432 with 2 Axes>"
      ]
     },
     "metadata": {
      "needs_background": "light"
     },
     "output_type": "display_data"
    }
   ],
   "source": [
    "df=df[(df[\"Price\"]<500000)&(df[\"Price\"]>1000)]\n",
    "\n",
    "plt.figure(figsize=(18,6))\n",
    "plt.subplot(1,2,1)\n",
    "sns.distplot(df[\"Price\"])\n",
    "plt.xticks(rotation=90)\n",
    "plt.subplot(1,2,2)\n",
    "sns.boxplot(data=df,x=\"Price\");"
   ]
  },
  {
   "cell_type": "code",
   "execution_count": 132,
   "metadata": {},
   "outputs": [
    {
     "data": {
      "text/plain": [
       "NormaltestResult(statistic=1890.7293581138692, pvalue=0.0)"
      ]
     },
     "execution_count": 132,
     "metadata": {},
     "output_type": "execute_result"
    }
   ],
   "source": [
    "normaltest(df[\"Price\"])"
   ]
  },
  {
   "cell_type": "code",
   "execution_count": 133,
   "metadata": {},
   "outputs": [
    {
     "data": {
      "text/plain": [
       "count    3698.000000  \n",
       "mean     76833.251758 \n",
       "std      66261.130433 \n",
       "min      1002.000000  \n",
       "25%      35500.000000 \n",
       "50%      58000.000000 \n",
       "75%      93500.000000 \n",
       "max      498000.000000\n",
       "Name: Price, dtype: float64"
      ]
     },
     "execution_count": 133,
     "metadata": {},
     "output_type": "execute_result"
    }
   ],
   "source": [
    "df[\"Price\"].describe()"
   ]
  },
  {
   "cell_type": "markdown",
   "metadata": {},
   "source": [
    "**Summary**\n",
    "\n",
    "- Sebelum dilakukan elminiasi outlier, dari grafik histogram dan boxplot diatas, dapat diketahui bahwa distribusi harga mobil bekas berbentuk right skewed. Hal ini juga terbukti dari nilai p-value (hasil normality test) yang dibawah 0.05\n",
    "- sebelum dilakukan elminiasi outlier, dari grafik ini juga dapat disimpulkan bahwa mobil bekas yang dijual kebanyakan (median) merupakan mobil yang sudah memiliki harga yaitu UDF 36500.\n",
    "- Apabila dilihat pada boxplot, terdapat beberapa harga mobil yang nilai jualnya sangat rendah dan sangat tinggi. Sehingga, mungkin nilainya bisa dianggap tidak masuk akal (apabila satuan price dalam dalam USD, maka harga mobil yang dibawah USD 1000 dan diatas USD 500000 kurang tepat). Maka dari itu diputuskan untuk mendrop data tersebut."
   ]
  },
  {
   "cell_type": "markdown",
   "metadata": {},
   "source": [
    "## 3 Data Correlation"
   ]
  },
  {
   "cell_type": "markdown",
   "metadata": {},
   "source": [
    "**Correlation Between Numerical Feature and Target**"
   ]
  },
  {
   "cell_type": "code",
   "execution_count": 134,
   "metadata": {},
   "outputs": [
    {
     "data": {
      "image/png": "[encoded data removed]",
      "text/plain": [
       "<Figure size 1296x864 with 3 Axes>"
      ]
     },
     "metadata": {
      "needs_background": "light"
     },
     "output_type": "display_data"
    }
   ],
   "source": [
    "plt.figure(figsize=(18,12))\n",
    "plt.subplot(2,2,1)\n",
    "sns.scatterplot(data=df,y=\"Price\",x=\"Year\")\n",
    "plt.xticks(rotation=90)\n",
    "plt.subplot(2,2,2)\n",
    "sns.scatterplot(data=df,y=\"Price\",x=\"Engine_Size\")\n",
    "plt.subplot(2,2,3)\n",
    "sns.scatterplot(data=df,y=\"Price\",x=\"Mileage\");"
   ]
  },
  {
   "cell_type": "markdown",
   "metadata": {},
   "source": [
    "**Correlation Test Between Some Feature and Target**"
   ]
  },
  {
   "cell_type": "code",
   "execution_count": 135,
   "metadata": {},
   "outputs": [
    {
     "data": {
      "text/html": [
       "<div>\n",
       "<style scoped>\n",
       "    .dataframe tbody tr th:only-of-type {\n",
       "        vertical-align: middle;\n",
       "    }\n",
       "\n",
       "    .dataframe tbody tr th {\n",
       "        vertical-align: top;\n",
       "    }\n",
       "\n",
       "    .dataframe thead th {\n",
       "        text-align: right;\n",
       "    }\n",
       "</style>\n",
       "<table border=\"1\" class=\"dataframe\">\n",
       "  <thead>\n",
       "    <tr style=\"text-align: right;\">\n",
       "      <th></th>\n",
       "      <th>Year</th>\n",
       "      <th>Engine_Size</th>\n",
       "      <th>Mileage</th>\n",
       "      <th>Gear_Type_Manual</th>\n",
       "      <th>Origin_Other</th>\n",
       "      <th>Origin_Saudi</th>\n",
       "      <th>Options_Semi Full</th>\n",
       "      <th>Options_Standard</th>\n",
       "      <th>Price (Target)</th>\n",
       "    </tr>\n",
       "  </thead>\n",
       "  <tbody>\n",
       "    <tr>\n",
       "      <th>1</th>\n",
       "      <td>2014</td>\n",
       "      <td>8.0</td>\n",
       "      <td>80000</td>\n",
       "      <td>0</td>\n",
       "      <td>0</td>\n",
       "      <td>1</td>\n",
       "      <td>0</td>\n",
       "      <td>0</td>\n",
       "      <td>120000</td>\n",
       "    </tr>\n",
       "    <tr>\n",
       "      <th>2</th>\n",
       "      <td>2015</td>\n",
       "      <td>5.0</td>\n",
       "      <td>140000</td>\n",
       "      <td>0</td>\n",
       "      <td>0</td>\n",
       "      <td>0</td>\n",
       "      <td>0</td>\n",
       "      <td>0</td>\n",
       "      <td>260000</td>\n",
       "    </tr>\n",
       "    <tr>\n",
       "      <th>3</th>\n",
       "      <td>2015</td>\n",
       "      <td>2.4</td>\n",
       "      <td>220000</td>\n",
       "      <td>0</td>\n",
       "      <td>0</td>\n",
       "      <td>1</td>\n",
       "      <td>1</td>\n",
       "      <td>0</td>\n",
       "      <td>42000</td>\n",
       "    </tr>\n",
       "    <tr>\n",
       "      <th>5</th>\n",
       "      <td>2019</td>\n",
       "      <td>2.0</td>\n",
       "      <td>25000</td>\n",
       "      <td>0</td>\n",
       "      <td>0</td>\n",
       "      <td>1</td>\n",
       "      <td>1</td>\n",
       "      <td>0</td>\n",
       "      <td>58000</td>\n",
       "    </tr>\n",
       "    <tr>\n",
       "      <th>6</th>\n",
       "      <td>2012</td>\n",
       "      <td>4.8</td>\n",
       "      <td>189000</td>\n",
       "      <td>0</td>\n",
       "      <td>0</td>\n",
       "      <td>1</td>\n",
       "      <td>0</td>\n",
       "      <td>0</td>\n",
       "      <td>85000</td>\n",
       "    </tr>\n",
       "    <tr>\n",
       "      <th>...</th>\n",
       "      <td>...</td>\n",
       "      <td>...</td>\n",
       "      <td>...</td>\n",
       "      <td>...</td>\n",
       "      <td>...</td>\n",
       "      <td>...</td>\n",
       "      <td>...</td>\n",
       "      <td>...</td>\n",
       "      <td>...</td>\n",
       "    </tr>\n",
       "    <tr>\n",
       "      <th>5616</th>\n",
       "      <td>2020</td>\n",
       "      <td>2.0</td>\n",
       "      <td>9500</td>\n",
       "      <td>0</td>\n",
       "      <td>0</td>\n",
       "      <td>1</td>\n",
       "      <td>0</td>\n",
       "      <td>0</td>\n",
       "      <td>132000</td>\n",
       "    </tr>\n",
       "    <tr>\n",
       "      <th>5618</th>\n",
       "      <td>2006</td>\n",
       "      <td>5.3</td>\n",
       "      <td>86000</td>\n",
       "      <td>0</td>\n",
       "      <td>0</td>\n",
       "      <td>1</td>\n",
       "      <td>0</td>\n",
       "      <td>0</td>\n",
       "      <td>50000</td>\n",
       "    </tr>\n",
       "    <tr>\n",
       "      <th>5619</th>\n",
       "      <td>2018</td>\n",
       "      <td>2.5</td>\n",
       "      <td>78794</td>\n",
       "      <td>0</td>\n",
       "      <td>0</td>\n",
       "      <td>1</td>\n",
       "      <td>0</td>\n",
       "      <td>1</td>\n",
       "      <td>68000</td>\n",
       "    </tr>\n",
       "    <tr>\n",
       "      <th>5621</th>\n",
       "      <td>2016</td>\n",
       "      <td>5.3</td>\n",
       "      <td>48000</td>\n",
       "      <td>0</td>\n",
       "      <td>0</td>\n",
       "      <td>1</td>\n",
       "      <td>0</td>\n",
       "      <td>0</td>\n",
       "      <td>145000</td>\n",
       "    </tr>\n",
       "    <tr>\n",
       "      <th>5622</th>\n",
       "      <td>2016</td>\n",
       "      <td>2.5</td>\n",
       "      <td>81000</td>\n",
       "      <td>0</td>\n",
       "      <td>0</td>\n",
       "      <td>0</td>\n",
       "      <td>0</td>\n",
       "      <td>0</td>\n",
       "      <td>154000</td>\n",
       "    </tr>\n",
       "  </tbody>\n",
       "</table>\n",
       "<p>3698 rows × 9 columns</p>\n",
       "</div>"
      ],
      "text/plain": [
       "      Year  Engine_Size  Mileage  Gear_Type_Manual  Origin_Other  \\\n",
       "1     2014  8.0          80000    0                 0              \n",
       "2     2015  5.0          140000   0                 0              \n",
       "3     2015  2.4          220000   0                 0              \n",
       "5     2019  2.0          25000    0                 0              \n",
       "6     2012  4.8          189000   0                 0              \n",
       "...    ...  ...             ...  ..                ..              \n",
       "5616  2020  2.0          9500     0                 0              \n",
       "5618  2006  5.3          86000    0                 0              \n",
       "5619  2018  2.5          78794    0                 0              \n",
       "5621  2016  5.3          48000    0                 0              \n",
       "5622  2016  2.5          81000    0                 0              \n",
       "\n",
       "      Origin_Saudi  Options_Semi Full  Options_Standard  Price (Target)  \n",
       "1     1             0                  0                 120000          \n",
       "2     0             0                  0                 260000          \n",
       "3     1             1                  0                 42000           \n",
       "5     1             1                  0                 58000           \n",
       "6     1             0                  0                 85000           \n",
       "...  ..            ..                 ..                   ...           \n",
       "5616  1             0                  0                 132000          \n",
       "5618  1             0                  0                 50000           \n",
       "5619  1             0                  1                 68000           \n",
       "5621  1             0                  0                 145000          \n",
       "5622  0             0                  0                 154000          \n",
       "\n",
       "[3698 rows x 9 columns]"
      ]
     },
     "execution_count": 135,
     "metadata": {},
     "output_type": "execute_result"
    }
   ],
   "source": [
    "df_correlation=pd.get_dummies(data=df,columns=[\"Gear_Type\",\"Origin\",\"Options\"],drop_first=True).drop(columns=[\"Type\",\"Region\",\"Make\"])\n",
    "df_correlation[\"Price (Target)\"]=df_correlation[\"Price\"]\n",
    "df_correlation.drop(columns=\"Price\",inplace=True)\n",
    "df_correlation"
   ]
  },
  {
   "cell_type": "code",
   "execution_count": 136,
   "metadata": {},
   "outputs": [
    {
     "data": {
      "text/plain": [
       "''"
      ]
     },
     "execution_count": 136,
     "metadata": {},
     "output_type": "execute_result"
    },
    {
     "data": {
      "image/png": "[encoded data removed]",
      "text/plain": [
       "<Figure size 648x432 with 2 Axes>"
      ]
     },
     "metadata": {
      "needs_background": "light"
     },
     "output_type": "display_data"
    }
   ],
   "source": [
    "plt.figure(figsize=(9,6))\n",
    "mask = np.triu(np.ones_like(df_correlation.corr(\"spearman\")))\n",
    "\n",
    "sns.heatmap(df_correlation.corr(\"spearman\"), annot=True, mask=mask)\n",
    ";"
   ]
  },
  {
   "cell_type": "markdown",
   "metadata": {},
   "source": [
    "**Summary**\n",
    "- Dikarenakan ada beberapa fitur yang apabila diencode akan menghasilkan banyak kolom maka untuk penilain korelasi fitur terhadap target hanya akan berfokus pada korelasi feature numerikal dengan target dan beberapa featrue kategorikal dengan target.\n",
    "- Disini dapat dilihat bahwa feature \"Year\" memiliki korelasi positive yang moderate terhadap target. Artinya, disini apabila tahun pembuatan mobil naik maka harga cenderung naik. Harga mobil keluaran baru cenderung lebih mahal\n",
    "- Disini juga dapat dilihat bahwa feature \"Engine_Size\" memiliki korelasi positive yang moderate terhadap target. Artinya, disini apabila ukuran mesin mobil naik maka harga cenderung naik. Mobil yang memiliki ukuran mesin lebih besar kemampuan dorong lebih baik, maka harga lebih mahal \n",
    "- Disini juga dapat dilihat bahwa feature \"Mileage\" memiliki korelasi negative yang weak tapi hampir moderate terhadap target. Artinya, disini apabila ukuran jarak yang sudah ditempuh mobil bekas naik maka harga cenderung turun. Mobil bekas yang sudah menempuh jarak yang jauh maka, mesin/kemampuan mobil menurun, maka harga cenderung turun.    "
   ]
  },
  {
   "cell_type": "markdown",
   "metadata": {},
   "source": [
    "## 4 Modeling Preparation"
   ]
  },
  {
   "cell_type": "markdown",
   "metadata": {},
   "source": [
    "### 4.1 Preparation Feature and Target"
   ]
  },
  {
   "cell_type": "markdown",
   "metadata": {},
   "source": [
    "**Define Feature and Target**"
   ]
  },
  {
   "cell_type": "code",
   "execution_count": 137,
   "metadata": {},
   "outputs": [],
   "source": [
    "X=df.drop(columns=[\"Price\"])\n",
    "y=df[\"Price\"]"
   ]
  },
  {
   "cell_type": "markdown",
   "metadata": {},
   "source": [
    "**Splitting**"
   ]
  },
  {
   "cell_type": "code",
   "execution_count": 138,
   "metadata": {},
   "outputs": [],
   "source": [
    "X_train, X_test, y_train, y_test = train_test_split(X,y, random_state=42, test_size=0.2)"
   ]
  },
  {
   "cell_type": "markdown",
   "metadata": {},
   "source": [
    "### 4.2 Preprocessing\n",
    "\n",
    "Agar dapat menggunakan semua fitur yang dipilih, maka fitur-fitur kategorikal harus diubah menjadi fitur numerikal. Kita dapat menggunakan ColumnTransformer untuk dapat mengubah tipe datanya, yang mana nanti dapat diaplikasikan pada pipeline model.\n",
    "\n",
    "- One hot encoding: \"Gear_Type\", \"Origin\", \"Option\". Ketiga fitur ini diencode menggunakan one-hot encoding karena unique item pada kolom tersebut berjumlah sedikit (Dengan range 2-3 unique item)\n",
    "- Binary encoding: \"Type\", \"Region\", \"Make\". Kedua fitur ini diencode menggunakan binary encoding dengan alasan bahwa unique item pada kolom tersebut berjumlah cukup banyak (Dengan range 27-320 unique item). Sehingga encoding dilakukan menggunakan one hot encoding maka akan membentuk banyak kolom\n",
    "- Scaling: \"Standard\", \"Robust\", \"MinMax\". Ketiga scaling ini akan dicoba dan dilihat mana yang lebih meningkatkan performa model pada tahap hyperparameter tuning"
   ]
  },
  {
   "cell_type": "markdown",
   "metadata": {},
   "source": [
    "**Define Transformer**"
   ]
  },
  {
   "cell_type": "code",
   "execution_count": 139,
   "metadata": {},
   "outputs": [],
   "source": [
    "transformer = ColumnTransformer([\n",
    "    (\"onehot\", OneHotEncoder(drop='first'),[\"Gear_Type\",\"Origin\",\"Options\"]),\n",
    "    ('Binary', ce.BinaryEncoder(), [\"Type\",\"Region\",\"Make\"])\n",
    "],remainder='passthrough')"
   ]
  },
  {
   "cell_type": "markdown",
   "metadata": {},
   "source": [
    "**Define Scaler**"
   ]
  },
  {
   "cell_type": "code",
   "execution_count": 140,
   "metadata": {},
   "outputs": [],
   "source": [
    "scaler_robust=RobustScaler()\n",
    "scaler_minmax=MinMaxScaler()\n",
    "scaler_standard=StandardScaler()"
   ]
  },
  {
   "cell_type": "markdown",
   "metadata": {},
   "source": [
    "## 5 Choose Best Benchmark Model"
   ]
  },
  {
   "cell_type": "markdown",
   "metadata": {},
   "source": [
    "### 5.1 Define Model"
   ]
  },
  {
   "cell_type": "code",
   "execution_count": 141,
   "metadata": {},
   "outputs": [],
   "source": [
    "lr = LinearRegression()\n",
    "knn = KNeighborsRegressor()\n",
    "dt = DecisionTreeRegressor(random_state=42)\n",
    "rf = RandomForestRegressor(random_state=42)\n",
    "xgb = XGBRegressor(random_state=42)\n",
    "\n",
    "log_lr = TransformedTargetRegressor(lr, func=np.log, inverse_func=np.exp)\n",
    "log_knn = TransformedTargetRegressor(knn, func=np.log, inverse_func=np.exp)\n",
    "log_dt = TransformedTargetRegressor(dt, func=np.log, inverse_func=np.exp)\n",
    "log_rf = TransformedTargetRegressor(rf, func=np.log, inverse_func=np.exp)\n",
    "log_xgb = TransformedTargetRegressor(xgb, func=np.log, inverse_func=np.exp)"
   ]
  },
  {
   "cell_type": "markdown",
   "metadata": {},
   "source": [
    "**Summary**\n",
    "- Akan digunakan 5 model dasar yaitu linear regression, KNN, decision tree, random forest dan XGBoost\n",
    "- Penggunaan TransformedTargetRegressor atau log scale ini bertujuan untuk menanggulangi distribusi data target yang skewed (dalam kasus ini harga skewed ke kanan). Sehingga model akan lebih akurat"
   ]
  },
  {
   "cell_type": "markdown",
   "metadata": {},
   "source": [
    "### 5.2 Looping Process"
   ]
  },
  {
   "cell_type": "code",
   "execution_count": 142,
   "metadata": {},
   "outputs": [],
   "source": [
    "list_models=[log_lr,log_knn,log_dt,log_rf,log_xgb]\n",
    "list_models_name=[\"LinearRegression\",\"KNeighborsRegressor\",\"DecisionTreeRegressor\",\"RandomForestRegressor\",\"XGBRegressor\"]\n",
    "list_models_score=[\"neg_root_mean_squared_error\",\"neg_mean_absolute_error\",\"neg_mean_absolute_percentage_error\"]\n",
    "\n",
    "df_cv_score=pd.DataFrame()\n",
    "\n",
    "for i,j in zip(list_models,list_models_name):\n",
    "\n",
    "    crossval=KFold(n_splits=5, shuffle=True, random_state=42)\n",
    "\n",
    "    pipe_model=Pipeline([\n",
    "        (\"transformer\",transformer),\n",
    "        (\"scaler\",scaler_standard),\n",
    "        (\"model\",i)\n",
    "    ])\n",
    "\n",
    "    for k in list_models_score:\n",
    "\n",
    "        model_cv=cross_val_score(\n",
    "        estimator=pipe_model,\n",
    "        X=X_train,\n",
    "        y=y_train,\n",
    "        cv=crossval,\n",
    "        scoring=k,\n",
    "        error_score=\"raise\",\n",
    "        n_jobs=-1\n",
    "        )\n",
    "\n",
    "        if k == \"neg_root_mean_squared_error\":\n",
    "            df_cv_score.loc[j,\"RMSE mean\"]=model_cv.mean()\n",
    "            df_cv_score.loc[j,\"RMSE std\"]=model_cv.std()\n",
    "        elif k == \"neg_mean_absolute_error\":\n",
    "            df_cv_score.loc[j,\"MAE mean\"]=model_cv.mean()\n",
    "            df_cv_score.loc[j,\"MAE std\"]=model_cv.std()\n",
    "        elif k == \"neg_mean_absolute_percentage_error\":\n",
    "            df_cv_score.loc[j,\"MAPE mean\"]=model_cv.mean()\n",
    "            df_cv_score.loc[j,\"MAPE std\"]=model_cv.std()       "
   ]
  },
  {
   "cell_type": "code",
   "execution_count": 143,
   "metadata": {},
   "outputs": [
    {
     "data": {
      "text/html": [
       "<div>\n",
       "<style scoped>\n",
       "    .dataframe tbody tr th:only-of-type {\n",
       "        vertical-align: middle;\n",
       "    }\n",
       "\n",
       "    .dataframe tbody tr th {\n",
       "        vertical-align: top;\n",
       "    }\n",
       "\n",
       "    .dataframe thead th {\n",
       "        text-align: right;\n",
       "    }\n",
       "</style>\n",
       "<table border=\"1\" class=\"dataframe\">\n",
       "  <thead>\n",
       "    <tr style=\"text-align: right;\">\n",
       "      <th></th>\n",
       "      <th>RMSE mean</th>\n",
       "      <th>RMSE std</th>\n",
       "      <th>MAE mean</th>\n",
       "      <th>MAE std</th>\n",
       "      <th>MAPE mean</th>\n",
       "      <th>MAPE std</th>\n",
       "    </tr>\n",
       "  </thead>\n",
       "  <tbody>\n",
       "    <tr>\n",
       "      <th>LinearRegression</th>\n",
       "      <td>-44710.982457</td>\n",
       "      <td>3343.166668</td>\n",
       "      <td>-26020.423529</td>\n",
       "      <td>937.868342</td>\n",
       "      <td>-0.827849</td>\n",
       "      <td>0.043608</td>\n",
       "    </tr>\n",
       "    <tr>\n",
       "      <th>KNeighborsRegressor</th>\n",
       "      <td>-39947.082027</td>\n",
       "      <td>2172.824290</td>\n",
       "      <td>-24154.959807</td>\n",
       "      <td>684.448290</td>\n",
       "      <td>-0.837770</td>\n",
       "      <td>0.097804</td>\n",
       "    </tr>\n",
       "    <tr>\n",
       "      <th>DecisionTreeRegressor</th>\n",
       "      <td>-44298.007847</td>\n",
       "      <td>5039.957669</td>\n",
       "      <td>-23418.620010</td>\n",
       "      <td>2064.520791</td>\n",
       "      <td>-0.918716</td>\n",
       "      <td>0.216479</td>\n",
       "    </tr>\n",
       "    <tr>\n",
       "      <th>RandomForestRegressor</th>\n",
       "      <td>-32736.544092</td>\n",
       "      <td>3155.839683</td>\n",
       "      <td>-17523.973058</td>\n",
       "      <td>1059.149931</td>\n",
       "      <td>-0.705701</td>\n",
       "      <td>0.110521</td>\n",
       "    </tr>\n",
       "    <tr>\n",
       "      <th>XGBRegressor</th>\n",
       "      <td>-32374.955862</td>\n",
       "      <td>3386.455649</td>\n",
       "      <td>-17549.127285</td>\n",
       "      <td>864.444601</td>\n",
       "      <td>-0.720734</td>\n",
       "      <td>0.105484</td>\n",
       "    </tr>\n",
       "  </tbody>\n",
       "</table>\n",
       "</div>"
      ],
      "text/plain": [
       "                          RMSE mean     RMSE std      MAE mean      MAE std  \\\n",
       "LinearRegression      -44710.982457  3343.166668 -26020.423529  937.868342    \n",
       "KNeighborsRegressor   -39947.082027  2172.824290 -24154.959807  684.448290    \n",
       "DecisionTreeRegressor -44298.007847  5039.957669 -23418.620010  2064.520791   \n",
       "RandomForestRegressor -32736.544092  3155.839683 -17523.973058  1059.149931   \n",
       "XGBRegressor          -32374.955862  3386.455649 -17549.127285  864.444601    \n",
       "\n",
       "                       MAPE mean  MAPE std  \n",
       "LinearRegression      -0.827849   0.043608  \n",
       "KNeighborsRegressor   -0.837770   0.097804  \n",
       "DecisionTreeRegressor -0.918716   0.216479  \n",
       "RandomForestRegressor -0.705701   0.110521  \n",
       "XGBRegressor          -0.720734   0.105484  "
      ]
     },
     "execution_count": 143,
     "metadata": {},
     "output_type": "execute_result"
    }
   ],
   "source": [
    "df_cv_score"
   ]
  },
  {
   "cell_type": "markdown",
   "metadata": {},
   "source": [
    "**Summary**\n",
    "\n",
    "Nilai RMSE lebih tinggi hampir dua kalinya dibanding nilai MAE. Hal in dikarenakan nilai residuals pada RMSE dikuadratkan terlebih dahulu sebelum dirata-ratakan. RMSE akan memberikan \"penelize\" yang lebih tinggi untuk nilai error yang besar. Dengan kata lain, terdapat nilai-nilai error yang besar yang dihasilkan oleh semua algoritma yang digunakan, sehingga ada perbedaan signifikan antara nilai RMSE dan MAE.\n",
    "\n",
    "- Berdasarkan nilai rata-rata RMSE, XGBoost adalah model yang terbaik. Sedangkan berdasarkan MAE dan MAPE, RandomForest adalah model yang terbaik\n",
    "- Apabila dilihat dari stabilitas nilai MAE dan MAPE, maka XGBoost juga merupakan model yang terbaik, Sedangkan berdasarkan stabilitas RMSE, RandomForest adalah model yang terbaik\n",
    "- Namun jika dilihat nilai MAPE-nya, maka kelima model memiliki nilai MAPE yang besar yaitu 72% sampai 92%. Sehingga apabila model dilihat berdasarkan perspektif nilai MAPE, maka performa kelima model buruk.\n",
    "- Dikarenakan XGBoost dan RandomForest memiliki performa yang bagus maka diantara kedua model ini bisa dipilih. Namun, untuk saat ini, XGBoost dipilih karena memiliki nilai stabilitas secara keselurahan yang lebih baik dibanding kelima model, maka dari itu proses hypertuning dan prediksi pada test set akan dilakukan dengan benchmark model XGBoost. \n"
   ]
  },
  {
   "cell_type": "markdown",
   "metadata": {},
   "source": [
    "## 6 Hyperparameter Tuning and Predict to Test set (First Attempt)"
   ]
  },
  {
   "cell_type": "markdown",
   "metadata": {},
   "source": [
    "### 6.1 Hyperparameter Tuning"
   ]
  },
  {
   "cell_type": "markdown",
   "metadata": {},
   "source": [
    "**Hyperparameter Process**"
   ]
  },
  {
   "cell_type": "code",
   "execution_count": 144,
   "metadata": {},
   "outputs": [
    {
     "data": {
      "text/plain": [
       "GridSearchCV(cv=KFold(n_splits=5, random_state=42, shuffle=True),\n",
       "             estimator=Pipeline(steps=[('transformer',\n",
       "                                        ColumnTransformer(remainder='passthrough',\n",
       "                                                          transformers=[('onehot',\n",
       "                                                                         OneHotEncoder(drop='first'),\n",
       "                                                                         ['Gear_Type',\n",
       "                                                                          'Origin',\n",
       "                                                                          'Options']),\n",
       "                                                                        ('Binary',\n",
       "                                                                         BinaryEncoder(),\n",
       "                                                                         ['Type',\n",
       "                                                                          'Region',\n",
       "                                                                          'Make'])])),\n",
       "                                       ('scaler', StandardScaler()),\n",
       "                                       ('model',\n",
       "                                        TransformedTargetRegressor...\n",
       "                                                                                          reg_lambda=None, ...)))]),\n",
       "             n_jobs=-1,\n",
       "             param_grid={'model__regressor__learning_rate': [0.1, 0.2, 0.3, 0.4,\n",
       "                                                             0.5, 0.6, 0.7, 0.8,\n",
       "                                                             0.9],\n",
       "                         'model__regressor__max_depth': [2, 4, 6, 8, 10],\n",
       "                         'scaler': [StandardScaler(), MinMaxScaler(),\n",
       "                                    RobustScaler()]},\n",
       "             refit='neg_mean_absolute_error',\n",
       "             scoring=['neg_root_mean_squared_error', 'neg_mean_absolute_error',\n",
       "                      'neg_mean_absolute_percentage_error'])"
      ]
     },
     "execution_count": 144,
     "metadata": {},
     "output_type": "execute_result"
    }
   ],
   "source": [
    "hyperparam_space={\n",
    "    \"model__regressor__max_depth\":[2,4,6,8,10], \n",
    "    \"model__regressor__learning_rate\":list(np.arange(1, 10)/10),\n",
    "    \"scaler\":[scaler_standard,scaler_minmax,scaler_robust]\n",
    "}\n",
    "\n",
    "pipe_model=Pipeline([\n",
    "    (\"transformer\",transformer),\n",
    "    (\"scaler\",scaler_standard),\n",
    "    (\"model\",log_xgb)                  \n",
    "])\n",
    "\n",
    "gridsearch_xgb=GridSearchCV(\n",
    "    estimator=pipe_model,       \n",
    "    param_grid=hyperparam_space,           \n",
    "    cv=crossval,                                  \n",
    "    scoring=[\"neg_root_mean_squared_error\",\"neg_mean_absolute_error\",\"neg_mean_absolute_percentage_error\"],\n",
    "    refit=\"neg_mean_absolute_error\",    \n",
    "    n_jobs=-1                              \n",
    ")\n",
    "\n",
    "gridsearch_xgb.fit(X_train, y_train)"
   ]
  },
  {
   "cell_type": "markdown",
   "metadata": {},
   "source": [
    "**Hyperparameter Result**"
   ]
  },
  {
   "cell_type": "code",
   "execution_count": 145,
   "metadata": {},
   "outputs": [
    {
     "data": {
      "text/html": [
       "<div>\n",
       "<style scoped>\n",
       "    .dataframe tbody tr th:only-of-type {\n",
       "        vertical-align: middle;\n",
       "    }\n",
       "\n",
       "    .dataframe tbody tr th {\n",
       "        vertical-align: top;\n",
       "    }\n",
       "\n",
       "    .dataframe thead th {\n",
       "        text-align: right;\n",
       "    }\n",
       "</style>\n",
       "<table border=\"1\" class=\"dataframe\">\n",
       "  <thead>\n",
       "    <tr style=\"text-align: right;\">\n",
       "      <th></th>\n",
       "      <th>mean_fit_time</th>\n",
       "      <th>std_fit_time</th>\n",
       "      <th>mean_score_time</th>\n",
       "      <th>std_score_time</th>\n",
       "      <th>param_model__regressor__learning_rate</th>\n",
       "      <th>param_model__regressor__max_depth</th>\n",
       "      <th>param_scaler</th>\n",
       "      <th>params</th>\n",
       "      <th>split0_test_neg_root_mean_squared_error</th>\n",
       "      <th>split1_test_neg_root_mean_squared_error</th>\n",
       "      <th>split2_test_neg_root_mean_squared_error</th>\n",
       "      <th>split3_test_neg_root_mean_squared_error</th>\n",
       "      <th>split4_test_neg_root_mean_squared_error</th>\n",
       "      <th>mean_test_neg_root_mean_squared_error</th>\n",
       "      <th>std_test_neg_root_mean_squared_error</th>\n",
       "      <th>rank_test_neg_root_mean_squared_error</th>\n",
       "      <th>split0_test_neg_mean_absolute_error</th>\n",
       "      <th>split1_test_neg_mean_absolute_error</th>\n",
       "      <th>split2_test_neg_mean_absolute_error</th>\n",
       "      <th>split3_test_neg_mean_absolute_error</th>\n",
       "      <th>split4_test_neg_mean_absolute_error</th>\n",
       "      <th>mean_test_neg_mean_absolute_error</th>\n",
       "      <th>std_test_neg_mean_absolute_error</th>\n",
       "      <th>rank_test_neg_mean_absolute_error</th>\n",
       "      <th>split0_test_neg_mean_absolute_percentage_error</th>\n",
       "      <th>split1_test_neg_mean_absolute_percentage_error</th>\n",
       "      <th>split2_test_neg_mean_absolute_percentage_error</th>\n",
       "      <th>split3_test_neg_mean_absolute_percentage_error</th>\n",
       "      <th>split4_test_neg_mean_absolute_percentage_error</th>\n",
       "      <th>mean_test_neg_mean_absolute_percentage_error</th>\n",
       "      <th>std_test_neg_mean_absolute_percentage_error</th>\n",
       "      <th>rank_test_neg_mean_absolute_percentage_error</th>\n",
       "    </tr>\n",
       "  </thead>\n",
       "  <tbody>\n",
       "    <tr>\n",
       "      <th>0</th>\n",
       "      <td>1.486830</td>\n",
       "      <td>0.062423</td>\n",
       "      <td>0.029921</td>\n",
       "      <td>0.001666</td>\n",
       "      <td>0.1</td>\n",
       "      <td>10</td>\n",
       "      <td>RobustScaler()</td>\n",
       "      <td>{'model__regressor__learning_rate': 0.1, 'model__regressor__max_depth': 10, 'scaler': RobustScaler()}</td>\n",
       "      <td>-26428.730512</td>\n",
       "      <td>-35694.519484</td>\n",
       "      <td>-26679.673370</td>\n",
       "      <td>-27785.553546</td>\n",
       "      <td>-28295.234578</td>\n",
       "      <td>-28976.742298</td>\n",
       "      <td>3428.725812</td>\n",
       "      <td>1</td>\n",
       "      <td>-14952.677092</td>\n",
       "      <td>-17941.521149</td>\n",
       "      <td>-14219.288848</td>\n",
       "      <td>-16092.801890</td>\n",
       "      <td>-15516.631092</td>\n",
       "      <td>-15744.584014</td>\n",
       "      <td>1261.221068</td>\n",
       "      <td>1</td>\n",
       "      <td>-0.683442</td>\n",
       "      <td>-0.846285</td>\n",
       "      <td>-0.556143</td>\n",
       "      <td>-0.548406</td>\n",
       "      <td>-0.747355</td>\n",
       "      <td>-0.676326</td>\n",
       "      <td>0.113833</td>\n",
       "      <td>4</td>\n",
       "    </tr>\n",
       "    <tr>\n",
       "      <th>1</th>\n",
       "      <td>1.468895</td>\n",
       "      <td>0.011997</td>\n",
       "      <td>0.033710</td>\n",
       "      <td>0.003301</td>\n",
       "      <td>0.1</td>\n",
       "      <td>10</td>\n",
       "      <td>MinMaxScaler()</td>\n",
       "      <td>{'model__regressor__learning_rate': 0.1, 'model__regressor__max_depth': 10, 'scaler': MinMaxScaler()}</td>\n",
       "      <td>-26443.311406</td>\n",
       "      <td>-35709.675973</td>\n",
       "      <td>-26680.313284</td>\n",
       "      <td>-27772.790499</td>\n",
       "      <td>-28281.558338</td>\n",
       "      <td>-28977.529900</td>\n",
       "      <td>3433.861725</td>\n",
       "      <td>3</td>\n",
       "      <td>-14957.195386</td>\n",
       "      <td>-17936.357195</td>\n",
       "      <td>-14223.606346</td>\n",
       "      <td>-16083.267275</td>\n",
       "      <td>-15529.858408</td>\n",
       "      <td>-15746.056922</td>\n",
       "      <td>1256.823471</td>\n",
       "      <td>2</td>\n",
       "      <td>-0.683320</td>\n",
       "      <td>-0.848022</td>\n",
       "      <td>-0.556254</td>\n",
       "      <td>-0.547949</td>\n",
       "      <td>-0.747699</td>\n",
       "      <td>-0.676649</td>\n",
       "      <td>0.114473</td>\n",
       "      <td>6</td>\n",
       "    </tr>\n",
       "    <tr>\n",
       "      <th>2</th>\n",
       "      <td>1.475985</td>\n",
       "      <td>0.034431</td>\n",
       "      <td>0.034210</td>\n",
       "      <td>0.003179</td>\n",
       "      <td>0.1</td>\n",
       "      <td>10</td>\n",
       "      <td>StandardScaler()</td>\n",
       "      <td>{'model__regressor__learning_rate': 0.1, 'model__regressor__max_depth': 10, 'scaler': StandardScaler()}</td>\n",
       "      <td>-26428.328656</td>\n",
       "      <td>-35693.610386</td>\n",
       "      <td>-26671.950483</td>\n",
       "      <td>-27823.910692</td>\n",
       "      <td>-28266.485994</td>\n",
       "      <td>-28976.857242</td>\n",
       "      <td>3428.010472</td>\n",
       "      <td>2</td>\n",
       "      <td>-14949.135733</td>\n",
       "      <td>-17945.152876</td>\n",
       "      <td>-14216.674554</td>\n",
       "      <td>-16139.320688</td>\n",
       "      <td>-15499.328886</td>\n",
       "      <td>-15749.922547</td>\n",
       "      <td>1266.931192</td>\n",
       "      <td>3</td>\n",
       "      <td>-0.683348</td>\n",
       "      <td>-0.846379</td>\n",
       "      <td>-0.556170</td>\n",
       "      <td>-0.548957</td>\n",
       "      <td>-0.747215</td>\n",
       "      <td>-0.676414</td>\n",
       "      <td>0.113712</td>\n",
       "      <td>5</td>\n",
       "    </tr>\n",
       "    <tr>\n",
       "      <th>3</th>\n",
       "      <td>1.167490</td>\n",
       "      <td>0.044490</td>\n",
       "      <td>0.029721</td>\n",
       "      <td>0.003241</td>\n",
       "      <td>0.1</td>\n",
       "      <td>8</td>\n",
       "      <td>MinMaxScaler()</td>\n",
       "      <td>{'model__regressor__learning_rate': 0.1, 'model__regressor__max_depth': 8, 'scaler': MinMaxScaler()}</td>\n",
       "      <td>-27513.124720</td>\n",
       "      <td>-38113.155078</td>\n",
       "      <td>-28040.530628</td>\n",
       "      <td>-28140.802672</td>\n",
       "      <td>-29221.627542</td>\n",
       "      <td>-30205.848128</td>\n",
       "      <td>3992.441993</td>\n",
       "      <td>13</td>\n",
       "      <td>-15355.707906</td>\n",
       "      <td>-18535.419251</td>\n",
       "      <td>-15155.434555</td>\n",
       "      <td>-15735.342570</td>\n",
       "      <td>-16343.727759</td>\n",
       "      <td>-16225.126408</td>\n",
       "      <td>1224.053651</td>\n",
       "      <td>4</td>\n",
       "      <td>-0.677383</td>\n",
       "      <td>-0.837421</td>\n",
       "      <td>-0.583021</td>\n",
       "      <td>-0.553143</td>\n",
       "      <td>-0.762332</td>\n",
       "      <td>-0.682660</td>\n",
       "      <td>0.106798</td>\n",
       "      <td>9</td>\n",
       "    </tr>\n",
       "    <tr>\n",
       "      <th>4</th>\n",
       "      <td>1.128385</td>\n",
       "      <td>0.079209</td>\n",
       "      <td>0.030519</td>\n",
       "      <td>0.002054</td>\n",
       "      <td>0.1</td>\n",
       "      <td>8</td>\n",
       "      <td>StandardScaler()</td>\n",
       "      <td>{'model__regressor__learning_rate': 0.1, 'model__regressor__max_depth': 8, 'scaler': StandardScaler()}</td>\n",
       "      <td>-27562.877673</td>\n",
       "      <td>-38121.900632</td>\n",
       "      <td>-28030.245749</td>\n",
       "      <td>-28179.220147</td>\n",
       "      <td>-29160.402699</td>\n",
       "      <td>-30210.929380</td>\n",
       "      <td>3989.548190</td>\n",
       "      <td>14</td>\n",
       "      <td>-15387.981993</td>\n",
       "      <td>-18537.944804</td>\n",
       "      <td>-15148.182467</td>\n",
       "      <td>-15786.396947</td>\n",
       "      <td>-16320.275106</td>\n",
       "      <td>-16236.156263</td>\n",
       "      <td>1217.429791</td>\n",
       "      <td>5</td>\n",
       "      <td>-0.677638</td>\n",
       "      <td>-0.837431</td>\n",
       "      <td>-0.582948</td>\n",
       "      <td>-0.552931</td>\n",
       "      <td>-0.761963</td>\n",
       "      <td>-0.682582</td>\n",
       "      <td>0.106808</td>\n",
       "      <td>8</td>\n",
       "    </tr>\n",
       "  </tbody>\n",
       "</table>\n",
       "</div>"
      ],
      "text/plain": [
       "   mean_fit_time  std_fit_time  mean_score_time  std_score_time  \\\n",
       "0  1.486830       0.062423      0.029921         0.001666         \n",
       "1  1.468895       0.011997      0.033710         0.003301         \n",
       "2  1.475985       0.034431      0.034210         0.003179         \n",
       "3  1.167490       0.044490      0.029721         0.003241         \n",
       "4  1.128385       0.079209      0.030519         0.002054         \n",
       "\n",
       "  param_model__regressor__learning_rate param_model__regressor__max_depth  \\\n",
       "0  0.1                                   10                                 \n",
       "1  0.1                                   10                                 \n",
       "2  0.1                                   10                                 \n",
       "3  0.1                                   8                                  \n",
       "4  0.1                                   8                                  \n",
       "\n",
       "       param_scaler  \\\n",
       "0  RobustScaler()     \n",
       "1  MinMaxScaler()     \n",
       "2  StandardScaler()   \n",
       "3  MinMaxScaler()     \n",
       "4  StandardScaler()   \n",
       "\n",
       "                                                                                                    params  \\\n",
       "0  {'model__regressor__learning_rate': 0.1, 'model__regressor__max_depth': 10, 'scaler': RobustScaler()}     \n",
       "1  {'model__regressor__learning_rate': 0.1, 'model__regressor__max_depth': 10, 'scaler': MinMaxScaler()}     \n",
       "2  {'model__regressor__learning_rate': 0.1, 'model__regressor__max_depth': 10, 'scaler': StandardScaler()}   \n",
       "3  {'model__regressor__learning_rate': 0.1, 'model__regressor__max_depth': 8, 'scaler': MinMaxScaler()}      \n",
       "4  {'model__regressor__learning_rate': 0.1, 'model__regressor__max_depth': 8, 'scaler': StandardScaler()}    \n",
       "\n",
       "   split0_test_neg_root_mean_squared_error  \\\n",
       "0 -26428.730512                              \n",
       "1 -26443.311406                              \n",
       "2 -26428.328656                              \n",
       "3 -27513.124720                              \n",
       "4 -27562.877673                              \n",
       "\n",
       "   split1_test_neg_root_mean_squared_error  \\\n",
       "0 -35694.519484                              \n",
       "1 -35709.675973                              \n",
       "2 -35693.610386                              \n",
       "3 -38113.155078                              \n",
       "4 -38121.900632                              \n",
       "\n",
       "   split2_test_neg_root_mean_squared_error  \\\n",
       "0 -26679.673370                              \n",
       "1 -26680.313284                              \n",
       "2 -26671.950483                              \n",
       "3 -28040.530628                              \n",
       "4 -28030.245749                              \n",
       "\n",
       "   split3_test_neg_root_mean_squared_error  \\\n",
       "0 -27785.553546                              \n",
       "1 -27772.790499                              \n",
       "2 -27823.910692                              \n",
       "3 -28140.802672                              \n",
       "4 -28179.220147                              \n",
       "\n",
       "   split4_test_neg_root_mean_squared_error  \\\n",
       "0 -28295.234578                              \n",
       "1 -28281.558338                              \n",
       "2 -28266.485994                              \n",
       "3 -29221.627542                              \n",
       "4 -29160.402699                              \n",
       "\n",
       "   mean_test_neg_root_mean_squared_error  \\\n",
       "0 -28976.742298                            \n",
       "1 -28977.529900                            \n",
       "2 -28976.857242                            \n",
       "3 -30205.848128                            \n",
       "4 -30210.929380                            \n",
       "\n",
       "   std_test_neg_root_mean_squared_error  \\\n",
       "0  3428.725812                            \n",
       "1  3433.861725                            \n",
       "2  3428.010472                            \n",
       "3  3992.441993                            \n",
       "4  3989.548190                            \n",
       "\n",
       "   rank_test_neg_root_mean_squared_error  split0_test_neg_mean_absolute_error  \\\n",
       "0  1                                     -14952.677092                          \n",
       "1  3                                     -14957.195386                          \n",
       "2  2                                     -14949.135733                          \n",
       "3  13                                    -15355.707906                          \n",
       "4  14                                    -15387.981993                          \n",
       "\n",
       "   split1_test_neg_mean_absolute_error  split2_test_neg_mean_absolute_error  \\\n",
       "0 -17941.521149                        -14219.288848                          \n",
       "1 -17936.357195                        -14223.606346                          \n",
       "2 -17945.152876                        -14216.674554                          \n",
       "3 -18535.419251                        -15155.434555                          \n",
       "4 -18537.944804                        -15148.182467                          \n",
       "\n",
       "   split3_test_neg_mean_absolute_error  split4_test_neg_mean_absolute_error  \\\n",
       "0 -16092.801890                        -15516.631092                          \n",
       "1 -16083.267275                        -15529.858408                          \n",
       "2 -16139.320688                        -15499.328886                          \n",
       "3 -15735.342570                        -16343.727759                          \n",
       "4 -15786.396947                        -16320.275106                          \n",
       "\n",
       "   mean_test_neg_mean_absolute_error  std_test_neg_mean_absolute_error  \\\n",
       "0 -15744.584014                       1261.221068                        \n",
       "1 -15746.056922                       1256.823471                        \n",
       "2 -15749.922547                       1266.931192                        \n",
       "3 -16225.126408                       1224.053651                        \n",
       "4 -16236.156263                       1217.429791                        \n",
       "\n",
       "   rank_test_neg_mean_absolute_error  \\\n",
       "0  1                                   \n",
       "1  2                                   \n",
       "2  3                                   \n",
       "3  4                                   \n",
       "4  5                                   \n",
       "\n",
       "   split0_test_neg_mean_absolute_percentage_error  \\\n",
       "0 -0.683442                                         \n",
       "1 -0.683320                                         \n",
       "2 -0.683348                                         \n",
       "3 -0.677383                                         \n",
       "4 -0.677638                                         \n",
       "\n",
       "   split1_test_neg_mean_absolute_percentage_error  \\\n",
       "0 -0.846285                                         \n",
       "1 -0.848022                                         \n",
       "2 -0.846379                                         \n",
       "3 -0.837421                                         \n",
       "4 -0.837431                                         \n",
       "\n",
       "   split2_test_neg_mean_absolute_percentage_error  \\\n",
       "0 -0.556143                                         \n",
       "1 -0.556254                                         \n",
       "2 -0.556170                                         \n",
       "3 -0.583021                                         \n",
       "4 -0.582948                                         \n",
       "\n",
       "   split3_test_neg_mean_absolute_percentage_error  \\\n",
       "0 -0.548406                                         \n",
       "1 -0.547949                                         \n",
       "2 -0.548957                                         \n",
       "3 -0.553143                                         \n",
       "4 -0.552931                                         \n",
       "\n",
       "   split4_test_neg_mean_absolute_percentage_error  \\\n",
       "0 -0.747355                                         \n",
       "1 -0.747699                                         \n",
       "2 -0.747215                                         \n",
       "3 -0.762332                                         \n",
       "4 -0.761963                                         \n",
       "\n",
       "   mean_test_neg_mean_absolute_percentage_error  \\\n",
       "0 -0.676326                                       \n",
       "1 -0.676649                                       \n",
       "2 -0.676414                                       \n",
       "3 -0.682660                                       \n",
       "4 -0.682582                                       \n",
       "\n",
       "   std_test_neg_mean_absolute_percentage_error  \\\n",
       "0  0.113833                                      \n",
       "1  0.114473                                      \n",
       "2  0.113712                                      \n",
       "3  0.106798                                      \n",
       "4  0.106808                                      \n",
       "\n",
       "   rank_test_neg_mean_absolute_percentage_error  \n",
       "0  4                                             \n",
       "1  6                                             \n",
       "2  5                                             \n",
       "3  9                                             \n",
       "4  8                                             "
      ]
     },
     "execution_count": 145,
     "metadata": {},
     "output_type": "execute_result"
    }
   ],
   "source": [
    "# Melihat hasil tuning dalam bentuk dataframe. Diurutkan berdasarkan RMSE, MAE & MAPE\n",
    "df_xgb_score=pd.DataFrame(gridsearch_xgb.cv_results_).sort_values(by=[\"rank_test_neg_mean_absolute_error\",\"rank_test_neg_root_mean_squared_error\",\"rank_test_neg_mean_absolute_percentage_error\"]).reset_index(drop=True)\n",
    "df_xgb_score.head()"
   ]
  },
  {
   "cell_type": "code",
   "execution_count": 146,
   "metadata": {},
   "outputs": [
    {
     "name": "stdout",
     "output_type": "stream",
     "text": [
      "XGBoost Hypertuning\n",
      "Best_score: -15744.584013943293\n",
      "Best_params: {'model__regressor__learning_rate': 0.1, 'model__regressor__max_depth': 10, 'scaler': RobustScaler()}\n"
     ]
    }
   ],
   "source": [
    "print(\"XGBoost Hypertuning\")\n",
    "print(\"Best_score:\",gridsearch_xgb.best_score_)\n",
    "print(\"Best_params:\",gridsearch_xgb.best_params_)"
   ]
  },
  {
   "cell_type": "markdown",
   "metadata": {},
   "source": [
    "### 6.2 Model Implementation to Test Set"
   ]
  },
  {
   "cell_type": "markdown",
   "metadata": {},
   "source": [
    "**Comparison Between Before Tuning and After Tuning**"
   ]
  },
  {
   "cell_type": "code",
   "execution_count": 147,
   "metadata": {},
   "outputs": [],
   "source": [
    "score_rmse=[]\n",
    "score_mae=[]\n",
    "score_mape=[]"
   ]
  },
  {
   "cell_type": "code",
   "execution_count": 148,
   "metadata": {},
   "outputs": [],
   "source": [
    "model_before_tuning=Pipeline([\n",
    "    (\"transformer\",transformer),\n",
    "    (\"scaler\",scaler_standard),\n",
    "    (\"model\",log_xgb)\n",
    "])\n",
    "\n",
    "model_before_tuning.fit(X_train, y_train)\n",
    "y_pred_xgb=model_before_tuning.predict(X_test)\n",
    "\n",
    "score_rmse.append(np.sqrt(mean_squared_error(y_test,y_pred_xgb)))\n",
    "score_mae.append(mean_absolute_error(y_test,y_pred_xgb))\n",
    "score_mape.append(mean_absolute_percentage_error(y_test,y_pred_xgb))"
   ]
  },
  {
   "cell_type": "code",
   "execution_count": 149,
   "metadata": {},
   "outputs": [],
   "source": [
    "xgb_tuning=gridsearch_xgb.best_estimator_.fit(X_train,y_train)\n",
    "y_pred_xgb_tuning=xgb_tuning.predict(X_test)\n",
    "\n",
    "score_rmse.append(np.sqrt(mean_squared_error(y_test,y_pred_xgb_tuning)))\n",
    "score_mae.append(mean_absolute_error(y_test,y_pred_xgb_tuning))\n",
    "score_mape.append(mean_absolute_percentage_error(y_test,y_pred_xgb_tuning))"
   ]
  },
  {
   "cell_type": "code",
   "execution_count": 150,
   "metadata": {},
   "outputs": [
    {
     "data": {
      "text/html": [
       "<div>\n",
       "<style scoped>\n",
       "    .dataframe tbody tr th:only-of-type {\n",
       "        vertical-align: middle;\n",
       "    }\n",
       "\n",
       "    .dataframe tbody tr th {\n",
       "        vertical-align: top;\n",
       "    }\n",
       "\n",
       "    .dataframe thead th {\n",
       "        text-align: right;\n",
       "    }\n",
       "</style>\n",
       "<table border=\"1\" class=\"dataframe\">\n",
       "  <thead>\n",
       "    <tr style=\"text-align: right;\">\n",
       "      <th></th>\n",
       "      <th>RMSE</th>\n",
       "      <th>MAE</th>\n",
       "      <th>MAPE</th>\n",
       "    </tr>\n",
       "  </thead>\n",
       "  <tbody>\n",
       "    <tr>\n",
       "      <th>XGB Before Tuning</th>\n",
       "      <td>36753.164919</td>\n",
       "      <td>19403.885457</td>\n",
       "      <td>0.730235</td>\n",
       "    </tr>\n",
       "    <tr>\n",
       "      <th>XGB After Tuning</th>\n",
       "      <td>34396.444691</td>\n",
       "      <td>17455.536908</td>\n",
       "      <td>0.796484</td>\n",
       "    </tr>\n",
       "  </tbody>\n",
       "</table>\n",
       "</div>"
      ],
      "text/plain": [
       "                           RMSE           MAE      MAPE\n",
       "XGB Before Tuning  36753.164919  19403.885457  0.730235\n",
       "XGB After Tuning   34396.444691  17455.536908  0.796484"
      ]
     },
     "execution_count": 150,
     "metadata": {},
     "output_type": "execute_result"
    }
   ],
   "source": [
    "df_comp_tuning=pd.DataFrame({\"RMSE\":score_rmse,\"MAE\":score_mae,\"MAPE\":score_mape},index=[\"XGB Before Tuning\",\"XGB After Tuning\"])\n",
    "df_comp_tuning"
   ]
  },
  {
   "cell_type": "markdown",
   "metadata": {},
   "source": [
    "**Comparison Between XGB model with best hyperparameter Predicted on Test Set and Train Set**"
   ]
  },
  {
   "cell_type": "code",
   "execution_count": 151,
   "metadata": {},
   "outputs": [],
   "source": [
    "score_rmse=[]\n",
    "score_mae=[]\n",
    "score_mape=[]"
   ]
  },
  {
   "cell_type": "code",
   "execution_count": 152,
   "metadata": {},
   "outputs": [],
   "source": [
    "# Train\n",
    "score_rmse.append(df_xgb_score[\"mean_test_neg_root_mean_squared_error\"][0]*-1)\n",
    "score_mae.append(df_xgb_score[\"mean_test_neg_mean_absolute_error\"][0]*-1)\n",
    "score_mape.append(df_xgb_score[\"mean_test_neg_mean_absolute_percentage_error\"][0]*-1)"
   ]
  },
  {
   "cell_type": "code",
   "execution_count": 153,
   "metadata": {},
   "outputs": [],
   "source": [
    "# Test\n",
    "xgb_tuning=gridsearch_xgb.best_estimator_.fit(X_train,y_train)\n",
    "y_pred_xgb_tuning=xgb_tuning.predict(X_test)\n",
    "\n",
    "score_rmse.append(np.sqrt(mean_squared_error(y_test,y_pred_xgb_tuning)))\n",
    "score_mae.append(mean_absolute_error(y_test,y_pred_xgb_tuning))\n",
    "score_mape.append(mean_absolute_percentage_error(y_test,y_pred_xgb_tuning))"
   ]
  },
  {
   "cell_type": "code",
   "execution_count": 154,
   "metadata": {},
   "outputs": [
    {
     "data": {
      "text/html": [
       "<div>\n",
       "<style scoped>\n",
       "    .dataframe tbody tr th:only-of-type {\n",
       "        vertical-align: middle;\n",
       "    }\n",
       "\n",
       "    .dataframe tbody tr th {\n",
       "        vertical-align: top;\n",
       "    }\n",
       "\n",
       "    .dataframe thead th {\n",
       "        text-align: right;\n",
       "    }\n",
       "</style>\n",
       "<table border=\"1\" class=\"dataframe\">\n",
       "  <thead>\n",
       "    <tr style=\"text-align: right;\">\n",
       "      <th></th>\n",
       "      <th>RMSE</th>\n",
       "      <th>MAE</th>\n",
       "      <th>MAPE</th>\n",
       "    </tr>\n",
       "  </thead>\n",
       "  <tbody>\n",
       "    <tr>\n",
       "      <th>XGB Train Score</th>\n",
       "      <td>28976.742298</td>\n",
       "      <td>15744.584014</td>\n",
       "      <td>0.676326</td>\n",
       "    </tr>\n",
       "    <tr>\n",
       "      <th>XGB Test Score</th>\n",
       "      <td>34396.444691</td>\n",
       "      <td>17455.536908</td>\n",
       "      <td>0.796484</td>\n",
       "    </tr>\n",
       "  </tbody>\n",
       "</table>\n",
       "</div>"
      ],
      "text/plain": [
       "                         RMSE           MAE      MAPE\n",
       "XGB Train Score  28976.742298  15744.584014  0.676326\n",
       "XGB Test Score   34396.444691  17455.536908  0.796484"
      ]
     },
     "execution_count": 154,
     "metadata": {},
     "output_type": "execute_result"
    }
   ],
   "source": [
    "df_comp_traintest=pd.DataFrame({\"RMSE\":score_rmse,\"MAE\":score_mae,\"MAPE\":score_mape},index=[\"XGB Train Score\",\"XGB Test Score\"])\n",
    "df_comp_traintest"
   ]
  },
  {
   "cell_type": "markdown",
   "metadata": {},
   "source": [
    "**Comparison Between Predicted and Actual Price Predict on Test Set**"
   ]
  },
  {
   "cell_type": "code",
   "execution_count": 155,
   "metadata": {},
   "outputs": [
    {
     "data": {
      "application/vnd.plotly.v1+json": {
       "config": {
        "plotlyServerURL": "https://plot.ly"
       },
       "data": [
        {
         "hovertemplate": "Actual Price=%{x}<br>Predicted Price=%{y}<extra></extra>",
         "legendgroup": "",
         "marker": {
          "color": "#636efa",
          "symbol": "circle"
         },
         "mode": "markers",
         "name": "",
         "orientation": "v",
         "showlegend": false,
         "type": "scatter",
         "x": [
          100000,
          64000,
          82000,
          58000,
          45000,
          30000,
          99000,
          25000,
          73000,
          290000,
          57000,
          30000,
          44000,
          83000,
          158000,
          85000,
          76000,
          13000,
          83000,
          52000,
          275000,
          190000,
          120000,
          60000,
          15000,
          60000,
          55000,
          12000,
          62000,
          165000,
          60000,
          52000,
          71000,
          167000,
          176000,
          99000,
          170000,
          58000,
          104500,
          45000,
          30000,
          11000,
          37500,
          37000,
          40000,
          76000,
          85000,
          113500,
          99500,
          83000,
          20000,
          26000,
          46000,
          320000,
          73000,
          12500,
          170000,
          65000,
          30000,
          66000,
          175000,
          260000,
          230000,
          77000,
          75000,
          127000,
          58500,
          42000,
          77000,
          139000,
          235000,
          110000,
          82500,
          22500,
          250000,
          48500,
          26000,
          60000,
          97000,
          39000,
          11000,
          42000,
          85000,
          130000,
          149000,
          25000,
          125000,
          76500,
          45000,
          63000,
          13500,
          84500,
          63000,
          12500,
          240000,
          77000,
          68000,
          50000,
          16000,
          25000,
          32000,
          43000,
          28500,
          27000,
          135000,
          75000,
          210000,
          240000,
          38000,
          365000,
          55500,
          106000,
          120000,
          35500,
          69000,
          38000,
          79000,
          55000,
          48000,
          40000,
          82000,
          25000,
          120000,
          55000,
          55000,
          65000,
          250000,
          116500,
          49000,
          65000,
          220000,
          55000,
          75000,
          27000,
          45000,
          63000,
          93500,
          122000,
          65000,
          40000,
          20000,
          20000,
          134000,
          60000,
          95000,
          25000,
          75000,
          75000,
          135000,
          65000,
          57000,
          79500,
          62000,
          67000,
          67000,
          90000,
          45000,
          55000,
          145000,
          69500,
          45000,
          18000,
          410000,
          127000,
          27500,
          77000,
          27000,
          38000,
          64500,
          62000,
          55000,
          60000,
          185000,
          164000,
          63000,
          65000,
          9000,
          30000,
          45000,
          126000,
          173000,
          1046,
          13500,
          35000,
          207000,
          75000,
          12000,
          70000,
          64000,
          68000,
          93000,
          27000,
          74000,
          60000,
          48000,
          48000,
          27500,
          22000,
          65000,
          55000,
          80000,
          115000,
          47000,
          128000,
          55000,
          119000,
          153500,
          27000,
          28000,
          205000,
          90000,
          41000,
          55000,
          91000,
          1002,
          37000,
          24000,
          105000,
          200000,
          40500,
          14000,
          140000,
          330000,
          67000,
          67000,
          36000,
          75000,
          207000,
          78000,
          32000,
          290000,
          23900,
          45000,
          158500,
          65000,
          15000,
          45000,
          52000,
          57000,
          22000,
          72000,
          59000,
          50000,
          24000,
          265000,
          63000,
          70000,
          55000,
          57000,
          56000,
          73000,
          75000,
          30000,
          154000,
          29500,
          90000,
          50000,
          85000,
          60000,
          79000,
          19500,
          56500,
          83000,
          129000,
          77000,
          60000,
          65500,
          75000,
          29500,
          63000,
          48000,
          35000,
          47000,
          36000,
          130000,
          30000,
          42000,
          11000,
          16500,
          65000,
          1414,
          75000,
          51000,
          30000,
          57000,
          55000,
          60000,
          88000,
          12000,
          33000,
          80000,
          55000,
          262000,
          68000,
          79000,
          156500,
          310000,
          118000,
          1310,
          220000,
          35000,
          100000,
          105000,
          125000,
          145000,
          27500,
          45000,
          132000,
          37500,
          65000,
          64000,
          41000,
          43000,
          106500,
          29000,
          43000,
          50000,
          16000,
          14000,
          1700,
          44000,
          27000,
          31000,
          69000,
          1440,
          68000,
          30000,
          35000,
          37000,
          35000,
          21000,
          74500,
          1010,
          57000,
          109000,
          23000,
          498000,
          125000,
          47000,
          48500,
          20000,
          10000,
          105000,
          100000,
          40000,
          35000,
          55000,
          138000,
          68000,
          22000,
          41500,
          45000,
          36000,
          130000,
          70000,
          32000,
          60000,
          66000,
          135000,
          28000,
          130000,
          123000,
          173000,
          162500,
          85000,
          12000,
          95000,
          45000,
          126000,
          56000,
          70000,
          230000,
          42500,
          72000,
          39000,
          68000,
          75000,
          77000,
          17000,
          103000,
          32000,
          77500,
          90000,
          175000,
          159000,
          85000,
          55000,
          49500,
          54500,
          43000,
          100000,
          119000,
          45000,
          24000,
          89000,
          60000,
          29000,
          57500,
          163000,
          142000,
          65000,
          30000,
          325000,
          25000,
          22000,
          40000,
          77000,
          55000,
          147000,
          36500,
          18500,
          60000,
          137000,
          27000,
          139000,
          86000,
          48000,
          34000,
          11000,
          22500,
          215000,
          126000,
          210000,
          151000,
          28000,
          320000,
          113000,
          30000,
          64000,
          110000,
          384900,
          45000,
          40000,
          70000,
          213000,
          65000,
          35000,
          20000,
          140000,
          32000,
          135000,
          46000,
          20000,
          70000,
          135000,
          223000,
          410000,
          78000,
          99500,
          50000,
          50000,
          98000,
          55000,
          310000,
          61500,
          11000,
          48500,
          55000,
          71500,
          108000,
          81000,
          115000,
          123000,
          30000,
          50000,
          46000,
          110000,
          45000,
          70000,
          138000,
          62000,
          141000,
          50000,
          102000,
          130000,
          270000,
          1221,
          53000,
          22000,
          60000,
          150000,
          69500,
          102000,
          48000,
          9000,
          2300,
          55000,
          21000,
          31000,
          34000,
          30000,
          41000,
          83000,
          61000,
          79500,
          61500,
          360000,
          48000,
          50000,
          42500,
          24000,
          78000,
          55000,
          35000,
          75000,
          125000,
          90500,
          50000,
          105000,
          51500,
          41500,
          100000,
          141000,
          54000,
          38000,
          51000,
          450000,
          14000,
          49000,
          85000,
          14000,
          50000,
          20000,
          56000,
          105000,
          38000,
          12000,
          65000,
          35000,
          35000,
          30000,
          13000,
          68500,
          96000,
          107000,
          43500,
          32000,
          55000,
          20000,
          35000,
          108000,
          55000,
          60000,
          85000,
          90000,
          68000,
          26000,
          76000,
          83000,
          35000,
          220000,
          46000,
          13000,
          20000,
          61000,
          85000,
          35000,
          27500,
          116500,
          35500,
          72000,
          10000,
          240000,
          190000,
          40000,
          195000,
          148500,
          152000,
          50000,
          74000,
          15000,
          75000,
          40000,
          121500,
          39000,
          55000,
          107000,
          68000,
          32500,
          1800,
          55000,
          68500,
          15000,
          110000,
          75000,
          106000,
          49000,
          35000,
          1630,
          95000,
          185000,
          70000,
          20000,
          35000,
          108000,
          55000,
          255000,
          138000,
          39000,
          85000,
          36500,
          161500,
          63000,
          40000,
          37000,
          27000,
          70000,
          78000,
          32000,
          16000,
          120000,
          11000,
          112000,
          48000,
          39000,
          1430,
          108000,
          27500,
          37500,
          148000,
          70000,
          25000,
          120000,
          49500,
          237000,
          30000,
          43000,
          72000,
          160000,
          40000,
          105000,
          210000,
          45000,
          47000,
          285000,
          120000,
          76000,
          70000,
          44000,
          46000,
          75000,
          29500,
          28000,
          25000,
          98000,
          56500,
          65000,
          52000,
          69500,
          89000,
          45000,
          110000,
          56000,
          39000,
          65000,
          110000,
          15000,
          170000,
          180000,
          55000,
          45000,
          25000,
          105000,
          119000,
          120000,
          33000,
          77000,
          210000,
          20000,
          69000,
          35000,
          91500,
          95000,
          34000,
          65000,
          33000,
          17500,
          22000,
          19000,
          258000,
          111500,
          18000,
          12000,
          220000,
          56600,
          18000,
          10000,
          126500,
          30000,
          29000,
          73000,
          1086,
          28000,
          48000,
          1342,
          76000,
          130000,
          103000,
          230000,
          26500,
          12000,
          107000,
          165000,
          46000,
          12000,
          46000,
          252000,
          50000,
          207000,
          165000,
          65000,
          35000,
          85000,
          20000,
          55000,
          45000,
          36500,
          30000,
          29000,
          49000,
          50000,
          51000,
          76500,
          30000,
          54000,
          85000,
          290000,
          77000,
          190000,
          36000,
          35000,
          64000,
          14000,
          14000,
          108000,
          60500,
          55000,
          102000,
          15000,
          42000
         ],
         "xaxis": "x",
         "y": [
          100322.9296875,
          31981.544921875,
          82695.2890625,
          39282.9765625,
          38904.078125,
          29073.798828125,
          64746.546875,
          24558.1015625,
          65759.2578125,
          263122.09375,
          56202.796875,
          41443.55859375,
          51200.37109375,
          78185.2421875,
          147454.46875,
          61705.921875,
          43468.734375,
          20592.98828125,
          96724.0234375,
          38610.16015625,
          301640.46875,
          104243.453125,
          82147.5078125,
          57898.94921875,
          18949.8671875,
          55233.4453125,
          76716.5234375,
          24454.380859375,
          68183.390625,
          145938.234375,
          64032.39453125,
          20049.1484375,
          85139.9609375,
          250379.1875,
          226797.5,
          78681.4609375,
          103901.3359375,
          51276.796875,
          86074.171875,
          10505.4384765625,
          29202.263671875,
          5563.87548828125,
          37260.64453125,
          41719.67578125,
          45175.421875,
          84760.078125,
          76192.5703125,
          108172.265625,
          92021.9921875,
          78383.15625,
          19717.90234375,
          20469.84765625,
          39681.796875,
          289366.40625,
          76875.2265625,
          13641.8798828125,
          327790.34375,
          35429.5234375,
          38070.15234375,
          66234.5703125,
          105812.2734375,
          266445.15625,
          226635.5625,
          43765.6484375,
          49896.6875,
          118667.4296875,
          48987.72265625,
          21050.98046875,
          69416.6171875,
          133885.46875,
          150179.3125,
          78461.984375,
          113319.5625,
          20378.748046875,
          284131.59375,
          43144.07421875,
          28679.365234375,
          56942.73828125,
          98158.890625,
          53992.72265625,
          32565.302734375,
          40375.40625,
          77505.5078125,
          142181.75,
          119990.6953125,
          27268.21875,
          89859.875,
          73369.8984375,
          44042.74609375,
          64705.25,
          17441.126953125,
          69851.1171875,
          71247.8359375,
          12297.103515625,
          198796.3125,
          87190.6640625,
          69148.4921875,
          58330.01953125,
          26697.23046875,
          24168.87890625,
          27273.3671875,
          30186.8515625,
          27373.6640625,
          14542.1611328125,
          71825.609375,
          67998.2578125,
          129947.9140625,
          234159.34375,
          39490.80859375,
          363684.4375,
          53192.35546875,
          107601.125,
          166814.109375,
          22714.48046875,
          61912.23046875,
          42855.50390625,
          85816.4765625,
          49530.06640625,
          39638.828125,
          52991.80078125,
          58380.5546875,
          31209.724609375,
          5519.81884765625,
          53093.07421875,
          47172.53515625,
          83218.0703125,
          179162.8125,
          107846.8671875,
          39745.0078125,
          67602.859375,
          124821.9921875,
          60825.2578125,
          11624.8564453125,
          13320.2373046875,
          55121.46484375,
          62589.00390625,
          108437.921875,
          120675.9140625,
          48627.31640625,
          35544.69140625,
          24110.75,
          14040.693359375,
          133594.53125,
          50552.73828125,
          9321.35546875,
          21326.98828125,
          73278.015625,
          69035.484375,
          72567.484375,
          111118.2265625,
          31101.95703125,
          70665.3359375,
          64473.08984375,
          62699.109375,
          56931.71484375,
          120351.0078125,
          56244.03125,
          47762.46875,
          138639.71875,
          107234.2890625,
          39357.26171875,
          23232.857421875,
          326202.4375,
          129521.3125,
          22115.26953125,
          66906.5078125,
          27648.19921875,
          40907.75,
          60144.60546875,
          49791.921875,
          95018.0859375,
          65139.33203125,
          126842.5625,
          123596.34375,
          47016.59765625,
          41180.84765625,
          7421.28466796875,
          31415.353515625,
          53791.96875,
          116360.09375,
          146238.046875,
          48202.625,
          15743.4970703125,
          41532.9375,
          208187.203125,
          74643.8046875,
          20656.775390625,
          53193.015625,
          62315.2109375,
          62331.19921875,
          113023.734375,
          37365.51171875,
          60942.8359375,
          49791.921875,
          50720.453125,
          59225.02734375,
          28799.275390625,
          24210.935546875,
          54221.7265625,
          42617.03515625,
          96980.25,
          92561.96875,
          44907.171875,
          158722.1875,
          68968.890625,
          111155.9609375,
          131073.0625,
          27023.033203125,
          29718.734375,
          156962.359375,
          82380.828125,
          66004.421875,
          51266.33203125,
          109472.7265625,
          56391.890625,
          43367.82421875,
          26731.318359375,
          73189.2421875,
          125971.703125,
          37250.73046875,
          23269.244140625,
          90715.40625,
          20462.5078125,
          63670.26171875,
          54924.11328125,
          32325.345703125,
          70721.6953125,
          174604.734375,
          58089.26171875,
          33726.32421875,
          263893.3125,
          36585.11328125,
          59534.5625,
          54483.54296875,
          47625.55859375,
          19988.189453125,
          41591.640625,
          56930.68359375,
          51402.52734375,
          28283.890625,
          60693.83984375,
          46680.44140625,
          42507.6875,
          22911.154296875,
          150970.390625,
          56487.26953125,
          69019.03125,
          60818.35546875,
          45801.8828125,
          50492.55859375,
          60818.35546875,
          79241.0390625,
          32442.736328125,
          132466.9375,
          27756.146484375,
          73700.765625,
          35005.20703125,
          27882.11328125,
          56727.5546875,
          70159.5625,
          13811.166015625,
          56329.91796875,
          60127.91796875,
          29327.630859375,
          71634.6796875,
          55423.3984375,
          39259.04296875,
          89285.578125,
          28046.044921875,
          34251.36328125,
          50858.20703125,
          35543.37109375,
          28109.42578125,
          36246.6484375,
          46133.78125,
          30399.36328125,
          49329.86328125,
          16203.470703125,
          22490.478515625,
          59574.1484375,
          3631.562255859375,
          26442.599609375,
          46109.80859375,
          24899.748046875,
          66324.4609375,
          52857.2421875,
          67466.453125,
          87075.6640625,
          19245.603515625,
          15147.724609375,
          64207.83203125,
          49135.29296875,
          266704.71875,
          64860.5078125,
          77583.453125,
          188956.46875,
          288053.34375,
          118175.03125,
          21792.2421875,
          247987.828125,
          47419.2109375,
          94982.4765625,
          88045.1328125,
          120541.5703125,
          148823.5625,
          29351.4140625,
          48722.6171875,
          140383.03125,
          42445.34375,
          31323.390625,
          63781.35546875,
          42345.11328125,
          36093.94140625,
          104183.921875,
          33066.83984375,
          22563.45703125,
          48265.23046875,
          22056.83984375,
          14523.8525390625,
          34094.9296875,
          45389.6171875,
          34279.0390625,
          33712.75390625,
          62632.953125,
          10420.06640625,
          64219.22265625,
          30673.42578125,
          49288.19921875,
          28448.013671875,
          51071.48046875,
          28814.0546875,
          67627.6875,
          60483.9765625,
          38342.078125,
          106570.796875,
          23225.21484375,
          402086.59375,
          53732.69921875,
          46788.65625,
          43124.0390625,
          25725.84765625,
          16678.728515625,
          99470.75,
          138714.1875,
          26562.046875,
          30141.513671875,
          23436.767578125,
          188630.046875,
          50923.82421875,
          23430.93359375,
          37285.7421875,
          43192.03515625,
          62612.5859375,
          79099.3203125,
          82396.3046875,
          48275.40625,
          38154.00390625,
          64296.92578125,
          49106.53125,
          28791.119140625,
          217573.453125,
          125939.75,
          167147.5625,
          181020.78125,
          97561.4140625,
          21991.75,
          115060.84375,
          33272.8984375,
          99626.3515625,
          53348.625,
          76266,
          214211.53125,
          41960.32421875,
          117771.9140625,
          33968.87109375,
          52443.953125,
          34262.859375,
          47981.8828125,
          16609.111328125,
          42806.0390625,
          31287.86328125,
          73744.6328125,
          101538.03125,
          92918.3125,
          148573.6875,
          76537.921875,
          63314.22265625,
          44258.3671875,
          53641.8203125,
          33744.01953125,
          55650.2421875,
          138886.265625,
          44967.7265625,
          18212.650390625,
          73796.90625,
          62364.9140625,
          39434.80859375,
          63446.53515625,
          186687.75,
          93922.2890625,
          46224.546875,
          49538.09765625,
          297630.53125,
          27932.095703125,
          34009.29296875,
          50751.7109375,
          52739.66796875,
          54248.828125,
          150187.609375,
          40350.84765625,
          29907.123046875,
          58593.2890625,
          138646.078125,
          29279.732421875,
          139055.78125,
          96778.375,
          46745.5703125,
          30356.978515625,
          19229.826171875,
          24537.78125,
          124772.9609375,
          136919.375,
          53993.8046875,
          183783.4375,
          19126.76171875,
          353744.09375,
          121321.5390625,
          31764.576171875,
          58704.2578125,
          105861.0234375,
          305972.75,
          25131.5390625,
          47205.16015625,
          58137.58984375,
          225237.8125,
          62103.47265625,
          17587.359375,
          22357.52734375,
          94091.546875,
          39517.140625,
          121498.34375,
          43669.71484375,
          32413.015625,
          66046.5390625,
          97312.5703125,
          151507.796875,
          204846.40625,
          74824.484375,
          94505.5859375,
          46914.56640625,
          26312.01953125,
          108048.125,
          63073.09765625,
          76174.5546875,
          55494.4296875,
          18292.896484375,
          46271.078125,
          51144.19921875,
          74934.6640625,
          81722.7421875,
          56559.98828125,
          99886.734375,
          124839.015625,
          24701.546875,
          52862.8359375,
          43982.84765625,
          129636.1171875,
          34692.109375,
          71869.53125,
          143804.53125,
          64000.16015625,
          127252.203125,
          58151.453125,
          131366.640625,
          139074.34375,
          205231.03125,
          8172.23095703125,
          51898.6484375,
          15209.4765625,
          66303.90625,
          172508.671875,
          71432.2109375,
          104023.984375,
          52893.546875,
          17568.03125,
          149284.125,
          53525.00390625,
          17912.58203125,
          31765.87890625,
          21033.0390625,
          33500.296875,
          35399.76953125,
          98448.953125,
          64723.828125,
          43714.83984375,
          58165.984375,
          122596.0390625,
          58455.0390625,
          39126.3203125,
          33184.328125,
          25638.947265625,
          57704.47265625,
          45854.28515625,
          33234.96875,
          51047.91015625,
          139132.1875,
          164964.71875,
          40895.890625,
          18574.1640625,
          47749.48828125,
          38126.47265625,
          135390.8125,
          127168.2578125,
          58010.20703125,
          53781.3515625,
          39592.5859375,
          399647.15625,
          16936.244140625,
          39421.53515625,
          69365.9921875,
          14668.3544921875,
          43068.2265625,
          29879.126953125,
          65879.3984375,
          87124.5078125,
          35062.33984375,
          27283.669921875,
          62412.69140625,
          22042.05859375,
          34683.640625,
          32644.625,
          14601.890625,
          48882.25390625,
          92772.65625,
          113478.2109375,
          47531.31640625,
          33776.21484375,
          61038.40234375,
          40484.40625,
          36557.76953125,
          20307.412109375,
          61317.4609375,
          54583.86328125,
          73335.203125,
          95082.625,
          73802.046875,
          28594.048828125,
          89125.046875,
          70504.453125,
          24818.146484375,
          17701.869140625,
          46359.2421875,
          14007.8583984375,
          21751.005859375,
          46621.80078125,
          57469.36328125,
          37553.4921875,
          37490.37109375,
          109597.25,
          44172.68359375,
          75027.7734375,
          19740.80078125,
          102062.8671875,
          188790.578125,
          27794.98046875,
          156173.6875,
          132798.46875,
          134312.09375,
          50484.90234375,
          61424.390625,
          20491.625,
          75616.078125,
          38768.7421875,
          125692.09375,
          44185.44921875,
          46334.046875,
          111473.796875,
          63155.01953125,
          8009.818359375,
          90283.53125,
          54842.3046875,
          69046.6171875,
          21359.1484375,
          96678.46875,
          51039.05078125,
          126996.0390625,
          51381.20703125,
          33723.3984375,
          41548.46484375,
          92774.15625,
          128651.4453125,
          67815.6953125,
          17907.748046875,
          39073.4453125,
          111473.796875,
          50024.71484375,
          216751.875,
          156582.3125,
          44843.40234375,
          73530.65625,
          39551.48828125,
          178510.625,
          57610.7734375,
          41333.9453125,
          33194.359375,
          27395.02734375,
          58516.6171875,
          104968.109375,
          36837.2578125,
          20791.248046875,
          125354.0390625,
          16471.326171875,
          119514.34375,
          47926.58984375,
          42867.5625,
          43704.2109375,
          98897.7265625,
          26681.55078125,
          36343.4609375,
          137927.1875,
          34917.8828125,
          34622.3359375,
          43126.9609375,
          40673.375,
          161745.921875,
          29816.90234375,
          36812.60546875,
          68139.25,
          85404.578125,
          36813.83203125,
          167232.703125,
          129506.3671875,
          42547.87890625,
          28453.25,
          207752.4375,
          117768.65625,
          82924.078125,
          68180.0703125,
          43130.49609375,
          37644.85546875,
          71886.9375,
          30703.541015625,
          33240.86328125,
          27454.580078125,
          83360.25,
          46578.20703125,
          72655.4921875,
          96006.8359375,
          67951.2578125,
          76952.9765625,
          32850.71484375,
          107382.7734375,
          54890.28515625,
          41260.53125,
          59218.13671875,
          121254.453125,
          20702.470703125,
          163755.421875,
          176716,
          39589.90625,
          52864.75390625,
          27557.3828125,
          110887.6640625,
          110239.4140625,
          135809.03125,
          32616.990234375,
          72281.6015625,
          255845.65625,
          18716.880859375,
          65786.0390625,
          36150.265625,
          95267.2421875,
          91153.09375,
          38236.47265625,
          74616.828125,
          33221.375,
          16724.857421875,
          20092.771484375,
          19153.8515625,
          248108.703125,
          103307.2265625,
          15961.52734375,
          14282.8173828125,
          325177.4375,
          51031.5078125,
          24197.0390625,
          9543.7333984375,
          105576.5,
          31461.134765625,
          27956.693359375,
          58048.55859375,
          33964.078125,
          27378.20703125,
          33738.29296875,
          47974.8359375,
          45794.6328125,
          121153.3125,
          108119.3515625,
          244229.296875,
          26014.77734375,
          15196.5576171875,
          119216.546875,
          205347.921875,
          43246.9375,
          12377.7822265625,
          40631.11328125,
          233870.34375,
          54501.3671875,
          15915.9111328125,
          176620.984375,
          38733.265625,
          81298.78125,
          90183.625,
          23232.05859375,
          79690.4375,
          53589.97265625,
          37011.8125,
          31656.552734375,
          34355.09765625,
          65477.90234375,
          43399.9296875,
          46715.80078125,
          70242.9765625,
          35510.3046875,
          65486.51953125,
          45800.61328125,
          273614.09375,
          67651.4921875,
          119735.2109375,
          34442.0625,
          26311.015625,
          51073.328125,
          10664.3837890625,
          16267.4951171875,
          97795.515625,
          45654.5234375,
          48127.70703125,
          35556.35546875,
          34946.30078125,
          40215.734375
         ],
         "yaxis": "y"
        }
       ],
       "layout": {
        "height": 600,
        "legend": {
         "tracegroupgap": 0
        },
        "template": {
         "data": {
          "bar": [
           {
            "error_x": {
             "color": "#2a3f5f"
            },
            "error_y": {
             "color": "#2a3f5f"
            },
            "marker": {
             "line": {
              "color": "#E5ECF6",
              "width": 0.5
             },
             "pattern": {
              "fillmode": "overlay",
              "size": 10,
              "solidity": 0.2
             }
            },
            "type": "bar"
           }
          ],
          "barpolar": [
           {
            "marker": {
             "line": {
              "color": "#E5ECF6",
              "width": 0.5
             },
             "pattern": {
              "fillmode": "overlay",
              "size": 10,
              "solidity": 0.2
             }
            },
            "type": "barpolar"
           }
          ],
          "carpet": [
           {
            "aaxis": {
             "endlinecolor": "#2a3f5f",
             "gridcolor": "white",
             "linecolor": "white",
             "minorgridcolor": "white",
             "startlinecolor": "#2a3f5f"
            },
            "baxis": {
             "endlinecolor": "#2a3f5f",
             "gridcolor": "white",
             "linecolor": "white",
             "minorgridcolor": "white",
             "startlinecolor": "#2a3f5f"
            },
            "type": "carpet"
           }
          ],
          "choropleth": [
           {
            "colorbar": {
             "outlinewidth": 0,
             "ticks": ""
            },
            "type": "choropleth"
           }
          ],
          "contour": [
           {
            "colorbar": {
             "outlinewidth": 0,
             "ticks": ""
            },
            "colorscale": [
             [
              0,
              "#0d0887"
             ],
             [
              0.1111111111111111,
              "#46039f"
             ],
             [
              0.2222222222222222,
              "#7201a8"
             ],
             [
              0.3333333333333333,
              "#9c179e"
             ],
             [
              0.4444444444444444,
              "#bd3786"
             ],
             [
              0.5555555555555556,
              "#d8576b"
             ],
             [
              0.6666666666666666,
              "#ed7953"
             ],
             [
              0.7777777777777778,
              "#fb9f3a"
             ],
             [
              0.8888888888888888,
              "#fdca26"
             ],
             [
              1,
              "#f0f921"
             ]
            ],
            "type": "contour"
           }
          ],
          "contourcarpet": [
           {
            "colorbar": {
             "outlinewidth": 0,
             "ticks": ""
            },
            "type": "contourcarpet"
           }
          ],
          "heatmap": [
           {
            "colorbar": {
             "outlinewidth": 0,
             "ticks": ""
            },
            "colorscale": [
             [
              0,
              "#0d0887"
             ],
             [
              0.1111111111111111,
              "#46039f"
             ],
             [
              0.2222222222222222,
              "#7201a8"
             ],
             [
              0.3333333333333333,
              "#9c179e"
             ],
             [
              0.4444444444444444,
              "#bd3786"
             ],
             [
              0.5555555555555556,
              "#d8576b"
             ],
             [
              0.6666666666666666,
              "#ed7953"
             ],
             [
              0.7777777777777778,
              "#fb9f3a"
             ],
             [
              0.8888888888888888,
              "#fdca26"
             ],
             [
              1,
              "#f0f921"
             ]
            ],
            "type": "heatmap"
           }
          ],
          "heatmapgl": [
           {
            "colorbar": {
             "outlinewidth": 0,
             "ticks": ""
            },
            "colorscale": [
             [
              0,
              "#0d0887"
             ],
             [
              0.1111111111111111,
              "#46039f"
             ],
             [
              0.2222222222222222,
              "#7201a8"
             ],
             [
              0.3333333333333333,
              "#9c179e"
             ],
             [
              0.4444444444444444,
              "#bd3786"
             ],
             [
              0.5555555555555556,
              "#d8576b"
             ],
             [
              0.6666666666666666,
              "#ed7953"
             ],
             [
              0.7777777777777778,
              "#fb9f3a"
             ],
             [
              0.8888888888888888,
              "#fdca26"
             ],
             [
              1,
              "#f0f921"
             ]
            ],
            "type": "heatmapgl"
           }
          ],
          "histogram": [
           {
            "marker": {
             "pattern": {
              "fillmode": "overlay",
              "size": 10,
              "solidity": 0.2
             }
            },
            "type": "histogram"
           }
          ],
          "histogram2d": [
           {
            "colorbar": {
             "outlinewidth": 0,
             "ticks": ""
            },
            "colorscale": [
             [
              0,
              "#0d0887"
             ],
             [
              0.1111111111111111,
              "#46039f"
             ],
             [
              0.2222222222222222,
              "#7201a8"
             ],
             [
              0.3333333333333333,
              "#9c179e"
             ],
             [
              0.4444444444444444,
              "#bd3786"
             ],
             [
              0.5555555555555556,
              "#d8576b"
             ],
             [
              0.6666666666666666,
              "#ed7953"
             ],
             [
              0.7777777777777778,
              "#fb9f3a"
             ],
             [
              0.8888888888888888,
              "#fdca26"
             ],
             [
              1,
              "#f0f921"
             ]
            ],
            "type": "histogram2d"
           }
          ],
          "histogram2dcontour": [
           {
            "colorbar": {
             "outlinewidth": 0,
             "ticks": ""
            },
            "colorscale": [
             [
              0,
              "#0d0887"
             ],
             [
              0.1111111111111111,
              "#46039f"
             ],
             [
              0.2222222222222222,
              "#7201a8"
             ],
             [
              0.3333333333333333,
              "#9c179e"
             ],
             [
              0.4444444444444444,
              "#bd3786"
             ],
             [
              0.5555555555555556,
              "#d8576b"
             ],
             [
              0.6666666666666666,
              "#ed7953"
             ],
             [
              0.7777777777777778,
              "#fb9f3a"
             ],
             [
              0.8888888888888888,
              "#fdca26"
             ],
             [
              1,
              "#f0f921"
             ]
            ],
            "type": "histogram2dcontour"
           }
          ],
          "mesh3d": [
           {
            "colorbar": {
             "outlinewidth": 0,
             "ticks": ""
            },
            "type": "mesh3d"
           }
          ],
          "parcoords": [
           {
            "line": {
             "colorbar": {
              "outlinewidth": 0,
              "ticks": ""
             }
            },
            "type": "parcoords"
           }
          ],
          "pie": [
           {
            "automargin": true,
            "type": "pie"
           }
          ],
          "scatter": [
           {
            "fillpattern": {
             "fillmode": "overlay",
             "size": 10,
             "solidity": 0.2
            },
            "type": "scatter"
           }
          ],
          "scatter3d": [
           {
            "line": {
             "colorbar": {
              "outlinewidth": 0,
              "ticks": ""
             }
            },
            "marker": {
             "colorbar": {
              "outlinewidth": 0,
              "ticks": ""
             }
            },
            "type": "scatter3d"
           }
          ],
          "scattercarpet": [
           {
            "marker": {
             "colorbar": {
              "outlinewidth": 0,
              "ticks": ""
             }
            },
            "type": "scattercarpet"
           }
          ],
          "scattergeo": [
           {
            "marker": {
             "colorbar": {
              "outlinewidth": 0,
              "ticks": ""
             }
            },
            "type": "scattergeo"
           }
          ],
          "scattergl": [
           {
            "marker": {
             "colorbar": {
              "outlinewidth": 0,
              "ticks": ""
             }
            },
            "type": "scattergl"
           }
          ],
          "scattermapbox": [
           {
            "marker": {
             "colorbar": {
              "outlinewidth": 0,
              "ticks": ""
             }
            },
            "type": "scattermapbox"
           }
          ],
          "scatterpolar": [
           {
            "marker": {
             "colorbar": {
              "outlinewidth": 0,
              "ticks": ""
             }
            },
            "type": "scatterpolar"
           }
          ],
          "scatterpolargl": [
           {
            "marker": {
             "colorbar": {
              "outlinewidth": 0,
              "ticks": ""
             }
            },
            "type": "scatterpolargl"
           }
          ],
          "scatterternary": [
           {
            "marker": {
             "colorbar": {
              "outlinewidth": 0,
              "ticks": ""
             }
            },
            "type": "scatterternary"
           }
          ],
          "surface": [
           {
            "colorbar": {
             "outlinewidth": 0,
             "ticks": ""
            },
            "colorscale": [
             [
              0,
              "#0d0887"
             ],
             [
              0.1111111111111111,
              "#46039f"
             ],
             [
              0.2222222222222222,
              "#7201a8"
             ],
             [
              0.3333333333333333,
              "#9c179e"
             ],
             [
              0.4444444444444444,
              "#bd3786"
             ],
             [
              0.5555555555555556,
              "#d8576b"
             ],
             [
              0.6666666666666666,
              "#ed7953"
             ],
             [
              0.7777777777777778,
              "#fb9f3a"
             ],
             [
              0.8888888888888888,
              "#fdca26"
             ],
             [
              1,
              "#f0f921"
             ]
            ],
            "type": "surface"
           }
          ],
          "table": [
           {
            "cells": {
             "fill": {
              "color": "#EBF0F8"
             },
             "line": {
              "color": "white"
             }
            },
            "header": {
             "fill": {
              "color": "#C8D4E3"
             },
             "line": {
              "color": "white"
             }
            },
            "type": "table"
           }
          ]
         },
         "layout": {
          "annotationdefaults": {
           "arrowcolor": "#2a3f5f",
           "arrowhead": 0,
           "arrowwidth": 1
          },
          "autotypenumbers": "strict",
          "coloraxis": {
           "colorbar": {
            "outlinewidth": 0,
            "ticks": ""
           }
          },
          "colorscale": {
           "diverging": [
            [
             0,
             "#8e0152"
            ],
            [
             0.1,
             "#c51b7d"
            ],
            [
             0.2,
             "#de77ae"
            ],
            [
             0.3,
             "#f1b6da"
            ],
            [
             0.4,
             "#fde0ef"
            ],
            [
             0.5,
             "#f7f7f7"
            ],
            [
             0.6,
             "#e6f5d0"
            ],
            [
             0.7,
             "#b8e186"
            ],
            [
             0.8,
             "#7fbc41"
            ],
            [
             0.9,
             "#4d9221"
            ],
            [
             1,
             "#276419"
            ]
           ],
           "sequential": [
            [
             0,
             "#0d0887"
            ],
            [
             0.1111111111111111,
             "#46039f"
            ],
            [
             0.2222222222222222,
             "#7201a8"
            ],
            [
             0.3333333333333333,
             "#9c179e"
            ],
            [
             0.4444444444444444,
             "#bd3786"
            ],
            [
             0.5555555555555556,
             "#d8576b"
            ],
            [
             0.6666666666666666,
             "#ed7953"
            ],
            [
             0.7777777777777778,
             "#fb9f3a"
            ],
            [
             0.8888888888888888,
             "#fdca26"
            ],
            [
             1,
             "#f0f921"
            ]
           ],
           "sequentialminus": [
            [
             0,
             "#0d0887"
            ],
            [
             0.1111111111111111,
             "#46039f"
            ],
            [
             0.2222222222222222,
             "#7201a8"
            ],
            [
             0.3333333333333333,
             "#9c179e"
            ],
            [
             0.4444444444444444,
             "#bd3786"
            ],
            [
             0.5555555555555556,
             "#d8576b"
            ],
            [
             0.6666666666666666,
             "#ed7953"
            ],
            [
             0.7777777777777778,
             "#fb9f3a"
            ],
            [
             0.8888888888888888,
             "#fdca26"
            ],
            [
             1,
             "#f0f921"
            ]
           ]
          },
          "colorway": [
           "#636efa",
           "#EF553B",
           "#00cc96",
           "#ab63fa",
           "#FFA15A",
           "#19d3f3",
           "#FF6692",
           "#B6E880",
           "#FF97FF",
           "#FECB52"
          ],
          "font": {
           "color": "#2a3f5f"
          },
          "geo": {
           "bgcolor": "white",
           "lakecolor": "white",
           "landcolor": "#E5ECF6",
           "showlakes": true,
           "showland": true,
           "subunitcolor": "white"
          },
          "hoverlabel": {
           "align": "left"
          },
          "hovermode": "closest",
          "mapbox": {
           "style": "light"
          },
          "paper_bgcolor": "white",
          "plot_bgcolor": "#E5ECF6",
          "polar": {
           "angularaxis": {
            "gridcolor": "white",
            "linecolor": "white",
            "ticks": ""
           },
           "bgcolor": "#E5ECF6",
           "radialaxis": {
            "gridcolor": "white",
            "linecolor": "white",
            "ticks": ""
           }
          },
          "scene": {
           "xaxis": {
            "backgroundcolor": "#E5ECF6",
            "gridcolor": "white",
            "gridwidth": 2,
            "linecolor": "white",
            "showbackground": true,
            "ticks": "",
            "zerolinecolor": "white"
           },
           "yaxis": {
            "backgroundcolor": "#E5ECF6",
            "gridcolor": "white",
            "gridwidth": 2,
            "linecolor": "white",
            "showbackground": true,
            "ticks": "",
            "zerolinecolor": "white"
           },
           "zaxis": {
            "backgroundcolor": "#E5ECF6",
            "gridcolor": "white",
            "gridwidth": 2,
            "linecolor": "white",
            "showbackground": true,
            "ticks": "",
            "zerolinecolor": "white"
           }
          },
          "shapedefaults": {
           "line": {
            "color": "#2a3f5f"
           }
          },
          "ternary": {
           "aaxis": {
            "gridcolor": "white",
            "linecolor": "white",
            "ticks": ""
           },
           "baxis": {
            "gridcolor": "white",
            "linecolor": "white",
            "ticks": ""
           },
           "bgcolor": "#E5ECF6",
           "caxis": {
            "gridcolor": "white",
            "linecolor": "white",
            "ticks": ""
           }
          },
          "title": {
           "x": 0.05
          },
          "xaxis": {
           "automargin": true,
           "gridcolor": "white",
           "linecolor": "white",
           "ticks": "",
           "title": {
            "standoff": 15
           },
           "zerolinecolor": "white",
           "zerolinewidth": 2
          },
          "yaxis": {
           "automargin": true,
           "gridcolor": "white",
           "linecolor": "white",
           "ticks": "",
           "title": {
            "standoff": 15
           },
           "zerolinecolor": "white",
           "zerolinewidth": 2
          }
         }
        },
        "title": {
         "text": "Actual Price vs Prediction Price"
        },
        "xaxis": {
         "anchor": "y",
         "domain": [
          0,
          1
         ],
         "title": {
          "text": "Actual Price"
         }
        },
        "yaxis": {
         "anchor": "x",
         "domain": [
          0,
          1
         ],
         "title": {
          "text": "Predicted Price"
         }
        }
       }
      }
     },
     "metadata": {},
     "output_type": "display_data"
    }
   ],
   "source": [
    "fig=px.scatter(x=y_test, y=y_pred_xgb_tuning,height=600,\n",
    "                labels={\n",
    "                     \"y\":\"Predicted Price\",\n",
    "                     \"x\":\"Actual Price\",\n",
    "                 },\n",
    "                title=\"Actual Price vs Prediction Price\"\n",
    ")\n",
    "fig.show()"
   ]
  },
  {
   "cell_type": "markdown",
   "metadata": {},
   "source": [
    "**Summary**\n",
    "\n",
    "- Secara keseluruhan, model mengalami peningkatan performa (nilai RMSE dan MAE berkurang) dengan dilakukannya hyperparameter tuning. Sedangkan nilai MAPE naik sedikit\n",
    "- Apabila melihat dari perbandingan nilai residual antara train set dan test set khususnya nilai MAPE, maka bisa dikatakan model cukup overfit (Nilai RMSE, MAE, dan MAPE pada train set lebih rendah dari Nilai RMSE, MAE, dan MAPE pada test set)\n",
    "- Apabila melihat dari plot perbandingan nilai residual yang aktual dengan yang prediksi, maka dapat disimpulkan model menunjukan hasil yang baik khususnya di rentang harga yang berada ditengah dataset. Namun hasil prediksi harga yang buruk terdapat pada rentang harga yang rendah\n",
    "- Walaupun sudah dilakukan hyperparameter tuning, rata-rata nilai MAPE tetap besar yaitu sekitar 79.6%. Hal ini mungkin saja disebabkan karena model tidak mampu memprediksi harga mobil yang rendah (price range antara 1-5000) seperti yang ditunjukan pada scatterplot antara actual price dan predict price. Sehingga, akan dilakukan pengerucutan batasan model."
   ]
  },
  {
   "cell_type": "markdown",
   "metadata": {},
   "source": [
    "## 7 Hyperparameter Tuning and Predict to Test set (Second Attempt)"
   ]
  },
  {
   "cell_type": "markdown",
   "metadata": {},
   "source": [
    "### 7.1 Target Outlier Modification"
   ]
  },
  {
   "cell_type": "code",
   "execution_count": 156,
   "metadata": {},
   "outputs": [
    {
     "data": {
      "image/png": "[encoded data removed]",
      "text/plain": [
       "<Figure size 1296x432 with 2 Axes>"
      ]
     },
     "metadata": {
      "needs_background": "light"
     },
     "output_type": "display_data"
    },
    {
     "data": {
      "image/png": "[encoded data removed]",
      "text/plain": [
       "<Figure size 1296x432 with 2 Axes>"
      ]
     },
     "metadata": {
      "needs_background": "light"
     },
     "output_type": "display_data"
    }
   ],
   "source": [
    "price_desc_before=df[\"Price\"].describe()\n",
    "price_normtest_before=normaltest(df[\"Price\"])\n",
    "\n",
    "plt.figure(figsize=(18,6))\n",
    "plt.subplot(1,2,1)\n",
    "sns.distplot(df[\"Price\"])\n",
    "plt.xticks(rotation=90)\n",
    "plt.subplot(1,2,2)\n",
    "sns.boxplot(data=df,x=\"Price\")\n",
    "plt.suptitle(\"Before Outlier Elimination\");\n",
    "\n",
    "df=df[(df[\"Price\"]>5000)]\n",
    "\n",
    "plt.figure(figsize=(18,6))\n",
    "plt.subplot(1,2,1)\n",
    "sns.distplot(df[\"Price\"])\n",
    "plt.xticks(rotation=90)\n",
    "plt.subplot(1,2,2)\n",
    "sns.boxplot(data=df,x=\"Price\")\n",
    "plt.suptitle(\"After Outlier Elimination\");"
   ]
  },
  {
   "cell_type": "markdown",
   "metadata": {},
   "source": [
    "**Summary**\n",
    "- Seperti yang disinggung sebelumnya, model aka dilakukan pengercutan batasan model dimana pemodelan yang dilakukan hanya berlaku untuk target(price) range yaitu dari 5000 hingga 500000. \n",
    "- Kesalahan ini bisa saja terjadi karena kesalahan asumsi satuan dimana pada awalnya asumsi mengarah pada satuan USD dimana mobil dengan harga diatas 1000 masih masuk akal. Namun apabila satuan harga adalah SAR maka harga mobil dikisaran 1000 mungkin tidak masuk akal. Shingga di model ini akan diasumsikan bahwa satuan harga mobil dalam SAR"
   ]
  },
  {
   "cell_type": "markdown",
   "metadata": {},
   "source": [
    "### 7.2 Preparation"
   ]
  },
  {
   "cell_type": "markdown",
   "metadata": {},
   "source": [
    "**Define Feature**"
   ]
  },
  {
   "cell_type": "code",
   "execution_count": 157,
   "metadata": {},
   "outputs": [],
   "source": [
    "X=df.drop(columns=[\"Price\"])\n",
    "y=df[\"Price\"]"
   ]
  },
  {
   "cell_type": "markdown",
   "metadata": {},
   "source": [
    "**Splitting**"
   ]
  },
  {
   "cell_type": "code",
   "execution_count": 158,
   "metadata": {},
   "outputs": [],
   "source": [
    "X_train, X_test, y_train, y_test = train_test_split(X,y, random_state=42, test_size=0.2)"
   ]
  },
  {
   "cell_type": "markdown",
   "metadata": {},
   "source": [
    "### 7.3 Hyperparameter Tuning"
   ]
  },
  {
   "cell_type": "markdown",
   "metadata": {},
   "source": [
    "**Hyperparameter Process**"
   ]
  },
  {
   "cell_type": "code",
   "execution_count": 159,
   "metadata": {},
   "outputs": [
    {
     "data": {
      "text/plain": [
       "GridSearchCV(cv=KFold(n_splits=5, random_state=42, shuffle=True),\n",
       "             estimator=Pipeline(steps=[('transformer',\n",
       "                                        ColumnTransformer(remainder='passthrough',\n",
       "                                                          transformers=[('onehot',\n",
       "                                                                         OneHotEncoder(drop='first'),\n",
       "                                                                         ['Gear_Type',\n",
       "                                                                          'Origin',\n",
       "                                                                          'Options']),\n",
       "                                                                        ('Binary',\n",
       "                                                                         BinaryEncoder(),\n",
       "                                                                         ['Type',\n",
       "                                                                          'Region',\n",
       "                                                                          'Make'])])),\n",
       "                                       ('scaler', StandardScaler()),\n",
       "                                       ('model',\n",
       "                                        TransformedTargetRegressor...\n",
       "                                                                                          reg_lambda=None, ...)))]),\n",
       "             n_jobs=-1,\n",
       "             param_grid={'model__regressor__learning_rate': [0.1, 0.2, 0.3, 0.4,\n",
       "                                                             0.5, 0.6, 0.7, 0.8,\n",
       "                                                             0.9],\n",
       "                         'model__regressor__max_depth': [2, 4, 6, 8, 10],\n",
       "                         'scaler': [StandardScaler(), MinMaxScaler(),\n",
       "                                    RobustScaler()]},\n",
       "             refit='neg_mean_absolute_error',\n",
       "             scoring=['neg_root_mean_squared_error', 'neg_mean_absolute_error',\n",
       "                      'neg_mean_absolute_percentage_error'])"
      ]
     },
     "execution_count": 159,
     "metadata": {},
     "output_type": "execute_result"
    }
   ],
   "source": [
    "hyperparam_space={\n",
    "    \"model__regressor__max_depth\":[2,4,6,8,10],                     # max depth default: 6\n",
    "    \"model__regressor__learning_rate\":list(np.arange(1, 10)/10),    # learning rate default: 0.3\n",
    "    \"scaler\":[scaler_standard,scaler_minmax,scaler_robust]\n",
    "}\n",
    "\n",
    "pipe_model=Pipeline([\n",
    "    (\"transformer\",transformer),\n",
    "    (\"scaler\",scaler_standard),\n",
    "    (\"model\",log_xgb)                  \n",
    "])\n",
    "\n",
    "gridsearch_xgb=GridSearchCV(\n",
    "    estimator=pipe_model,       \n",
    "    param_grid=hyperparam_space,           \n",
    "    cv=crossval,                                  \n",
    "    scoring=[\"neg_root_mean_squared_error\",\"neg_mean_absolute_error\",\"neg_mean_absolute_percentage_error\"],\n",
    "    refit=\"neg_mean_absolute_error\",    \n",
    "    n_jobs=-1                              \n",
    ")\n",
    "\n",
    "gridsearch_xgb.fit(X_train, y_train)"
   ]
  },
  {
   "cell_type": "markdown",
   "metadata": {},
   "source": [
    "**Hyperparameter Result**"
   ]
  },
  {
   "cell_type": "code",
   "execution_count": 160,
   "metadata": {},
   "outputs": [
    {
     "data": {
      "text/html": [
       "<div>\n",
       "<style scoped>\n",
       "    .dataframe tbody tr th:only-of-type {\n",
       "        vertical-align: middle;\n",
       "    }\n",
       "\n",
       "    .dataframe tbody tr th {\n",
       "        vertical-align: top;\n",
       "    }\n",
       "\n",
       "    .dataframe thead th {\n",
       "        text-align: right;\n",
       "    }\n",
       "</style>\n",
       "<table border=\"1\" class=\"dataframe\">\n",
       "  <thead>\n",
       "    <tr style=\"text-align: right;\">\n",
       "      <th></th>\n",
       "      <th>mean_fit_time</th>\n",
       "      <th>std_fit_time</th>\n",
       "      <th>mean_score_time</th>\n",
       "      <th>std_score_time</th>\n",
       "      <th>param_model__regressor__learning_rate</th>\n",
       "      <th>param_model__regressor__max_depth</th>\n",
       "      <th>param_scaler</th>\n",
       "      <th>params</th>\n",
       "      <th>split0_test_neg_root_mean_squared_error</th>\n",
       "      <th>split1_test_neg_root_mean_squared_error</th>\n",
       "      <th>split2_test_neg_root_mean_squared_error</th>\n",
       "      <th>split3_test_neg_root_mean_squared_error</th>\n",
       "      <th>split4_test_neg_root_mean_squared_error</th>\n",
       "      <th>mean_test_neg_root_mean_squared_error</th>\n",
       "      <th>std_test_neg_root_mean_squared_error</th>\n",
       "      <th>rank_test_neg_root_mean_squared_error</th>\n",
       "      <th>split0_test_neg_mean_absolute_error</th>\n",
       "      <th>split1_test_neg_mean_absolute_error</th>\n",
       "      <th>split2_test_neg_mean_absolute_error</th>\n",
       "      <th>split3_test_neg_mean_absolute_error</th>\n",
       "      <th>split4_test_neg_mean_absolute_error</th>\n",
       "      <th>mean_test_neg_mean_absolute_error</th>\n",
       "      <th>std_test_neg_mean_absolute_error</th>\n",
       "      <th>rank_test_neg_mean_absolute_error</th>\n",
       "      <th>split0_test_neg_mean_absolute_percentage_error</th>\n",
       "      <th>split1_test_neg_mean_absolute_percentage_error</th>\n",
       "      <th>split2_test_neg_mean_absolute_percentage_error</th>\n",
       "      <th>split3_test_neg_mean_absolute_percentage_error</th>\n",
       "      <th>split4_test_neg_mean_absolute_percentage_error</th>\n",
       "      <th>mean_test_neg_mean_absolute_percentage_error</th>\n",
       "      <th>std_test_neg_mean_absolute_percentage_error</th>\n",
       "      <th>rank_test_neg_mean_absolute_percentage_error</th>\n",
       "    </tr>\n",
       "  </thead>\n",
       "  <tbody>\n",
       "    <tr>\n",
       "      <th>0</th>\n",
       "      <td>1.310587</td>\n",
       "      <td>0.045683</td>\n",
       "      <td>0.028124</td>\n",
       "      <td>0.001596</td>\n",
       "      <td>0.1</td>\n",
       "      <td>10</td>\n",
       "      <td>MinMaxScaler()</td>\n",
       "      <td>{'model__regressor__learning_rate': 0.1, 'model__regressor__max_depth': 10, 'scaler': MinMaxScaler()}</td>\n",
       "      <td>-25859.542348</td>\n",
       "      <td>-26582.680180</td>\n",
       "      <td>-24608.016792</td>\n",
       "      <td>-27142.454443</td>\n",
       "      <td>-21695.884686</td>\n",
       "      <td>-25177.715690</td>\n",
       "      <td>1936.322037</td>\n",
       "      <td>4</td>\n",
       "      <td>-14880.094560</td>\n",
       "      <td>-13253.974581</td>\n",
       "      <td>-13660.343345</td>\n",
       "      <td>-13890.718740</td>\n",
       "      <td>-12260.007397</td>\n",
       "      <td>-13589.027725</td>\n",
       "      <td>853.406421</td>\n",
       "      <td>1</td>\n",
       "      <td>-0.184612</td>\n",
       "      <td>-0.185237</td>\n",
       "      <td>-0.210897</td>\n",
       "      <td>-0.193475</td>\n",
       "      <td>-0.177805</td>\n",
       "      <td>-0.190405</td>\n",
       "      <td>0.011387</td>\n",
       "      <td>3</td>\n",
       "    </tr>\n",
       "    <tr>\n",
       "      <th>1</th>\n",
       "      <td>1.329676</td>\n",
       "      <td>0.053452</td>\n",
       "      <td>0.033111</td>\n",
       "      <td>0.009040</td>\n",
       "      <td>0.1</td>\n",
       "      <td>10</td>\n",
       "      <td>RobustScaler()</td>\n",
       "      <td>{'model__regressor__learning_rate': 0.1, 'model__regressor__max_depth': 10, 'scaler': RobustScaler()}</td>\n",
       "      <td>-25863.552178</td>\n",
       "      <td>-26581.580918</td>\n",
       "      <td>-24608.785571</td>\n",
       "      <td>-27132.056652</td>\n",
       "      <td>-21763.478667</td>\n",
       "      <td>-25189.890797</td>\n",
       "      <td>1910.005897</td>\n",
       "      <td>5</td>\n",
       "      <td>-14897.136224</td>\n",
       "      <td>-13244.174340</td>\n",
       "      <td>-13659.939684</td>\n",
       "      <td>-13877.194822</td>\n",
       "      <td>-12283.521088</td>\n",
       "      <td>-13592.393231</td>\n",
       "      <td>851.167602</td>\n",
       "      <td>2</td>\n",
       "      <td>-0.184624</td>\n",
       "      <td>-0.184815</td>\n",
       "      <td>-0.210912</td>\n",
       "      <td>-0.192751</td>\n",
       "      <td>-0.177694</td>\n",
       "      <td>-0.190159</td>\n",
       "      <td>0.011419</td>\n",
       "      <td>1</td>\n",
       "    </tr>\n",
       "    <tr>\n",
       "      <th>2</th>\n",
       "      <td>1.309526</td>\n",
       "      <td>0.018321</td>\n",
       "      <td>0.028824</td>\n",
       "      <td>0.002049</td>\n",
       "      <td>0.1</td>\n",
       "      <td>10</td>\n",
       "      <td>StandardScaler()</td>\n",
       "      <td>{'model__regressor__learning_rate': 0.1, 'model__regressor__max_depth': 10, 'scaler': StandardScaler()}</td>\n",
       "      <td>-25868.333275</td>\n",
       "      <td>-26624.569136</td>\n",
       "      <td>-24612.656429</td>\n",
       "      <td>-27139.185544</td>\n",
       "      <td>-21760.162392</td>\n",
       "      <td>-25200.981355</td>\n",
       "      <td>1919.060061</td>\n",
       "      <td>6</td>\n",
       "      <td>-14900.453378</td>\n",
       "      <td>-13264.345027</td>\n",
       "      <td>-13661.037026</td>\n",
       "      <td>-13878.897069</td>\n",
       "      <td>-12279.346853</td>\n",
       "      <td>-13596.815871</td>\n",
       "      <td>851.989012</td>\n",
       "      <td>3</td>\n",
       "      <td>-0.184737</td>\n",
       "      <td>-0.185127</td>\n",
       "      <td>-0.210857</td>\n",
       "      <td>-0.193042</td>\n",
       "      <td>-0.177704</td>\n",
       "      <td>-0.190293</td>\n",
       "      <td>0.011371</td>\n",
       "      <td>2</td>\n",
       "    </tr>\n",
       "    <tr>\n",
       "      <th>3</th>\n",
       "      <td>1.007267</td>\n",
       "      <td>0.035128</td>\n",
       "      <td>0.027327</td>\n",
       "      <td>0.002053</td>\n",
       "      <td>0.1</td>\n",
       "      <td>8</td>\n",
       "      <td>RobustScaler()</td>\n",
       "      <td>{'model__regressor__learning_rate': 0.1, 'model__regressor__max_depth': 8, 'scaler': RobustScaler()}</td>\n",
       "      <td>-25865.367915</td>\n",
       "      <td>-28118.085836</td>\n",
       "      <td>-23902.662951</td>\n",
       "      <td>-27286.223540</td>\n",
       "      <td>-21621.717711</td>\n",
       "      <td>-25358.811591</td>\n",
       "      <td>2352.502923</td>\n",
       "      <td>10</td>\n",
       "      <td>-14862.406436</td>\n",
       "      <td>-13925.420187</td>\n",
       "      <td>-13570.441039</td>\n",
       "      <td>-13896.319064</td>\n",
       "      <td>-12305.644423</td>\n",
       "      <td>-13712.046230</td>\n",
       "      <td>824.721965</td>\n",
       "      <td>4</td>\n",
       "      <td>-0.187856</td>\n",
       "      <td>-0.191109</td>\n",
       "      <td>-0.207539</td>\n",
       "      <td>-0.191543</td>\n",
       "      <td>-0.180514</td>\n",
       "      <td>-0.191712</td>\n",
       "      <td>0.008845</td>\n",
       "      <td>4</td>\n",
       "    </tr>\n",
       "    <tr>\n",
       "      <th>4</th>\n",
       "      <td>1.018103</td>\n",
       "      <td>0.012099</td>\n",
       "      <td>0.027307</td>\n",
       "      <td>0.003675</td>\n",
       "      <td>0.1</td>\n",
       "      <td>8</td>\n",
       "      <td>StandardScaler()</td>\n",
       "      <td>{'model__regressor__learning_rate': 0.1, 'model__regressor__max_depth': 8, 'scaler': StandardScaler()}</td>\n",
       "      <td>-25869.392046</td>\n",
       "      <td>-28145.413671</td>\n",
       "      <td>-23892.396872</td>\n",
       "      <td>-27296.872056</td>\n",
       "      <td>-21622.935568</td>\n",
       "      <td>-25365.402043</td>\n",
       "      <td>2361.730151</td>\n",
       "      <td>12</td>\n",
       "      <td>-14863.151352</td>\n",
       "      <td>-13943.668905</td>\n",
       "      <td>-13560.956320</td>\n",
       "      <td>-13918.079372</td>\n",
       "      <td>-12299.131299</td>\n",
       "      <td>-13716.997450</td>\n",
       "      <td>829.478862</td>\n",
       "      <td>5</td>\n",
       "      <td>-0.187847</td>\n",
       "      <td>-0.191349</td>\n",
       "      <td>-0.207388</td>\n",
       "      <td>-0.192289</td>\n",
       "      <td>-0.180403</td>\n",
       "      <td>-0.191855</td>\n",
       "      <td>0.008820</td>\n",
       "      <td>5</td>\n",
       "    </tr>\n",
       "  </tbody>\n",
       "</table>\n",
       "</div>"
      ],
      "text/plain": [
       "   mean_fit_time  std_fit_time  mean_score_time  std_score_time  \\\n",
       "0  1.310587       0.045683      0.028124         0.001596         \n",
       "1  1.329676       0.053452      0.033111         0.009040         \n",
       "2  1.309526       0.018321      0.028824         0.002049         \n",
       "3  1.007267       0.035128      0.027327         0.002053         \n",
       "4  1.018103       0.012099      0.027307         0.003675         \n",
       "\n",
       "  param_model__regressor__learning_rate param_model__regressor__max_depth  \\\n",
       "0  0.1                                   10                                 \n",
       "1  0.1                                   10                                 \n",
       "2  0.1                                   10                                 \n",
       "3  0.1                                   8                                  \n",
       "4  0.1                                   8                                  \n",
       "\n",
       "       param_scaler  \\\n",
       "0  MinMaxScaler()     \n",
       "1  RobustScaler()     \n",
       "2  StandardScaler()   \n",
       "3  RobustScaler()     \n",
       "4  StandardScaler()   \n",
       "\n",
       "                                                                                                    params  \\\n",
       "0  {'model__regressor__learning_rate': 0.1, 'model__regressor__max_depth': 10, 'scaler': MinMaxScaler()}     \n",
       "1  {'model__regressor__learning_rate': 0.1, 'model__regressor__max_depth': 10, 'scaler': RobustScaler()}     \n",
       "2  {'model__regressor__learning_rate': 0.1, 'model__regressor__max_depth': 10, 'scaler': StandardScaler()}   \n",
       "3  {'model__regressor__learning_rate': 0.1, 'model__regressor__max_depth': 8, 'scaler': RobustScaler()}      \n",
       "4  {'model__regressor__learning_rate': 0.1, 'model__regressor__max_depth': 8, 'scaler': StandardScaler()}    \n",
       "\n",
       "   split0_test_neg_root_mean_squared_error  \\\n",
       "0 -25859.542348                              \n",
       "1 -25863.552178                              \n",
       "2 -25868.333275                              \n",
       "3 -25865.367915                              \n",
       "4 -25869.392046                              \n",
       "\n",
       "   split1_test_neg_root_mean_squared_error  \\\n",
       "0 -26582.680180                              \n",
       "1 -26581.580918                              \n",
       "2 -26624.569136                              \n",
       "3 -28118.085836                              \n",
       "4 -28145.413671                              \n",
       "\n",
       "   split2_test_neg_root_mean_squared_error  \\\n",
       "0 -24608.016792                              \n",
       "1 -24608.785571                              \n",
       "2 -24612.656429                              \n",
       "3 -23902.662951                              \n",
       "4 -23892.396872                              \n",
       "\n",
       "   split3_test_neg_root_mean_squared_error  \\\n",
       "0 -27142.454443                              \n",
       "1 -27132.056652                              \n",
       "2 -27139.185544                              \n",
       "3 -27286.223540                              \n",
       "4 -27296.872056                              \n",
       "\n",
       "   split4_test_neg_root_mean_squared_error  \\\n",
       "0 -21695.884686                              \n",
       "1 -21763.478667                              \n",
       "2 -21760.162392                              \n",
       "3 -21621.717711                              \n",
       "4 -21622.935568                              \n",
       "\n",
       "   mean_test_neg_root_mean_squared_error  \\\n",
       "0 -25177.715690                            \n",
       "1 -25189.890797                            \n",
       "2 -25200.981355                            \n",
       "3 -25358.811591                            \n",
       "4 -25365.402043                            \n",
       "\n",
       "   std_test_neg_root_mean_squared_error  \\\n",
       "0  1936.322037                            \n",
       "1  1910.005897                            \n",
       "2  1919.060061                            \n",
       "3  2352.502923                            \n",
       "4  2361.730151                            \n",
       "\n",
       "   rank_test_neg_root_mean_squared_error  split0_test_neg_mean_absolute_error  \\\n",
       "0  4                                     -14880.094560                          \n",
       "1  5                                     -14897.136224                          \n",
       "2  6                                     -14900.453378                          \n",
       "3  10                                    -14862.406436                          \n",
       "4  12                                    -14863.151352                          \n",
       "\n",
       "   split1_test_neg_mean_absolute_error  split2_test_neg_mean_absolute_error  \\\n",
       "0 -13253.974581                        -13660.343345                          \n",
       "1 -13244.174340                        -13659.939684                          \n",
       "2 -13264.345027                        -13661.037026                          \n",
       "3 -13925.420187                        -13570.441039                          \n",
       "4 -13943.668905                        -13560.956320                          \n",
       "\n",
       "   split3_test_neg_mean_absolute_error  split4_test_neg_mean_absolute_error  \\\n",
       "0 -13890.718740                        -12260.007397                          \n",
       "1 -13877.194822                        -12283.521088                          \n",
       "2 -13878.897069                        -12279.346853                          \n",
       "3 -13896.319064                        -12305.644423                          \n",
       "4 -13918.079372                        -12299.131299                          \n",
       "\n",
       "   mean_test_neg_mean_absolute_error  std_test_neg_mean_absolute_error  \\\n",
       "0 -13589.027725                       853.406421                         \n",
       "1 -13592.393231                       851.167602                         \n",
       "2 -13596.815871                       851.989012                         \n",
       "3 -13712.046230                       824.721965                         \n",
       "4 -13716.997450                       829.478862                         \n",
       "\n",
       "   rank_test_neg_mean_absolute_error  \\\n",
       "0  1                                   \n",
       "1  2                                   \n",
       "2  3                                   \n",
       "3  4                                   \n",
       "4  5                                   \n",
       "\n",
       "   split0_test_neg_mean_absolute_percentage_error  \\\n",
       "0 -0.184612                                         \n",
       "1 -0.184624                                         \n",
       "2 -0.184737                                         \n",
       "3 -0.187856                                         \n",
       "4 -0.187847                                         \n",
       "\n",
       "   split1_test_neg_mean_absolute_percentage_error  \\\n",
       "0 -0.185237                                         \n",
       "1 -0.184815                                         \n",
       "2 -0.185127                                         \n",
       "3 -0.191109                                         \n",
       "4 -0.191349                                         \n",
       "\n",
       "   split2_test_neg_mean_absolute_percentage_error  \\\n",
       "0 -0.210897                                         \n",
       "1 -0.210912                                         \n",
       "2 -0.210857                                         \n",
       "3 -0.207539                                         \n",
       "4 -0.207388                                         \n",
       "\n",
       "   split3_test_neg_mean_absolute_percentage_error  \\\n",
       "0 -0.193475                                         \n",
       "1 -0.192751                                         \n",
       "2 -0.193042                                         \n",
       "3 -0.191543                                         \n",
       "4 -0.192289                                         \n",
       "\n",
       "   split4_test_neg_mean_absolute_percentage_error  \\\n",
       "0 -0.177805                                         \n",
       "1 -0.177694                                         \n",
       "2 -0.177704                                         \n",
       "3 -0.180514                                         \n",
       "4 -0.180403                                         \n",
       "\n",
       "   mean_test_neg_mean_absolute_percentage_error  \\\n",
       "0 -0.190405                                       \n",
       "1 -0.190159                                       \n",
       "2 -0.190293                                       \n",
       "3 -0.191712                                       \n",
       "4 -0.191855                                       \n",
       "\n",
       "   std_test_neg_mean_absolute_percentage_error  \\\n",
       "0  0.011387                                      \n",
       "1  0.011419                                      \n",
       "2  0.011371                                      \n",
       "3  0.008845                                      \n",
       "4  0.008820                                      \n",
       "\n",
       "   rank_test_neg_mean_absolute_percentage_error  \n",
       "0  3                                             \n",
       "1  1                                             \n",
       "2  2                                             \n",
       "3  4                                             \n",
       "4  5                                             "
      ]
     },
     "execution_count": 160,
     "metadata": {},
     "output_type": "execute_result"
    }
   ],
   "source": [
    "# Melihat hasil tuning dalam bentuk dataframe. Diurutkan berdasarkan RMSE, MAE & MAPE\n",
    "df_xgb_score=pd.DataFrame(gridsearch_xgb.cv_results_).sort_values(by=[\"rank_test_neg_mean_absolute_error\",\"rank_test_neg_root_mean_squared_error\",\"rank_test_neg_mean_absolute_percentage_error\"]).reset_index(drop=True)\n",
    "df_xgb_score.head()"
   ]
  },
  {
   "cell_type": "code",
   "execution_count": 161,
   "metadata": {},
   "outputs": [
    {
     "name": "stdout",
     "output_type": "stream",
     "text": [
      "XGBoost Hypertuning\n",
      "Best_score: -13589.027724664595\n",
      "Best_params: {'model__regressor__learning_rate': 0.1, 'model__regressor__max_depth': 10, 'scaler': MinMaxScaler()}\n"
     ]
    }
   ],
   "source": [
    "print(\"XGBoost Hypertuning\")\n",
    "print(\"Best_score:\",gridsearch_xgb.best_score_)\n",
    "print(\"Best_params:\",gridsearch_xgb.best_params_)"
   ]
  },
  {
   "cell_type": "markdown",
   "metadata": {},
   "source": [
    "### 7.4 Model Implementation to Test Set"
   ]
  },
  {
   "cell_type": "markdown",
   "metadata": {},
   "source": [
    "**Comparison Between Before Tuning and After Tuning**"
   ]
  },
  {
   "cell_type": "code",
   "execution_count": 162,
   "metadata": {},
   "outputs": [],
   "source": [
    "score_rmse=[]\n",
    "score_mae=[]\n",
    "score_mape=[]"
   ]
  },
  {
   "cell_type": "code",
   "execution_count": 163,
   "metadata": {},
   "outputs": [],
   "source": [
    "model_before_tuning=Pipeline([\n",
    "    (\"transformer\",transformer),\n",
    "    (\"scaler\",scaler_standard),\n",
    "    (\"model\",log_xgb)\n",
    "])\n",
    "\n",
    "model_before_tuning.fit(X_train, y_train)\n",
    "y_pred_xgb=model_before_tuning.predict(X_test)\n",
    "\n",
    "score_rmse.append(np.sqrt(mean_squared_error(y_test,y_pred_xgb)))\n",
    "score_mae.append(mean_absolute_error(y_test,y_pred_xgb))\n",
    "score_mape.append(mean_absolute_percentage_error(y_test,y_pred_xgb))"
   ]
  },
  {
   "cell_type": "code",
   "execution_count": 164,
   "metadata": {},
   "outputs": [],
   "source": [
    "xgb_tuning=gridsearch_xgb.best_estimator_.fit(X_train,y_train)\n",
    "y_pred_xgb_tuning=xgb_tuning.predict(X_test)\n",
    "\n",
    "score_rmse.append(np.sqrt(mean_squared_error(y_test,y_pred_xgb_tuning)))\n",
    "score_mae.append(mean_absolute_error(y_test,y_pred_xgb_tuning))\n",
    "score_mape.append(mean_absolute_percentage_error(y_test,y_pred_xgb_tuning))"
   ]
  },
  {
   "cell_type": "code",
   "execution_count": 165,
   "metadata": {},
   "outputs": [
    {
     "data": {
      "text/html": [
       "<div>\n",
       "<style scoped>\n",
       "    .dataframe tbody tr th:only-of-type {\n",
       "        vertical-align: middle;\n",
       "    }\n",
       "\n",
       "    .dataframe tbody tr th {\n",
       "        vertical-align: top;\n",
       "    }\n",
       "\n",
       "    .dataframe thead th {\n",
       "        text-align: right;\n",
       "    }\n",
       "</style>\n",
       "<table border=\"1\" class=\"dataframe\">\n",
       "  <thead>\n",
       "    <tr style=\"text-align: right;\">\n",
       "      <th></th>\n",
       "      <th>RMSE</th>\n",
       "      <th>MAE</th>\n",
       "      <th>MAPE</th>\n",
       "    </tr>\n",
       "  </thead>\n",
       "  <tbody>\n",
       "    <tr>\n",
       "      <th>XGB Before Tuning</th>\n",
       "      <td>30466.701879</td>\n",
       "      <td>15675.187697</td>\n",
       "      <td>0.192426</td>\n",
       "    </tr>\n",
       "    <tr>\n",
       "      <th>XGB After Tuning</th>\n",
       "      <td>28803.147144</td>\n",
       "      <td>14815.875500</td>\n",
       "      <td>0.188909</td>\n",
       "    </tr>\n",
       "  </tbody>\n",
       "</table>\n",
       "</div>"
      ],
      "text/plain": [
       "                           RMSE           MAE      MAPE\n",
       "XGB Before Tuning  30466.701879  15675.187697  0.192426\n",
       "XGB After Tuning   28803.147144  14815.875500  0.188909"
      ]
     },
     "execution_count": 165,
     "metadata": {},
     "output_type": "execute_result"
    }
   ],
   "source": [
    "df_comp_tuning=pd.DataFrame({\"RMSE\":score_rmse,\"MAE\":score_mae,\"MAPE\":score_mape},index=[\"XGB Before Tuning\",\"XGB After Tuning\"])\n",
    "df_comp_tuning"
   ]
  },
  {
   "cell_type": "markdown",
   "metadata": {},
   "source": [
    "**Comparison Between XGB model with best hyperparameter Predicted on Test Set and Train Set**"
   ]
  },
  {
   "cell_type": "code",
   "execution_count": 166,
   "metadata": {},
   "outputs": [],
   "source": [
    "score_rmse=[]\n",
    "score_mae=[]\n",
    "score_mape=[]"
   ]
  },
  {
   "cell_type": "code",
   "execution_count": 167,
   "metadata": {},
   "outputs": [],
   "source": [
    "# train \n",
    "score_rmse.append(df_xgb_score[\"mean_test_neg_root_mean_squared_error\"][0]*-1)\n",
    "score_mae.append(df_xgb_score[\"mean_test_neg_mean_absolute_error\"][0]*-1)\n",
    "score_mape.append(df_xgb_score[\"mean_test_neg_mean_absolute_percentage_error\"][0]*-1)"
   ]
  },
  {
   "cell_type": "code",
   "execution_count": 168,
   "metadata": {},
   "outputs": [],
   "source": [
    "# test\n",
    "xgb_tuning=gridsearch_xgb.best_estimator_.fit(X_train,y_train)\n",
    "y_pred_xgb_tuning=xgb_tuning.predict(X_test)\n",
    "\n",
    "score_rmse.append(np.sqrt(mean_squared_error(y_test,y_pred_xgb_tuning)))\n",
    "score_mae.append(mean_absolute_error(y_test,y_pred_xgb_tuning))\n",
    "score_mape.append(mean_absolute_percentage_error(y_test,y_pred_xgb_tuning))"
   ]
  },
  {
   "cell_type": "code",
   "execution_count": 169,
   "metadata": {},
   "outputs": [
    {
     "data": {
      "text/html": [
       "<div>\n",
       "<style scoped>\n",
       "    .dataframe tbody tr th:only-of-type {\n",
       "        vertical-align: middle;\n",
       "    }\n",
       "\n",
       "    .dataframe tbody tr th {\n",
       "        vertical-align: top;\n",
       "    }\n",
       "\n",
       "    .dataframe thead th {\n",
       "        text-align: right;\n",
       "    }\n",
       "</style>\n",
       "<table border=\"1\" class=\"dataframe\">\n",
       "  <thead>\n",
       "    <tr style=\"text-align: right;\">\n",
       "      <th></th>\n",
       "      <th>RMSE</th>\n",
       "      <th>MAE</th>\n",
       "      <th>MAPE</th>\n",
       "    </tr>\n",
       "  </thead>\n",
       "  <tbody>\n",
       "    <tr>\n",
       "      <th>XGB Train Score</th>\n",
       "      <td>25177.715690</td>\n",
       "      <td>13589.027725</td>\n",
       "      <td>0.190405</td>\n",
       "    </tr>\n",
       "    <tr>\n",
       "      <th>XGB Test Score</th>\n",
       "      <td>28803.147144</td>\n",
       "      <td>14815.875500</td>\n",
       "      <td>0.188909</td>\n",
       "    </tr>\n",
       "  </tbody>\n",
       "</table>\n",
       "</div>"
      ],
      "text/plain": [
       "                         RMSE           MAE      MAPE\n",
       "XGB Train Score  25177.715690  13589.027725  0.190405\n",
       "XGB Test Score   28803.147144  14815.875500  0.188909"
      ]
     },
     "execution_count": 169,
     "metadata": {},
     "output_type": "execute_result"
    }
   ],
   "source": [
    "df_comp_traintest=pd.DataFrame({\"RMSE\":score_rmse,\"MAE\":score_mae,\"MAPE\":score_mape},index=[\"XGB Train Score\",\"XGB Test Score\"])\n",
    "df_comp_traintest"
   ]
  },
  {
   "cell_type": "markdown",
   "metadata": {},
   "source": [
    "**Comparison Between Predicted and Actual Price Predict on Test Set**"
   ]
  },
  {
   "cell_type": "code",
   "execution_count": 170,
   "metadata": {},
   "outputs": [
    {
     "data": {
      "application/vnd.plotly.v1+json": {
       "config": {
        "plotlyServerURL": "https://plot.ly"
       },
       "data": [
        {
         "hovertemplate": "Actual Price=%{x}<br>Predicted Price=%{y}<extra></extra>",
         "legendgroup": "",
         "marker": {
          "color": "#636efa",
          "symbol": "circle"
         },
         "mode": "markers",
         "name": "",
         "orientation": "v",
         "showlegend": false,
         "type": "scatter",
         "x": [
          60000,
          122000,
          25000,
          224500,
          138000,
          75000,
          365000,
          72000,
          15000,
          245000,
          55000,
          34000,
          70000,
          132000,
          69000,
          57000,
          70000,
          47000,
          53000,
          60000,
          130000,
          42000,
          75000,
          150000,
          45000,
          29000,
          10000,
          45000,
          226000,
          20000,
          21000,
          245000,
          20000,
          62500,
          349000,
          36000,
          145000,
          35000,
          65000,
          56000,
          30000,
          128000,
          84000,
          42500,
          76500,
          45000,
          115000,
          120000,
          24000,
          36000,
          22000,
          15000,
          55000,
          20000,
          40000,
          47000,
          185000,
          115000,
          19000,
          55000,
          27000,
          162000,
          129000,
          65000,
          52000,
          55000,
          164000,
          71500,
          14000,
          30000,
          31000,
          22000,
          135000,
          60000,
          200000,
          127000,
          53000,
          155000,
          49000,
          122000,
          43000,
          19000,
          154000,
          35500,
          35000,
          85000,
          24500,
          39000,
          25000,
          230000,
          28000,
          115000,
          136000,
          140000,
          125000,
          145000,
          10000,
          43000,
          61000,
          100000,
          13000,
          39000,
          245000,
          185000,
          13000,
          29000,
          135000,
          125000,
          95000,
          183000,
          144000,
          24000,
          63000,
          50000,
          172500,
          60000,
          135000,
          30000,
          285000,
          80500,
          61000,
          93500,
          116000,
          40500,
          65000,
          40000,
          36500,
          49000,
          35000,
          57000,
          266000,
          180000,
          26000,
          52000,
          10000,
          95000,
          85000,
          25000,
          60000,
          45000,
          71000,
          32000,
          158000,
          43000,
          29000,
          59000,
          60500,
          150000,
          88000,
          159000,
          56000,
          45000,
          57000,
          97000,
          32000,
          30000,
          65000,
          45000,
          65000,
          24000,
          68000,
          61000,
          32000,
          145000,
          15000,
          39500,
          38000,
          121500,
          120000,
          83000,
          44000,
          66000,
          28000,
          95000,
          45000,
          30000,
          105500,
          180000,
          85000,
          15000,
          112000,
          26000,
          38500,
          160000,
          85000,
          38000,
          45000,
          265000,
          298000,
          70000,
          385000,
          52000,
          135000,
          66500,
          110000,
          166000,
          78000,
          55000,
          180000,
          150000,
          225000,
          17000,
          22000,
          64000,
          12000,
          73000,
          190000,
          26000,
          27000,
          62000,
          66000,
          76500,
          48000,
          64500,
          20000,
          233000,
          24000,
          65000,
          195000,
          9000,
          28000,
          153000,
          49000,
          38000,
          58000,
          75000,
          345000,
          30000,
          38500,
          70000,
          36000,
          73000,
          48000,
          72000,
          38000,
          60000,
          57500,
          205000,
          100000,
          25000,
          48500,
          30000,
          55000,
          136500,
          20000,
          80000,
          79000,
          149000,
          45000,
          78000,
          32000,
          41000,
          50000,
          63000,
          158000,
          165000,
          175000,
          16000,
          27000,
          43000,
          145000,
          235000,
          57000,
          60000,
          35000,
          36000,
          105000,
          128000,
          21000,
          131500,
          91000,
          13000,
          27500,
          75000,
          24000,
          83000,
          80000,
          128000,
          54000,
          105000,
          194500,
          125000,
          50000,
          53000,
          34000,
          28000,
          55000,
          142000,
          150000,
          11000,
          15000,
          50000,
          56000,
          25000,
          66000,
          58000,
          76500,
          82000,
          120000,
          78000,
          108000,
          77000,
          63000,
          50000,
          145000,
          28000,
          55000,
          40000,
          59000,
          13000,
          85000,
          55000,
          9500,
          250000,
          160000,
          120000,
          35000,
          43000,
          19000,
          77000,
          15000,
          100000,
          17000,
          52000,
          39000,
          10000,
          175000,
          27500,
          58000,
          22000,
          54000,
          17000,
          33000,
          38500,
          40000,
          75000,
          38000,
          26000,
          50000,
          29000,
          59000,
          113000,
          22000,
          29000,
          325000,
          355000,
          36000,
          65000,
          63000,
          35000,
          225000,
          355000,
          57500,
          60000,
          80000,
          42000,
          65000,
          185000,
          65000,
          39000,
          17000,
          55000,
          375000,
          24000,
          52000,
          153000,
          76500,
          76500,
          459000,
          15000,
          38000,
          180000,
          33000,
          80000,
          62000,
          74000,
          30000,
          30000,
          55000,
          32000,
          72000,
          68000,
          95000,
          66000,
          26000,
          140000,
          85000,
          153000,
          100000,
          75000,
          91500,
          230000,
          225000,
          98000,
          79000,
          15000,
          260000,
          54000,
          55000,
          55000,
          119000,
          37000,
          50000,
          88000,
          25000,
          61000,
          116500,
          85000,
          41500,
          59000,
          41000,
          113000,
          261500,
          83000,
          57500,
          82000,
          29000,
          76000,
          109500,
          65000,
          35000,
          120000,
          167000,
          36000,
          33000,
          27500,
          120000,
          180000,
          63000,
          82000,
          48500,
          47000,
          28000,
          32000,
          110000,
          250000,
          49000,
          35000,
          85000,
          45000,
          108000,
          115000,
          65000,
          75000,
          120000,
          47500,
          49000,
          48000,
          80000,
          95000,
          57000,
          135000,
          58000,
          40000,
          52000,
          73000,
          40000,
          44000,
          125000,
          15000,
          77000,
          68000,
          116000,
          90000,
          56000,
          76500,
          65000,
          66000,
          52000,
          47000,
          127000,
          36000,
          55000,
          20000,
          53000,
          60000,
          46500,
          43000,
          132000,
          42000,
          37000,
          150000,
          22000,
          130000,
          140000,
          134000,
          85000,
          25000,
          20000,
          75000,
          135000,
          26800,
          49000,
          25000,
          65000,
          76000,
          135000,
          69500,
          30000,
          64000,
          65000,
          57000,
          13500,
          29000,
          108000,
          21000,
          100000,
          48000,
          171500,
          25000,
          250000,
          97000,
          165000,
          55000,
          114000,
          125000,
          25000,
          75000,
          159000,
          26000,
          55000,
          122000,
          80000,
          47000,
          35500,
          51000,
          30000,
          130000,
          39500,
          55000,
          15000,
          50000,
          12000,
          230000,
          33500,
          143000,
          95000,
          20000,
          81500,
          66000,
          32000,
          53000,
          77000,
          40000,
          95000,
          89500,
          65000,
          47000,
          58000,
          85000,
          60000,
          45000,
          70000,
          44000,
          52000,
          220000,
          104500,
          64000,
          230000,
          16000,
          38000,
          88000,
          50000,
          27500,
          145000,
          210000,
          56008,
          32500,
          40000,
          127000,
          36500,
          34000,
          69000,
          86000,
          60000,
          38000,
          51500,
          35000,
          72000,
          76000,
          70000,
          65000,
          64000,
          145000,
          298000,
          20000,
          120000,
          145000,
          166500,
          77000,
          88000,
          75000,
          50000,
          42000,
          51500,
          78000,
          65000,
          130000,
          80000,
          255000,
          186500,
          28000,
          37000,
          41000,
          31000,
          22000,
          63000,
          70000,
          119000,
          47500,
          109000,
          57000,
          68000,
          22000,
          129000,
          40000,
          110000,
          290000,
          61000,
          25000,
          43000,
          25000,
          48000,
          220000,
          52000,
          78000,
          80000,
          90000,
          315000,
          37000,
          50000,
          165000,
          75000,
          65000,
          58000,
          29500,
          8000,
          94000,
          67000,
          130000,
          170000,
          124500,
          54500,
          48000,
          75000,
          45000,
          27500,
          37000,
          6500,
          85000,
          25000,
          37000,
          38000,
          68000,
          355000,
          165000,
          73000,
          43000,
          29500,
          330000,
          40000,
          35000,
          37000,
          77000,
          28000,
          40500,
          76000,
          82000,
          248000,
          450000,
          40000,
          25000,
          46000,
          60000,
          18000,
          33500,
          26800,
          18000,
          245000,
          55000,
          17000,
          73000,
          47000,
          20000,
          60000,
          43000,
          43000,
          90000,
          58000,
          147000,
          57500,
          50000,
          65000,
          141000,
          19000,
          140000,
          25000,
          22000,
          39000,
          52000,
          107000,
          76500,
          50000,
          80000,
          150000,
          57000,
          70000,
          82000,
          60000,
          50000,
          105000,
          27000,
          176000,
          40000,
          99000,
          106000,
          70000,
          35000,
          40000,
          37000,
          102000,
          53000,
          23000,
          115000,
          56500,
          36500,
          58000,
          99000
         ],
         "xaxis": "x",
         "y": [
          70697.15625,
          135861.625,
          20467.505859375,
          191930.640625,
          113868.9140625,
          77194.0703125,
          307998.6875,
          40400.98046875,
          18934.474609375,
          250765.828125,
          56644.6796875,
          31354.681640625,
          54752.94140625,
          127473.390625,
          69991.484375,
          37036.98828125,
          60468.2890625,
          58444.671875,
          53778.83984375,
          55478.66015625,
          123387.7734375,
          66490.890625,
          63814.08984375,
          170760.21875,
          48516.9296875,
          22920.55078125,
          17051.423828125,
          45533.9921875,
          218091.140625,
          31120.14453125,
          23423.271484375,
          308847.5625,
          29093.51953125,
          60649.34375,
          235794.3125,
          32412.583984375,
          204274.421875,
          42055.7890625,
          73382.0703125,
          53675.4921875,
          35209.67578125,
          69175.9296875,
          67103.96875,
          36331.16015625,
          70534.1796875,
          57017.8359375,
          193492.984375,
          169654.3125,
          27373.689453125,
          33210.79296875,
          22678.333984375,
          18753.4375,
          49812.8671875,
          20223.49609375,
          36576.671875,
          46422.01953125,
          231903.453125,
          75007.7421875,
          13033.3212890625,
          44718.61328125,
          27685.349609375,
          160669.59375,
          112522.765625,
          64398.4296875,
          48201.5703125,
          44440.5703125,
          146866.84375,
          59934.46875,
          16974.55078125,
          30680.857421875,
          29831.1796875,
          29516.1015625,
          123923.9921875,
          44927.08984375,
          176873.984375,
          128025.28125,
          55790.2109375,
          98482.2890625,
          53813.16015625,
          83880.28125,
          43563.3125,
          27972.720703125,
          112063.03125,
          31703.95703125,
          43269.7890625,
          71743.3203125,
          25857.513671875,
          56314.6640625,
          34778.5,
          162692.40625,
          25946.341796875,
          100485.515625,
          109673.046875,
          144298.671875,
          100002.546875,
          143235.96875,
          15274.6123046875,
          43501.91015625,
          40500.6640625,
          104430.3203125,
          23668.09375,
          57968.73046875,
          223604.171875,
          191670.171875,
          14897.2021484375,
          31702.56640625,
          71479.84375,
          181228.0625,
          67781.421875,
          162523.0625,
          145333.65625,
          25545.640625,
          50510.859375,
          46957.3125,
          133265.09375,
          52944.3671875,
          65935.3359375,
          52552.34375,
          266482,
          76092.21875,
          59927.26953125,
          98543.546875,
          106505.671875,
          39205.6171875,
          68926.609375,
          45777.33984375,
          29635.6953125,
          49695.66796875,
          34339.44140625,
          56038.0625,
          174938.921875,
          206488.28125,
          37430.31640625,
          44380.26171875,
          10532.8955078125,
          81170.1796875,
          71857.328125,
          19799.890625,
          57258.1953125,
          66407.0546875,
          65926.28125,
          43159.8359375,
          186832.90625,
          39266.83203125,
          26734.09765625,
          52502.55078125,
          58569.15234375,
          120112.3984375,
          77217.3359375,
          74602.8828125,
          61359.9296875,
          49399.01953125,
          27715.25390625,
          99801.703125,
          31230.744140625,
          30906.513671875,
          62216.51953125,
          38653.9296875,
          44816.9375,
          28141.85546875,
          67077.09375,
          67872.953125,
          34397.9453125,
          187795.765625,
          19538.109375,
          42492.6484375,
          34029.83203125,
          205760.765625,
          121409.96875,
          66365.140625,
          62279.1484375,
          60860.07421875,
          29250.5390625,
          75698.546875,
          45097.63671875,
          32212.8671875,
          121890.6171875,
          188890.171875,
          77692.375,
          22931.94140625,
          104799.3671875,
          25300.42578125,
          42351.65625,
          20465.982421875,
          87591.2109375,
          39745.4609375,
          46945.5390625,
          236867.125,
          194818.734375,
          70945.7734375,
          190236.8125,
          49603.4765625,
          112634.75,
          75596.828125,
          200901.1875,
          122126.9375,
          72880.6875,
          47968.203125,
          193947.453125,
          175279.765625,
          190622.359375,
          16491.5234375,
          19407.26171875,
          58412.91015625,
          18690.28515625,
          63142.37109375,
          38180.94140625,
          29593.640625,
          23002.580078125,
          47563.5546875,
          65966.46875,
          83509.046875,
          52057.8671875,
          59949.21875,
          25544.93359375,
          233194.625,
          29676.5625,
          74389.109375,
          302447.5625,
          33830.30859375,
          29024.3203125,
          103128.5625,
          61245.16796875,
          39250.95703125,
          54765.7890625,
          59888.6484375,
          259594.734375,
          59352.92578125,
          50325.6953125,
          68605.53125,
          35866.2734375,
          84507.2890625,
          37390.21484375,
          75722.015625,
          57408.39453125,
          64279.8203125,
          57028.765625,
          165918.46875,
          75601.296875,
          28757.77734375,
          46292.17578125,
          32191.09375,
          80081.34375,
          164485.109375,
          31226.12890625,
          81853.859375,
          81014.734375,
          151519.078125,
          41451.73828125,
          81940.1640625,
          34379.94140625,
          34115.51953125,
          48049.8359375,
          58861.16796875,
          158062.234375,
          191290.703125,
          249018.03125,
          19413.462890625,
          34231.57421875,
          45136.3203125,
          150657.5625,
          223604.171875,
          57222.82421875,
          59945.9609375,
          34541.10546875,
          26185.3046875,
          100289.25,
          146413.1875,
          29645.78515625,
          126588.6640625,
          107621.140625,
          21456.369140625,
          28127.3125,
          66424.15625,
          25853.939453125,
          74160.0390625,
          82450.1484375,
          117842.1328125,
          57312.5546875,
          110175.9296875,
          215521.53125,
          113256.25,
          62726.7421875,
          47463.8671875,
          39589.2265625,
          35337.46875,
          62138.6640625,
          106569.171875,
          143508.609375,
          19679.408203125,
          12675.8447265625,
          50905.421875,
          61306.5859375,
          39298.7890625,
          63932.203125,
          54890.546875,
          69203.90625,
          73863.8671875,
          117889.6796875,
          58380.109375,
          56018.984375,
          58167.92578125,
          62566.625,
          50210.11328125,
          107973.140625,
          24951.806640625,
          44377.59375,
          40309.76953125,
          37916.0546875,
          21258.130859375,
          67089.7578125,
          56678.6171875,
          27678.9609375,
          258278.046875,
          143878.734375,
          52456.5078125,
          29254.6953125,
          41674.14453125,
          26112.810546875,
          57415.12890625,
          18490.55078125,
          77467.453125,
          21451.478515625,
          53606.83984375,
          42106.91796875,
          11440.013671875,
          245666.640625,
          29769.56640625,
          38021.82421875,
          21795.296875,
          52033.3984375,
          23273.416015625,
          35105.8359375,
          38628.90625,
          17619.021484375,
          74891.5859375,
          44787.62890625,
          31096.6484375,
          64626.06640625,
          31779.119140625,
          36513.69140625,
          126406.140625,
          16687.830078125,
          26781.228515625,
          303532.3125,
          79364.6171875,
          55052.43359375,
          50042.3671875,
          58190.0625,
          34506.50390625,
          76524.34375,
          315851.59375,
          59787.0703125,
          56837.05078125,
          111919.1640625,
          52307.98828125,
          65151.7578125,
          152824.4375,
          58751.3046875,
          42190.52734375,
          19034.21484375,
          47781.0078125,
          291987.125,
          37405.5859375,
          61139.65625,
          133625.109375,
          80576.453125,
          66877.421875,
          435203.5625,
          21280.40234375,
          36912.97265625,
          136248.28125,
          31325.361328125,
          51162.34765625,
          55209.53515625,
          93321.84375,
          41611.75390625,
          22972.107421875,
          51901.2734375,
          40540.2734375,
          67478.3515625,
          54977.25,
          78596.265625,
          61928.52734375,
          30437.162109375,
          137947.1875,
          78331.1484375,
          185040.546875,
          89601.953125,
          78845.9609375,
          86165.578125,
          240005.53125,
          292172.9375,
          84482.0625,
          57799.91796875,
          35669.453125,
          299450.65625,
          66505.09375,
          62225.421875,
          42136.28125,
          107609.3359375,
          40465.87890625,
          94650.2578125,
          101012.90625,
          28838.71484375,
          74885.0859375,
          98293.5078125,
          31381.486328125,
          40324.45703125,
          58000.02734375,
          34936.3046875,
          139462.96875,
          211232.265625,
          119088.375,
          51806.62109375,
          78028.7421875,
          26627.05078125,
          59363.68359375,
          89961.65625,
          59931.3828125,
          43569.4609375,
          122209.1875,
          177055.921875,
          46401.703125,
          36043.68359375,
          38546.5859375,
          108672.609375,
          110522.0546875,
          64755.62109375,
          67986.78125,
          49104.09765625,
          38425.0625,
          33501.89453125,
          32427.546875,
          91402.921875,
          221347.5625,
          48646.0546875,
          29549.392578125,
          80518,
          48291.4765625,
          92165.1484375,
          79244.890625,
          80673.796875,
          62425.37109375,
          107724.1328125,
          42689.484375,
          60732.80859375,
          39120.4609375,
          66741.578125,
          84043.625,
          53518.77734375,
          125745.4453125,
          58050.328125,
          30926.62109375,
          52558.55859375,
          44047.03125,
          42601.109375,
          63865.3515625,
          114517.7578125,
          25398.310546875,
          68225.0859375,
          65844.2265625,
          132718.0625,
          142438.265625,
          46930.31640625,
          54130.22265625,
          27546.71484375,
          52950.83203125,
          54146.5390625,
          47795.9140625,
          113580.640625,
          62033.03515625,
          61680.796875,
          16839.53125,
          52317.12109375,
          66966.453125,
          50814.5234375,
          26003.837890625,
          119988.859375,
          48745.9453125,
          53463.88671875,
          103815.859375,
          20670.943359375,
          119359.4375,
          100347.609375,
          148222.015625,
          106803.9921875,
          30409.220703125,
          24654.994140625,
          71320.3671875,
          100850.90625,
          27010.666015625,
          49135.90234375,
          27683.158203125,
          61295.88671875,
          74564.1171875,
          123713.8046875,
          64893.73046875,
          24800.0234375,
          63665.953125,
          77771.0234375,
          50890.03125,
          15603.4560546875,
          32001.712890625,
          113890.6328125,
          19954.896484375,
          127551.3359375,
          43243.1015625,
          170753.53125,
          18372.306640625,
          168038.453125,
          88554.0078125,
          137802.546875,
          65320.54296875,
          141873.0625,
          182478.296875,
          40665.5,
          69083.3046875,
          165875.125,
          28108.943359375,
          51183.08984375,
          123196.9375,
          101303.1875,
          54948.2109375,
          21550.45703125,
          42058.31640625,
          34376.5,
          61902.25390625,
          39355.7578125,
          57173.62109375,
          14323.5615234375,
          30297.283203125,
          10507.873046875,
          202813.90625,
          32863.02734375,
          137365.890625,
          92564.6171875,
          24017.8046875,
          95988.796875,
          80942.6796875,
          32212.8671875,
          55934.69140625,
          79100.375,
          26529.33984375,
          90647.6953125,
          81459.5859375,
          62217.41015625,
          48037.6015625,
          68209.46875,
          89322.796875,
          70201.65625,
          41833.86328125,
          71363.7734375,
          31278.28515625,
          61608.8984375,
          17028.591796875,
          98461.1640625,
          61155.28515625,
          207534.8125,
          18870.443359375,
          21121.201171875,
          85104.5625,
          47329.984375,
          34743.92578125,
          153205.453125,
          255502.09375,
          68495.8984375,
          34649.2578125,
          44090.234375,
          121514.21875,
          32101.634765625,
          36867.23828125,
          78849.1953125,
          72680.5859375,
          62016.4140625,
          49691.875,
          44926.57421875,
          36466.609375,
          66050.890625,
          81866.2734375,
          63374.9375,
          43992.078125,
          60991.26953125,
          101265.6171875,
          282474.59375,
          22519.947265625,
          102143.296875,
          152718.8125,
          140870.796875,
          65889.203125,
          88843.1328125,
          78456.8984375,
          50921.58984375,
          30603.62109375,
          47825.4140625,
          59201.8203125,
          52460.4609375,
          128932.46875,
          81396.21875,
          243983.234375,
          174477.234375,
          29649.29296875,
          47573.08203125,
          31682.6484375,
          29641.431640625,
          19587.17578125,
          47789.39453125,
          66327.1796875,
          147476.96875,
          46700.34375,
          92327.546875,
          59735.77734375,
          66836.484375,
          21671.994140625,
          99897.0234375,
          49246.4296875,
          85437.2421875,
          234438.4375,
          81175.0546875,
          21100.36328125,
          64870.65234375,
          25140.623046875,
          38150.11328125,
          186799.0625,
          66492.4140625,
          79266.1328125,
          49854.78515625,
          69350.046875,
          174922.90625,
          41450.23828125,
          33505.984375,
          113394.15625,
          70752.0546875,
          75058.0390625,
          58961.734375,
          36915.7890625,
          16650.7890625,
          100783.125,
          58478.90234375,
          156011.875,
          211118.875,
          134166.015625,
          55497.9765625,
          50170.81640625,
          85558.25,
          62133.8046875,
          28336.1328125,
          40368.3984375,
          37257.01953125,
          71866.859375,
          25770.857421875,
          30266.064453125,
          35507.86328125,
          39198.88671875,
          240223.296875,
          173412.25,
          76105.71875,
          61398.38671875,
          28164.03125,
          278875.53125,
          40274.87890625,
          33388.47265625,
          31537.767578125,
          86334.3671875,
          27548.81640625,
          46061.375,
          69252.5,
          59941.90234375,
          254609.890625,
          262669.78125,
          37930.62890625,
          19393.5703125,
          50286.06640625,
          59451.78125,
          19197.90625,
          19432.875,
          27157.376953125,
          39952.9609375,
          217093.84375,
          40839.73046875,
          21072.591796875,
          74501.4296875,
          55050.703125,
          29868.615234375,
          62223.109375,
          46202.94921875,
          40769.52734375,
          107189.09375,
          55411.34765625,
          111858.453125,
          57326.38671875,
          36459.6875,
          54964.35546875,
          120839.7890625,
          21159.38671875,
          104196.546875,
          20717.125,
          27408.14453125,
          40233.95703125,
          50545.5078125,
          116501.5546875,
          64266.3359375,
          30394.95703125,
          68805.3046875,
          183079.328125,
          52829.875,
          57612.0390625,
          88476.6015625,
          57062.71484375,
          38782.8671875,
          106317.828125,
          17053.1640625,
          125664.1640625,
          39056.0078125,
          65578.140625,
          93917.8046875,
          57793.58203125,
          32906.52734375,
          31729.546875,
          37201.27734375,
          110962.875,
          51029.8515625,
          31604.728515625,
          102572.6171875,
          46675.765625,
          36975.65234375,
          73416.859375,
          93425.234375
         ],
         "yaxis": "y"
        }
       ],
       "layout": {
        "height": 600,
        "legend": {
         "tracegroupgap": 0
        },
        "template": {
         "data": {
          "bar": [
           {
            "error_x": {
             "color": "#2a3f5f"
            },
            "error_y": {
             "color": "#2a3f5f"
            },
            "marker": {
             "line": {
              "color": "#E5ECF6",
              "width": 0.5
             },
             "pattern": {
              "fillmode": "overlay",
              "size": 10,
              "solidity": 0.2
             }
            },
            "type": "bar"
           }
          ],
          "barpolar": [
           {
            "marker": {
             "line": {
              "color": "#E5ECF6",
              "width": 0.5
             },
             "pattern": {
              "fillmode": "overlay",
              "size": 10,
              "solidity": 0.2
             }
            },
            "type": "barpolar"
           }
          ],
          "carpet": [
           {
            "aaxis": {
             "endlinecolor": "#2a3f5f",
             "gridcolor": "white",
             "linecolor": "white",
             "minorgridcolor": "white",
             "startlinecolor": "#2a3f5f"
            },
            "baxis": {
             "endlinecolor": "#2a3f5f",
             "gridcolor": "white",
             "linecolor": "white",
             "minorgridcolor": "white",
             "startlinecolor": "#2a3f5f"
            },
            "type": "carpet"
           }
          ],
          "choropleth": [
           {
            "colorbar": {
             "outlinewidth": 0,
             "ticks": ""
            },
            "type": "choropleth"
           }
          ],
          "contour": [
           {
            "colorbar": {
             "outlinewidth": 0,
             "ticks": ""
            },
            "colorscale": [
             [
              0,
              "#0d0887"
             ],
             [
              0.1111111111111111,
              "#46039f"
             ],
             [
              0.2222222222222222,
              "#7201a8"
             ],
             [
              0.3333333333333333,
              "#9c179e"
             ],
             [
              0.4444444444444444,
              "#bd3786"
             ],
             [
              0.5555555555555556,
              "#d8576b"
             ],
             [
              0.6666666666666666,
              "#ed7953"
             ],
             [
              0.7777777777777778,
              "#fb9f3a"
             ],
             [
              0.8888888888888888,
              "#fdca26"
             ],
             [
              1,
              "#f0f921"
             ]
            ],
            "type": "contour"
           }
          ],
          "contourcarpet": [
           {
            "colorbar": {
             "outlinewidth": 0,
             "ticks": ""
            },
            "type": "contourcarpet"
           }
          ],
          "heatmap": [
           {
            "colorbar": {
             "outlinewidth": 0,
             "ticks": ""
            },
            "colorscale": [
             [
              0,
              "#0d0887"
             ],
             [
              0.1111111111111111,
              "#46039f"
             ],
             [
              0.2222222222222222,
              "#7201a8"
             ],
             [
              0.3333333333333333,
              "#9c179e"
             ],
             [
              0.4444444444444444,
              "#bd3786"
             ],
             [
              0.5555555555555556,
              "#d8576b"
             ],
             [
              0.6666666666666666,
              "#ed7953"
             ],
             [
              0.7777777777777778,
              "#fb9f3a"
             ],
             [
              0.8888888888888888,
              "#fdca26"
             ],
             [
              1,
              "#f0f921"
             ]
            ],
            "type": "heatmap"
           }
          ],
          "heatmapgl": [
           {
            "colorbar": {
             "outlinewidth": 0,
             "ticks": ""
            },
            "colorscale": [
             [
              0,
              "#0d0887"
             ],
             [
              0.1111111111111111,
              "#46039f"
             ],
             [
              0.2222222222222222,
              "#7201a8"
             ],
             [
              0.3333333333333333,
              "#9c179e"
             ],
             [
              0.4444444444444444,
              "#bd3786"
             ],
             [
              0.5555555555555556,
              "#d8576b"
             ],
             [
              0.6666666666666666,
              "#ed7953"
             ],
             [
              0.7777777777777778,
              "#fb9f3a"
             ],
             [
              0.8888888888888888,
              "#fdca26"
             ],
             [
              1,
              "#f0f921"
             ]
            ],
            "type": "heatmapgl"
           }
          ],
          "histogram": [
           {
            "marker": {
             "pattern": {
              "fillmode": "overlay",
              "size": 10,
              "solidity": 0.2
             }
            },
            "type": "histogram"
           }
          ],
          "histogram2d": [
           {
            "colorbar": {
             "outlinewidth": 0,
             "ticks": ""
            },
            "colorscale": [
             [
              0,
              "#0d0887"
             ],
             [
              0.1111111111111111,
              "#46039f"
             ],
             [
              0.2222222222222222,
              "#7201a8"
             ],
             [
              0.3333333333333333,
              "#9c179e"
             ],
             [
              0.4444444444444444,
              "#bd3786"
             ],
             [
              0.5555555555555556,
              "#d8576b"
             ],
             [
              0.6666666666666666,
              "#ed7953"
             ],
             [
              0.7777777777777778,
              "#fb9f3a"
             ],
             [
              0.8888888888888888,
              "#fdca26"
             ],
             [
              1,
              "#f0f921"
             ]
            ],
            "type": "histogram2d"
           }
          ],
          "histogram2dcontour": [
           {
            "colorbar": {
             "outlinewidth": 0,
             "ticks": ""
            },
            "colorscale": [
             [
              0,
              "#0d0887"
             ],
             [
              0.1111111111111111,
              "#46039f"
             ],
             [
              0.2222222222222222,
              "#7201a8"
             ],
             [
              0.3333333333333333,
              "#9c179e"
             ],
             [
              0.4444444444444444,
              "#bd3786"
             ],
             [
              0.5555555555555556,
              "#d8576b"
             ],
             [
              0.6666666666666666,
              "#ed7953"
             ],
             [
              0.7777777777777778,
              "#fb9f3a"
             ],
             [
              0.8888888888888888,
              "#fdca26"
             ],
             [
              1,
              "#f0f921"
             ]
            ],
            "type": "histogram2dcontour"
           }
          ],
          "mesh3d": [
           {
            "colorbar": {
             "outlinewidth": 0,
             "ticks": ""
            },
            "type": "mesh3d"
           }
          ],
          "parcoords": [
           {
            "line": {
             "colorbar": {
              "outlinewidth": 0,
              "ticks": ""
             }
            },
            "type": "parcoords"
           }
          ],
          "pie": [
           {
            "automargin": true,
            "type": "pie"
           }
          ],
          "scatter": [
           {
            "fillpattern": {
             "fillmode": "overlay",
             "size": 10,
             "solidity": 0.2
            },
            "type": "scatter"
           }
          ],
          "scatter3d": [
           {
            "line": {
             "colorbar": {
              "outlinewidth": 0,
              "ticks": ""
             }
            },
            "marker": {
             "colorbar": {
              "outlinewidth": 0,
              "ticks": ""
             }
            },
            "type": "scatter3d"
           }
          ],
          "scattercarpet": [
           {
            "marker": {
             "colorbar": {
              "outlinewidth": 0,
              "ticks": ""
             }
            },
            "type": "scattercarpet"
           }
          ],
          "scattergeo": [
           {
            "marker": {
             "colorbar": {
              "outlinewidth": 0,
              "ticks": ""
             }
            },
            "type": "scattergeo"
           }
          ],
          "scattergl": [
           {
            "marker": {
             "colorbar": {
              "outlinewidth": 0,
              "ticks": ""
             }
            },
            "type": "scattergl"
           }
          ],
          "scattermapbox": [
           {
            "marker": {
             "colorbar": {
              "outlinewidth": 0,
              "ticks": ""
             }
            },
            "type": "scattermapbox"
           }
          ],
          "scatterpolar": [
           {
            "marker": {
             "colorbar": {
              "outlinewidth": 0,
              "ticks": ""
             }
            },
            "type": "scatterpolar"
           }
          ],
          "scatterpolargl": [
           {
            "marker": {
             "colorbar": {
              "outlinewidth": 0,
              "ticks": ""
             }
            },
            "type": "scatterpolargl"
           }
          ],
          "scatterternary": [
           {
            "marker": {
             "colorbar": {
              "outlinewidth": 0,
              "ticks": ""
             }
            },
            "type": "scatterternary"
           }
          ],
          "surface": [
           {
            "colorbar": {
             "outlinewidth": 0,
             "ticks": ""
            },
            "colorscale": [
             [
              0,
              "#0d0887"
             ],
             [
              0.1111111111111111,
              "#46039f"
             ],
             [
              0.2222222222222222,
              "#7201a8"
             ],
             [
              0.3333333333333333,
              "#9c179e"
             ],
             [
              0.4444444444444444,
              "#bd3786"
             ],
             [
              0.5555555555555556,
              "#d8576b"
             ],
             [
              0.6666666666666666,
              "#ed7953"
             ],
             [
              0.7777777777777778,
              "#fb9f3a"
             ],
             [
              0.8888888888888888,
              "#fdca26"
             ],
             [
              1,
              "#f0f921"
             ]
            ],
            "type": "surface"
           }
          ],
          "table": [
           {
            "cells": {
             "fill": {
              "color": "#EBF0F8"
             },
             "line": {
              "color": "white"
             }
            },
            "header": {
             "fill": {
              "color": "#C8D4E3"
             },
             "line": {
              "color": "white"
             }
            },
            "type": "table"
           }
          ]
         },
         "layout": {
          "annotationdefaults": {
           "arrowcolor": "#2a3f5f",
           "arrowhead": 0,
           "arrowwidth": 1
          },
          "autotypenumbers": "strict",
          "coloraxis": {
           "colorbar": {
            "outlinewidth": 0,
            "ticks": ""
           }
          },
          "colorscale": {
           "diverging": [
            [
             0,
             "#8e0152"
            ],
            [
             0.1,
             "#c51b7d"
            ],
            [
             0.2,
             "#de77ae"
            ],
            [
             0.3,
             "#f1b6da"
            ],
            [
             0.4,
             "#fde0ef"
            ],
            [
             0.5,
             "#f7f7f7"
            ],
            [
             0.6,
             "#e6f5d0"
            ],
            [
             0.7,
             "#b8e186"
            ],
            [
             0.8,
             "#7fbc41"
            ],
            [
             0.9,
             "#4d9221"
            ],
            [
             1,
             "#276419"
            ]
           ],
           "sequential": [
            [
             0,
             "#0d0887"
            ],
            [
             0.1111111111111111,
             "#46039f"
            ],
            [
             0.2222222222222222,
             "#7201a8"
            ],
            [
             0.3333333333333333,
             "#9c179e"
            ],
            [
             0.4444444444444444,
             "#bd3786"
            ],
            [
             0.5555555555555556,
             "#d8576b"
            ],
            [
             0.6666666666666666,
             "#ed7953"
            ],
            [
             0.7777777777777778,
             "#fb9f3a"
            ],
            [
             0.8888888888888888,
             "#fdca26"
            ],
            [
             1,
             "#f0f921"
            ]
           ],
           "sequentialminus": [
            [
             0,
             "#0d0887"
            ],
            [
             0.1111111111111111,
             "#46039f"
            ],
            [
             0.2222222222222222,
             "#7201a8"
            ],
            [
             0.3333333333333333,
             "#9c179e"
            ],
            [
             0.4444444444444444,
             "#bd3786"
            ],
            [
             0.5555555555555556,
             "#d8576b"
            ],
            [
             0.6666666666666666,
             "#ed7953"
            ],
            [
             0.7777777777777778,
             "#fb9f3a"
            ],
            [
             0.8888888888888888,
             "#fdca26"
            ],
            [
             1,
             "#f0f921"
            ]
           ]
          },
          "colorway": [
           "#636efa",
           "#EF553B",
           "#00cc96",
           "#ab63fa",
           "#FFA15A",
           "#19d3f3",
           "#FF6692",
           "#B6E880",
           "#FF97FF",
           "#FECB52"
          ],
          "font": {
           "color": "#2a3f5f"
          },
          "geo": {
           "bgcolor": "white",
           "lakecolor": "white",
           "landcolor": "#E5ECF6",
           "showlakes": true,
           "showland": true,
           "subunitcolor": "white"
          },
          "hoverlabel": {
           "align": "left"
          },
          "hovermode": "closest",
          "mapbox": {
           "style": "light"
          },
          "paper_bgcolor": "white",
          "plot_bgcolor": "#E5ECF6",
          "polar": {
           "angularaxis": {
            "gridcolor": "white",
            "linecolor": "white",
            "ticks": ""
           },
           "bgcolor": "#E5ECF6",
           "radialaxis": {
            "gridcolor": "white",
            "linecolor": "white",
            "ticks": ""
           }
          },
          "scene": {
           "xaxis": {
            "backgroundcolor": "#E5ECF6",
            "gridcolor": "white",
            "gridwidth": 2,
            "linecolor": "white",
            "showbackground": true,
            "ticks": "",
            "zerolinecolor": "white"
           },
           "yaxis": {
            "backgroundcolor": "#E5ECF6",
            "gridcolor": "white",
            "gridwidth": 2,
            "linecolor": "white",
            "showbackground": true,
            "ticks": "",
            "zerolinecolor": "white"
           },
           "zaxis": {
            "backgroundcolor": "#E5ECF6",
            "gridcolor": "white",
            "gridwidth": 2,
            "linecolor": "white",
            "showbackground": true,
            "ticks": "",
            "zerolinecolor": "white"
           }
          },
          "shapedefaults": {
           "line": {
            "color": "#2a3f5f"
           }
          },
          "ternary": {
           "aaxis": {
            "gridcolor": "white",
            "linecolor": "white",
            "ticks": ""
           },
           "baxis": {
            "gridcolor": "white",
            "linecolor": "white",
            "ticks": ""
           },
           "bgcolor": "#E5ECF6",
           "caxis": {
            "gridcolor": "white",
            "linecolor": "white",
            "ticks": ""
           }
          },
          "title": {
           "x": 0.05
          },
          "xaxis": {
           "automargin": true,
           "gridcolor": "white",
           "linecolor": "white",
           "ticks": "",
           "title": {
            "standoff": 15
           },
           "zerolinecolor": "white",
           "zerolinewidth": 2
          },
          "yaxis": {
           "automargin": true,
           "gridcolor": "white",
           "linecolor": "white",
           "ticks": "",
           "title": {
            "standoff": 15
           },
           "zerolinecolor": "white",
           "zerolinewidth": 2
          }
         }
        },
        "title": {
         "text": "Actual Price vs Prediction Price"
        },
        "xaxis": {
         "anchor": "y",
         "domain": [
          0,
          1
         ],
         "title": {
          "text": "Actual Price"
         }
        },
        "yaxis": {
         "anchor": "x",
         "domain": [
          0,
          1
         ],
         "title": {
          "text": "Predicted Price"
         }
        }
       }
      }
     },
     "metadata": {},
     "output_type": "display_data"
    }
   ],
   "source": [
    "fig=px.scatter(x=y_test, y=y_pred_xgb_tuning,height=600,\n",
    "                labels={\n",
    "                     \"y\":\"Predicted Price\",\n",
    "                     \"x\":\"Actual Price\",\n",
    "                 },\n",
    "                title=\"Actual Price vs Prediction Price\"\n",
    ")\n",
    "fig.show()"
   ]
  },
  {
   "cell_type": "markdown",
   "metadata": {},
   "source": [
    "**Summary**\n",
    "\n",
    "- Secara keseluruhan, model mengalami peningkatan performa (RMSE, MAE dan MAPE berkurang) dengan dilakukannya hyperparameter tuning.\n",
    "- Apabila melihat dari perbandingan nilai residual antara train set dan test set, maka bisa dikatakan model tidak terlalu overfit ataupun juga tidak terlalu underfit (Perbandingan Nilai RMSE, MAE, MAPE pada train set dan test set tidak jauh dan juga nilai error tidak tinggi)\n",
    "- Apabila melihat dari plot perbandingan nilai residual yang aktual dengan yang prediksi, maka dapat disimpulkan model menunjukan hasil yang baik (hampir membentuk garis linear).\n",
    "- Setelah dilakukan pengerucutan batasan model dan juga hyperparameter tuning (second attempt), maka rata-rata nilai MAPE turun secara drastis apabila dibandingkan hyperparameter tuning (first attempt).\n",
    "    - Nilai MAPE test set sebelum pengerucutan batasan model: 79.6%\n",
    "    - Nilai MAPE test set setalah pengerucutan batasan model: 18.89%"
   ]
  },
  {
   "cell_type": "markdown",
   "metadata": {},
   "source": [
    "## 8 Feature Importance"
   ]
  },
  {
   "cell_type": "code",
   "execution_count": 171,
   "metadata": {},
   "outputs": [
    {
     "data": {
      "image/png": "[encoded data removed]",
      "text/plain": [
       "<Figure size 432x288 with 1 Axes>"
      ]
     },
     "metadata": {
      "needs_background": "light"
     },
     "output_type": "display_data"
    }
   ],
   "source": [
    "# Plot feature importances\n",
    "feature_imp = pd.Series(xgb_tuning['model'].regressor_.feature_importances_, transformer.get_feature_names()).sort_values(ascending = False)\n",
    "df_feature_imp=pd.DataFrame(feature_imp).reset_index().rename(columns={0:\"feature importance score\"})\n",
    "df_feature_imp[\"indicator\"]=df_feature_imp[\"index\"].apply(lambda x: x.split(\"__\")[0])\n",
    "sns.barplot(data=df_feature_imp[df_feature_imp[\"indicator\"]!=\"Binary\"].sort_values(by=\"feature importance score\",ascending=False),y=\"index\",x=\"feature importance score\",color=\"royalblue\");"
   ]
  },
  {
   "cell_type": "markdown",
   "metadata": {},
   "source": [
    "**Summary**\n",
    "\n",
    "- Berdasarkan pemodelan yang sudah dilakukan dan barplot diatas, fitur \"Year\" dan \"Engine_Size\" menjadi fitur yang paling berpengaruh terhadap target \"Price\" atau dalam bisnis ini adalah harga mobil bekas. Hal ini juga didukung apabila melihat correlation score dari \"Year\" vs \"Price\" dan \"Engine_Size\" vs \"Price\" dengan masing-masing score yaitu 0.42 dan 0.38 (Nilai tertinggi)\n",
    "- Namun pada grafik diatas fitur-fitur yang sudah diencode dengan binary encoder tidak dimasukan (fitur \"Type\", \"Make\", \"Region\"). Hal ini dikarenakan fitur yang diencode secara binary akan sulit dintepretasi"
   ]
  },
  {
   "cell_type": "markdown",
   "metadata": {},
   "source": [
    "## 9 Conclusion and Recommendation"
   ]
  },
  {
   "cell_type": "markdown",
   "metadata": {},
   "source": [
    "### 9.1 Conclusion"
   ]
  },
  {
   "cell_type": "markdown",
   "metadata": {},
   "source": [
    "Setelah dilakukan pemodelan untuk dataset Saudi Arabia Secara keseluruhan maka dapat disimpulkan bahwa:\n",
    "- Model yang paling baik untuk diimplementasi pada Dataset ini adalah XGBoost (\"model__regressor__learning_rate\": 0.1, \"model__regressor__max_depth\": 10, \"scaler\": MinMaxScaler()) dengan limitasi model (range harga SAR 5000 - SAR 500000)\n",
    "- Dua fitur yang sangat berpengaruh terhadap harga mobil adalah \"Year\" dan \"Engine_Size\"\n",
    "- Nilai MAPE pada test set sebesar 18.89% dapat menyimpulkan bahwa model dapat dikategorikan good forcasting (lewis, 1982)\n",
    "- Metrik evaluasi yang digunakan pada model adalah nilai RMSE, MAE & MAPE. Namun dikarenakan umunya kasus yang tragetnya merupakan harga properti (dalam kasus ini mobil bekas) menggunakan evaluasi metrik MAE, maka kita coba simpulkan model menggunakan metrik ini. Hasil evalusi MAE pada test set setelah dilakukan hyperparamter tuning (second attempt) yaitu SAR 15616. Dari hasil tersebut dapat disimpulkan bahwa apabila ada data baru (maksimal harga SAR 500000 dan minimal harga SAR 5000) yang ingin diprediksi dengan menggunakan model ini maka perkiraan harganya setidaknya akan meleset kurang lebih sebesar SAR 15616. Namun untuk disini kita dapat memakai evalusi metrik RMSE untuk berjaga-jaga (asumsi yang lebih aman), karena RMSE \"menghukum\" model lebih besar dibanding MAE. Sehingga umumnya nilai RMSE lebih besar dari MAE. Apabila dilihat dari nilai RMSE, maka dapat disimpulkan bahwa apabila ada data baru (maksimal harga SAR 500000 dan minimal harga SAR 5000) yang ingin diprediksi dengan menggunakan model ini maka perkiraan harganya setidaknya akan meleset kurang lebih sebesar SAR 30304. Namun bukan berarti nilai errornya selalu dirange RMSE ataupun MAE. Bisa saja nilai prediksinya meleset jauh diluar nilai MAE atau bahkan RMSE karena bias yang dihasilkan model cukup tinggi khususnya terlihat pada harga mobil yang diatas SAR 150000.\n",
    "\n",
    "Source: *Source: Lewis, C. D. (1982). Industrial and business forecasting methods: A practical guide to exponential smoothing and curve fitting*"
   ]
  },
  {
   "cell_type": "markdown",
   "metadata": {},
   "source": [
    "### 9.2 Recommendation"
   ]
  },
  {
   "cell_type": "markdown",
   "metadata": {},
   "source": [
    "Hal-hal yang dapat dilakukan untuk mengembangkan model agar lebih baik lagi, seperti:\n",
    "- Penambahan fitur yang lebih korelatif dengan target (\"Price\"). Apabila dilihat dari correlation test, fitur yang memiliki korelasi paling tinggi adalah fitur \"Year\" dengan score yang bisa dibilang moderate correlation (0.42) / tidak terlalu tinggi.  \n",
    "- Jika memungkinkan dilakukan penambahan data khususnya pada fitur \"Type\" dan \"Make\" pada mobil-mobil bekas yang memiliki jumlah sedikit.\n",
    "- Peningkatan performa model juga bisa dilakukan dengan feature engineering yang lain. Sebagai contoh:\n",
    "    - Polynomial dengan ordo yang tidak terlalu tinggi. Polynomial yang tinggi beresiko membuat model menjadi overfitting. Perlu diingat juga pengimplementasian polynomial kepada feature membuat pengintepretasian pada feature importance menjadi sedikit sulit\n",
    "    - Binning terhadap salah satu fitur. Misalnya fitur region bisa dilakukan pelompokan(binning) berdasarkan provinsi di Saudi Arabia\n",
    "- Penambahan parameter pada saat melakukan tuning. Misalnya gamma, n_estimator, etc. Namun penambahan ini akan memakan banyak waktu komputasi\n",
    "- Penggunaan model lain selain yang sudah dilakukan ataupun menggunakan pendekatan ensemble model lainnya (voting, etc)."
   ]
  },
  {
   "cell_type": "markdown",
   "metadata": {},
   "source": [
    "## 10 Deployment"
   ]
  },
  {
   "cell_type": "code",
   "execution_count": 176,
   "metadata": {},
   "outputs": [
    {
     "data": {
      "text/plain": [
       "14815.875500354137"
      ]
     },
     "execution_count": 176,
     "metadata": {},
     "output_type": "execute_result"
    }
   ],
   "source": [
    "# Load Dataset\n",
    "df = pd.read_csv(\"data_saudi_used_cars.csv\")\n",
    "\n",
    "# Drop baris yang termasuk negotiable dan kolom negotiable\n",
    "df=df[df[\"Negotiable\"]!=True]\n",
    "df.drop(columns=\"Negotiable\",inplace=True)\n",
    "\n",
    "# Drop Unique item yang jumlahnya kurang dari 2 \n",
    "for i in list(df[\"Type\"].value_counts()[df[\"Type\"].value_counts()<2].index):\n",
    "    df=df[df[\"Type\"]!=i]\n",
    "for i in list(df[\"Make\"].value_counts()[df[\"Make\"].value_counts()<2].index):\n",
    "    df=df[df[\"Make\"]!=i]\n",
    "for i in list(df[\"Region\"].value_counts()[df[\"Region\"].value_counts()<2].index):\n",
    "    df=df[df[\"Region\"]!=i]\n",
    "\n",
    "# Mengubah \"Unknown\" pada fitur \"Origin\" menjadi Modusnya\n",
    "df[\"Origin\"]=np.where(df[\"Origin\"]==\"Unknown\",df[\"Origin\"].mode(),df[\"Origin\"])\n",
    "\n",
    "# Outlier Elimination\n",
    "df=df[df[\"Mileage\"]<1000000]\n",
    "df=df[(df[\"Price\"]<500000)&(df[\"Price\"]>5000)]\n",
    "\n",
    "# Putting features into dependent and independent variables\n",
    "X=df.drop(columns=[\"Price\"])\n",
    "y=df[\"Price\"]\n",
    "\n",
    "# Transformer\n",
    "transformer = ColumnTransformer([\n",
    "    (\"onehot\", OneHotEncoder(drop='first'),[\"Gear_Type\",\"Origin\",\"Options\"]),\n",
    "    ('Binary', ce.BinaryEncoder(), [\"Type\",\"Region\",\"Make\"])\n",
    "],remainder='passthrough')\n",
    "\n",
    "# model\n",
    "xgb=XGBRegressor(random_state=42,learning_rate=0.1,max_depth= 10)\n",
    "log_xgb=TransformedTargetRegressor(xgb, func=np.log, inverse_func=np.exp)\n",
    "\n",
    "# pipeline\n",
    "log_xgb_final=Pipeline([\n",
    "    (\"transformer\",transformer),\n",
    "    (\"scaler\",scaler_minmax),\n",
    "    (\"model\",log_xgb)                  \n",
    "])\n",
    "\n",
    "log_xgb_final.fit(X,y)\n",
    "#pickle.dump(log_xgb_final, open(\"saudi_used_car.sav\", \"wb\"))"
   ]
  }
 ],
 "metadata": {
  "kernelspec": {
   "display_name": "Python 3.9.7 ('base')",
   "language": "python",
   "name": "python3"
  },
  "language_info": {
   "codemirror_mode": {
    "name": "ipython",
    "version": 3
   },
   "file_extension": ".py",
   "mimetype": "text/x-python",
   "name": "python",
   "nbconvert_exporter": "python",
   "pygments_lexer": "ipython3",
   "version": "3.9.7"
  },
  "orig_nbformat": 4,
  "vscode": {
   "interpreter": {
    "hash": "a2e22831135148f5316f9d92d555f2bb3ed3ceb2fdfda7ea4dc4cffbc48821d3"
   }
  }
 },
 "nbformat": 4,
 "nbformat_minor": 2
}
